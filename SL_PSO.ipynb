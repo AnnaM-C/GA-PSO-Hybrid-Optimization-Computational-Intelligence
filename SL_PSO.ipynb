{
  "cells": [
    {
      "cell_type": "markdown",
      "metadata": {
        "id": "WIBa3DlqWkM1"
      },
      "source": [
        "# Imports required"
      ]
    },
    {
      "cell_type": "code",
      "execution_count": null,
      "metadata": {
        "id": "Iqp_YwFgVsJG"
      },
      "outputs": [],
      "source": [
        "import torch\n",
        "import torchvision\n",
        "import torchvision.transforms as transforms\n",
        "\n",
        "import torch.nn as nn\n",
        "import torch.nn.functional as F\n",
        "\n",
        "import matplotlib.pyplot as plt\n",
        "import numpy as np\n",
        "\n",
        "import torch.optim as optim\n",
        "\n",
        "# !pip install deap\n",
        "\n",
        "from deap import base\n",
        "from deap import benchmarks\n",
        "from deap import creator\n",
        "from deap import tools\n",
        "\n",
        "import operator\n",
        "import random\n",
        "\n",
        "import math"
      ]
    },
    {
      "cell_type": "markdown",
      "metadata": {
        "id": "BifzvNoaWr6d"
      },
      "source": [
        "Loading in CIFAR-10"
      ]
    },
    {
      "cell_type": "code",
      "execution_count": null,
      "metadata": {
        "colab": {
          "base_uri": "https://localhost:8080/"
        },
        "id": "p9fBlWVEWt8W",
        "outputId": "970ec879-dec8-4d9d-b79f-830ed2f2c6f1"
      },
      "outputs": [
        {
          "name": "stdout",
          "output_type": "stream",
          "text": [
            "Files already downloaded and verified\n",
            "Files already downloaded and verified\n"
          ]
        }
      ],
      "source": [
        "# The dataset comes in data of the range 0-1, we want to convert this to -1 to 1 as part of normalisation\n",
        "\n",
        "transform = transforms.Compose(\n",
        "    [transforms.ToTensor(),\n",
        "     transforms.Normalize((0.5, 0.5, 0.5), (0.5, 0.5, 0.5))]) # Function to transform the dataset to the specified range\n",
        "\n",
        "batch_size = 512\n",
        "\n",
        "# Downloading the training set\n",
        "trainset = torchvision.datasets.CIFAR10(root='./data', train=True,\n",
        "                                        download=True, transform=transform)\n",
        "\n",
        "# Loading the training set into a variable\n",
        "trainloader = torch.utils.data.DataLoader(trainset, batch_size=batch_size,\n",
        "                                          shuffle=True, num_workers=2)\n",
        "\n",
        "# etc.\n",
        "testset = torchvision.datasets.CIFAR10(root='./data', train=False,\n",
        "                                       download=True, transform=transform)\n",
        "testloader = torch.utils.data.DataLoader(testset, batch_size=batch_size,\n",
        "                                         shuffle=False, num_workers=2)\n",
        "\n",
        "# Specifying the classes of the dataset that we want to train the classifier on\n",
        "classes = ('plane', 'car', 'bird', 'cat',\n",
        "           'deer', 'dog', 'frog', 'horse', 'ship', 'truck')"
      ]
    },
    {
      "cell_type": "markdown",
      "metadata": {
        "id": "nieg-1FOW_Gc"
      },
      "source": [
        "Testing for GPU"
      ]
    },
    {
      "cell_type": "code",
      "execution_count": null,
      "metadata": {
        "colab": {
          "base_uri": "https://localhost:8080/"
        },
        "id": "Ydh-iisZW7XA",
        "outputId": "0181dc59-8135-4de8-fb1b-b4afc567f49b"
      },
      "outputs": [
        {
          "name": "stdout",
          "output_type": "stream",
          "text": [
            "cuda:0\n"
          ]
        }
      ],
      "source": [
        "device = torch.device(\"cuda:0\" if torch.cuda.is_available() else \"cpu\")\n",
        "\n",
        "print(device)"
      ]
    },
    {
      "cell_type": "markdown",
      "metadata": {
        "id": "EY66nmnNXHbM"
      },
      "source": [
        "Testing to see if we can see the images"
      ]
    },
    {
      "cell_type": "code",
      "execution_count": null,
      "metadata": {
        "colab": {
          "base_uri": "https://localhost:8080/",
          "height": 210
        },
        "id": "czhh4eY_XDA7",
        "outputId": "6a35f07e-d71a-4ad8-f53d-bdead138a8f8"
      },
      "outputs": [
        {
          "data": {
            "image/png": "[encoded data removed]",
            "text/plain": [
              "<Figure size 432x288 with 1 Axes>"
            ]
          },
          "metadata": {
            "needs_background": "light"
          },
          "output_type": "display_data"
        },
        {
          "name": "stdout",
          "output_type": "stream",
          "text": [
            "frog  ship  truck car   car   frog  ship  truck ship  deer  ship  cat   plane cat   dog   plane plane deer  car   cat   bird  truck bird  truck cat   cat   cat   cat   horse frog  ship  dog   horse cat   car   cat   cat   frog  frog  deer  truck ship  horse bird  horse dog   plane deer  bird  car   horse truck bird  cat   car   deer  frog  horse cat   deer  truck ship  plane car   cat   dog   ship  cat   car   bird  cat   ship  truck plane bird  car   cat   ship  ship  cat   deer  dog   truck car   truck ship  frog  dog   cat   ship  truck frog  car   car   frog  bird  car   horse deer  truck dog   deer  car   dog   bird  dog   frog  truck frog  car   dog   plane cat   bird  dog   cat   bird  ship  car   frog  truck cat   bird  plane cat   truck horse truck car   bird  frog  truck frog  dog   truck dog   bird  frog  truck ship  ship  cat   dog   car   frog  cat   plane car   deer  frog  deer  horse plane ship  plane truck truck bird  plane ship  cat   car   frog  cat   deer  frog  car   car   truck horse dog   car   plane deer  frog  deer  car   truck bird  horse horse deer  ship  ship  deer  cat   truck bird  horse bird  plane bird  dog   bird  cat   truck ship  frog  deer  dog   frog  plane cat   horse bird  cat   cat   ship  deer  car   ship  truck cat   horse cat   plane cat   bird  bird  ship  car   frog  deer  cat   frog  ship  bird  deer  car   deer  deer  truck car   dog   truck plane dog   bird  car   cat   dog   plane horse cat   cat   dog   plane deer  cat   horse cat   ship  frog  car   horse cat   bird  cat   frog  truck deer  cat   ship  cat   deer  frog  plane cat   truck truck plane bird  dog   car   dog   dog   car   frog  plane cat   deer  frog  deer  plane deer  deer  deer  cat   frog  bird  bird  truck plane ship  plane truck frog  ship  truck dog   dog   bird  horse bird  ship  car   dog   ship  ship  horse dog   ship  plane frog  bird  bird  bird  deer  bird  plane deer  horse car   frog  cat   horse dog   plane bird  truck horse deer  frog  dog   ship  dog   bird  ship  truck truck truck car   horse plane car   plane ship  cat   deer  bird  plane plane car   truck truck plane car   car   dog   dog   horse deer  horse cat   cat   car   truck cat   dog   plane plane deer  car   ship  horse horse cat   horse horse deer  frog  cat   ship  dog   car   horse cat   horse dog   car   frog  dog   dog   frog  deer  truck plane cat   deer  ship  cat   horse bird  ship  cat   car   cat   deer  horse dog   car   cat   frog  deer  frog  plane bird  truck bird  ship  car   cat   ship  dog   dog   horse cat   deer  bird  deer  plane ship  bird  car   car   cat   truck deer  truck truck deer  horse car   ship  truck ship  bird  truck horse deer  plane car   dog   dog   dog   car   plane truck ship  deer  plane ship  horse frog  cat   truck dog   cat   plane dog   frog  ship  ship  ship  car   dog   bird  horse cat   dog   car   cat   car   deer  horse dog   frog  truck truck dog   ship  cat   plane car   deer  frog  dog   car   deer  ship  cat   cat   horse frog  dog   deer  car   bird  plane frog  plane ship \n"
          ]
        }
      ],
      "source": [
        "# functions to show an image for fun\n",
        "\n",
        "\n",
        "def imshow(img):\n",
        "    img = img / 2 + 0.5     # unnormalize\n",
        "    npimg = img.numpy()\n",
        "    plt.imshow(np.transpose(npimg, (1, 2, 0)))\n",
        "    plt.show()\n",
        "\n",
        "\n",
        "# get some random training images\n",
        "dataiter = iter(trainloader)\n",
        "images, labels = next(dataiter)\n",
        "\n",
        "# show images\n",
        "imshow(torchvision.utils.make_grid(images))\n",
        "# print labels\n",
        "print(' '.join(f'{classes[labels[j]]:5s}' for j in range(batch_size)))"
      ]
    },
    {
      "cell_type": "markdown",
      "metadata": {
        "id": "-qKVkHJVVgvw"
      },
      "source": [
        "Building network definition"
      ]
    },
    {
      "cell_type": "code",
      "execution_count": null,
      "metadata": {
        "id": "oYoYdQqSUh9b"
      },
      "outputs": [],
      "source": [
        "# Relu is a fast output function\n",
        "\n",
        "class Net(nn.Module):\n",
        "    def __init__(self):\n",
        "        super().__init__()\n",
        "        self.conv1 = nn.Conv2d(3, 6, 5)\n",
        "        self.pool = nn.MaxPool2d(2, 2)\n",
        "        self.conv2 = nn.Conv2d(6, 16, 5)\n",
        "        self.fc1 = nn.Linear(16 * 5 * 5, 120)\n",
        "        self.fc2 = nn.Linear(120, 84)\n",
        "\n",
        "        self.fc3 = nn.Linear(84, 10)\n",
        "\n",
        "    def forward(self, x):\n",
        "        x = self.pool(F.relu(self.conv1(x)))\n",
        "        x = self.pool(F.relu(self.conv2(x)))\n",
        "        x = torch.flatten(x, 1) # flatten all dimensions except batch\n",
        "        x = F.relu(self.fc1(x))\n",
        "        x = F.relu(self.fc2(x))\n",
        "        x = self.fc3(x)\n",
        "        return x\n",
        "\n",
        "model=Net()"
      ]
    },
    {
      "cell_type": "code",
      "execution_count": null,
      "metadata": {
        "id": "SFJinMroVkzT"
      },
      "outputs": [],
      "source": [
        "# Upload GD_Model.pth to the session to act as pre-defined network\n",
        "# from google.colab import files\n",
        "# files.upload()"
      ]
    },
    {
      "cell_type": "markdown",
      "metadata": {
        "id": "ZHrwQrmQVsFB"
      },
      "source": [
        "Loading in the model"
      ]
    },
    {
      "cell_type": "code",
      "execution_count": null,
      "metadata": {
        "colab": {
          "base_uri": "https://localhost:8080/"
        },
        "id": "JCQw57DqVtG2",
        "outputId": "fe388439-b5c4-47e6-8d45-53abfd73c08f"
      },
      "outputs": [
        {
          "data": {
            "text/plain": [
              "<All keys matched successfully>"
            ]
          },
          "execution_count": 8,
          "metadata": {},
          "output_type": "execute_result"
        }
      ],
      "source": [
        "PATH = ('./GD_Model.pth')\n",
        "PopModel = Net()\n",
        "PopModel.load_state_dict(torch.load(PATH))"
      ]
    },
    {
      "cell_type": "code",
      "execution_count": null,
      "metadata": {
        "id": "6DmL7D87WHSv"
      },
      "outputs": [],
      "source": [
        "# Setting all layers to not change their weights with GD backpropagation\n",
        "\n",
        "for param in PopModel.parameters():\n",
        "    # By setting the requires grad for each parameter to false, we no longer track it with autograd\n",
        "    # Consequently, backpropagation or whatever will not compute the gradients for these layers\n",
        "    param.requires_grad = False"
      ]
    },
    {
      "cell_type": "markdown",
      "metadata": {
        "id": "yHLU-wWfWJ5w"
      },
      "source": [
        "Getting the final layer"
      ]
    },
    {
      "cell_type": "code",
      "execution_count": null,
      "metadata": {
        "colab": {
          "base_uri": "https://localhost:8080/"
        },
        "id": "CZKzgijLWL8c",
        "outputId": "06ad41de-5e40-4c56-d698-b422ed231285"
      },
      "outputs": [
        {
          "name": "stdout",
          "output_type": "stream",
          "text": [
            "Linear(in_features=84, out_features=10, bias=True)\n",
            "10\n",
            "84\n",
            "10\n",
            "850\n",
            "tensor(0.4984)\n"
          ]
        }
      ],
      "source": [
        "finalLayer = list(PopModel.children())[-1]\n",
        "\n",
        "print(finalLayer) # 10 features out\n",
        "\n",
        "print(len(finalLayer.weight)) # 10 population size\n",
        "\n",
        "\n",
        "print(len(finalLayer.weight[0])) # 10 arrays, with 84 items in it\n",
        "\n",
        "# 84 inputs connected to a single output, there are 10 outputs therefore 84x10 connections in total. for one output, the 84 connections will have 84 different weights which are used\n",
        "# to calculate the output node. therefore there are 10 tensors with 84 elements in each tensor, with a different set of weights.\n",
        "\n",
        "# print(finalLayer.weight)\n",
        "\n",
        "#print(finalLayer.weight) # Layer requires 840 connections\n",
        "\n",
        "print(len(finalLayer.bias))\n",
        "\n",
        "paramCount = sum(param.numel() for param in finalLayer.parameters())\n",
        "\n",
        "print(paramCount) # 850 Parameters: 840 weights + 10 biases\n",
        "\n",
        "sk= torch.max(((finalLayer.weight).reshape(840,)))\n",
        "\n",
        "print(sk)"
      ]
    },
    {
      "cell_type": "code",
      "execution_count": null,
      "metadata": {
        "colab": {
          "base_uri": "https://localhost:8080/"
        },
        "id": "l1IWS_xBseI0",
        "outputId": "94206ec2-f795-49e8-a580-e208f23004fa"
      },
      "outputs": [
        {
          "name": "stdout",
          "output_type": "stream",
          "text": [
            "torch.Size([10, 84])\n",
            "torch.Size([10])\n"
          ]
        },
        {
          "name": "stderr",
          "output_type": "stream",
          "text": [
            "<ipython-input-11-0638b396f9c2>:5: UserWarning: nn.init.xavier_uniform is now deprecated in favor of nn.init.xavier_uniform_.\n",
            "  nn.init.xavier_uniform(finalLayer.weight)\n"
          ]
        }
      ],
      "source": [
        "# Randomise final layer weights\n",
        "\n",
        "\n",
        "\n",
        "nn.init.xavier_uniform(finalLayer.weight)\n",
        "\n",
        "#print(finalLayer.weight)\n",
        "\n",
        "print((finalLayer.weight).shape) # Shape that the layer requires is (10,84)\n",
        "\n",
        "print((finalLayer.bias).shape)"
      ]
    },
    {
      "cell_type": "code",
      "execution_count": null,
      "metadata": {
        "id": "RIo5lWcLt0RW"
      },
      "outputs": [],
      "source": [
        "# Converting weights to a numpy array\n",
        "\n",
        "def convert_np_function(self, intermediate_tensor):\n",
        "        intermediate_value = intermediate_tensor.numpy()\n",
        "        self.intermediate_values.append(intermediate_value)\n",
        "\n",
        "populationList = finalLayer.weight.numpy()\n",
        "\n",
        "#print(populationList) # Converted to Numpy"
      ]
    },
    {
      "cell_type": "markdown",
      "metadata": {
        "id": "sNB7vxNctWhl"
      },
      "source": [
        "Defining PSO functions"
      ]
    },
    {
      "cell_type": "code",
      "execution_count": null,
      "metadata": {
        "id": "G93hInWF_wV5"
      },
      "outputs": [],
      "source": [
        "posMinInit      = -3\n",
        "posMaxInit      = + 5\n",
        "VMaxInit        = 1.5\n",
        "VMinInit        = 0.5\n",
        "# populationSize  = 10\n",
        "dimension       = 850\n",
        "populationSize  = 100+int(dimension/10) # from lab on SL-PSO\n",
        "interval        = 10\n",
        "iterations      = 100\n",
        "\n",
        "#variables used in SL-PSO\n",
        "epsilon = dimension/100.0*0.01 # social influence of swarm centre\n",
        "\n",
        "#Parameter setup -- these are not used in SL-PSO\n",
        "wmax = 0.9 #weighting\n",
        "wmin = 0.4\n",
        "c1   = 2.0\n",
        "c2   = 2.0\n",
        "\n",
        "# Criterion for measuring loss, may need to tweak this to return negative value for PSO\n",
        "criterion = nn.CrossEntropyLoss()"
      ]
    },
    {
      "cell_type": "code",
      "execution_count": null,
      "metadata": {
        "id": "dsonGc8DAFVN",
        "outputId": "47fde62e-983d-4e0d-ac6a-20a949b30da7"
      },
      "outputs": [
        {
          "name": "stderr",
          "output_type": "stream",
          "text": [
            "/vol/hpc-software/software/Anaconda3/2020.07/lib/python3.8/site-packages/deap/creator.py:138: RuntimeWarning: A class named 'FitnessMin' has already been created and it will be overwritten. Consider deleting previous creation of that class or rename it.\n",
            "  warnings.warn(\"A class named '{0}' has already been created and it \"\n",
            "/vol/hpc-software/software/Anaconda3/2020.07/lib/python3.8/site-packages/deap/creator.py:138: RuntimeWarning: A class named 'Particle' has already been created and it will be overwritten. Consider deleting previous creation of that class or rename it.\n",
            "  warnings.warn(\"A class named '{0}' has already been created and it \"\n"
          ]
        }
      ],
      "source": [
        "# function to get the mean positions of the inviduals (swarm centre)\n",
        "def getcenter(pop):\n",
        "    center=list()\n",
        "    for j in range(dimension): # count through dimensions\n",
        "        centerj = 0\n",
        "        for i in pop: # for each particle\n",
        "            centerj += i[j] # sum up position in dimention j\n",
        "        centerj /= populationSize # Average\n",
        "        center.append(centerj)\n",
        "    return center\n",
        "\n",
        "creator.create(\"FitnessMin\", base.Fitness, weights=(-1.0,)) # -1 is for minimise\n",
        "creator.create(\"Particle\", list, fitness=creator.FitnessMin, speed=list, smin=None, smax=None, best=None)"
      ]
    },
    {
      "cell_type": "code",
      "execution_count": null,
      "metadata": {
        "id": "yavq1ePxANXk"
      },
      "outputs": [],
      "source": [
        "# particle rerpresented by list of 5 things\n",
        "# 1. fitness of the particle,\n",
        "# 2. speed of the particle which is also going to be a list,\n",
        "# 3.4. limit of the speed value,\n",
        "# 5. best state the particle has been in so far.\n",
        "\n",
        "def generate(size, smin, smax):\n",
        "    part = creator.Particle(random.uniform(posMinInit, posMaxInit) for _ in range(size))\n",
        "    part.speed = [random.uniform(VMinInit, VMaxInit) for _ in range(size)]\n",
        "    part.smin = smin #speed clamping values\n",
        "    part.smax = smax\n",
        "    return part\n",
        "\n",
        "def updateParticle(part,pop,center,i):\n",
        "    r1 = random.uniform(0, 1)\n",
        "    r2 = random.uniform(0, 1)\n",
        "    r3 = random.uniform(0, 1)\n",
        "\n",
        "    #Randomly choose a demonstrator for particle i from any of particles 0 to i-1, the Particle i\n",
        "    #updates its velocity by learning from the demonstrator and the mean position of the swarm\n",
        "    demonstrator=random.choice(list(pop[0:i]))\n",
        "\n",
        "    for j in range(dimension): # count through dimensions\n",
        "        part.speed[j]=r1*part.speed[j]+r2*(demonstrator[j]-part[j])+r3*epsilon*(center[j]-part[j])\n",
        "        part[j]=part[j]+part.speed[j]"
      ]
    },
    {
      "cell_type": "code",
      "execution_count": null,
      "metadata": {
        "id": "gkaVJ8jZAWNb"
      },
      "outputs": [],
      "source": [
        "toolbox = base.Toolbox()\n",
        "toolbox.register(\"particle\", generate, size=dimension, smin=-3, smax=3)\n",
        "toolbox.register(\"population\", tools.initRepeat, list, toolbox.particle)\n",
        "toolbox.register(\"update\", updateParticle)\n",
        "\n",
        "# Note most likely need to change the evaluate function\n",
        "toolbox.register(\"evaluate\", benchmarks.sphere) #sphere function is built-in in DEAP\n",
        "\n",
        "# def sphere(individual):\n",
        "#     r\"\"\"Sphere test objective function.\n",
        "\n",
        "#     .. list-table::\n",
        "#        :widths: 10 50\n",
        "#        :stub-columns: 1\n",
        "\n",
        "#        * - Type\n",
        "#          - minimization\n",
        "#        * - Range\n",
        "#          - none\n",
        "#        * - Global optima\n",
        "#          - :math:`x_i = 0, \\forall i \\in \\lbrace 1 \\ldots N\\rbrace`, :math:`f(\\mathbf{x}) = 0`\n",
        "#        * - Function\n",
        "#          - :math:`f(\\mathbf{x}) = \\sum_{i=1}^Nx_i^2`\n",
        "#     \"\"\"\n",
        "#     return sum(gene * gene for gene in individual), # How does this work?, return one value or return a list?\n",
        "\n",
        "# the line above returns one value\n",
        "\n",
        "runCounter = 0\n",
        "\n",
        "def modelEval(particle, runCounter):\n",
        "    runCounter = runCounter\n",
        "    runCounter +=1\n",
        "    #print(\"hello!\")\n",
        "\n",
        "    # First step to get the particles weights out from it, convert to an numpy array\n",
        "    particleweightsNP1 = np.array(particle)\n",
        "\n",
        "    particleweightsNP = particleweightsNP1[:840]\n",
        "    biases = np.array(particleweightsNP1[-10:])\n",
        "\n",
        "    # Putting biases straight in\n",
        "    biases = torch.from_numpy(biases).float()\n",
        "    finalLayer.bias = torch.nn.Parameter(biases.float())\n",
        "\n",
        "    #print(particleweightsNP)\n",
        "\n",
        "#     print(\"Shape of particle: \" + str(particleweightsNP.shape))\n",
        "\n",
        "    # Converting to the correct shape!\n",
        "    reshapedWeights = particleweightsNP.reshape(10,84)\n",
        "#     print(\"Shape of reshaped particle: \" + str(reshapedWeights.shape))\n",
        "\n",
        "    # Convert to torch array!\n",
        "    torchWeights = torch.from_numpy(reshapedWeights).float()\n",
        "\n",
        "    # Now we want to set the weights of the finalLayer to these weights\n",
        "\n",
        "    finalLayer.weight = torch.nn.Parameter(torchWeights.float())\n",
        "\n",
        "    # print(\"After:\\n\")\n",
        "    # print(finalLayer.weight)\n",
        "\n",
        "    #finalLayer.weight.data = torchWeights.float()\n",
        "    #print(finalLayer.weight) # Note that the numbers look different than torchWeights ?\n",
        "    #print(torchWeights)\n",
        "\n",
        "    # Run a training loop for the model, with the particles weights set to the final layer and return a loss value back\n",
        "\n",
        "    epoch_loss = 0.0\n",
        "    running_loss = 0.0\n",
        "\n",
        "    # reshapedWeights.to(device)\n",
        "    # torchWeights.to(device)\n",
        "\n",
        "#     print(f\"Starting training run {runCounter}...\")\n",
        "\n",
        "    PopModel.to(device)\n",
        "\n",
        "    for epoch in range(1):\n",
        "\n",
        "        epoch_loss = 0.0\n",
        "\n",
        "        for i, data in enumerate(trainloader, 0):\n",
        "            # get the inputs; data is a list of [inputs, labels]\n",
        "            inputs, labels = data[0].to(device), data[1].to(device)\n",
        "            # Getting the predictions for the model\n",
        "            outputs = PopModel(inputs)\n",
        "\n",
        "            loss = criterion(outputs, labels)\n",
        "\n",
        "            #print(loss.item())\n",
        "\n",
        "            epoch_loss += loss.item()\n",
        "\n",
        "#         print(\"End of Epoch:\" + str(epoch))\n",
        "\n",
        "        running_loss += (epoch_loss / i)\n",
        "\n",
        "    # Now we have a loss value:\n",
        "    print(\"Total Loss: \" + str(running_loss))\n",
        "\n",
        "    return running_loss, # This may be the wrong this to pass back, one test run showed loss is 835852, remember to check that it definitely doesnt update through gradient!\n",
        "\n",
        "    # High loss could be due to how the weights were initialised or how they were converted between numpy and torch tensor?\n",
        "\n",
        "    # We need to return one value\n",
        "\n",
        "    #object of type 'NoneType' has no len() # Error when not returning anything.\n",
        "    #object of type 'float' has no len() # Error when returning_loss by itself, investigate the output of the original sphere function?\n",
        "\n",
        "    # Original loss function returns a single value. example output looks like (136.3042681576523,)\n",
        "\n",
        "    # Do you need to return a list, with each epoch loss in there?\n",
        "    # Doing this: Assigned values have not the same length than fitness weights\n",
        "    # Update: Do not return a list\n",
        "\n",
        "toolbox.register(\"evaluate2\", modelEval)"
      ]
    },
    {
      "cell_type": "code",
      "execution_count": null,
      "metadata": {
        "id": "-CoJ1T86AaMZ"
      },
      "outputs": [],
      "source": [
        "def main():\n",
        "    pop = toolbox.population(n=populationSize) # Population Size\n",
        "    stats = tools.Statistics(lambda ind: ind.fitness.values)\n",
        "    stats.register(\"avg\", np.mean)\n",
        "    stats.register(\"std\", np.std)\n",
        "    stats.register(\"min\", np.min)\n",
        "    stats.register(\"max\", np.max)\n",
        "\n",
        "    #intialize the learning probabilities\n",
        "    prob=[0]*populationSize\n",
        "    for i  in range(len(pop)):\n",
        "        prob[populationSize - i - 1] = 1 - i/(populationSize - 1)\n",
        "        prob[populationSize - i - 1] = pow(prob[populationSize - i - 1], math.log(math.sqrt(math.ceil(dimension/100.0))))\n",
        "\n",
        "    logbook = tools.Logbook()\n",
        "    logbook.header = [\"gen\", \"evals\"] + stats.fields\n",
        "\n",
        "    #begin main loop\n",
        "    for g in range(iterations):\n",
        "\n",
        "        for part in pop:\n",
        "            part.fitness.values = toolbox.evaluate2(part, runCounter) #actually only one fitness value\n",
        "\n",
        "        #Sort the individuals in the swarm in ascending order. i.e., particle 0 is the best\n",
        "        pop.sort(key=lambda x: x.fitness, reverse=True)\n",
        "        #calculate the center (mean value) of the swarm\n",
        "        center = getcenter(pop)\n",
        "\n",
        "        for i  in reversed(range(len(pop)-1)):  # start with worst particle, and go in reverse towards best\n",
        "                                                # don't do element 0 (best). Hence the i+1 below.\n",
        "            if random.uniform(0, 1)<prob[i+1]: #learning probability for that particle\n",
        "                toolbox.update(pop[i+1],pop,center,i+1)\n",
        "\n",
        "        # Gather all the fitnesses in one list and print the stats\n",
        "        # print every interval\n",
        "        if g%interval==0: # interval\n",
        "            logbook.record(gen=g, evals=len(pop), **stats.compile(pop))\n",
        "            print(logbook.stream)\n",
        "\n",
        "    return pop, logbook\n",
        "\n",
        "if __name__ == \"__main__\":\n",
        "    superpart = main()"
      ]
    },
    {
      "cell_type": "code",
      "execution_count": null,
      "metadata": {
        "id": "qhX1IFpAEZ5y"
      },
      "outputs": [],
      "source": [
        "print(len(superpart[2])) # best particle has 840 weights in it\n",
        "\n",
        "arr = np.array(superpart[2])\n",
        "\n",
        "print(arr.shape) # Proof that the best particle is in the shape (840,). Needs to be converted before being put in the model\n",
        "\n",
        "newarr = arr.reshape(10,84)\n",
        "\n",
        "populationList.shape # (10,84) # 2 dimensions\n",
        "\n",
        "print(newarr.shape)\n",
        "print(len(newarr[0]))\n",
        "\n",
        "# Proof that the best particle values were successfully converted to something that can be put back into the last layer"
      ]
    },
    {
      "cell_type": "code",
      "source": [
        "# Put in the bestparticle like this superPart[2] (format to get the best particle after running main)\n",
        "def evaluateBest(bestParticle):\n",
        "  bestNP = np.array(particle)\n",
        "\n",
        "  # Splitting into weights and biases\n",
        "\n",
        "  bestWeights = bestNP[:840]\n",
        "  bestBiases = bestNP[-10:]\n",
        "\n",
        "  # Putting biases in\n",
        "  bestBiases = torch.from_numpy(bestBiases).float()\n",
        "  finalLayer.bias = torch.nn.Parameter(bestBiases.float())\n",
        "\n",
        "  # Reshaping weights so they are correct for the layer\n",
        "  bestWeights = bestWeights.reshape(10,84)\n",
        "\n",
        "  # Converting to torch array\n",
        "  bestWeights = torch.from_numpy(bestWeights).float()\n",
        "\n",
        "  # Putting the weights into the layer\n",
        "\n",
        "  finalLayer.weight = torch.nn.Parameter(bestWeights.float())\n",
        "\n",
        "\n",
        "  # Evaluating the best particle on the test set\n",
        "\n",
        "  correct_pred = {classname: 0 for classname in classes}\n",
        "  total_pred = {classname: 0 for classname in classes}\n",
        "\n",
        "  # Move the model onto GPU again? Most likely do not need to as it should already be in the GPU\n",
        "\n",
        "  for data in testloader:\n",
        "    images, labels = data\n",
        "    outputs = net(images)\n",
        "\n",
        "    _, predictions = torch.max(outputs, 1)\n",
        "\n",
        "    # collect the correct predictions for each class\n",
        "\n",
        "    for label, prediction in zip(labels, predictions):\n",
        "      if label == prediction:\n",
        "        correct_pred[classes[label]] += 1\n",
        "      total_pred[classes[label]] += 1\n",
        "\n",
        "  # Printing the results\n",
        "  for classname, correct_count in correct_pred.items():\n",
        "    accuracy = 100 * float(correct_count) / total_pred[classname]\n",
        "    print(f'Accuracy for class: {classname:5s} is {accuracy:.1f} %')"
      ],
      "metadata": {
        "id": "WZlrNN9GbWxw"
      },
      "execution_count": null,
      "outputs": []
    }
  ],
  "metadata": {
    "accelerator": "GPU",
    "colab": {
      "gpuType": "T4",
      "provenance": []
    },
    "kernelspec": {
      "display_name": "Python 3",
      "language": "python",
      "name": "python3"
    },
    "language_info": {
      "codemirror_mode": {
        "name": "ipython",
        "version": 3
      },
      "file_extension": ".py",
      "mimetype": "text/x-python",
      "name": "python",
      "nbconvert_exporter": "python",
      "pygments_lexer": "ipython3",
      "version": "3.8.3"
    }
  },
  "nbformat": 4,
  "nbformat_minor": 0
}