{
  "cells": [
    {
      "cell_type": "markdown",
      "metadata": {
        "id": "view-in-github",
        "colab_type": "text"
      },
      "source": [
        "<a href=\"https://colab.research.google.com/github/AnnaM-C/computational-intelligence/blob/main/Gradient_Descent_with_CIFAR10.ipynb\" target=\"_parent\"><img src=\"https://colab.research.google.com/assets/colab-badge.svg\" alt=\"Open In Colab\"/></a>"
      ]
    },
    {
      "cell_type": "code",
      "execution_count": 97,
      "id": "4e47a90c",
      "metadata": {
        "id": "4e47a90c"
      },
      "outputs": [],
      "source": [
        "#ref:https://medium.com/@nagam808surya/cifar-10-image-classification-using-pytorch-90332041ba1f\n",
        "#CIFAR-10 dataset from https://www.cs.toronto.edu/~kriz/cifar.html"
      ]
    },
    {
      "cell_type": "code",
      "execution_count": 98,
      "id": "25013feb",
      "metadata": {
        "id": "25013feb"
      },
      "outputs": [],
      "source": [
        "#imports\n",
        "import torch\n",
        "import torchvision\n",
        "import torchvision.transforms as transforms\n",
        "import matplotlib.pyplot as plt\n",
        "import numpy as np\n",
        "import torch.nn as nn\n",
        "import torch.nn.functional as F\n",
        "import tensorflow as tf\n"
      ]
    },
    {
      "cell_type": "code",
      "execution_count": 99,
      "id": "1f035fe3",
      "metadata": {
        "colab": {
          "base_uri": "https://localhost:8080/"
        },
        "id": "1f035fe3",
        "outputId": "ba9b5f77-7d8b-4a67-d696-91a50260399b"
      },
      "outputs": [
        {
          "output_type": "stream",
          "name": "stdout",
          "text": [
            "List of physical GPUs: [PhysicalDevice(name='/physical_device:GPU:0', device_type='GPU')]\n",
            "Num GPUs Available:  1\n",
            "1 Physical GPUs, 1 Logical GPU\n"
          ]
        }
      ],
      "source": [
        "#check how many GPUs you have on the device\n",
        "gpus = tf.config.list_physical_devices('GPU')\n",
        "print(\"List of physical GPUs:\", gpus)\n",
        "print(\"Num GPUs Available: \", len(gpus))\n",
        "if gpus:\n",
        "# Use the first GPU\n",
        "  try:\n",
        "    tf.config.set_visible_devices(gpus[0], 'GPU')\n",
        "    logical_gpus = tf.config.list_logical_devices('GPU')\n",
        "    print(len(gpus), \"Physical GPUs,\", len(logical_gpus), \"Logical GPU\")\n",
        "  except RuntimeError as e:\n",
        "# Visible devices must be set before GPUs have been initialized\n",
        "    print(e)"
      ]
    },
    {
      "cell_type": "code",
      "execution_count": 100,
      "id": "a26aeca6",
      "metadata": {
        "colab": {
          "base_uri": "https://localhost:8080/"
        },
        "id": "a26aeca6",
        "outputId": "4bf71653-1f45-4454-a56d-270099550db0"
      },
      "outputs": [
        {
          "output_type": "stream",
          "name": "stdout",
          "text": [
            "Files already downloaded and verified\n",
            "Files already downloaded and verified\n"
          ]
        }
      ],
      "source": [
        "#normalise pixel values (range:-1 to 1, mean:0.5, s.d:0.5)\n",
        "transform = transforms.Compose(\n",
        "    [transforms.ToTensor(),\n",
        "     transforms.Normalize((0.5, 0.5, 0.5), (0.5, 0.5, 0.5))])\n",
        "\n",
        "batch_size=4\n",
        "\n",
        "trainset = torchvision.datasets.CIFAR10(root='./data', train=True,\n",
        "                                        download=True, transform=transform)\n",
        "trainloader = torch.utils.data.DataLoader(trainset, batch_size=batch_size,\n",
        "                                          shuffle=True, num_workers=2)\n",
        "\n",
        "testset = torchvision.datasets.CIFAR10(root='./data', train=False,\n",
        "                                       download=True, transform=transform)\n",
        "testloader = torch.utils.data.DataLoader(testset, batch_size=batch_size,\n",
        "                                         shuffle=False, num_workers=2)\n",
        "\n",
        "classes = ('plane', 'car', 'bird', 'cat',\n",
        "           'deer', 'dog', 'frog', 'horse', 'ship', 'truck')"
      ]
    },
    {
      "cell_type": "code",
      "source": [
        "#index of trainset returns input, label\n",
        "# print(trainset[0])\n",
        "# input,label=trainset[0]\n",
        "# print(label)"
      ],
      "metadata": {
        "id": "KsGfKjZYYk2C"
      },
      "id": "KsGfKjZYYk2C",
      "execution_count": 101,
      "outputs": []
    },
    {
      "cell_type": "code",
      "execution_count": 102,
      "id": "d0470919",
      "metadata": {
        "colab": {
          "base_uri": "https://localhost:8080/",
          "height": 211
        },
        "id": "d0470919",
        "outputId": "df043245-14d8-446e-b5bc-56bdd3cf88e7"
      },
      "outputs": [
        {
          "output_type": "display_data",
          "data": {
            "text/plain": [
              "<Figure size 640x480 with 1 Axes>"
            ],
            "image/png": "[encoded data removed]"
          },
          "metadata": {}
        },
        {
          "output_type": "stream",
          "name": "stdout",
          "text": [
            "cartrucktruckhorse\n"
          ]
        }
      ],
      "source": [
        "#visualise images from the trainloader\n",
        "def imshow(img):\n",
        "    img=img/2+0.5 #unnormalise\n",
        "    npimg=img.numpy()\n",
        "    plt.imshow(np.transpose(npimg, (1,2,0)))\n",
        "    plt.show()\n",
        "\n",
        "#random image\n",
        "dataiter=iter(trainloader)\n",
        "images,labels=next(dataiter)\n",
        "\n",
        "#show image\n",
        "imshow(torchvision.utils.make_grid(images))\n",
        "\n",
        "#print labels\n",
        "print(''.join('%s' % classes[labels[j]] for j in range(batch_size)))"
      ]
    },
    {
      "cell_type": "code",
      "execution_count": 103,
      "id": "58ed12d3",
      "metadata": {
        "id": "58ed12d3"
      },
      "outputs": [],
      "source": [
        "#build the network (architecture)\n",
        "#relu is used because it is fast\n",
        "\n",
        "class Net(nn.Module):\n",
        "    def __init__(self):\n",
        "        super().__init__()\n",
        "        self.conv1 = nn.Conv2d(3, 6, 5)\n",
        "        self.pool = nn.MaxPool2d(2, 2)\n",
        "        self.conv2 = nn.Conv2d(6, 16, 5)\n",
        "        self.fc1 = nn.Linear(16 * 5 * 5, 120)\n",
        "        self.fc2 = nn.Linear(120, 84)\n",
        "        self.fc3 = nn.Linear(84, 10)\n",
        "\n",
        "    def forward(self, x):\n",
        "        x = self.pool(F.relu(self.conv1(x)))\n",
        "        x = self.pool(F.relu(self.conv2(x)))\n",
        "        x = torch.flatten(x, 1) # flatten all dimensions except batch\n",
        "        x = F.relu(self.fc1(x))\n",
        "        x = F.relu(self.fc2(x))\n",
        "        x = self.fc3(x)\n",
        "        return x\n",
        "\n",
        "model=Net()\n"
      ]
    },
    {
      "cell_type": "code",
      "execution_count": 104,
      "id": "0dcd6eb7",
      "metadata": {
        "id": "0dcd6eb7"
      },
      "outputs": [],
      "source": [
        "#choose an optimiser algorithm\n",
        "import torch.optim as optim\n",
        "\n",
        "criterion = nn.CrossEntropyLoss()\n",
        "optimiser = optim.SGD(model.parameters(), lr=0.001, momentum=0.9)\n",
        "scheduler1 = torch.optim.lr_scheduler.ExponentialLR(optimiser, gamma=0.95)\n",
        "scheduler2 = torch.optim.lr_scheduler.MultiStepLR(optimiser, milestones=[30,80], gamma=0.1)\n"
      ]
    },
    {
      "cell_type": "code",
      "execution_count": 105,
      "id": "3bde9840",
      "metadata": {
        "colab": {
          "base_uri": "https://localhost:8080/"
        },
        "id": "3bde9840",
        "outputId": "b6fd7c4b-b042-4d57-f81a-62113ecd5ef5"
      },
      "outputs": [
        {
          "output_type": "stream",
          "name": "stdout",
          "text": [
            "[1,  2000] loss: 2.187\n",
            "[1,  4000] loss: 1.817\n",
            "[1,  6000] loss: 1.665\n",
            "[1,  8000] loss: 1.584\n",
            "[1, 10000] loss: 1.524\n",
            "[1, 12000] loss: 1.489\n",
            "Average loss-> 2.053121436959505\n",
            "[2,  2000] loss: 1.408\n",
            "[2,  4000] loss: 1.387\n",
            "[2,  6000] loss: 1.372\n",
            "[2,  8000] loss: 1.345\n",
            "[2, 10000] loss: 1.312\n",
            "[2, 12000] loss: 1.306\n",
            "Average loss-> 1.6260832945108414\n",
            "[3,  2000] loss: 1.242\n",
            "[3,  4000] loss: 1.265\n",
            "[3,  6000] loss: 1.228\n",
            "[3,  8000] loss: 1.212\n",
            "[3, 10000] loss: 1.202\n",
            "[3, 12000] loss: 1.212\n",
            "Average loss-> 1.4722633856285363\n",
            "[4,  2000] loss: 1.107\n",
            "[4,  4000] loss: 1.163\n",
            "[4,  6000] loss: 1.145\n",
            "[4,  8000] loss: 1.135\n",
            "[4, 10000] loss: 1.122\n",
            "[4, 12000] loss: 1.126\n",
            "Average loss-> 1.359476475790143\n",
            "[5,  2000] loss: 1.048\n",
            "[5,  4000] loss: 1.053\n",
            "[5,  6000] loss: 1.060\n",
            "[5,  8000] loss: 1.051\n",
            "[5, 10000] loss: 1.076\n",
            "[5, 12000] loss: 1.072\n",
            "Average loss-> 1.2721220378530211\n",
            "[6,  2000] loss: 0.943\n",
            "[6,  4000] loss: 0.985\n",
            "[6,  6000] loss: 1.003\n",
            "[6,  8000] loss: 1.000\n",
            "[6, 10000] loss: 0.988\n",
            "[6, 12000] loss: 1.016\n",
            "Average loss-> 1.1870680729060434\n",
            "[7,  2000] loss: 0.901\n",
            "[7,  4000] loss: 0.934\n",
            "[7,  6000] loss: 0.938\n",
            "[7,  8000] loss: 0.942\n",
            "[7, 10000] loss: 0.940\n",
            "[7, 12000] loss: 0.922\n",
            "Average loss-> 1.1153826994198375\n",
            "[8,  2000] loss: 0.840\n",
            "[8,  4000] loss: 0.873\n",
            "[8,  6000] loss: 0.889\n",
            "[8,  8000] loss: 0.879\n",
            "[8, 10000] loss: 0.904\n",
            "[8, 12000] loss: 0.901\n",
            "Average loss-> 1.0571500952905974\n",
            "[9,  2000] loss: 0.794\n",
            "[9,  4000] loss: 0.818\n",
            "[9,  6000] loss: 0.823\n",
            "[9,  8000] loss: 0.866\n",
            "[9, 10000] loss: 0.848\n",
            "[9, 12000] loss: 0.837\n",
            "Average loss-> 0.9971594607634238\n",
            "[10,  2000] loss: 0.753\n",
            "[10,  4000] loss: 0.772\n",
            "[10,  6000] loss: 0.803\n",
            "[10,  8000] loss: 0.809\n",
            "[10, 10000] loss: 0.794\n",
            "[10, 12000] loss: 0.803\n",
            "Average loss-> 0.9469214492379571\n",
            "Finished Training\n"
          ]
        }
      ],
      "source": [
        "#epochs (entire run of dataset multiple forward and backward propogations to update weights = 1 epoch)\n",
        "lossTracker=[]\n",
        "\n",
        "for epoch in range(10):  # loop over the dataset multiple times\n",
        "\n",
        "    running_loss = 0.0\n",
        "    running_loss_track=0.0\n",
        "    #in each epoch this is the forward and backward propogation loop to optimise the loss.\n",
        "    #restarts the loop without losses from the last step meaning it starts updating the weights without considering losses from last step, focuses on the current loss\n",
        "    for i, data in enumerate(trainloader, 0):\n",
        "        # get the inputs; data is a list of [inputs, labels]\n",
        "        inputs, labels = data\n",
        "\n",
        "        #zero the parameter gradients\n",
        "        optimiser.zero_grad()\n",
        "\n",
        "        #forward + backward + optimise\n",
        "        outputs = model(inputs)\n",
        "        loss = criterion(outputs, labels)\n",
        "        loss.backward()\n",
        "        optimiser.step()\n",
        "\n",
        "        #print statistics\n",
        "        running_loss += loss.item()\n",
        "        if i % 2000 == 1999:    # print every 2000 mini-batches\n",
        "            print(f'[{epoch + 1}, {i + 1:5d}] loss: {running_loss / 2000:.3f}')\n",
        "            running_loss_track+=running_loss/2000\n",
        "            running_loss = 0.0\n",
        "    scheduler1.step()\n",
        "    scheduler2.step()\n",
        "\n",
        "    #calculate average losses\n",
        "    running_loss_track=running_loss_track/5\n",
        "    print(\"Average loss->\",running_loss_track)\n",
        "    lossTracker.append(running_loss_track)\n",
        "\n",
        "print('Finished Training')"
      ]
    },
    {
      "cell_type": "code",
      "execution_count": 106,
      "id": "19ceb02d",
      "metadata": {
        "id": "19ceb02d"
      },
      "outputs": [],
      "source": [
        "PATH='./cifar_net.pth'\n",
        "torch.save(model.state_dict(),PATH)"
      ]
    },
    {
      "cell_type": "code",
      "execution_count": 107,
      "id": "e965a557",
      "metadata": {
        "colab": {
          "base_uri": "https://localhost:8080/"
        },
        "id": "e965a557",
        "outputId": "1cf640b6-8466-4c2d-b994-a4bbc3524ffd"
      },
      "outputs": [
        {
          "output_type": "execute_result",
          "data": {
            "text/plain": [
              "<All keys matched successfully>"
            ]
          },
          "metadata": {},
          "execution_count": 107
        }
      ],
      "source": [
        "model=Net()\n",
        "model.load_state_dict(torch.load(PATH))"
      ]
    },
    {
      "cell_type": "code",
      "execution_count": 108,
      "id": "52bf6845",
      "metadata": {
        "colab": {
          "base_uri": "https://localhost:8080/",
          "height": 211
        },
        "id": "52bf6845",
        "outputId": "24c577f3-d0d5-42be-d296-3b76c2c47d54"
      },
      "outputs": [
        {
          "output_type": "display_data",
          "data": {
            "text/plain": [
              "<Figure size 640x480 with 1 Axes>"
            ],
            "image/png": "[encoded data removed]"
          },
          "metadata": {}
        },
        {
          "output_type": "stream",
          "name": "stdout",
          "text": [
            "GroundTruth:    cat  ship  ship plane\n"
          ]
        }
      ],
      "source": [
        "#random image\n",
        "dataiter=iter(testloader)\n",
        "images,labels=next(dataiter)\n",
        "\n",
        "#show image\n",
        "imshow(torchvision.utils.make_grid(images))\n",
        "print('GroundTruth: ',' '.join('%5s'%classes[labels[j]] for j in range(4)))"
      ]
    },
    {
      "cell_type": "code",
      "execution_count": 109,
      "id": "8c21c190",
      "metadata": {
        "collapsed": true,
        "id": "8c21c190"
      },
      "outputs": [],
      "source": [
        "outputs=model(images)"
      ]
    },
    {
      "cell_type": "code",
      "execution_count": 110,
      "id": "0120c85c",
      "metadata": {
        "colab": {
          "base_uri": "https://localhost:8080/"
        },
        "id": "0120c85c",
        "outputId": "fe0fad89-42a0-492b-bfb8-56b29ae981a0"
      },
      "outputs": [
        {
          "output_type": "stream",
          "name": "stdout",
          "text": [
            "Predicted:    cat  ship  ship  ship\n"
          ]
        }
      ],
      "source": [
        "_,predicted=torch.max(outputs,1)\n",
        "print('Predicted: ', ' '.join('%5s'%classes[predicted[j]]\n",
        "                             for j in range(4)))"
      ]
    },
    {
      "cell_type": "code",
      "execution_count": 111,
      "id": "9f55b952",
      "metadata": {
        "colab": {
          "base_uri": "https://localhost:8080/"
        },
        "id": "9f55b952",
        "outputId": "252d22f4-23e0-4b33-bfd2-c2db71905e47"
      },
      "outputs": [
        {
          "output_type": "stream",
          "name": "stdout",
          "text": [
            "Accuracy of the network on the 10000 test images: 63 %\n"
          ]
        }
      ],
      "source": [
        "#overall accuracy\n",
        "correct=0\n",
        "total=0\n",
        "#since we're not training, we dont need to calculate the gradients for our outputs\n",
        "with torch.no_grad():\n",
        "    for data in testloader:\n",
        "        images,labels=data\n",
        "        #calculate outputs by running images through the network\n",
        "        outputs=model(images)\n",
        "        #the class with the highest energy is what we choose as prediction\n",
        "        _,predicted=torch.max(outputs.data,1)\n",
        "        total+=labels.size(0)\n",
        "        correct+=(predicted==labels).sum().item()\n",
        "\n",
        "print('Accuracy of the network on the 10000 test images: %d %%' % (100*correct/total))"
      ]
    },
    {
      "cell_type": "code",
      "execution_count": 112,
      "id": "7c5d1419",
      "metadata": {
        "colab": {
          "base_uri": "https://localhost:8080/"
        },
        "id": "7c5d1419",
        "outputId": "da5d21fb-88e5-487a-a16e-75058cf79d25"
      },
      "outputs": [
        {
          "output_type": "stream",
          "name": "stdout",
          "text": [
            "Accuracy for class plane is: 75.4 %\n",
            "Accuracy for class car   is: 63.1 %\n",
            "Accuracy for class bird  is: 45.7 %\n",
            "Accuracy for class cat   is: 42.0 %\n",
            "Accuracy for class deer  is: 59.9 %\n",
            "Accuracy for class dog   is: 53.7 %\n",
            "Accuracy for class frog  is: 74.4 %\n",
            "Accuracy for class horse is: 69.2 %\n",
            "Accuracy for class ship  is: 77.4 %\n",
            "Accuracy for class truck is: 76.6 %\n"
          ]
        }
      ],
      "source": [
        "#accuracy for each class\n",
        "#prepare to count predictions for each class\n",
        "correct_pred={classname: 0 for classname in classes}\n",
        "total_pred={classname: 0 for classname in classes}\n",
        "\n",
        "#no gradients needed\n",
        "with torch.no_grad():\n",
        "    for data in testloader:\n",
        "        images,labels=data\n",
        "        outputs=model(images)\n",
        "        _,predictions=torch.max(outputs,1)\n",
        "        #collect the correct predictions for each class\n",
        "        for label,prediction in zip(labels,predictions):\n",
        "            if label==prediction:\n",
        "                correct_pred[classes[label]]+=1\n",
        "            total_pred[classes[label]]+=1\n",
        "\n",
        "#print accuracy for each class\n",
        "for classname,correct_count in correct_pred.items():\n",
        "    accuracy=100*float(correct_count)/total_pred[classname]\n",
        "    print(\"Accuracy for class {:5s} is: {:.1f} %\".format(classname,accuracy))\n"
      ]
    },
    {
      "cell_type": "code",
      "execution_count": 114,
      "id": "65437866",
      "metadata": {
        "colab": {
          "base_uri": "https://localhost:8080/",
          "height": 472
        },
        "id": "65437866",
        "outputId": "be20a82e-9188-4fa5-e768-690c3d23125c"
      },
      "outputs": [
        {
          "output_type": "display_data",
          "data": {
            "text/plain": [
              "<Figure size 640x480 with 1 Axes>"
            ],
            "image/png": "[encoded data removed]"
          },
          "metadata": {}
        }
      ],
      "source": [
        "plt.plot(np.arange(0,10), lossTracker, label='Training loss')\n",
        "plt.title('Loss')\n",
        "plt.xlabel('No. of epochs')\n",
        "plt.ylabel('Loss')\n",
        "plt.legend(loc='upper right')\n",
        "plt.show()"
      ]
    }
  ],
  "metadata": {
    "kernelspec": {
      "display_name": "Python 3",
      "name": "python3"
    },
    "language_info": {
      "codemirror_mode": {
        "name": "ipython",
        "version": 3
      },
      "file_extension": ".py",
      "mimetype": "text/x-python",
      "name": "python",
      "nbconvert_exporter": "python",
      "pygments_lexer": "ipython3",
      "version": "3.8.18"
    },
    "colab": {
      "provenance": [],
      "gpuType": "T4",
      "include_colab_link": true
    },
    "accelerator": "GPU"
  },
  "nbformat": 4,
  "nbformat_minor": 5
}