{
  "cells": [
    {
      "cell_type": "markdown",
      "metadata": {
        "id": "view-in-github",
        "colab_type": "text"
      },
      "source": [
        "<a href=\"https://colab.research.google.com/github/AnnaM-C/computational-intelligence/blob/main/Gradient_Descent_with_CIFAR10.ipynb\" target=\"_parent\"><img src=\"https://colab.research.google.com/assets/colab-badge.svg\" alt=\"Open In Colab\"/></a>"
      ]
    },
    {
      "cell_type": "code",
      "execution_count": null,
      "id": "4e47a90c",
      "metadata": {
        "id": "4e47a90c"
      },
      "outputs": [],
      "source": [
        "#ref:https://medium.com/@nagam808surya/cifar-10-image-classification-using-pytorch-90332041ba1f\n",
        "#CIFAR-10 dataset from https://www.cs.toronto.edu/~kriz/cifar.html"
      ]
    },
    {
      "cell_type": "code",
      "execution_count": null,
      "id": "25013feb",
      "metadata": {
        "id": "25013feb"
      },
      "outputs": [],
      "source": [
        "#imports\n",
        "import torch\n",
        "import torchvision\n",
        "import torchvision.transforms as transforms\n",
        "import matplotlib.pyplot as plt\n",
        "import numpy as np\n",
        "import torch.nn as nn\n",
        "import torch.nn.functional as F\n",
        "import tensorflow as tf\n"
      ]
    },
    {
      "cell_type": "code",
      "execution_count": null,
      "id": "1f035fe3",
      "metadata": {
        "colab": {
          "base_uri": "https://localhost:8080/"
        },
        "id": "1f035fe3",
        "outputId": "7069f5c4-1310-4736-878f-b3289ca56ae1"
      },
      "outputs": [
        {
          "output_type": "stream",
          "name": "stdout",
          "text": [
            "List of physical GPUs: [PhysicalDevice(name='/physical_device:GPU:0', device_type='GPU')]\n",
            "Num GPUs Available:  1\n",
            "1 Physical GPUs, 1 Logical GPU\n"
          ]
        }
      ],
      "source": [
        "#check how many GPUs you have on the device\n",
        "gpus = tf.config.list_physical_devices('GPU')\n",
        "print(\"List of physical GPUs:\", gpus)\n",
        "print(\"Num GPUs Available: \", len(gpus))\n",
        "if gpus:\n",
        "# Use the first GPU\n",
        "  try:\n",
        "    tf.config.set_visible_devices(gpus[0], 'GPU')\n",
        "    logical_gpus = tf.config.list_logical_devices('GPU')\n",
        "    print(len(gpus), \"Physical GPUs,\", len(logical_gpus), \"Logical GPU\")\n",
        "  except RuntimeError as e:\n",
        "# Visible devices must be set before GPUs have been initialized\n",
        "    print(e)"
      ]
    },
    {
      "cell_type": "code",
      "execution_count": null,
      "id": "a26aeca6",
      "metadata": {
        "colab": {
          "base_uri": "https://localhost:8080/"
        },
        "id": "a26aeca6",
        "outputId": "f197634b-697a-4a43-ef29-a880c3ccb521"
      },
      "outputs": [
        {
          "output_type": "stream",
          "name": "stdout",
          "text": [
            "Downloading https://www.cs.toronto.edu/~kriz/cifar-10-python.tar.gz to ./data/cifar-10-python.tar.gz\n"
          ]
        },
        {
          "output_type": "stream",
          "name": "stderr",
          "text": [
            "100%|██████████| 170498071/170498071 [00:13<00:00, 13024763.18it/s]\n"
          ]
        },
        {
          "output_type": "stream",
          "name": "stdout",
          "text": [
            "Extracting ./data/cifar-10-python.tar.gz to ./data\n",
            "Files already downloaded and verified\n"
          ]
        }
      ],
      "source": [
        "#normalise pixel values (range:-1 to 1, mean:0.5, s.d:0.5)\n",
        "transform=transforms.Compose(\n",
        "[transforms.ToTensor(),\n",
        "transforms.Normalize((0.5,0.5,0.5),(0.5,0.5,0.5))])\n",
        "\n",
        "trainset=torchvision.datasets.CIFAR10(root='./data',train=True,download=True,transform=transform)\n",
        "testset=torchvision.datasets.CIFAR10(root='./data',train=False,download=True,transform=transform)\n",
        "\n",
        "classes=('plane', 'car', 'bird', 'cat', 'deer', 'dog', 'frog', 'horse', 'ship', 'truck')"
      ]
    },
    {
      "cell_type": "code",
      "execution_count": null,
      "id": "c0c819ba",
      "metadata": {
        "id": "c0c819ba"
      },
      "outputs": [],
      "source": [
        "#feed images in batches\n",
        "batch_size=5\n",
        "trainloader=torch.utils.data.DataLoader(trainset, batch_size=batch_size, shuffle=True, num_workers=2)\n",
        "testloader=torch.utils.data.DataLoader(testset, batch_size=batch_size, shuffle=False, num_workers=2)"
      ]
    },
    {
      "cell_type": "code",
      "execution_count": null,
      "id": "d0470919",
      "metadata": {
        "colab": {
          "base_uri": "https://localhost:8080/",
          "height": 224
        },
        "id": "d0470919",
        "outputId": "14672a60-3a48-4ca8-eecb-ec0ca56a3fcd"
      },
      "outputs": [
        {
          "output_type": "stream",
          "name": "stderr",
          "text": [
            "WARNING:matplotlib.image:Clipping input data to the valid range for imshow with RGB data ([0..1] for floats or [0..255] for integers).\n"
          ]
        },
        {
          "output_type": "display_data",
          "data": {
            "text/plain": [
              "<Figure size 640x480 with 1 Axes>"
            ],
            "image/png": "[encoded data removed]"
          },
          "metadata": {}
        },
        {
          "output_type": "stream",
          "name": "stdout",
          "text": [
            "planefrogshipcatcar\n"
          ]
        }
      ],
      "source": [
        "#visualise images from the trainloader\n",
        "def imshow(img):\n",
        "    img=img/2_0.5 #unnormalise\n",
        "    npimg=img.numpy()\n",
        "    plt.imshow(np.transpose(npimg, (1,2,0)))\n",
        "    plt.show()\n",
        "\n",
        "#random image\n",
        "dataiter=iter(trainloader)\n",
        "images,labels=next(dataiter)\n",
        "\n",
        "#show image\n",
        "imshow(torchvision.utils.make_grid(images))\n",
        "\n",
        "#print labels\n",
        "print(''.join('%s' % classes[labels[j]] for j in range(batch_size)))"
      ]
    },
    {
      "cell_type": "code",
      "execution_count": null,
      "id": "58ed12d3",
      "metadata": {
        "id": "58ed12d3"
      },
      "outputs": [],
      "source": [
        "#build the network (architecture)\n",
        "#relu is used because it is fast\n",
        "\n",
        "class Net(nn.Module):\n",
        "    def __init__(self):\n",
        "        super().__init__()\n",
        "        self.conv1=nn.Conv2d(3,10,5) #conv layer's output dimension formula (W-F+2P/S+1) W-input image size, F-kernal size, P-padding, S-Stride\n",
        "        self.pool=nn.MaxPool2d(2,2)\n",
        "        self.conv2=nn.Conv2d(10,16,5)\n",
        "        self.fc1=nn.Linear(16*5*5,120)\n",
        "        self.fc2=nn.Linear(120,84)\n",
        "        self.fc3=nn.Linear(84,10)\n",
        "\n",
        "    def forward(self,x):\n",
        "        x=self.pool(F.relu(self.conv1(x)))\n",
        "        x=self.pool(F.relu(self.conv2(x)))\n",
        "        x=torch.flatten(x,1)\n",
        "        x=F.relu(self.fc1(x))\n",
        "        x=F.relu(self.fc2(x))\n",
        "        x=self.fc3(x)\n",
        "        return x\n",
        "\n",
        "net=Net()\n"
      ]
    },
    {
      "cell_type": "code",
      "execution_count": null,
      "id": "0dcd6eb7",
      "metadata": {
        "id": "0dcd6eb7"
      },
      "outputs": [],
      "source": [
        "#choose an optimiser algorithm\n",
        "import torch.optim as optim\n",
        "\n",
        "criterion=nn.CrossEntropyLoss()\n",
        "optimiser=optim.SGD(net.parameters(),lr=0.001,momentum=0.9)"
      ]
    },
    {
      "cell_type": "code",
      "execution_count": null,
      "id": "3bde9840",
      "metadata": {
        "colab": {
          "base_uri": "https://localhost:8080/"
        },
        "id": "3bde9840",
        "outputId": "9acd7216-7233-4148-86b3-e58fd8b12b4c"
      },
      "outputs": [
        {
          "output_type": "stream",
          "name": "stdout",
          "text": [
            "[1, 2000] loss: 1.612\n",
            "[1, 4000] loss: 1.612\n",
            "[1, 6000] loss: 1.611\n",
            "[1, 8000] loss: 1.611\n",
            "[1,10000] loss: 1.611\n",
            "Average loss-> 1.61156706597805\n",
            "[2, 2000] loss: 1.611\n",
            "[2, 4000] loss: 1.610\n",
            "[2, 6000] loss: 1.611\n",
            "[2, 8000] loss: 1.611\n",
            "[2,10000] loss: 1.610\n",
            "Average loss-> 1.6105745094776154\n",
            "Finished Training\n"
          ]
        }
      ],
      "source": [
        "#epochs\n",
        "lossTracker=[]\n",
        "\n",
        "for epoch in range(2): #loop through the dataset multiple times to update the weights\n",
        "    running_loss=0.0\n",
        "    running_loss_track=0.0\n",
        "    for i,data in enumerate(trainloader,0):\n",
        "        #get inputs; data is a list of [inputs,labels]\n",
        "        inputs,label=data\n",
        "\n",
        "        #zero the parameter gradients\n",
        "        optimiser.zero_grad()\n",
        "\n",
        "        #forward+backward+optimise\n",
        "        outputs=net(inputs)\n",
        "        loss=criterion(outputs,labels)\n",
        "        loss.backward()\n",
        "        optimiser.step()\n",
        "\n",
        "        #print statistics\n",
        "        running_loss += loss.item()\n",
        "        if i % 2000 == 1999: #print every 2000 mini-batches\n",
        "            print('[%d,%5d] loss: %.3f'% (epoch+1,i+1,running_loss/2000))\n",
        "            running_loss_track+=running_loss/2000\n",
        "            running_loss=0.0\n",
        "\n",
        "    #calculate average losses\n",
        "    running_loss_track=running_loss_track/5\n",
        "    print(\"Average loss->\",running_loss_track)\n",
        "    lossTracker.append(running_loss_track)\n",
        "\n",
        "print('Finished Training')"
      ]
    },
    {
      "cell_type": "code",
      "execution_count": null,
      "id": "19ceb02d",
      "metadata": {
        "id": "19ceb02d"
      },
      "outputs": [],
      "source": [
        "PATH='./cifar_net.pth'\n",
        "torch.save(net.state_dict(),PATH)"
      ]
    },
    {
      "cell_type": "code",
      "execution_count": null,
      "id": "e965a557",
      "metadata": {
        "colab": {
          "base_uri": "https://localhost:8080/"
        },
        "id": "e965a557",
        "outputId": "7b8611d4-de67-43f7-976b-c0e702d79560"
      },
      "outputs": [
        {
          "output_type": "execute_result",
          "data": {
            "text/plain": [
              "<All keys matched successfully>"
            ]
          },
          "metadata": {},
          "execution_count": 28
        }
      ],
      "source": [
        "net=Net()\n",
        "net.load_state_dict(torch.load(PATH))"
      ]
    },
    {
      "cell_type": "code",
      "execution_count": null,
      "id": "52bf6845",
      "metadata": {
        "colab": {
          "base_uri": "https://localhost:8080/",
          "height": 224
        },
        "id": "52bf6845",
        "outputId": "5049eab8-5ef0-416e-c50e-67482d2d5181"
      },
      "outputs": [
        {
          "output_type": "stream",
          "name": "stderr",
          "text": [
            "WARNING:matplotlib.image:Clipping input data to the valid range for imshow with RGB data ([0..1] for floats or [0..255] for integers).\n"
          ]
        },
        {
          "output_type": "display_data",
          "data": {
            "text/plain": [
              "<Figure size 640x480 with 1 Axes>"
            ],
            "image/png": "[encoded data removed]"
          },
          "metadata": {}
        },
        {
          "output_type": "stream",
          "name": "stdout",
          "text": [
            "GroundTruth:    cat  ship  ship plane  frog\n"
          ]
        }
      ],
      "source": [
        "#random image\n",
        "dataiter=iter(testloader)\n",
        "images,labels=next(dataiter)\n",
        "\n",
        "#show image\n",
        "imshow(torchvision.utils.make_grid(images))\n",
        "print('GroundTruth: ',' '.join('%5s'%classes[labels[j]] for j in range(5)))"
      ]
    },
    {
      "cell_type": "code",
      "execution_count": null,
      "id": "8c21c190",
      "metadata": {
        "collapsed": true,
        "id": "8c21c190"
      },
      "outputs": [],
      "source": [
        "outputs=net(images)"
      ]
    },
    {
      "cell_type": "code",
      "execution_count": null,
      "id": "0120c85c",
      "metadata": {
        "colab": {
          "base_uri": "https://localhost:8080/"
        },
        "id": "0120c85c",
        "outputId": "25748595-422e-4d26-e554-701c23c72d2b"
      },
      "outputs": [
        {
          "output_type": "stream",
          "name": "stdout",
          "text": [
            "Predicted:    cat   cat   cat   cat   cat\n"
          ]
        }
      ],
      "source": [
        "_,predicted=torch.max(outputs,1)\n",
        "print('Predicted: ', ' '.join('%5s'%classes[predicted[j]]\n",
        "                             for j in range(5)))"
      ]
    },
    {
      "cell_type": "code",
      "execution_count": null,
      "id": "9f55b952",
      "metadata": {
        "colab": {
          "base_uri": "https://localhost:8080/"
        },
        "id": "9f55b952",
        "outputId": "4b8a51aa-5a4e-4c13-906c-8de96fa51a2c"
      },
      "outputs": [
        {
          "output_type": "stream",
          "name": "stdout",
          "text": [
            "Accuracy of the network on the 10000 test images: 10 %\n"
          ]
        }
      ],
      "source": [
        "#overall accuracy\n",
        "correct=0\n",
        "total=0\n",
        "#since we're not training, we dont need to calculate the gradients for our outputs\n",
        "with torch.no_grad():\n",
        "    for data in testloader:\n",
        "        images,labels=data\n",
        "        #calculate outputs by running images through the network\n",
        "        outputs=net(images)\n",
        "        #the class with the highest energy is what we choose as prediction\n",
        "        _,predicted=torch.max(outputs.data,1)\n",
        "        total+=labels.size(0)\n",
        "        correct+=(predicted==labels).sum().item()\n",
        "\n",
        "print('Accuracy of the network on the 10000 test images: %d %%' % (100*correct/total))"
      ]
    },
    {
      "cell_type": "code",
      "execution_count": null,
      "id": "7c5d1419",
      "metadata": {
        "colab": {
          "base_uri": "https://localhost:8080/"
        },
        "id": "7c5d1419",
        "outputId": "e2c494c9-398f-4a2d-ac08-7d7993b12b88"
      },
      "outputs": [
        {
          "output_type": "stream",
          "name": "stdout",
          "text": [
            "Accuracy for class plane is: 0.4 %\n",
            "Accuracy for class car   is: 0.0 %\n",
            "Accuracy for class bird  is: 0.0 %\n",
            "Accuracy for class cat   is: 99.1 %\n",
            "Accuracy for class deer  is: 0.0 %\n",
            "Accuracy for class dog   is: 0.0 %\n",
            "Accuracy for class frog  is: 0.5 %\n",
            "Accuracy for class horse is: 0.0 %\n",
            "Accuracy for class ship  is: 0.4 %\n",
            "Accuracy for class truck is: 0.0 %\n"
          ]
        }
      ],
      "source": [
        "#accuracy for each class\n",
        "#prepare to count predictions for each class\n",
        "correct_pred={classname: 0 for classname in classes}\n",
        "total_pred={classname: 0 for classname in classes}\n",
        "\n",
        "#no gradients needed\n",
        "with torch.no_grad():\n",
        "    for data in testloader:\n",
        "        images,labels=data\n",
        "        outputs=net(images)\n",
        "        _,predictions=torch.max(outputs,1)\n",
        "        #collect the correct predictions for each class\n",
        "        for label,prediction in zip(labels,predictions):\n",
        "            if label==prediction:\n",
        "                correct_pred[classes[label]]+=1\n",
        "            total_pred[classes[label]]+=1\n",
        "\n",
        "#print accuracy for each class\n",
        "for classname,correct_count in correct_pred.items():\n",
        "    accuracy=100*float(correct_count)/total_pred[classname]\n",
        "    print(\"Accuracy for class {:5s} is: {:.1f} %\".format(classname,accuracy))\n"
      ]
    },
    {
      "cell_type": "code",
      "execution_count": null,
      "id": "65437866",
      "metadata": {
        "colab": {
          "base_uri": "https://localhost:8080/",
          "height": 472
        },
        "id": "65437866",
        "outputId": "d7c8c153-190c-4bb1-af80-1cc9c0b72fd4"
      },
      "outputs": [
        {
          "output_type": "display_data",
          "data": {
            "text/plain": [
              "<Figure size 640x480 with 1 Axes>"
            ],
            "image/png": "[encoded data removed]"
          },
          "metadata": {}
        }
      ],
      "source": [
        "plt.plot(np.arange(0,2), lossTracker, label='Training loss')\n",
        "plt.title('Loss')\n",
        "plt.xlabel('No. of epochs')\n",
        "plt.ylabel('Loss')\n",
        "plt.legend(loc='upper right')\n",
        "plt.show()"
      ]
    }
  ],
  "metadata": {
    "kernelspec": {
      "display_name": "Python 3",
      "name": "python3"
    },
    "language_info": {
      "codemirror_mode": {
        "name": "ipython",
        "version": 3
      },
      "file_extension": ".py",
      "mimetype": "text/x-python",
      "name": "python",
      "nbconvert_exporter": "python",
      "pygments_lexer": "ipython3",
      "version": "3.8.18"
    },
    "colab": {
      "provenance": [],
      "include_colab_link": true
    }
  },
  "nbformat": 4,
  "nbformat_minor": 5
}