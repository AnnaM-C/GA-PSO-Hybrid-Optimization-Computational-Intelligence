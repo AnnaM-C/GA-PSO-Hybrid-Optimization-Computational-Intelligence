{
  "cells": [
    {
      "cell_type": "markdown",
      "metadata": {
        "id": "WIBa3DlqWkM1"
      },
      "source": [
        "# Imports required"
      ]
    },
    {
      "cell_type": "code",
      "execution_count": 1,
      "metadata": {
        "colab": {
          "base_uri": "https://localhost:8080/"
        },
        "id": "Iqp_YwFgVsJG",
        "outputId": "b95850f3-96e5-4127-b033-65e82de9add2"
      },
      "outputs": [
        {
          "output_type": "stream",
          "name": "stdout",
          "text": [
            "Collecting deap\n",
            "  Downloading deap-1.4.1-cp310-cp310-manylinux_2_5_x86_64.manylinux1_x86_64.manylinux_2_17_x86_64.manylinux2014_x86_64.whl (135 kB)\n",
            "\u001b[2K     \u001b[90m━━━━━━━━━━━━━━━━━━━━━━━━━━━━━━━━━━━━━━━━\u001b[0m \u001b[32m135.4/135.4 kB\u001b[0m \u001b[31m2.7 MB/s\u001b[0m eta \u001b[36m0:00:00\u001b[0m\n",
            "\u001b[?25hRequirement already satisfied: numpy in /usr/local/lib/python3.10/dist-packages (from deap) (1.23.5)\n",
            "Installing collected packages: deap\n",
            "Successfully installed deap-1.4.1\n"
          ]
        }
      ],
      "source": [
        "import torch\n",
        "import torchvision\n",
        "import torchvision.transforms as transforms\n",
        "\n",
        "import torch.nn as nn\n",
        "import torch.nn.functional as F\n",
        "\n",
        "import matplotlib.pyplot as plt\n",
        "import numpy as np\n",
        "\n",
        "import torch.optim as optim\n",
        "\n",
        "!pip install deap\n",
        "\n",
        "from deap import base\n",
        "from deap import benchmarks\n",
        "from deap import creator\n",
        "from deap import tools\n",
        "\n",
        "import operator\n",
        "import random\n",
        "\n",
        "import math"
      ]
    },
    {
      "cell_type": "markdown",
      "metadata": {
        "id": "BifzvNoaWr6d"
      },
      "source": [
        "Loading in CIFAR-10"
      ]
    },
    {
      "cell_type": "code",
      "execution_count": 2,
      "metadata": {
        "colab": {
          "base_uri": "https://localhost:8080/"
        },
        "id": "p9fBlWVEWt8W",
        "outputId": "0cf5e3ee-6c05-4553-9906-92b2132f535d"
      },
      "outputs": [
        {
          "output_type": "stream",
          "name": "stdout",
          "text": [
            "Downloading https://www.cs.toronto.edu/~kriz/cifar-10-python.tar.gz to ./data/cifar-10-python.tar.gz\n"
          ]
        },
        {
          "output_type": "stream",
          "name": "stderr",
          "text": [
            "100%|██████████| 170498071/170498071 [00:01<00:00, 87716311.91it/s]\n"
          ]
        },
        {
          "output_type": "stream",
          "name": "stdout",
          "text": [
            "Extracting ./data/cifar-10-python.tar.gz to ./data\n",
            "Files already downloaded and verified\n"
          ]
        }
      ],
      "source": [
        "# The dataset comes in data of the range 0-1, we want to convert this to -1 to 1 as part of normalisation\n",
        "\n",
        "transform = transforms.Compose(\n",
        "    [transforms.ToTensor(),\n",
        "     transforms.Normalize((0.5, 0.5, 0.5), (0.5, 0.5, 0.5))]) # Function to transform the dataset to the specified range\n",
        "\n",
        "batch_size = 512\n",
        "\n",
        "# Downloading the training set\n",
        "trainset = torchvision.datasets.CIFAR10(root='./data', train=True,\n",
        "                                        download=True, transform=transform)\n",
        "\n",
        "# Loading the training set into a variable\n",
        "trainloader = torch.utils.data.DataLoader(trainset, batch_size=batch_size,\n",
        "                                          shuffle=True, num_workers=2)\n",
        "\n",
        "# etc.\n",
        "testset = torchvision.datasets.CIFAR10(root='./data', train=False,\n",
        "                                       download=True, transform=transform)\n",
        "testloader = torch.utils.data.DataLoader(testset, batch_size=batch_size,\n",
        "                                         shuffle=False, num_workers=2)\n",
        "\n",
        "# Specifying the classes of the dataset that we want to train the classifier on\n",
        "classes = ('plane', 'car', 'bird', 'cat',\n",
        "           'deer', 'dog', 'frog', 'horse', 'ship', 'truck')"
      ]
    },
    {
      "cell_type": "markdown",
      "metadata": {
        "id": "nieg-1FOW_Gc"
      },
      "source": [
        "Testing for GPU"
      ]
    },
    {
      "cell_type": "code",
      "execution_count": 3,
      "metadata": {
        "colab": {
          "base_uri": "https://localhost:8080/"
        },
        "id": "Ydh-iisZW7XA",
        "outputId": "cb1bc993-d2ad-491b-f89d-ac0a9893e893"
      },
      "outputs": [
        {
          "output_type": "stream",
          "name": "stdout",
          "text": [
            "cuda:0\n"
          ]
        }
      ],
      "source": [
        "device = torch.device(\"cuda:0\" if torch.cuda.is_available() else \"cpu\")\n",
        "\n",
        "print(device)"
      ]
    },
    {
      "cell_type": "markdown",
      "metadata": {
        "id": "EY66nmnNXHbM"
      },
      "source": [
        "Testing to see if we can see the images"
      ]
    },
    {
      "cell_type": "code",
      "execution_count": 4,
      "metadata": {
        "colab": {
          "base_uri": "https://localhost:8080/",
          "height": 472
        },
        "id": "czhh4eY_XDA7",
        "outputId": "2dce89c0-8264-4e98-adc7-0a2348da0791"
      },
      "outputs": [
        {
          "output_type": "display_data",
          "data": {
            "text/plain": [
              "<Figure size 640x480 with 1 Axes>"
            ],
            "image/png": "[encoded data removed]"
          },
          "metadata": {}
        },
        {
          "output_type": "stream",
          "name": "stdout",
          "text": [
            "frog  bird  plane deer  deer  frog  dog   ship  ship  deer  deer  ship  deer  ship  bird  horse bird  cat   car   deer  ship  frog  car   dog   plane bird  bird  ship  horse dog   car   truck car   car   bird  cat   horse deer  car   horse bird  horse horse bird  cat   deer  ship  truck plane frog  bird  ship  truck deer  ship  plane car   horse horse truck bird  plane bird  dog   plane dog   dog   car   cat   car   frog  truck bird  horse frog  horse dog   dog   dog   ship  ship  frog  dog   deer  truck ship  bird  plane ship  horse cat   frog  ship  cat   car   ship  frog  deer  cat   car   truck deer  deer  frog  truck bird  horse deer  cat   horse frog  ship  plane frog  cat   cat   plane dog   frog  bird  deer  ship  deer  cat   dog   ship  car   dog   cat   plane deer  truck truck truck dog   dog   plane ship  cat   ship  plane bird  dog   dog   ship  plane car   plane cat   bird  ship  horse bird  plane car   frog  ship  plane truck truck ship  car   dog   truck deer  plane frog  deer  dog   plane cat   bird  plane frog  deer  plane horse cat   ship  cat   ship  dog   horse deer  cat   ship  cat   deer  bird  dog   ship  car   plane car   bird  deer  bird  ship  truck bird  horse bird  ship  horse dog   plane deer  frog  plane cat   cat   car   ship  bird  horse cat   ship  car   frog  ship  dog   bird  ship  truck cat   plane deer  car   horse deer  horse ship  ship  plane bird  cat   truck horse bird  horse horse dog   cat   horse car   bird  dog   truck plane frog  deer  horse plane truck car   horse horse bird  frog  car   car   deer  truck car   dog   truck cat   truck plane frog  truck car   frog  ship  dog   deer  deer  dog   truck plane car   car   car   dog   bird  ship  bird  plane dog   car   horse dog   plane cat   car   plane deer  plane horse cat   dog   ship  cat   car   frog  truck ship  cat   cat   bird  dog   bird  horse dog   cat   cat   bird  car   frog  frog  plane deer  car   deer  deer  horse deer  ship  cat   bird  cat   plane car   truck dog   car   bird  ship  bird  bird  ship  frog  plane truck ship  truck plane frog  ship  truck truck bird  ship  car   horse plane plane frog  cat   truck horse car   dog   bird  ship  ship  horse dog   car   frog  deer  car   frog  dog   horse frog  frog  cat   car   horse cat   cat   dog   horse ship  dog   ship  plane dog   frog  ship  dog   bird  deer  bird  ship  truck ship  dog   deer  truck dog   dog   deer  cat   horse frog  cat   horse car   horse dog   frog  horse bird  car   frog  frog  plane dog   horse bird  plane frog  bird  car   truck cat   car   truck car   plane plane dog   bird  dog   frog  ship  dog   cat   dog   plane horse ship  plane car   cat   plane ship  deer  deer  horse truck dog   truck bird  frog  bird  frog  car   frog  frog  frog  bird  horse truck cat   dog   truck horse frog  deer  dog   car   cat   deer  truck cat   truck dog   deer  deer  cat   horse bird  horse car   horse frog  cat   bird  bird  ship  horse car   deer  deer  cat   cat   bird  ship  cat   dog   ship  dog   plane frog  ship  bird  truck horse deer \n"
          ]
        }
      ],
      "source": [
        "# functions to show an image for fun\n",
        "\n",
        "\n",
        "def imshow(img):\n",
        "    img = img / 2 + 0.5     # unnormalize\n",
        "    npimg = img.numpy()\n",
        "    plt.imshow(np.transpose(npimg, (1, 2, 0)))\n",
        "    plt.show()\n",
        "\n",
        "\n",
        "# get some random training images\n",
        "dataiter = iter(trainloader)\n",
        "images, labels = next(dataiter)\n",
        "\n",
        "# show images\n",
        "imshow(torchvision.utils.make_grid(images))\n",
        "# print labels\n",
        "print(' '.join(f'{classes[labels[j]]:5s}' for j in range(batch_size)))"
      ]
    },
    {
      "cell_type": "markdown",
      "metadata": {
        "id": "-qKVkHJVVgvw"
      },
      "source": [
        "Building network definition"
      ]
    },
    {
      "cell_type": "code",
      "execution_count": 5,
      "metadata": {
        "id": "oYoYdQqSUh9b"
      },
      "outputs": [],
      "source": [
        "#based on VGG\n",
        "class Net(nn.Module):\n",
        "    def __init__(self):\n",
        "        super(Net, self).__init__()\n",
        "\n",
        "        self.features = nn.Sequential(\n",
        "            nn.Conv2d(3, 64, kernel_size=3, padding=1),\n",
        "            nn.ReLU(inplace=True),\n",
        "            nn.Conv2d(64, 64, kernel_size=3, padding=1),\n",
        "            nn.ReLU(inplace=True),\n",
        "            nn.MaxPool2d(kernel_size=2, stride=2),\n",
        "\n",
        "            nn.Conv2d(64, 128, kernel_size=3, padding=1),\n",
        "            nn.ReLU(inplace=True),\n",
        "            nn.Conv2d(128, 128, kernel_size=3, padding=1),\n",
        "            nn.ReLU(inplace=True),\n",
        "            nn.MaxPool2d(kernel_size=2, stride=2),\n",
        "\n",
        "            nn.Conv2d(128, 256, kernel_size=3, padding=1),\n",
        "            nn.ReLU(inplace=True),\n",
        "            nn.Conv2d(256, 256, kernel_size=3, padding=1),\n",
        "            nn.ReLU(inplace=True),\n",
        "            nn.Conv2d(256, 256, kernel_size=3, padding=1),\n",
        "            nn.ReLU(inplace=True),\n",
        "            nn.MaxPool2d(kernel_size=2, stride=2),\n",
        "        )\n",
        "\n",
        "        self.classifier = nn.Sequential(\n",
        "            nn.Linear(256 * 4 * 4, 1024),\n",
        "            nn.ReLU(inplace=True),\n",
        "            nn.Dropout(),\n",
        "            nn.Linear(1024, 52),\n",
        "            nn.ReLU(inplace=True),\n",
        "            nn.Dropout(),\n",
        "            nn.Linear(52, 10)\n",
        "        )\n",
        "\n",
        "    def forward(self, x):\n",
        "        x = self.features(x)\n",
        "        x = x.view(x.size(0), -1)\n",
        "        x = self.classifier(x)\n",
        "        return x\n",
        "\n",
        "model=Net()"
      ]
    },
    {
      "cell_type": "code",
      "execution_count": 6,
      "metadata": {
        "id": "SFJinMroVkzT",
        "colab": {
          "base_uri": "https://localhost:8080/",
          "height": 73
        },
        "outputId": "3f1b88c4-bdd1-451e-b75d-e5c9dbf04f53"
      },
      "outputs": [
        {
          "output_type": "display_data",
          "data": {
            "text/plain": [
              "<IPython.core.display.HTML object>"
            ],
            "text/html": [
              "\n",
              "     <input type=\"file\" id=\"files-8243d2ea-7494-4bc7-9244-22fce853dfb9\" name=\"files[]\" multiple disabled\n",
              "        style=\"border:none\" />\n",
              "     <output id=\"result-8243d2ea-7494-4bc7-9244-22fce853dfb9\">\n",
              "      Upload widget is only available when the cell has been executed in the\n",
              "      current browser session. Please rerun this cell to enable.\n",
              "      </output>\n",
              "      <script>// Copyright 2017 Google LLC\n",
              "//\n",
              "// Licensed under the Apache License, Version 2.0 (the \"License\");\n",
              "// you may not use this file except in compliance with the License.\n",
              "// You may obtain a copy of the License at\n",
              "//\n",
              "//      http://www.apache.org/licenses/LICENSE-2.0\n",
              "//\n",
              "// Unless required by applicable law or agreed to in writing, software\n",
              "// distributed under the License is distributed on an \"AS IS\" BASIS,\n",
              "// WITHOUT WARRANTIES OR CONDITIONS OF ANY KIND, either express or implied.\n",
              "// See the License for the specific language governing permissions and\n",
              "// limitations under the License.\n",
              "\n",
              "/**\n",
              " * @fileoverview Helpers for google.colab Python module.\n",
              " */\n",
              "(function(scope) {\n",
              "function span(text, styleAttributes = {}) {\n",
              "  const element = document.createElement('span');\n",
              "  element.textContent = text;\n",
              "  for (const key of Object.keys(styleAttributes)) {\n",
              "    element.style[key] = styleAttributes[key];\n",
              "  }\n",
              "  return element;\n",
              "}\n",
              "\n",
              "// Max number of bytes which will be uploaded at a time.\n",
              "const MAX_PAYLOAD_SIZE = 100 * 1024;\n",
              "\n",
              "function _uploadFiles(inputId, outputId) {\n",
              "  const steps = uploadFilesStep(inputId, outputId);\n",
              "  const outputElement = document.getElementById(outputId);\n",
              "  // Cache steps on the outputElement to make it available for the next call\n",
              "  // to uploadFilesContinue from Python.\n",
              "  outputElement.steps = steps;\n",
              "\n",
              "  return _uploadFilesContinue(outputId);\n",
              "}\n",
              "\n",
              "// This is roughly an async generator (not supported in the browser yet),\n",
              "// where there are multiple asynchronous steps and the Python side is going\n",
              "// to poll for completion of each step.\n",
              "// This uses a Promise to block the python side on completion of each step,\n",
              "// then passes the result of the previous step as the input to the next step.\n",
              "function _uploadFilesContinue(outputId) {\n",
              "  const outputElement = document.getElementById(outputId);\n",
              "  const steps = outputElement.steps;\n",
              "\n",
              "  const next = steps.next(outputElement.lastPromiseValue);\n",
              "  return Promise.resolve(next.value.promise).then((value) => {\n",
              "    // Cache the last promise value to make it available to the next\n",
              "    // step of the generator.\n",
              "    outputElement.lastPromiseValue = value;\n",
              "    return next.value.response;\n",
              "  });\n",
              "}\n",
              "\n",
              "/**\n",
              " * Generator function which is called between each async step of the upload\n",
              " * process.\n",
              " * @param {string} inputId Element ID of the input file picker element.\n",
              " * @param {string} outputId Element ID of the output display.\n",
              " * @return {!Iterable<!Object>} Iterable of next steps.\n",
              " */\n",
              "function* uploadFilesStep(inputId, outputId) {\n",
              "  const inputElement = document.getElementById(inputId);\n",
              "  inputElement.disabled = false;\n",
              "\n",
              "  const outputElement = document.getElementById(outputId);\n",
              "  outputElement.innerHTML = '';\n",
              "\n",
              "  const pickedPromise = new Promise((resolve) => {\n",
              "    inputElement.addEventListener('change', (e) => {\n",
              "      resolve(e.target.files);\n",
              "    });\n",
              "  });\n",
              "\n",
              "  const cancel = document.createElement('button');\n",
              "  inputElement.parentElement.appendChild(cancel);\n",
              "  cancel.textContent = 'Cancel upload';\n",
              "  const cancelPromise = new Promise((resolve) => {\n",
              "    cancel.onclick = () => {\n",
              "      resolve(null);\n",
              "    };\n",
              "  });\n",
              "\n",
              "  // Wait for the user to pick the files.\n",
              "  const files = yield {\n",
              "    promise: Promise.race([pickedPromise, cancelPromise]),\n",
              "    response: {\n",
              "      action: 'starting',\n",
              "    }\n",
              "  };\n",
              "\n",
              "  cancel.remove();\n",
              "\n",
              "  // Disable the input element since further picks are not allowed.\n",
              "  inputElement.disabled = true;\n",
              "\n",
              "  if (!files) {\n",
              "    return {\n",
              "      response: {\n",
              "        action: 'complete',\n",
              "      }\n",
              "    };\n",
              "  }\n",
              "\n",
              "  for (const file of files) {\n",
              "    const li = document.createElement('li');\n",
              "    li.append(span(file.name, {fontWeight: 'bold'}));\n",
              "    li.append(span(\n",
              "        `(${file.type || 'n/a'}) - ${file.size} bytes, ` +\n",
              "        `last modified: ${\n",
              "            file.lastModifiedDate ? file.lastModifiedDate.toLocaleDateString() :\n",
              "                                    'n/a'} - `));\n",
              "    const percent = span('0% done');\n",
              "    li.appendChild(percent);\n",
              "\n",
              "    outputElement.appendChild(li);\n",
              "\n",
              "    const fileDataPromise = new Promise((resolve) => {\n",
              "      const reader = new FileReader();\n",
              "      reader.onload = (e) => {\n",
              "        resolve(e.target.result);\n",
              "      };\n",
              "      reader.readAsArrayBuffer(file);\n",
              "    });\n",
              "    // Wait for the data to be ready.\n",
              "    let fileData = yield {\n",
              "      promise: fileDataPromise,\n",
              "      response: {\n",
              "        action: 'continue',\n",
              "      }\n",
              "    };\n",
              "\n",
              "    // Use a chunked sending to avoid message size limits. See b/62115660.\n",
              "    let position = 0;\n",
              "    do {\n",
              "      const length = Math.min(fileData.byteLength - position, MAX_PAYLOAD_SIZE);\n",
              "      const chunk = new Uint8Array(fileData, position, length);\n",
              "      position += length;\n",
              "\n",
              "      const base64 = btoa(String.fromCharCode.apply(null, chunk));\n",
              "      yield {\n",
              "        response: {\n",
              "          action: 'append',\n",
              "          file: file.name,\n",
              "          data: base64,\n",
              "        },\n",
              "      };\n",
              "\n",
              "      let percentDone = fileData.byteLength === 0 ?\n",
              "          100 :\n",
              "          Math.round((position / fileData.byteLength) * 100);\n",
              "      percent.textContent = `${percentDone}% done`;\n",
              "\n",
              "    } while (position < fileData.byteLength);\n",
              "  }\n",
              "\n",
              "  // All done.\n",
              "  yield {\n",
              "    response: {\n",
              "      action: 'complete',\n",
              "    }\n",
              "  };\n",
              "}\n",
              "\n",
              "scope.google = scope.google || {};\n",
              "scope.google.colab = scope.google.colab || {};\n",
              "scope.google.colab._files = {\n",
              "  _uploadFiles,\n",
              "  _uploadFilesContinue,\n",
              "};\n",
              "})(self);\n",
              "</script> "
            ]
          },
          "metadata": {}
        },
        {
          "output_type": "stream",
          "name": "stdout",
          "text": [
            "Saving SGD_net.pth to SGD_net.pth\n"
          ]
        }
      ],
      "source": [
        "#Upload GD_Model.pth to the session to act as pre-defined network\n",
        "from google.colab import files\n",
        "files.upload()"
      ]
    },
    {
      "cell_type": "markdown",
      "metadata": {
        "id": "ZHrwQrmQVsFB"
      },
      "source": [
        "Loading in the model"
      ]
    },
    {
      "cell_type": "code",
      "execution_count": 7,
      "metadata": {
        "id": "JCQw57DqVtG2",
        "colab": {
          "base_uri": "https://localhost:8080/"
        },
        "outputId": "0b1183fa-5e09-4077-bc80-2f402fea8990"
      },
      "outputs": [
        {
          "output_type": "execute_result",
          "data": {
            "text/plain": [
              "<All keys matched successfully>"
            ]
          },
          "metadata": {},
          "execution_count": 7
        }
      ],
      "source": [
        "PATH = ('./SGD_net.pth')\n",
        "PopModel = Net()\n",
        "PopModel.load_state_dict(torch.load(PATH))"
      ]
    },
    {
      "cell_type": "code",
      "execution_count": 8,
      "metadata": {
        "id": "6DmL7D87WHSv"
      },
      "outputs": [],
      "source": [
        "# Setting all layers to not change their weights with GD backpropagation\n",
        "\n",
        "for param in PopModel.parameters():\n",
        "    # By setting the requires grad for each parameter to false, we no longer track it with autograd\n",
        "    # Consequently, backpropagation or whatever will not compute the gradients for these layers\n",
        "    param.requires_grad = False"
      ]
    },
    {
      "cell_type": "markdown",
      "metadata": {
        "id": "yHLU-wWfWJ5w"
      },
      "source": [
        "Getting the final layer"
      ]
    },
    {
      "cell_type": "code",
      "execution_count": 10,
      "metadata": {
        "id": "CZKzgijLWL8c",
        "colab": {
          "base_uri": "https://localhost:8080/"
        },
        "outputId": "a0182c70-571b-43d4-9502-45756e7dcc91"
      },
      "outputs": [
        {
          "output_type": "stream",
          "name": "stdout",
          "text": [
            "Linear(in_features=52, out_features=10, bias=True)\n",
            "10\n",
            "52\n",
            "10\n",
            "530\n"
          ]
        }
      ],
      "source": [
        "#finalLayer = list(PopModel.children())[-1]\n",
        "\n",
        "finalLayer = PopModel.classifier[-1]\n",
        "\n",
        "print(finalLayer) # 10 features out\n",
        "\n",
        "outerShape = len(finalLayer.weight)\n",
        "innerShape = len(finalLayer.weight[0])\n",
        "\n",
        "totalWeights = outerShape * innerShape\n",
        "\n",
        "print(outerShape) # 10 population size\n",
        "print(innerShape) # 10 arrays, with 52 items in it\n",
        "\n",
        "# 84 inputs connected to a single output, there are 10 outputs therefore 84x10 connections in total. for one output, the 84 connections will have 84 different weights which are used\n",
        "# to calculate the output node. therefore there are 10 tensors with 84 elements in each tensor, with a different set of weights.\n",
        "\n",
        "# print(finalLayer.weight)\n",
        "\n",
        "#print(finalLayer.weight) # Layer requires 840 connections\n",
        "\n",
        "biasCount = len(finalLayer.bias)\n",
        "print(biasCount)\n",
        "\n",
        "paramCount = sum(param.numel() for param in finalLayer.parameters())\n",
        "\n",
        "print(paramCount) # 530 Parameters: 520 weights + 10 biases\n",
        "\n",
        "#sk= torch.max(((finalLayer.weight).reshape(840,)))\n",
        "\n",
        "#print(sk)"
      ]
    },
    {
      "cell_type": "code",
      "execution_count": 11,
      "metadata": {
        "id": "l1IWS_xBseI0",
        "colab": {
          "base_uri": "https://localhost:8080/"
        },
        "outputId": "d859c841-b8d2-4730-8f51-3788523e562d"
      },
      "outputs": [
        {
          "output_type": "stream",
          "name": "stdout",
          "text": [
            "torch.Size([10, 52])\n",
            "torch.Size([10])\n"
          ]
        },
        {
          "output_type": "stream",
          "name": "stderr",
          "text": [
            "<ipython-input-11-0638b396f9c2>:5: UserWarning: nn.init.xavier_uniform is now deprecated in favor of nn.init.xavier_uniform_.\n",
            "  nn.init.xavier_uniform(finalLayer.weight)\n"
          ]
        }
      ],
      "source": [
        "# Randomise final layer weights\n",
        "\n",
        "\n",
        "\n",
        "nn.init.xavier_uniform(finalLayer.weight)\n",
        "\n",
        "#print(finalLayer.weight)\n",
        "\n",
        "print((finalLayer.weight).shape) # Shape that the layer requires is (10,84)\n",
        "\n",
        "print((finalLayer.bias).shape)"
      ]
    },
    {
      "cell_type": "code",
      "execution_count": 12,
      "metadata": {
        "id": "RIo5lWcLt0RW"
      },
      "outputs": [],
      "source": [
        "# Converting weights to a numpy array\n",
        "\n",
        "def convert_np_function(self, intermediate_tensor):\n",
        "        intermediate_value = intermediate_tensor.numpy()\n",
        "        self.intermediate_values.append(intermediate_value)\n",
        "\n",
        "populationList = finalLayer.weight.numpy()\n",
        "\n",
        "#print(populationList) # Converted to Numpy"
      ]
    },
    {
      "cell_type": "markdown",
      "metadata": {
        "id": "sNB7vxNctWhl"
      },
      "source": [
        "Defining PSO functions"
      ]
    },
    {
      "cell_type": "code",
      "execution_count": 18,
      "metadata": {
        "id": "G93hInWF_wV5"
      },
      "outputs": [],
      "source": [
        "posMinInit      = -3\n",
        "posMaxInit      = + 5\n",
        "VMaxInit        = 1.5\n",
        "VMinInit        = 0.5\n",
        "populationSize  = 3\n",
        "dimension       = paramCount\n",
        "#populationSize  = 100+int(dimension/10) # from lab on SL-PSO\n",
        "#interval        = 10\n",
        "interval = 1\n",
        "iterations      = 100\n",
        "\n",
        "#variables used in SL-PSO\n",
        "epsilon = dimension/100.0*0.01 # social influence of swarm centre\n",
        "\n",
        "#Parameter setup -- these are not used in SL-PSO\n",
        "wmax = 0.9 #weighting\n",
        "wmin = 0.4\n",
        "c1   = 2.0\n",
        "c2   = 2.0\n",
        "\n",
        "# Criterion for measuring loss, may need to tweak this to return negative value for PSO\n",
        "criterion = nn.CrossEntropyLoss()\n",
        "\n",
        "# Values used for the Gaussian Mutation\n",
        "sigmaValue = 0.5\n",
        "muValue = 0\n",
        "\n",
        "# Standard deviation of the population should be below this number to start mutation\n",
        "MutationStart = 1.0\n",
        "\n",
        "lossTracker = []"
      ]
    },
    {
      "cell_type": "code",
      "execution_count": 14,
      "metadata": {
        "id": "dsonGc8DAFVN"
      },
      "outputs": [],
      "source": [
        "# function to get the mean positions of the inviduals (swarm centre)\n",
        "def getcenter(pop):\n",
        "    center=list()\n",
        "    for j in range(dimension): # count through dimensions\n",
        "        centerj = 0\n",
        "        for i in pop: # for each particle\n",
        "            centerj += i[j] # sum up position in dimention j\n",
        "        centerj /= populationSize # Average\n",
        "        center.append(centerj)\n",
        "    return center\n",
        "\n",
        "creator.create(\"FitnessMin\", base.Fitness, weights=(-1.0,)) # -1 is for minimise\n",
        "creator.create(\"Particle\", list, fitness=creator.FitnessMin, speed=list, smin=None, smax=None, best=None)"
      ]
    },
    {
      "cell_type": "code",
      "execution_count": 15,
      "metadata": {
        "id": "yavq1ePxANXk"
      },
      "outputs": [],
      "source": [
        "# particle rerpresented by list of 5 things\n",
        "# 1. fitness of the particle,\n",
        "# 2. speed of the particle which is also going to be a list,\n",
        "# 3.4. limit of the speed value,\n",
        "# 5. best state the particle has been in so far.\n",
        "\n",
        "def generate(size, smin, smax):\n",
        "    part = creator.Particle(random.uniform(posMinInit, posMaxInit) for _ in range(size))\n",
        "    part.speed = [random.uniform(VMinInit, VMaxInit) for _ in range(size)]\n",
        "    part.smin = smin #speed clamping values\n",
        "    part.smax = smax\n",
        "    return part\n",
        "\n",
        "def updateParticle(part,pop,center,i):\n",
        "    r1 = random.uniform(0, 1)\n",
        "    r2 = random.uniform(0, 1)\n",
        "    r3 = random.uniform(0, 1)\n",
        "\n",
        "    #Randomly choose a demonstrator for particle i from any of particles 0 to i-1, the Particle i\n",
        "    #updates its velocity by learning from the demonstrator and the mean position of the swarm\n",
        "    demonstrator=random.choice(list(pop[0:i]))\n",
        "\n",
        "    for j in range(dimension): # count through dimensions\n",
        "        part.speed[j]=r1*part.speed[j]+r2*(demonstrator[j]-part[j])+r3*epsilon*(center[j]-part[j])\n",
        "        part[j]=part[j]+part.speed[j]\n",
        "\n",
        "\n",
        "# Euclidean Distance used for mutation\n",
        "def euclideanDistance(ind1, ind2):\n",
        "  distance = (ind1 - ind2)**2\n",
        "  return math.sqrt(distance)\n",
        "\n",
        "# Used to rescale distances between 0 and 1, with lower distances being scaled closer to 1.\n",
        "def rescaler(distances):\n",
        "  scaled = [1 / (d + 1) for d in distances]\n",
        "\n",
        "  return scaled"
      ]
    },
    {
      "cell_type": "code",
      "execution_count": 16,
      "metadata": {
        "id": "gkaVJ8jZAWNb"
      },
      "outputs": [],
      "source": [
        "toolbox = base.Toolbox()\n",
        "toolbox.register(\"particle\", generate, size=dimension, smin=-3, smax=3)\n",
        "toolbox.register(\"population\", tools.initRepeat, list, toolbox.particle)\n",
        "toolbox.register(\"update\", updateParticle)\n",
        "\n",
        "# Note most likely need to change the evaluate function\n",
        "toolbox.register(\"evaluate\", benchmarks.sphere) #sphere function is built-in in DEAP\n",
        "\n",
        "# def sphere(individual):\n",
        "#     r\"\"\"Sphere test objective function.\n",
        "\n",
        "#     .. list-table::\n",
        "#        :widths: 10 50\n",
        "#        :stub-columns: 1\n",
        "\n",
        "#        * - Type\n",
        "#          - minimization\n",
        "#        * - Range\n",
        "#          - none\n",
        "#        * - Global optima\n",
        "#          - :math:`x_i = 0, \\forall i \\in \\lbrace 1 \\ldots N\\rbrace`, :math:`f(\\mathbf{x}) = 0`\n",
        "#        * - Function\n",
        "#          - :math:`f(\\mathbf{x}) = \\sum_{i=1}^Nx_i^2`\n",
        "#     \"\"\"\n",
        "#     return sum(gene * gene for gene in individual), # How does this work?, return one value or return a list?\n",
        "\n",
        "# the line above returns one value\n",
        "\n",
        "runCounter = 0\n",
        "\n",
        "def modelEval(particle, runCounter):\n",
        "    runCounter = runCounter\n",
        "    runCounter +=1\n",
        "    #print(\"hello!\")\n",
        "\n",
        "    # First step to get the particles weights out from it, convert to an numpy array\n",
        "    particleweightsNP1 = np.array(particle)\n",
        "\n",
        "    #particleweightsNP = particleweightsNP1[:840]\n",
        "    #biases = np.array(particleweightsNP1[-10:])\n",
        "    particleweightsNP = particleweightsNP1[:totalWeights]\n",
        "    biases = np.array(particleweightsNP1[-biasCount:])\n",
        "\n",
        "    # Putting biases straight in\n",
        "    biases = torch.from_numpy(biases).float()\n",
        "    finalLayer.bias = torch.nn.Parameter(biases.float())\n",
        "\n",
        "    #print(particleweightsNP)\n",
        "\n",
        "#     print(\"Shape of particle: \" + str(particleweightsNP.shape))\n",
        "\n",
        "    # Converting to the correct shape!\n",
        "    reshapedWeights = particleweightsNP.reshape(outerShape,innerShape)\n",
        "#     print(\"Shape of reshaped particle: \" + str(reshapedWeights.shape))\n",
        "\n",
        "    # Convert to torch array!\n",
        "    torchWeights = torch.from_numpy(reshapedWeights).float()\n",
        "\n",
        "    # Now we want to set the weights of the finalLayer to these weights\n",
        "\n",
        "    finalLayer.weight = torch.nn.Parameter(torchWeights.float())\n",
        "\n",
        "    # print(\"After:\\n\")\n",
        "    # print(finalLayer.weight)\n",
        "\n",
        "    #finalLayer.weight.data = torchWeights.float()\n",
        "    #print(finalLayer.weight) # Note that the numbers look different than torchWeights ?\n",
        "    #print(torchWeights)\n",
        "\n",
        "    # Run a training loop for the model, with the particles weights set to the final layer and return a loss value back\n",
        "\n",
        "    epoch_loss = 0.0\n",
        "    running_loss = 0.0\n",
        "\n",
        "    # reshapedWeights.to(device)\n",
        "    # torchWeights.to(device)\n",
        "\n",
        "#     print(f\"Starting training run {runCounter}...\")\n",
        "\n",
        "    PopModel.to(device)\n",
        "\n",
        "    for epoch in range(1):\n",
        "\n",
        "        epoch_loss = 0.0\n",
        "\n",
        "        for i, data in enumerate(trainloader, 0):\n",
        "            # get the inputs; data is a list of [inputs, labels]\n",
        "            inputs, labels = data[0].to(device), data[1].to(device)\n",
        "            # Getting the predictions for the model\n",
        "            outputs = PopModel(inputs)\n",
        "\n",
        "            loss = criterion(outputs, labels)\n",
        "\n",
        "            #print(loss.item())\n",
        "\n",
        "            epoch_loss += loss.item()\n",
        "\n",
        "#         print(\"End of Epoch:\" + str(epoch))\n",
        "\n",
        "        running_loss += (epoch_loss / i)\n",
        "\n",
        "    # Now we have a loss value:\n",
        "    print(\"Total Loss: \" + str(running_loss))\n",
        "\n",
        "\n",
        "    return running_loss, # This may be the wrong this to pass back, one test run showed loss is 835852, remember to check that it definitely doesnt update through gradient!\n",
        "\n",
        "    # High loss could be due to how the weights were initialised or how they were converted between numpy and torch tensor?\n",
        "\n",
        "    # We need to return one value\n",
        "\n",
        "    #object of type 'NoneType' has no len() # Error when not returning anything.\n",
        "    #object of type 'float' has no len() # Error when returning_loss by itself, investigate the output of the original sphere function?\n",
        "\n",
        "    # Original loss function returns a single value. example output looks like (136.3042681576523,)\n",
        "\n",
        "    # Do you need to return a list, with each epoch loss in there?\n",
        "    # Doing this: Assigned values have not the same length than fitness weights\n",
        "    # Update: Do not return a list\n",
        "\n",
        "toolbox.register(\"evaluate2\", modelEval)"
      ]
    },
    {
      "cell_type": "code",
      "execution_count": 22,
      "metadata": {
        "id": "-CoJ1T86AaMZ",
        "colab": {
          "base_uri": "https://localhost:8080/",
          "height": 563
        },
        "outputId": "cc1ab5ca-edf7-4ee0-91c9-fe10cc0ba970"
      },
      "outputs": [
        {
          "output_type": "stream",
          "name": "stdout",
          "text": [
            "Total Loss: 40.07578104550077\n",
            "Total Loss: 39.813135166758116\n",
            "Total Loss: 41.72980625113261\n",
            "gen\tevals\tavg    \tstd     \tmin    \tmax    \n",
            "0  \t3    \t40.5396\t0.848424\t39.8131\t41.7298\n",
            "Current Mutation Tick: 1\n",
            "Total Loss: 39.91017685723059\n",
            "Total Loss: 40.19753501341515\n",
            "Total Loss: 31.977501269468327\n",
            "1  \t3    \t37.3617\t3.80904 \t31.9775\t40.1975\n",
            "Current Mutation Tick: 0\n",
            "Total Loss: 32.02837438681691\n"
          ]
        },
        {
          "output_type": "error",
          "ename": "KeyboardInterrupt",
          "evalue": "ignored",
          "traceback": [
            "\u001b[0;31m---------------------------------------------------------------------------\u001b[0m",
            "\u001b[0;31mKeyboardInterrupt\u001b[0m                         Traceback (most recent call last)",
            "\u001b[0;32m<ipython-input-22-7c783d0bd485>\u001b[0m in \u001b[0;36m<cell line: 114>\u001b[0;34m()\u001b[0m\n\u001b[1;32m    113\u001b[0m \u001b[0;34m\u001b[0m\u001b[0m\n\u001b[1;32m    114\u001b[0m \u001b[0;32mif\u001b[0m \u001b[0m__name__\u001b[0m \u001b[0;34m==\u001b[0m \u001b[0;34m\"__main__\"\u001b[0m\u001b[0;34m:\u001b[0m\u001b[0;34m\u001b[0m\u001b[0;34m\u001b[0m\u001b[0m\n\u001b[0;32m--> 115\u001b[0;31m     \u001b[0msuperpart\u001b[0m \u001b[0;34m=\u001b[0m \u001b[0mmain\u001b[0m\u001b[0;34m(\u001b[0m\u001b[0;34m)\u001b[0m\u001b[0;34m\u001b[0m\u001b[0;34m\u001b[0m\u001b[0m\n\u001b[0m",
            "\u001b[0;32m<ipython-input-22-7c783d0bd485>\u001b[0m in \u001b[0;36mmain\u001b[0;34m()\u001b[0m\n\u001b[1;32m     23\u001b[0m \u001b[0;34m\u001b[0m\u001b[0m\n\u001b[1;32m     24\u001b[0m         \u001b[0;32mfor\u001b[0m \u001b[0mpart\u001b[0m \u001b[0;32min\u001b[0m \u001b[0mpop\u001b[0m\u001b[0;34m:\u001b[0m\u001b[0;34m\u001b[0m\u001b[0;34m\u001b[0m\u001b[0m\n\u001b[0;32m---> 25\u001b[0;31m             \u001b[0mpart\u001b[0m\u001b[0;34m.\u001b[0m\u001b[0mfitness\u001b[0m\u001b[0;34m.\u001b[0m\u001b[0mvalues\u001b[0m \u001b[0;34m=\u001b[0m \u001b[0mtoolbox\u001b[0m\u001b[0;34m.\u001b[0m\u001b[0mevaluate2\u001b[0m\u001b[0;34m(\u001b[0m\u001b[0mpart\u001b[0m\u001b[0;34m,\u001b[0m \u001b[0mrunCounter\u001b[0m\u001b[0;34m)\u001b[0m \u001b[0;31m#actually only one fitness value\u001b[0m\u001b[0;34m\u001b[0m\u001b[0;34m\u001b[0m\u001b[0m\n\u001b[0m\u001b[1;32m     26\u001b[0m \u001b[0;34m\u001b[0m\u001b[0m\n\u001b[1;32m     27\u001b[0m         \u001b[0;31m#Sort the individuals in the swarm in ascending order. i.e., particle 0 is the best\u001b[0m\u001b[0;34m\u001b[0m\u001b[0;34m\u001b[0m\u001b[0m\n",
            "\u001b[0;32m<ipython-input-16-8437a7dab653>\u001b[0m in \u001b[0;36mmodelEval\u001b[0;34m(particle, runCounter)\u001b[0m\n\u001b[1;32m     84\u001b[0m         \u001b[0mepoch_loss\u001b[0m \u001b[0;34m=\u001b[0m \u001b[0;36m0.0\u001b[0m\u001b[0;34m\u001b[0m\u001b[0;34m\u001b[0m\u001b[0m\n\u001b[1;32m     85\u001b[0m \u001b[0;34m\u001b[0m\u001b[0m\n\u001b[0;32m---> 86\u001b[0;31m         \u001b[0;32mfor\u001b[0m \u001b[0mi\u001b[0m\u001b[0;34m,\u001b[0m \u001b[0mdata\u001b[0m \u001b[0;32min\u001b[0m \u001b[0menumerate\u001b[0m\u001b[0;34m(\u001b[0m\u001b[0mtrainloader\u001b[0m\u001b[0;34m,\u001b[0m \u001b[0;36m0\u001b[0m\u001b[0;34m)\u001b[0m\u001b[0;34m:\u001b[0m\u001b[0;34m\u001b[0m\u001b[0;34m\u001b[0m\u001b[0m\n\u001b[0m\u001b[1;32m     87\u001b[0m             \u001b[0;31m# get the inputs; data is a list of [inputs, labels]\u001b[0m\u001b[0;34m\u001b[0m\u001b[0;34m\u001b[0m\u001b[0m\n\u001b[1;32m     88\u001b[0m             \u001b[0minputs\u001b[0m\u001b[0;34m,\u001b[0m \u001b[0mlabels\u001b[0m \u001b[0;34m=\u001b[0m \u001b[0mdata\u001b[0m\u001b[0;34m[\u001b[0m\u001b[0;36m0\u001b[0m\u001b[0;34m]\u001b[0m\u001b[0;34m.\u001b[0m\u001b[0mto\u001b[0m\u001b[0;34m(\u001b[0m\u001b[0mdevice\u001b[0m\u001b[0;34m)\u001b[0m\u001b[0;34m,\u001b[0m \u001b[0mdata\u001b[0m\u001b[0;34m[\u001b[0m\u001b[0;36m1\u001b[0m\u001b[0;34m]\u001b[0m\u001b[0;34m.\u001b[0m\u001b[0mto\u001b[0m\u001b[0;34m(\u001b[0m\u001b[0mdevice\u001b[0m\u001b[0;34m)\u001b[0m\u001b[0;34m\u001b[0m\u001b[0;34m\u001b[0m\u001b[0m\n",
            "\u001b[0;32m/usr/local/lib/python3.10/dist-packages/torch/utils/data/dataloader.py\u001b[0m in \u001b[0;36m__next__\u001b[0;34m(self)\u001b[0m\n\u001b[1;32m    628\u001b[0m                 \u001b[0;31m# TODO(https://github.com/pytorch/pytorch/issues/76750)\u001b[0m\u001b[0;34m\u001b[0m\u001b[0;34m\u001b[0m\u001b[0m\n\u001b[1;32m    629\u001b[0m                 \u001b[0mself\u001b[0m\u001b[0;34m.\u001b[0m\u001b[0m_reset\u001b[0m\u001b[0;34m(\u001b[0m\u001b[0;34m)\u001b[0m  \u001b[0;31m# type: ignore[call-arg]\u001b[0m\u001b[0;34m\u001b[0m\u001b[0;34m\u001b[0m\u001b[0m\n\u001b[0;32m--> 630\u001b[0;31m             \u001b[0mdata\u001b[0m \u001b[0;34m=\u001b[0m \u001b[0mself\u001b[0m\u001b[0;34m.\u001b[0m\u001b[0m_next_data\u001b[0m\u001b[0;34m(\u001b[0m\u001b[0;34m)\u001b[0m\u001b[0;34m\u001b[0m\u001b[0;34m\u001b[0m\u001b[0m\n\u001b[0m\u001b[1;32m    631\u001b[0m             \u001b[0mself\u001b[0m\u001b[0;34m.\u001b[0m\u001b[0m_num_yielded\u001b[0m \u001b[0;34m+=\u001b[0m \u001b[0;36m1\u001b[0m\u001b[0;34m\u001b[0m\u001b[0;34m\u001b[0m\u001b[0m\n\u001b[1;32m    632\u001b[0m             \u001b[0;32mif\u001b[0m \u001b[0mself\u001b[0m\u001b[0;34m.\u001b[0m\u001b[0m_dataset_kind\u001b[0m \u001b[0;34m==\u001b[0m \u001b[0m_DatasetKind\u001b[0m\u001b[0;34m.\u001b[0m\u001b[0mIterable\u001b[0m \u001b[0;32mand\u001b[0m\u001b[0;31m \u001b[0m\u001b[0;31m\\\u001b[0m\u001b[0;34m\u001b[0m\u001b[0;34m\u001b[0m\u001b[0m\n",
            "\u001b[0;32m/usr/local/lib/python3.10/dist-packages/torch/utils/data/dataloader.py\u001b[0m in \u001b[0;36m_next_data\u001b[0;34m(self)\u001b[0m\n\u001b[1;32m   1326\u001b[0m \u001b[0;34m\u001b[0m\u001b[0m\n\u001b[1;32m   1327\u001b[0m             \u001b[0;32massert\u001b[0m \u001b[0;32mnot\u001b[0m \u001b[0mself\u001b[0m\u001b[0;34m.\u001b[0m\u001b[0m_shutdown\u001b[0m \u001b[0;32mand\u001b[0m \u001b[0mself\u001b[0m\u001b[0;34m.\u001b[0m\u001b[0m_tasks_outstanding\u001b[0m \u001b[0;34m>\u001b[0m \u001b[0;36m0\u001b[0m\u001b[0;34m\u001b[0m\u001b[0;34m\u001b[0m\u001b[0m\n\u001b[0;32m-> 1328\u001b[0;31m             \u001b[0midx\u001b[0m\u001b[0;34m,\u001b[0m \u001b[0mdata\u001b[0m \u001b[0;34m=\u001b[0m \u001b[0mself\u001b[0m\u001b[0;34m.\u001b[0m\u001b[0m_get_data\u001b[0m\u001b[0;34m(\u001b[0m\u001b[0;34m)\u001b[0m\u001b[0;34m\u001b[0m\u001b[0;34m\u001b[0m\u001b[0m\n\u001b[0m\u001b[1;32m   1329\u001b[0m             \u001b[0mself\u001b[0m\u001b[0;34m.\u001b[0m\u001b[0m_tasks_outstanding\u001b[0m \u001b[0;34m-=\u001b[0m \u001b[0;36m1\u001b[0m\u001b[0;34m\u001b[0m\u001b[0;34m\u001b[0m\u001b[0m\n\u001b[1;32m   1330\u001b[0m             \u001b[0;32mif\u001b[0m \u001b[0mself\u001b[0m\u001b[0;34m.\u001b[0m\u001b[0m_dataset_kind\u001b[0m \u001b[0;34m==\u001b[0m \u001b[0m_DatasetKind\u001b[0m\u001b[0;34m.\u001b[0m\u001b[0mIterable\u001b[0m\u001b[0;34m:\u001b[0m\u001b[0;34m\u001b[0m\u001b[0;34m\u001b[0m\u001b[0m\n",
            "\u001b[0;32m/usr/local/lib/python3.10/dist-packages/torch/utils/data/dataloader.py\u001b[0m in \u001b[0;36m_get_data\u001b[0;34m(self)\u001b[0m\n\u001b[1;32m   1292\u001b[0m         \u001b[0;32melse\u001b[0m\u001b[0;34m:\u001b[0m\u001b[0;34m\u001b[0m\u001b[0;34m\u001b[0m\u001b[0m\n\u001b[1;32m   1293\u001b[0m             \u001b[0;32mwhile\u001b[0m \u001b[0;32mTrue\u001b[0m\u001b[0;34m:\u001b[0m\u001b[0;34m\u001b[0m\u001b[0;34m\u001b[0m\u001b[0m\n\u001b[0;32m-> 1294\u001b[0;31m                 \u001b[0msuccess\u001b[0m\u001b[0;34m,\u001b[0m \u001b[0mdata\u001b[0m \u001b[0;34m=\u001b[0m \u001b[0mself\u001b[0m\u001b[0;34m.\u001b[0m\u001b[0m_try_get_data\u001b[0m\u001b[0;34m(\u001b[0m\u001b[0;34m)\u001b[0m\u001b[0;34m\u001b[0m\u001b[0;34m\u001b[0m\u001b[0m\n\u001b[0m\u001b[1;32m   1295\u001b[0m                 \u001b[0;32mif\u001b[0m \u001b[0msuccess\u001b[0m\u001b[0;34m:\u001b[0m\u001b[0;34m\u001b[0m\u001b[0;34m\u001b[0m\u001b[0m\n\u001b[1;32m   1296\u001b[0m                     \u001b[0;32mreturn\u001b[0m \u001b[0mdata\u001b[0m\u001b[0;34m\u001b[0m\u001b[0;34m\u001b[0m\u001b[0m\n",
            "\u001b[0;32m/usr/local/lib/python3.10/dist-packages/torch/utils/data/dataloader.py\u001b[0m in \u001b[0;36m_try_get_data\u001b[0;34m(self, timeout)\u001b[0m\n\u001b[1;32m   1130\u001b[0m         \u001b[0;31m#   (bool: whether successfully get data, any: data if successful else None)\u001b[0m\u001b[0;34m\u001b[0m\u001b[0;34m\u001b[0m\u001b[0m\n\u001b[1;32m   1131\u001b[0m         \u001b[0;32mtry\u001b[0m\u001b[0;34m:\u001b[0m\u001b[0;34m\u001b[0m\u001b[0;34m\u001b[0m\u001b[0m\n\u001b[0;32m-> 1132\u001b[0;31m             \u001b[0mdata\u001b[0m \u001b[0;34m=\u001b[0m \u001b[0mself\u001b[0m\u001b[0;34m.\u001b[0m\u001b[0m_data_queue\u001b[0m\u001b[0;34m.\u001b[0m\u001b[0mget\u001b[0m\u001b[0;34m(\u001b[0m\u001b[0mtimeout\u001b[0m\u001b[0;34m=\u001b[0m\u001b[0mtimeout\u001b[0m\u001b[0;34m)\u001b[0m\u001b[0;34m\u001b[0m\u001b[0;34m\u001b[0m\u001b[0m\n\u001b[0m\u001b[1;32m   1133\u001b[0m             \u001b[0;32mreturn\u001b[0m \u001b[0;34m(\u001b[0m\u001b[0;32mTrue\u001b[0m\u001b[0;34m,\u001b[0m \u001b[0mdata\u001b[0m\u001b[0;34m)\u001b[0m\u001b[0;34m\u001b[0m\u001b[0;34m\u001b[0m\u001b[0m\n\u001b[1;32m   1134\u001b[0m         \u001b[0;32mexcept\u001b[0m \u001b[0mException\u001b[0m \u001b[0;32mas\u001b[0m \u001b[0me\u001b[0m\u001b[0;34m:\u001b[0m\u001b[0;34m\u001b[0m\u001b[0;34m\u001b[0m\u001b[0m\n",
            "\u001b[0;32m/usr/lib/python3.10/multiprocessing/queues.py\u001b[0m in \u001b[0;36mget\u001b[0;34m(self, block, timeout)\u001b[0m\n\u001b[1;32m    111\u001b[0m                 \u001b[0;32mif\u001b[0m \u001b[0mblock\u001b[0m\u001b[0;34m:\u001b[0m\u001b[0;34m\u001b[0m\u001b[0;34m\u001b[0m\u001b[0m\n\u001b[1;32m    112\u001b[0m                     \u001b[0mtimeout\u001b[0m \u001b[0;34m=\u001b[0m \u001b[0mdeadline\u001b[0m \u001b[0;34m-\u001b[0m \u001b[0mtime\u001b[0m\u001b[0;34m.\u001b[0m\u001b[0mmonotonic\u001b[0m\u001b[0;34m(\u001b[0m\u001b[0;34m)\u001b[0m\u001b[0;34m\u001b[0m\u001b[0;34m\u001b[0m\u001b[0m\n\u001b[0;32m--> 113\u001b[0;31m                     \u001b[0;32mif\u001b[0m \u001b[0;32mnot\u001b[0m \u001b[0mself\u001b[0m\u001b[0;34m.\u001b[0m\u001b[0m_poll\u001b[0m\u001b[0;34m(\u001b[0m\u001b[0mtimeout\u001b[0m\u001b[0;34m)\u001b[0m\u001b[0;34m:\u001b[0m\u001b[0;34m\u001b[0m\u001b[0;34m\u001b[0m\u001b[0m\n\u001b[0m\u001b[1;32m    114\u001b[0m                         \u001b[0;32mraise\u001b[0m \u001b[0mEmpty\u001b[0m\u001b[0;34m\u001b[0m\u001b[0;34m\u001b[0m\u001b[0m\n\u001b[1;32m    115\u001b[0m                 \u001b[0;32melif\u001b[0m \u001b[0;32mnot\u001b[0m \u001b[0mself\u001b[0m\u001b[0;34m.\u001b[0m\u001b[0m_poll\u001b[0m\u001b[0;34m(\u001b[0m\u001b[0;34m)\u001b[0m\u001b[0;34m:\u001b[0m\u001b[0;34m\u001b[0m\u001b[0;34m\u001b[0m\u001b[0m\n",
            "\u001b[0;32m/usr/lib/python3.10/multiprocessing/connection.py\u001b[0m in \u001b[0;36mpoll\u001b[0;34m(self, timeout)\u001b[0m\n\u001b[1;32m    255\u001b[0m         \u001b[0mself\u001b[0m\u001b[0;34m.\u001b[0m\u001b[0m_check_closed\u001b[0m\u001b[0;34m(\u001b[0m\u001b[0;34m)\u001b[0m\u001b[0;34m\u001b[0m\u001b[0;34m\u001b[0m\u001b[0m\n\u001b[1;32m    256\u001b[0m         \u001b[0mself\u001b[0m\u001b[0;34m.\u001b[0m\u001b[0m_check_readable\u001b[0m\u001b[0;34m(\u001b[0m\u001b[0;34m)\u001b[0m\u001b[0;34m\u001b[0m\u001b[0;34m\u001b[0m\u001b[0m\n\u001b[0;32m--> 257\u001b[0;31m         \u001b[0;32mreturn\u001b[0m \u001b[0mself\u001b[0m\u001b[0;34m.\u001b[0m\u001b[0m_poll\u001b[0m\u001b[0;34m(\u001b[0m\u001b[0mtimeout\u001b[0m\u001b[0;34m)\u001b[0m\u001b[0;34m\u001b[0m\u001b[0;34m\u001b[0m\u001b[0m\n\u001b[0m\u001b[1;32m    258\u001b[0m \u001b[0;34m\u001b[0m\u001b[0m\n\u001b[1;32m    259\u001b[0m     \u001b[0;32mdef\u001b[0m \u001b[0m__enter__\u001b[0m\u001b[0;34m(\u001b[0m\u001b[0mself\u001b[0m\u001b[0;34m)\u001b[0m\u001b[0;34m:\u001b[0m\u001b[0;34m\u001b[0m\u001b[0;34m\u001b[0m\u001b[0m\n",
            "\u001b[0;32m/usr/lib/python3.10/multiprocessing/connection.py\u001b[0m in \u001b[0;36m_poll\u001b[0;34m(self, timeout)\u001b[0m\n\u001b[1;32m    422\u001b[0m \u001b[0;34m\u001b[0m\u001b[0m\n\u001b[1;32m    423\u001b[0m     \u001b[0;32mdef\u001b[0m \u001b[0m_poll\u001b[0m\u001b[0;34m(\u001b[0m\u001b[0mself\u001b[0m\u001b[0;34m,\u001b[0m \u001b[0mtimeout\u001b[0m\u001b[0;34m)\u001b[0m\u001b[0;34m:\u001b[0m\u001b[0;34m\u001b[0m\u001b[0;34m\u001b[0m\u001b[0m\n\u001b[0;32m--> 424\u001b[0;31m         \u001b[0mr\u001b[0m \u001b[0;34m=\u001b[0m \u001b[0mwait\u001b[0m\u001b[0;34m(\u001b[0m\u001b[0;34m[\u001b[0m\u001b[0mself\u001b[0m\u001b[0;34m]\u001b[0m\u001b[0;34m,\u001b[0m \u001b[0mtimeout\u001b[0m\u001b[0;34m)\u001b[0m\u001b[0;34m\u001b[0m\u001b[0;34m\u001b[0m\u001b[0m\n\u001b[0m\u001b[1;32m    425\u001b[0m         \u001b[0;32mreturn\u001b[0m \u001b[0mbool\u001b[0m\u001b[0;34m(\u001b[0m\u001b[0mr\u001b[0m\u001b[0;34m)\u001b[0m\u001b[0;34m\u001b[0m\u001b[0;34m\u001b[0m\u001b[0m\n\u001b[1;32m    426\u001b[0m \u001b[0;34m\u001b[0m\u001b[0m\n",
            "\u001b[0;32m/usr/lib/python3.10/multiprocessing/connection.py\u001b[0m in \u001b[0;36mwait\u001b[0;34m(object_list, timeout)\u001b[0m\n\u001b[1;32m    929\u001b[0m \u001b[0;34m\u001b[0m\u001b[0m\n\u001b[1;32m    930\u001b[0m             \u001b[0;32mwhile\u001b[0m \u001b[0;32mTrue\u001b[0m\u001b[0;34m:\u001b[0m\u001b[0;34m\u001b[0m\u001b[0;34m\u001b[0m\u001b[0m\n\u001b[0;32m--> 931\u001b[0;31m                 \u001b[0mready\u001b[0m \u001b[0;34m=\u001b[0m \u001b[0mselector\u001b[0m\u001b[0;34m.\u001b[0m\u001b[0mselect\u001b[0m\u001b[0;34m(\u001b[0m\u001b[0mtimeout\u001b[0m\u001b[0;34m)\u001b[0m\u001b[0;34m\u001b[0m\u001b[0;34m\u001b[0m\u001b[0m\n\u001b[0m\u001b[1;32m    932\u001b[0m                 \u001b[0;32mif\u001b[0m \u001b[0mready\u001b[0m\u001b[0;34m:\u001b[0m\u001b[0;34m\u001b[0m\u001b[0;34m\u001b[0m\u001b[0m\n\u001b[1;32m    933\u001b[0m                     \u001b[0;32mreturn\u001b[0m \u001b[0;34m[\u001b[0m\u001b[0mkey\u001b[0m\u001b[0;34m.\u001b[0m\u001b[0mfileobj\u001b[0m \u001b[0;32mfor\u001b[0m \u001b[0;34m(\u001b[0m\u001b[0mkey\u001b[0m\u001b[0;34m,\u001b[0m \u001b[0mevents\u001b[0m\u001b[0;34m)\u001b[0m \u001b[0;32min\u001b[0m \u001b[0mready\u001b[0m\u001b[0;34m]\u001b[0m\u001b[0;34m\u001b[0m\u001b[0;34m\u001b[0m\u001b[0m\n",
            "\u001b[0;32m/usr/lib/python3.10/selectors.py\u001b[0m in \u001b[0;36mselect\u001b[0;34m(self, timeout)\u001b[0m\n\u001b[1;32m    414\u001b[0m         \u001b[0mready\u001b[0m \u001b[0;34m=\u001b[0m \u001b[0;34m[\u001b[0m\u001b[0;34m]\u001b[0m\u001b[0;34m\u001b[0m\u001b[0;34m\u001b[0m\u001b[0m\n\u001b[1;32m    415\u001b[0m         \u001b[0;32mtry\u001b[0m\u001b[0;34m:\u001b[0m\u001b[0;34m\u001b[0m\u001b[0;34m\u001b[0m\u001b[0m\n\u001b[0;32m--> 416\u001b[0;31m             \u001b[0mfd_event_list\u001b[0m \u001b[0;34m=\u001b[0m \u001b[0mself\u001b[0m\u001b[0;34m.\u001b[0m\u001b[0m_selector\u001b[0m\u001b[0;34m.\u001b[0m\u001b[0mpoll\u001b[0m\u001b[0;34m(\u001b[0m\u001b[0mtimeout\u001b[0m\u001b[0;34m)\u001b[0m\u001b[0;34m\u001b[0m\u001b[0;34m\u001b[0m\u001b[0m\n\u001b[0m\u001b[1;32m    417\u001b[0m         \u001b[0;32mexcept\u001b[0m \u001b[0mInterruptedError\u001b[0m\u001b[0;34m:\u001b[0m\u001b[0;34m\u001b[0m\u001b[0;34m\u001b[0m\u001b[0m\n\u001b[1;32m    418\u001b[0m             \u001b[0;32mreturn\u001b[0m \u001b[0mready\u001b[0m\u001b[0;34m\u001b[0m\u001b[0;34m\u001b[0m\u001b[0m\n",
            "\u001b[0;31mKeyboardInterrupt\u001b[0m: "
          ]
        }
      ],
      "source": [
        "def main():\n",
        "    pop = toolbox.population(n=populationSize) # Population Size\n",
        "    stats = tools.Statistics(lambda ind: ind.fitness.values)\n",
        "    stats.register(\"avg\", np.mean)\n",
        "    stats.register(\"std\", np.std)\n",
        "    stats.register(\"min\", np.min)\n",
        "    stats.register(\"max\", np.max)\n",
        "\n",
        "    #intialize the learning probabilities\n",
        "    prob=[0]*populationSize\n",
        "    for i  in range(len(pop)):\n",
        "        prob[populationSize - i - 1] = 1 - i/(populationSize - 1)\n",
        "        prob[populationSize - i - 1] = pow(prob[populationSize - i - 1], math.log(math.sqrt(math.ceil(dimension/100.0))))\n",
        "\n",
        "    logbook = tools.Logbook()\n",
        "    logbook.header = [\"gen\", \"evals\"] + stats.fields\n",
        "\n",
        "    # Mutation Tick, counts the number of times the swarm std deviation is below a certain amount\n",
        "    MutationTick = 0\n",
        "\n",
        "    #begin main loop\n",
        "    for g in range(iterations):\n",
        "\n",
        "        for part in pop:\n",
        "            part.fitness.values = toolbox.evaluate2(part, runCounter) #actually only one fitness value\n",
        "\n",
        "        #Sort the individuals in the swarm in ascending order. i.e., particle 0 is the best\n",
        "\n",
        "        # sortedPop = pop\n",
        "\n",
        "        pop.sort(key=lambda x: x.fitness, reverse=True)\n",
        "        #calculate the center (mean value) of the swarm\n",
        "        center = getcenter(pop)\n",
        "\n",
        "        # Code to update particle via velocity\n",
        "        for i  in reversed(range(len(pop)-1)):  # start with worst particle, and go in reverse towards best\n",
        "                                                # don't do element 0 (best). Hence the i+1 below.\n",
        "            if random.uniform(0, 1)<prob[i+1]: #learning probability for that particle\n",
        "                toolbox.update(pop[i+1],pop,center,i+1)\n",
        "\n",
        "        # Gather all the fitnesses in one list and print the stats\n",
        "        # print every interval\n",
        "        if g%interval==0: # interval\n",
        "            logbookRecord = logbook.record(gen=g, evals=len(pop), **stats.compile(pop))\n",
        "            print(logbook.stream)\n",
        "\n",
        "        avgloss = logbook.select(\"avg\")[-1]\n",
        "\n",
        "        # Add the average loss to the list, may not be necessary but it is useful\n",
        "        lossTracker.append(avgloss)\n",
        "\n",
        "        # Creating the mutation aspect\n",
        "        stdev = logbook.select(\"std\")\n",
        "        # Get the latest standard deviation metric\n",
        "        latestStd = stdev[-1]\n",
        "\n",
        "        if latestStd < 1.0:\n",
        "          MutationTick += 1\n",
        "        else:\n",
        "          MutationTick = 0\n",
        "\n",
        "        print(\"Current Mutation Tick: \" + str(MutationTick))\n",
        "\n",
        "        # # Sort the population again for now.\n",
        "        # sortedPop.sort(key=lambda x: x.fitness, reverse=True)\n",
        "\n",
        "        # for i in sortedPop:\n",
        "        #   print(i.fitness.values[0]) # Print out the sorted fitness values\n",
        "\n",
        "\n",
        "        # print(\"best:\"+str(pop[0].fitness.values[0]))\n",
        "        # for i in pop:\n",
        "        #   print(i.fitness.values[0])\n",
        "\n",
        "\n",
        "        # We want to start mutation if we know the particles are starting to converge, this will be when standard deviation of the population drops below a certain value\n",
        "\n",
        "        if MutationTick >= 3:\n",
        "          print(\"Starting Mutation of Particles\")\n",
        "\n",
        "          # Get the best fitness value out:\n",
        "          bestParticle = pop[0].fitness.values[0]\n",
        "\n",
        "          # Calculate a list of euclidean distances\n",
        "          distances = []\n",
        "\n",
        "          # Loops through population apart from the first value as we dont need to calculate the distance for the first particle as it is already the best\n",
        "          for i in pop[1:]:\n",
        "            individualFitness = i.fitness.values[0]\n",
        "            distances.append(euclideanDistance(bestParticle, i.fitness.values[0]))\n",
        "          #print(distances)\n",
        "\n",
        "          # Apply a function to the distance list to map them between 0 and 1, we want the smaller EDs to have a bigger probability\n",
        "          # Then apply deap mutate function to the particles with their corresponding calculated probability of mutation\n",
        "          probs = rescaler(distances)\n",
        "\n",
        "          #print(probs)\n",
        "\n",
        "          # Iterate through both population and the probability list and mutate with the probabilities\n",
        "          # Important, may need to adjust the value of sigma and mu accordingly as this is gaussian distribution\n",
        "\n",
        "          # Larger sigma = more exploration, smaller = more exploitation\n",
        "          # Mu controls the bias of the spread\n",
        "\n",
        "          # Attempting to mutate!\n",
        "          for i, p in zip(pop[1:], probs):\n",
        "            tools.mutGaussian(i, mu=muValue, sigma=sigmaValue, indpb=p)\n",
        "\n",
        "          # Reset Mutation Tick\n",
        "          MutationTick = 0\n",
        "\n",
        "    return pop, logbook\n",
        "\n",
        "if __name__ == \"__main__\":\n",
        "    superpart = main()"
      ]
    },
    {
      "cell_type": "code",
      "execution_count": null,
      "metadata": {
        "id": "qhX1IFpAEZ5y"
      },
      "outputs": [],
      "source": [
        "print(len(superpart[2])) # best particle has 840 weights in it\n",
        "\n",
        "arr = np.array(superpart[2])\n",
        "\n",
        "print(arr.shape) # Proof that the best particle is in the shape (840,). Needs to be converted before being put in the model\n",
        "\n",
        "newarr = arr.reshape(outerShape,innerShape)\n",
        "\n",
        "populationList.shape # (10,84) # 2 dimensions\n",
        "\n",
        "print(newarr.shape)\n",
        "print(len(newarr[0]))\n",
        "\n",
        "# Proof that the best particle values were successfully converted to something that can be put back into the last layer"
      ]
    },
    {
      "cell_type": "code",
      "source": [
        "# Quicksave the best particle\n",
        "\n",
        "print(len(superpart[1])) # best particle has 840 weights in it\n",
        "print(superpart[1])\n",
        "arr = np.array(superpart[1])\n",
        "\n",
        "print(arr.shape)\n",
        "\n",
        "import csv\n",
        "\n",
        "with open('superpart-030.csv', 'a', newline='') as file:\n",
        "    writer = csv.writer(file)\n",
        "    writer.writerows([superpart[0][0]])\n",
        "\n",
        "with open('logbook-030.csv', 'a', newline='') as file:\n",
        "    writer = csv.writer(file)\n",
        "#     writer.writerows([\"gen\",\"evals\",\"avg\",\"std\",\"min\",\"max\"])\n",
        "    writer.writerows([superpart[1].select(\"gen\"),superpart[1].select(\"evals\"),superpart[1].select(\"avg\"),\n",
        "                      superpart[1].select(\"std\"),superpart[1].select(\"min\"),superpart[1].select(\"max\")])"
      ],
      "metadata": {
        "id": "tWQfDhQR_jtT"
      },
      "execution_count": null,
      "outputs": []
    },
    {
      "cell_type": "code",
      "execution_count": null,
      "metadata": {
        "id": "WZlrNN9GbWxw"
      },
      "outputs": [],
      "source": [
        "# Put in the bestparticle like this superPart[2] (format to get the best particle after running main)\n",
        "def evaluateBest(bestParticle):\n",
        "  bestNP = np.array(bestParticle)\n",
        "\n",
        "  # Splitting into weights and biases\n",
        "\n",
        "  bestWeights = bestNP[:totalWeights]\n",
        "  bestBiases = bestNP[-biasCount:]\n",
        "\n",
        "  # Putting biases in\n",
        "  bestBiases = torch.from_numpy(bestBiases).float()\n",
        "  finalLayer.bias = torch.nn.Parameter(bestBiases.float())\n",
        "\n",
        "  # Reshaping weights so they are correct for the layer\n",
        "  bestWeights = bestWeights.reshape(outerShape,innerShape)\n",
        "\n",
        "  # Converting to torch array\n",
        "  bestWeights = torch.from_numpy(bestWeights).float()\n",
        "\n",
        "  # Putting the weights into the layer\n",
        "\n",
        "  finalLayer.weight = torch.nn.Parameter(bestWeights.float())\n",
        "\n",
        "\n",
        "  # Evaluating the best particle on the test set\n",
        "\n",
        "  correct_pred = {classname: 0 for classname in classes}\n",
        "  total_pred = {classname: 0 for classname in classes}\n",
        "\n",
        "  # Move the model onto GPU again? Most likely do not need to as it should already be in the GPU\n",
        "\n",
        "  for data in testloader:\n",
        "    images, labels = data\n",
        "    outputs = PopModel(images)\n",
        "\n",
        "    _, predictions = torch.max(outputs, 1)\n",
        "\n",
        "    # collect the correct predictions for each class\n",
        "\n",
        "    for label, prediction in zip(labels, predictions):\n",
        "      if label == prediction:\n",
        "        correct_pred[classes[label]] += 1\n",
        "      total_pred[classes[label]] += 1\n",
        "\n",
        "  # Printing the results\n",
        "  for classname, correct_count in correct_pred.items():\n",
        "    accuracy = 100 * float(correct_count) / total_pred[classname]\n",
        "    print(f'Accuracy for class: {classname:5s} is {accuracy:.1f} %')"
      ]
    }
  ],
  "metadata": {
    "accelerator": "GPU",
    "colab": {
      "provenance": []
    },
    "kernelspec": {
      "display_name": "Python 3",
      "language": "python",
      "name": "python3"
    },
    "language_info": {
      "codemirror_mode": {
        "name": "ipython",
        "version": 3
      },
      "file_extension": ".py",
      "mimetype": "text/x-python",
      "name": "python",
      "nbconvert_exporter": "python",
      "pygments_lexer": "ipython3",
      "version": "3.8.3"
    }
  },
  "nbformat": 4,
  "nbformat_minor": 0
}