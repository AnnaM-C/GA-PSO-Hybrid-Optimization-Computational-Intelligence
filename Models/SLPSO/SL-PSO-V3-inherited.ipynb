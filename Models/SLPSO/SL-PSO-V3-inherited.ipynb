{
  "cells": [
    {
      "cell_type": "markdown",
      "metadata": {
        "id": "WIBa3DlqWkM1"
      },
      "source": [
        "# Imports required"
      ]
    },
    {
      "cell_type": "code",
      "execution_count": 1,
      "metadata": {
        "colab": {
          "base_uri": "https://localhost:8080/"
        },
        "id": "Iqp_YwFgVsJG",
        "outputId": "9a10281f-cd2a-4a91-dd1e-40e46df67221"
      },
      "outputs": [
        {
          "name": "stdout",
          "output_type": "stream",
          "text": [
            "Collecting deap\n",
            "  Downloading deap-1.4.1-cp310-cp310-manylinux_2_5_x86_64.manylinux1_x86_64.manylinux_2_17_x86_64.manylinux2014_x86_64.whl (135 kB)\n",
            "\u001b[2K     \u001b[90m━━━━━━━━━━━━━━━━━━━━━━━━━━━━━━━━━━━━━━━━\u001b[0m \u001b[32m135.4/135.4 kB\u001b[0m \u001b[31m2.4 MB/s\u001b[0m eta \u001b[36m0:00:00\u001b[0m\n",
            "\u001b[?25hRequirement already satisfied: numpy in /usr/local/lib/python3.10/dist-packages (from deap) (1.23.5)\n",
            "Installing collected packages: deap\n",
            "Successfully installed deap-1.4.1\n"
          ]
        }
      ],
      "source": [
        "import torch\n",
        "import torchvision\n",
        "import torchvision.transforms as transforms\n",
        "\n",
        "import torch.nn as nn\n",
        "import torch.nn.functional as F\n",
        "\n",
        "import matplotlib.pyplot as plt\n",
        "import numpy as np\n",
        "\n",
        "import torch.optim as optim\n",
        "\n",
        "# !pip install deap\n",
        "\n",
        "from deap import base\n",
        "from deap import benchmarks\n",
        "from deap import creator\n",
        "from deap import tools\n",
        "\n",
        "import operator\n",
        "import random\n",
        "\n",
        "import math"
      ]
    },
    {
      "cell_type": "markdown",
      "metadata": {
        "id": "BifzvNoaWr6d"
      },
      "source": [
        "Loading in CIFAR-10"
      ]
    },
    {
      "cell_type": "code",
      "execution_count": 2,
      "metadata": {
        "colab": {
          "base_uri": "https://localhost:8080/"
        },
        "id": "p9fBlWVEWt8W",
        "outputId": "98b12e87-7b48-4352-d3b1-3c19f2ff8bfa"
      },
      "outputs": [
        {
          "name": "stdout",
          "output_type": "stream",
          "text": [
            "Downloading https://www.cs.toronto.edu/~kriz/cifar-10-python.tar.gz to ./data/cifar-10-python.tar.gz\n"
          ]
        },
        {
          "name": "stderr",
          "output_type": "stream",
          "text": [
            "100%|██████████| 170498071/170498071 [00:04<00:00, 42309439.17it/s]\n"
          ]
        },
        {
          "name": "stdout",
          "output_type": "stream",
          "text": [
            "Extracting ./data/cifar-10-python.tar.gz to ./data\n",
            "Files already downloaded and verified\n"
          ]
        }
      ],
      "source": [
        "# The dataset comes in data of the range 0-1, we want to convert this to -1 to 1 as part of normalisation\n",
        "\n",
        "transform = transforms.Compose(\n",
        "    [transforms.ToTensor(),\n",
        "     transforms.Normalize((0.5, 0.5, 0.5), (0.5, 0.5, 0.5))]) # Function to transform the dataset to the specified range\n",
        "\n",
        "batch_size = 512\n",
        "\n",
        "# Downloading the training set\n",
        "trainset = torchvision.datasets.CIFAR10(root='./data', train=True,\n",
        "                                        download=True, transform=transform)\n",
        "\n",
        "# Loading the training set into a variable\n",
        "trainloader = torch.utils.data.DataLoader(trainset, batch_size=batch_size,\n",
        "                                          shuffle=True, num_workers=2)\n",
        "\n",
        "# etc.\n",
        "testset = torchvision.datasets.CIFAR10(root='./data', train=False,\n",
        "                                       download=True, transform=transform)\n",
        "testloader = torch.utils.data.DataLoader(testset, batch_size=batch_size,\n",
        "                                         shuffle=False, num_workers=2)\n",
        "\n",
        "# Specifying the classes of the dataset that we want to train the classifier on\n",
        "classes = ('plane', 'car', 'bird', 'cat',\n",
        "           'deer', 'dog', 'frog', 'horse', 'ship', 'truck')"
      ]
    },
    {
      "cell_type": "markdown",
      "metadata": {
        "id": "nieg-1FOW_Gc"
      },
      "source": [
        "Testing for GPU"
      ]
    },
    {
      "cell_type": "code",
      "execution_count": 3,
      "metadata": {
        "colab": {
          "base_uri": "https://localhost:8080/"
        },
        "id": "Ydh-iisZW7XA",
        "outputId": "9e44a2b8-871f-49b2-e3a7-185869d2de68"
      },
      "outputs": [
        {
          "name": "stdout",
          "output_type": "stream",
          "text": [
            "cuda:0\n"
          ]
        }
      ],
      "source": [
        "device = torch.device(\"cuda:0\" if torch.cuda.is_available() else \"cpu\")\n",
        "\n",
        "print(device)"
      ]
    },
    {
      "cell_type": "markdown",
      "metadata": {
        "id": "EY66nmnNXHbM"
      },
      "source": [
        "Testing to see if we can see the images"
      ]
    },
    {
      "cell_type": "code",
      "execution_count": 4,
      "metadata": {
        "colab": {
          "base_uri": "https://localhost:8080/",
          "height": 472
        },
        "id": "czhh4eY_XDA7",
        "outputId": "9bb0867b-39e8-4f0c-bc92-7f522d35a0e2"
      },
      "outputs": [
        {
          "data": {
            "image/png": "[encoded data removed]",
            "text/plain": [
              "<Figure size 640x480 with 1 Axes>"
            ]
          },
          "metadata": {},
          "output_type": "display_data"
        },
        {
          "name": "stdout",
          "output_type": "stream",
          "text": [
            "cat   dog   frog  truck ship  dog   ship  horse frog  dog   plane frog  plane cat   horse horse car   horse cat   plane car   dog   frog  horse truck deer  truck deer  ship  cat   cat   frog  frog  frog  cat   plane deer  plane bird  horse horse frog  cat   horse cat   plane frog  car   truck truck horse deer  horse truck bird  frog  deer  frog  horse frog  horse frog  ship  frog  deer  cat   car   bird  truck truck horse car   horse plane deer  horse plane ship  car   car   frog  frog  horse car   frog  bird  plane plane deer  deer  dog   horse frog  frog  dog   deer  bird  bird  car   bird  bird  horse truck dog   plane ship  plane ship  deer  car   ship  car   cat   truck plane car   ship  dog   horse bird  deer  bird  frog  frog  deer  ship  car   plane truck truck plane ship  horse car   plane horse truck deer  cat   car   plane cat   ship  cat   plane ship  cat   frog  car   truck deer  car   deer  cat   bird  ship  dog   deer  bird  dog   plane dog   car   dog   frog  frog  frog  deer  car   frog  frog  car   frog  cat   truck ship  deer  dog   car   dog   truck cat   plane car   car   bird  deer  deer  plane plane deer  dog   bird  cat   bird  car   cat   cat   dog   ship  horse bird  plane dog   truck horse car   horse deer  ship  deer  ship  deer  plane bird  ship  horse truck cat   frog  car   ship  truck deer  plane deer  frog  plane ship  dog   deer  car   dog   horse deer  frog  horse truck bird  plane deer  dog   plane dog   dog   bird  truck dog   deer  car   plane truck dog   bird  cat   frog  truck deer  horse deer  cat   cat   cat   dog   frog  horse car   dog   deer  car   truck deer  plane dog   ship  cat   horse cat   cat   bird  frog  bird  dog   ship  dog   car   frog  plane bird  truck deer  cat   car   plane truck dog   horse dog   horse bird  frog  horse dog   truck dog   truck plane truck dog   car   bird  frog  bird  truck ship  horse truck dog   deer  car   deer  deer  truck deer  plane plane bird  dog   plane bird  bird  car   plane dog   plane car   deer  dog   bird  horse bird  ship  ship  dog   dog   truck cat   dog   dog   horse horse deer  cat   ship  truck cat   frog  deer  bird  cat   plane bird  bird  ship  frog  cat   plane car   deer  car   deer  dog   horse plane frog  car   bird  deer  horse deer  deer  ship  horse plane frog  bird  ship  horse dog   car   cat   bird  deer  truck plane plane dog   frog  dog   car   ship  ship  ship  frog  cat   plane car   plane car   ship  dog   horse bird  car   frog  plane deer  horse cat   deer  bird  cat   car   cat   frog  truck cat   ship  dog   cat   truck ship  deer  bird  bird  dog   deer  car   horse frog  dog   horse truck bird  cat   horse frog  frog  truck horse cat   cat   frog  car   ship  truck plane plane car   deer  ship  plane cat   deer  bird  truck car   horse dog   bird  deer  plane cat   deer  horse plane ship  truck truck truck deer  cat   plane deer  car   ship  dog   dog   dog   dog   plane cat   truck car   plane dog   frog  truck frog  frog  ship  truck bird  ship  car   truck horse bird  bird  ship  horse dog  \n"
          ]
        }
      ],
      "source": [
        "# functions to show an image for fun\n",
        "\n",
        "\n",
        "def imshow(img):\n",
        "    img = img / 2 + 0.5     # unnormalize\n",
        "    npimg = img.numpy()\n",
        "    plt.imshow(np.transpose(npimg, (1, 2, 0)))\n",
        "    plt.show()\n",
        "\n",
        "\n",
        "# get some random training images\n",
        "dataiter = iter(trainloader)\n",
        "images, labels = next(dataiter)\n",
        "\n",
        "# show images\n",
        "imshow(torchvision.utils.make_grid(images))\n",
        "# print labels\n",
        "print(' '.join(f'{classes[labels[j]]:5s}' for j in range(batch_size)))"
      ]
    },
    {
      "cell_type": "markdown",
      "metadata": {
        "id": "-qKVkHJVVgvw"
      },
      "source": [
        "Building network definition"
      ]
    },
    {
      "cell_type": "code",
      "execution_count": 5,
      "metadata": {
        "id": "oYoYdQqSUh9b"
      },
      "outputs": [],
      "source": [
        "#based on VGG\n",
        "class Net(nn.Module):\n",
        "    def __init__(self):\n",
        "        super(Net, self).__init__()\n",
        "\n",
        "        self.features = nn.Sequential(\n",
        "            nn.Conv2d(3, 64, kernel_size=3, padding=1),\n",
        "            nn.ReLU(inplace=True),\n",
        "            nn.Conv2d(64, 64, kernel_size=3, padding=1),\n",
        "            nn.ReLU(inplace=True),\n",
        "            nn.MaxPool2d(kernel_size=2, stride=2),\n",
        "\n",
        "            nn.Conv2d(64, 128, kernel_size=3, padding=1),\n",
        "            nn.ReLU(inplace=True),\n",
        "            nn.Conv2d(128, 128, kernel_size=3, padding=1),\n",
        "            nn.ReLU(inplace=True),\n",
        "            nn.MaxPool2d(kernel_size=2, stride=2),\n",
        "\n",
        "            nn.Conv2d(128, 256, kernel_size=3, padding=1),\n",
        "            nn.ReLU(inplace=True),\n",
        "            nn.Conv2d(256, 256, kernel_size=3, padding=1),\n",
        "            nn.ReLU(inplace=True),\n",
        "            nn.Conv2d(256, 256, kernel_size=3, padding=1),\n",
        "            nn.ReLU(inplace=True),\n",
        "            nn.MaxPool2d(kernel_size=2, stride=2),\n",
        "        )\n",
        "\n",
        "        self.classifier = nn.Sequential(\n",
        "            nn.Linear(256 * 4 * 4, 1024),\n",
        "            nn.ReLU(inplace=True),\n",
        "            nn.Dropout(),\n",
        "            nn.Linear(1024, 52),\n",
        "            nn.ReLU(inplace=True),\n",
        "            nn.Dropout(),\n",
        "            nn.Linear(52, 10)\n",
        "        )\n",
        "\n",
        "    def forward(self, x):\n",
        "        x = self.features(x)\n",
        "        x = x.view(x.size(0), -1)\n",
        "        x = self.classifier(x)\n",
        "        return x\n",
        "\n",
        "model=Net()"
      ]
    },
    {
      "cell_type": "markdown",
      "metadata": {
        "id": "ZHrwQrmQVsFB"
      },
      "source": [
        "Loading in the model"
      ]
    },
    {
      "cell_type": "code",
      "execution_count": 7,
      "metadata": {
        "colab": {
          "base_uri": "https://localhost:8080/"
        },
        "id": "JCQw57DqVtG2",
        "outputId": "a584a267-ad09-4e13-ea13-72120080d8fe"
      },
      "outputs": [
        {
          "data": {
            "text/plain": [
              "<All keys matched successfully>"
            ]
          },
          "execution_count": 7,
          "metadata": {},
          "output_type": "execute_result"
        }
      ],
      "source": [
        "PATH = ('./SGD_net.pth')\n",
        "PopModel = Net()\n",
        "PopModel.load_state_dict(torch.load(PATH))"
      ]
    },
    {
      "cell_type": "code",
      "execution_count": 8,
      "metadata": {
        "id": "6DmL7D87WHSv"
      },
      "outputs": [],
      "source": [
        "# Setting all layers to not change their weights with GD backpropagation\n",
        "\n",
        "for param in PopModel.parameters():\n",
        "    # By setting the requires grad for each parameter to false, we no longer track it with autograd\n",
        "    # Consequently, backpropagation or whatever will not compute the gradients for these layers\n",
        "    param.requires_grad = False"
      ]
    },
    {
      "cell_type": "markdown",
      "metadata": {
        "id": "yHLU-wWfWJ5w"
      },
      "source": [
        "Getting the final layer"
      ]
    },
    {
      "cell_type": "code",
      "execution_count": 9,
      "metadata": {
        "colab": {
          "base_uri": "https://localhost:8080/"
        },
        "id": "CZKzgijLWL8c",
        "outputId": "02fb1da1-d8c5-4275-df49-85e269041e8b"
      },
      "outputs": [
        {
          "name": "stdout",
          "output_type": "stream",
          "text": [
            "Linear(in_features=52, out_features=10, bias=True)\n",
            "10\n",
            "52\n",
            "10\n",
            "530\n"
          ]
        }
      ],
      "source": [
        "finalLayer = PopModel.classifier[-1]\n",
        "\n",
        "print(finalLayer) # 10 features out\n",
        "\n",
        "outerShape = len(finalLayer.weight)\n",
        "innerShape = len(finalLayer.weight[0])\n",
        "\n",
        "totalWeights = outerShape * innerShape\n",
        "\n",
        "print(outerShape) # 10 population size\n",
        "print(innerShape) # 10 arrays, with 52 items in it\n",
        "\n",
        "biasCount = len(finalLayer.bias)\n",
        "print(biasCount)\n",
        "\n",
        "paramCount = sum(param.numel() for param in finalLayer.parameters())\n",
        "\n",
        "print(paramCount) # 530 Parameters: 520 weights + 10 biases\n"
      ]
    },
    {
      "cell_type": "code",
      "execution_count": 10,
      "metadata": {
        "colab": {
          "base_uri": "https://localhost:8080/"
        },
        "id": "l1IWS_xBseI0",
        "outputId": "016c429a-9f93-4574-eca9-005534e5db4a"
      },
      "outputs": [
        {
          "name": "stdout",
          "output_type": "stream",
          "text": [
            "torch.Size([10, 52])\n",
            "torch.Size([10])\n"
          ]
        },
        {
          "name": "stderr",
          "output_type": "stream",
          "text": [
            "<ipython-input-10-0638b396f9c2>:5: UserWarning: nn.init.xavier_uniform is now deprecated in favor of nn.init.xavier_uniform_.\n",
            "  nn.init.xavier_uniform(finalLayer.weight)\n"
          ]
        }
      ],
      "source": [
        "# Randomise final layer weights\n",
        "nn.init.xavier_uniform(finalLayer.weight)\n",
        "print((finalLayer.weight).shape) # Shape that the layer requires is (10,84)\n",
        "print((finalLayer.bias).shape)"
      ]
    },
    {
      "cell_type": "code",
      "execution_count": null,
      "metadata": {
        "id": "RIo5lWcLt0RW"
      },
      "outputs": [],
      "source": [
        "# Converting weights to a numpy array\n",
        "def convert_np_function(self, intermediate_tensor):\n",
        "        intermediate_value = intermediate_tensor.numpy()\n",
        "        self.intermediate_values.append(intermediate_value)\n",
        "\n",
        "populationList = finalLayer.weight.numpy()"
      ]
    },
    {
      "cell_type": "markdown",
      "metadata": {
        "id": "sNB7vxNctWhl"
      },
      "source": [
        "Defining PSO functions"
      ]
    },
    {
      "cell_type": "code",
      "execution_count": 12,
      "metadata": {
        "id": "G93hInWF_wV5"
      },
      "outputs": [],
      "source": [
        "posMinInit      = -0.1\n",
        "posMaxInit      = + 0.1\n",
        "VMaxInit        = 1.5\n",
        "VMinInit        = 0.5\n",
        "# populationSize  = 3\n",
        "dimension       = paramCount\n",
        "populationSize  = 100+int(dimension/10) # from lab on SL-PSO\n",
        "#interval        = 10\n",
        "interval = 1\n",
        "iterations      = 100\n",
        "\n",
        "#variables used in SL-PSO\n",
        "epsilon = dimension/100.0*0.01 # social influence of swarm centre\n",
        "\n",
        "# Criterion for measuring loss, may need to tweak this to return negative value for PSO\n",
        "criterion = nn.CrossEntropyLoss()\n",
        "\n",
        "lossTracker = []\n",
        "\n",
        "accuracyTracker = []"
      ]
    },
    {
      "cell_type": "code",
      "execution_count": 13,
      "metadata": {
        "id": "dsonGc8DAFVN"
      },
      "outputs": [],
      "source": [
        "# function to get the mean positions of the inviduals (swarm centre)\n",
        "def getcenter(pop):\n",
        "    center=list()\n",
        "    for j in range(dimension): # count through dimensions\n",
        "        centerj = 0\n",
        "        for i in pop: # for each particle\n",
        "            centerj += i[j] # sum up position in dimention j\n",
        "        centerj /= populationSize # Average\n",
        "        center.append(centerj)\n",
        "    return center\n",
        "\n",
        "creator.create(\"FitnessMin\", base.Fitness, weights=(-1.0,)) # -1 is for minimise\n",
        "creator.create(\"Particle\", list, fitness=creator.FitnessMin, speed=list, smin=None, smax=None, best=None)"
      ]
    },
    {
      "cell_type": "code",
      "execution_count": 20,
      "metadata": {
        "id": "yavq1ePxANXk"
      },
      "outputs": [],
      "source": [
        "# particle rerpresented by list of 5 things\n",
        "# 1. fitness of the particle,\n",
        "# 2. speed of the particle which is also going to be a list,\n",
        "# 3.4. limit of the speed value,\n",
        "# 5. best state the particle has been in so far.\n",
        "\n",
        "def generate(size, smin, smax):\n",
        "    part = creator.Particle(random.uniform(posMinInit, posMaxInit) for _ in range(size))\n",
        "    part.speed = [random.uniform(VMinInit, VMaxInit) for _ in range(size)]\n",
        "    part.smin = smin #speed clamping values\n",
        "    part.smax = smax\n",
        "    return part\n",
        "\n",
        "def updateParticle(part,pop,center,i):\n",
        "    r1 = random.uniform(0, 1)\n",
        "    r2 = random.uniform(0, 1)\n",
        "    r3 = random.uniform(0, 1)\n",
        "\n",
        "    #Randomly choose a demonstrator for particle i from any of particles 0 to i-1, the Particle i\n",
        "    #updates its velocity by learning from the demonstrator and the mean position of the swarm\n",
        "    demonstrator=random.choice(list(pop[0:i]))\n",
        "\n",
        "    for j in range(dimension): # count through dimensions\n",
        "        part.speed[j]=r1*part.speed[j]+r2*(demonstrator[j]-part[j])+r3*epsilon*(center[j]-part[j])\n",
        "        part[j]=part[j]+part.speed[j]\n",
        "\n",
        "def getBestAccuracy(bestParticle):\n",
        "    bestNP = np.array(bestParticle)\n",
        "\n",
        "    # Splitting into weights and biases\n",
        "    bestWeights = bestNP[:totalWeights]\n",
        "    bestBiases = bestNP[-biasCount:]\n",
        "\n",
        "    # Putting biases in\n",
        "    bestBiases = torch.from_numpy(bestBiases).float()\n",
        "    finalLayer.bias = torch.nn.Parameter(bestBiases.float())\n",
        "\n",
        "    # Reshaping weights so they are correct for the layer\n",
        "    bestWeights = bestWeights.reshape(outerShape,innerShape)\n",
        "\n",
        "    # Converting to torch array\n",
        "    bestWeights = torch.from_numpy(bestWeights).float()\n",
        "\n",
        "    # Putting the weights into the layer\n",
        "    finalLayer.weight = torch.nn.Parameter(bestWeights.float())\n",
        "\n",
        "    correct_pred = 0\n",
        "    total_pred = 0\n",
        "\n",
        "    PopModel.to(device)\n",
        "\n",
        "    for data in testloader:\n",
        "      images, labels = data[0].to(device), data[1].to(device)\n",
        "      outputs = PopModel(images)\n",
        "\n",
        "    _, predictions = torch.max(outputs, 1)\n",
        "\n",
        "    # collect the correct predictions for each class\n",
        "\n",
        "    for label, prediction in zip(labels, predictions):\n",
        "      if label == prediction:\n",
        "        correct_pred += 1\n",
        "      total_pred += 1\n",
        "\n",
        "    acc = (correct_pred / total_pred)*100\n",
        "\n",
        "\n",
        "    print(\"Accuracy of current best particle: \" + str(acc) + \"%\")\n",
        "\n",
        "    return acc"
      ]
    },
    {
      "cell_type": "code",
      "execution_count": 18,
      "metadata": {
        "id": "gkaVJ8jZAWNb"
      },
      "outputs": [],
      "source": [
        "toolbox = base.Toolbox()\n",
        "toolbox.register(\"particle\", generate, size=dimension, smin=-3, smax=3)\n",
        "toolbox.register(\"population\", tools.initRepeat, list, toolbox.particle)\n",
        "toolbox.register(\"update\", updateParticle)\n",
        "\n",
        "# Note most likely need to change the evaluate function\n",
        "toolbox.register(\"evaluate\", benchmarks.sphere) #sphere function is built-in in DEAP\n",
        "\n",
        "runCounter = 0\n",
        "\n",
        "def modelEval(particle, runCounter):\n",
        "    runCounter = runCounter\n",
        "    runCounter +=1\n",
        "    #print(\"hello!\")\n",
        "\n",
        "    # First step to get the particles weights out from it, convert to an numpy array\n",
        "    particleweightsNP1 = np.array(particle)\n",
        "\n",
        "    #particleweightsNP = particleweightsNP1[:840]\n",
        "    #biases = np.array(particleweightsNP1[-10:])\n",
        "    particleweightsNP = particleweightsNP1[:totalWeights]\n",
        "    biases = np.array(particleweightsNP1[-biasCount:])\n",
        "\n",
        "    # Putting biases straight in\n",
        "    biases = torch.from_numpy(biases).float()\n",
        "    finalLayer.bias = torch.nn.Parameter(biases.float())\n",
        "\n",
        "    #print(particleweightsNP)\n",
        "\n",
        "#     print(\"Shape of particle: \" + str(particleweightsNP.shape))\n",
        "\n",
        "    # Converting to the correct shape!\n",
        "    reshapedWeights = particleweightsNP.reshape(outerShape,innerShape)\n",
        "#     print(\"Shape of reshaped particle: \" + str(reshapedWeights.shape))\n",
        "\n",
        "    # Convert to torch array!\n",
        "    torchWeights = torch.from_numpy(reshapedWeights).float()\n",
        "\n",
        "    # Now we want to set the weights of the finalLayer to these weights\n",
        "\n",
        "    finalLayer.weight = torch.nn.Parameter(torchWeights.float())\n",
        "\n",
        "    # print(\"After:\\n\")\n",
        "    # print(finalLayer.weight)\n",
        "\n",
        "    #finalLayer.weight.data = torchWeights.float()\n",
        "    #print(finalLayer.weight) # Note that the numbers look different than torchWeights ?\n",
        "    #print(torchWeights)\n",
        "\n",
        "    # Run a training loop for the model, with the particles weights set to the final layer and return a loss value back\n",
        "\n",
        "    epoch_loss = 0.0\n",
        "    running_loss = 0.0\n",
        "\n",
        "    # reshapedWeights.to(device)\n",
        "    # torchWeights.to(device)\n",
        "\n",
        "#     print(f\"Starting training run {runCounter}...\")\n",
        "\n",
        "    PopModel.to(device)\n",
        "\n",
        "    for epoch in range(1):\n",
        "\n",
        "        epoch_loss = 0.0\n",
        "\n",
        "        for i, data in enumerate(trainloader, 0):\n",
        "            # get the inputs; data is a list of [inputs, labels]\n",
        "            inputs, labels = data[0].to(device), data[1].to(device)\n",
        "            # Getting the predictions for the model\n",
        "            outputs = PopModel(inputs)\n",
        "\n",
        "            loss = criterion(outputs, labels)\n",
        "\n",
        "            #print(loss.item())\n",
        "\n",
        "            epoch_loss += loss.item()\n",
        "\n",
        "#         print(\"End of Epoch:\" + str(epoch))\n",
        "\n",
        "        running_loss += (epoch_loss / i)\n",
        "\n",
        "    # Now we have a loss value:\n",
        "    #print(\"Total Loss: \" + str(running_loss))\n",
        "\n",
        "\n",
        "    return running_loss, # This may be the wrong this to pass back, one test run showed loss is 835852, remember to check that it definitely doesnt update through gradient!\n",
        "\n",
        "    # High loss could be due to how the weights were initialised or how they were converted between numpy and torch tensor?\n",
        "\n",
        "    # We need to return one value\n",
        "\n",
        "    #object of type 'NoneType' has no len() # Error when not returning anything.\n",
        "    #object of type 'float' has no len() # Error when returning_loss by itself, investigate the output of the original sphere function?\n",
        "\n",
        "    # Original loss function returns a single value. example output looks like (136.3042681576523,)\n",
        "\n",
        "    # Do you need to return a list, with each epoch loss in there?\n",
        "    # Doing this: Assigned values have not the same length than fitness weights\n",
        "    # Update: Do not return a list\n",
        "\n",
        "toolbox.register(\"evaluate2\", modelEval)"
      ]
    },
    {
      "cell_type": "code",
      "execution_count": 21,
      "metadata": {
        "colab": {
          "base_uri": "https://localhost:8080/",
          "height": 598
        },
        "id": "-CoJ1T86AaMZ",
        "outputId": "12286b86-957c-4f8d-b83c-98e4f776ec0a"
      },
      "outputs": [
        {
          "name": "stdout",
          "output_type": "stream",
          "text": [
            "Total Loss: 43.373763133570094\n",
            "Total Loss: 40.926744284089075\n",
            "Total Loss: 47.24803877368416\n",
            "gen\tevals\tavg    \tstd    \tmin    \tmax   \n",
            "0  \t3    \t43.8495\t2.60249\t40.9267\t47.248\n",
            "Accuracy of current best particle: 12.5%\n",
            "Current Mutation Tick: 0\n",
            "Total Loss: 40.793819899411545\n",
            "Total Loss: 43.07046375078024\n",
            "Total Loss: 34.37735060072437\n",
            "1  \t3    \t39.4139\t3.68065\t34.3774\t43.0705\n",
            "Accuracy of current best particle: 12.867647058823529%\n",
            "Current Mutation Tick: 0\n",
            "Total Loss: 34.532931160681024\n"
          ]
        },
        {
          "ename": "KeyboardInterrupt",
          "evalue": "ignored",
          "output_type": "error",
          "traceback": [
            "\u001b[0;31m---------------------------------------------------------------------------\u001b[0m",
            "\u001b[0;31mKeyboardInterrupt\u001b[0m                         Traceback (most recent call last)",
            "\u001b[0;32m<ipython-input-21-37f08014646c>\u001b[0m in \u001b[0;36m<cell line: 118>\u001b[0;34m()\u001b[0m\n\u001b[1;32m    117\u001b[0m \u001b[0;34m\u001b[0m\u001b[0m\n\u001b[1;32m    118\u001b[0m \u001b[0;32mif\u001b[0m \u001b[0m__name__\u001b[0m \u001b[0;34m==\u001b[0m \u001b[0;34m\"__main__\"\u001b[0m\u001b[0;34m:\u001b[0m\u001b[0;34m\u001b[0m\u001b[0;34m\u001b[0m\u001b[0m\n\u001b[0;32m--> 119\u001b[0;31m     \u001b[0msuperpart\u001b[0m \u001b[0;34m=\u001b[0m \u001b[0mmain\u001b[0m\u001b[0;34m(\u001b[0m\u001b[0;34m)\u001b[0m\u001b[0;34m\u001b[0m\u001b[0;34m\u001b[0m\u001b[0m\n\u001b[0m",
            "\u001b[0;32m<ipython-input-21-37f08014646c>\u001b[0m in \u001b[0;36mmain\u001b[0;34m()\u001b[0m\n\u001b[1;32m     23\u001b[0m \u001b[0;34m\u001b[0m\u001b[0m\n\u001b[1;32m     24\u001b[0m         \u001b[0;32mfor\u001b[0m \u001b[0mpart\u001b[0m \u001b[0;32min\u001b[0m \u001b[0mpop\u001b[0m\u001b[0;34m:\u001b[0m\u001b[0;34m\u001b[0m\u001b[0;34m\u001b[0m\u001b[0m\n\u001b[0;32m---> 25\u001b[0;31m             \u001b[0mpart\u001b[0m\u001b[0;34m.\u001b[0m\u001b[0mfitness\u001b[0m\u001b[0;34m.\u001b[0m\u001b[0mvalues\u001b[0m \u001b[0;34m=\u001b[0m \u001b[0mtoolbox\u001b[0m\u001b[0;34m.\u001b[0m\u001b[0mevaluate2\u001b[0m\u001b[0;34m(\u001b[0m\u001b[0mpart\u001b[0m\u001b[0;34m,\u001b[0m \u001b[0mrunCounter\u001b[0m\u001b[0;34m)\u001b[0m \u001b[0;31m#actually only one fitness value\u001b[0m\u001b[0;34m\u001b[0m\u001b[0;34m\u001b[0m\u001b[0m\n\u001b[0m\u001b[1;32m     26\u001b[0m \u001b[0;34m\u001b[0m\u001b[0m\n\u001b[1;32m     27\u001b[0m         \u001b[0;31m#Sort the individuals in the swarm in ascending order. i.e., particle 0 is the best\u001b[0m\u001b[0;34m\u001b[0m\u001b[0;34m\u001b[0m\u001b[0m\n",
            "\u001b[0;32m<ipython-input-18-8437a7dab653>\u001b[0m in \u001b[0;36mmodelEval\u001b[0;34m(particle, runCounter)\u001b[0m\n\u001b[1;32m     84\u001b[0m         \u001b[0mepoch_loss\u001b[0m \u001b[0;34m=\u001b[0m \u001b[0;36m0.0\u001b[0m\u001b[0;34m\u001b[0m\u001b[0;34m\u001b[0m\u001b[0m\n\u001b[1;32m     85\u001b[0m \u001b[0;34m\u001b[0m\u001b[0m\n\u001b[0;32m---> 86\u001b[0;31m         \u001b[0;32mfor\u001b[0m \u001b[0mi\u001b[0m\u001b[0;34m,\u001b[0m \u001b[0mdata\u001b[0m \u001b[0;32min\u001b[0m \u001b[0menumerate\u001b[0m\u001b[0;34m(\u001b[0m\u001b[0mtrainloader\u001b[0m\u001b[0;34m,\u001b[0m \u001b[0;36m0\u001b[0m\u001b[0;34m)\u001b[0m\u001b[0;34m:\u001b[0m\u001b[0;34m\u001b[0m\u001b[0;34m\u001b[0m\u001b[0m\n\u001b[0m\u001b[1;32m     87\u001b[0m             \u001b[0;31m# get the inputs; data is a list of [inputs, labels]\u001b[0m\u001b[0;34m\u001b[0m\u001b[0;34m\u001b[0m\u001b[0m\n\u001b[1;32m     88\u001b[0m             \u001b[0minputs\u001b[0m\u001b[0;34m,\u001b[0m \u001b[0mlabels\u001b[0m \u001b[0;34m=\u001b[0m \u001b[0mdata\u001b[0m\u001b[0;34m[\u001b[0m\u001b[0;36m0\u001b[0m\u001b[0;34m]\u001b[0m\u001b[0;34m.\u001b[0m\u001b[0mto\u001b[0m\u001b[0;34m(\u001b[0m\u001b[0mdevice\u001b[0m\u001b[0;34m)\u001b[0m\u001b[0;34m,\u001b[0m \u001b[0mdata\u001b[0m\u001b[0;34m[\u001b[0m\u001b[0;36m1\u001b[0m\u001b[0;34m]\u001b[0m\u001b[0;34m.\u001b[0m\u001b[0mto\u001b[0m\u001b[0;34m(\u001b[0m\u001b[0mdevice\u001b[0m\u001b[0;34m)\u001b[0m\u001b[0;34m\u001b[0m\u001b[0;34m\u001b[0m\u001b[0m\n",
            "\u001b[0;32m/usr/local/lib/python3.10/dist-packages/torch/utils/data/dataloader.py\u001b[0m in \u001b[0;36m__next__\u001b[0;34m(self)\u001b[0m\n\u001b[1;32m    628\u001b[0m                 \u001b[0;31m# TODO(https://github.com/pytorch/pytorch/issues/76750)\u001b[0m\u001b[0;34m\u001b[0m\u001b[0;34m\u001b[0m\u001b[0m\n\u001b[1;32m    629\u001b[0m                 \u001b[0mself\u001b[0m\u001b[0;34m.\u001b[0m\u001b[0m_reset\u001b[0m\u001b[0;34m(\u001b[0m\u001b[0;34m)\u001b[0m  \u001b[0;31m# type: ignore[call-arg]\u001b[0m\u001b[0;34m\u001b[0m\u001b[0;34m\u001b[0m\u001b[0m\n\u001b[0;32m--> 630\u001b[0;31m             \u001b[0mdata\u001b[0m \u001b[0;34m=\u001b[0m \u001b[0mself\u001b[0m\u001b[0;34m.\u001b[0m\u001b[0m_next_data\u001b[0m\u001b[0;34m(\u001b[0m\u001b[0;34m)\u001b[0m\u001b[0;34m\u001b[0m\u001b[0;34m\u001b[0m\u001b[0m\n\u001b[0m\u001b[1;32m    631\u001b[0m             \u001b[0mself\u001b[0m\u001b[0;34m.\u001b[0m\u001b[0m_num_yielded\u001b[0m \u001b[0;34m+=\u001b[0m \u001b[0;36m1\u001b[0m\u001b[0;34m\u001b[0m\u001b[0;34m\u001b[0m\u001b[0m\n\u001b[1;32m    632\u001b[0m             \u001b[0;32mif\u001b[0m \u001b[0mself\u001b[0m\u001b[0;34m.\u001b[0m\u001b[0m_dataset_kind\u001b[0m \u001b[0;34m==\u001b[0m \u001b[0m_DatasetKind\u001b[0m\u001b[0;34m.\u001b[0m\u001b[0mIterable\u001b[0m \u001b[0;32mand\u001b[0m\u001b[0;31m \u001b[0m\u001b[0;31m\\\u001b[0m\u001b[0;34m\u001b[0m\u001b[0;34m\u001b[0m\u001b[0m\n",
            "\u001b[0;32m/usr/local/lib/python3.10/dist-packages/torch/utils/data/dataloader.py\u001b[0m in \u001b[0;36m_next_data\u001b[0;34m(self)\u001b[0m\n\u001b[1;32m   1326\u001b[0m \u001b[0;34m\u001b[0m\u001b[0m\n\u001b[1;32m   1327\u001b[0m             \u001b[0;32massert\u001b[0m \u001b[0;32mnot\u001b[0m \u001b[0mself\u001b[0m\u001b[0;34m.\u001b[0m\u001b[0m_shutdown\u001b[0m \u001b[0;32mand\u001b[0m \u001b[0mself\u001b[0m\u001b[0;34m.\u001b[0m\u001b[0m_tasks_outstanding\u001b[0m \u001b[0;34m>\u001b[0m \u001b[0;36m0\u001b[0m\u001b[0;34m\u001b[0m\u001b[0;34m\u001b[0m\u001b[0m\n\u001b[0;32m-> 1328\u001b[0;31m             \u001b[0midx\u001b[0m\u001b[0;34m,\u001b[0m \u001b[0mdata\u001b[0m \u001b[0;34m=\u001b[0m \u001b[0mself\u001b[0m\u001b[0;34m.\u001b[0m\u001b[0m_get_data\u001b[0m\u001b[0;34m(\u001b[0m\u001b[0;34m)\u001b[0m\u001b[0;34m\u001b[0m\u001b[0;34m\u001b[0m\u001b[0m\n\u001b[0m\u001b[1;32m   1329\u001b[0m             \u001b[0mself\u001b[0m\u001b[0;34m.\u001b[0m\u001b[0m_tasks_outstanding\u001b[0m \u001b[0;34m-=\u001b[0m \u001b[0;36m1\u001b[0m\u001b[0;34m\u001b[0m\u001b[0;34m\u001b[0m\u001b[0m\n\u001b[1;32m   1330\u001b[0m             \u001b[0;32mif\u001b[0m \u001b[0mself\u001b[0m\u001b[0;34m.\u001b[0m\u001b[0m_dataset_kind\u001b[0m \u001b[0;34m==\u001b[0m \u001b[0m_DatasetKind\u001b[0m\u001b[0;34m.\u001b[0m\u001b[0mIterable\u001b[0m\u001b[0;34m:\u001b[0m\u001b[0;34m\u001b[0m\u001b[0;34m\u001b[0m\u001b[0m\n",
            "\u001b[0;32m/usr/local/lib/python3.10/dist-packages/torch/utils/data/dataloader.py\u001b[0m in \u001b[0;36m_get_data\u001b[0;34m(self)\u001b[0m\n\u001b[1;32m   1292\u001b[0m         \u001b[0;32melse\u001b[0m\u001b[0;34m:\u001b[0m\u001b[0;34m\u001b[0m\u001b[0;34m\u001b[0m\u001b[0m\n\u001b[1;32m   1293\u001b[0m             \u001b[0;32mwhile\u001b[0m \u001b[0;32mTrue\u001b[0m\u001b[0;34m:\u001b[0m\u001b[0;34m\u001b[0m\u001b[0;34m\u001b[0m\u001b[0m\n\u001b[0;32m-> 1294\u001b[0;31m                 \u001b[0msuccess\u001b[0m\u001b[0;34m,\u001b[0m \u001b[0mdata\u001b[0m \u001b[0;34m=\u001b[0m \u001b[0mself\u001b[0m\u001b[0;34m.\u001b[0m\u001b[0m_try_get_data\u001b[0m\u001b[0;34m(\u001b[0m\u001b[0;34m)\u001b[0m\u001b[0;34m\u001b[0m\u001b[0;34m\u001b[0m\u001b[0m\n\u001b[0m\u001b[1;32m   1295\u001b[0m                 \u001b[0;32mif\u001b[0m \u001b[0msuccess\u001b[0m\u001b[0;34m:\u001b[0m\u001b[0;34m\u001b[0m\u001b[0;34m\u001b[0m\u001b[0m\n\u001b[1;32m   1296\u001b[0m                     \u001b[0;32mreturn\u001b[0m \u001b[0mdata\u001b[0m\u001b[0;34m\u001b[0m\u001b[0;34m\u001b[0m\u001b[0m\n",
            "\u001b[0;32m/usr/local/lib/python3.10/dist-packages/torch/utils/data/dataloader.py\u001b[0m in \u001b[0;36m_try_get_data\u001b[0;34m(self, timeout)\u001b[0m\n\u001b[1;32m   1130\u001b[0m         \u001b[0;31m#   (bool: whether successfully get data, any: data if successful else None)\u001b[0m\u001b[0;34m\u001b[0m\u001b[0;34m\u001b[0m\u001b[0m\n\u001b[1;32m   1131\u001b[0m         \u001b[0;32mtry\u001b[0m\u001b[0;34m:\u001b[0m\u001b[0;34m\u001b[0m\u001b[0;34m\u001b[0m\u001b[0m\n\u001b[0;32m-> 1132\u001b[0;31m             \u001b[0mdata\u001b[0m \u001b[0;34m=\u001b[0m \u001b[0mself\u001b[0m\u001b[0;34m.\u001b[0m\u001b[0m_data_queue\u001b[0m\u001b[0;34m.\u001b[0m\u001b[0mget\u001b[0m\u001b[0;34m(\u001b[0m\u001b[0mtimeout\u001b[0m\u001b[0;34m=\u001b[0m\u001b[0mtimeout\u001b[0m\u001b[0;34m)\u001b[0m\u001b[0;34m\u001b[0m\u001b[0;34m\u001b[0m\u001b[0m\n\u001b[0m\u001b[1;32m   1133\u001b[0m             \u001b[0;32mreturn\u001b[0m \u001b[0;34m(\u001b[0m\u001b[0;32mTrue\u001b[0m\u001b[0;34m,\u001b[0m \u001b[0mdata\u001b[0m\u001b[0;34m)\u001b[0m\u001b[0;34m\u001b[0m\u001b[0;34m\u001b[0m\u001b[0m\n\u001b[1;32m   1134\u001b[0m         \u001b[0;32mexcept\u001b[0m \u001b[0mException\u001b[0m \u001b[0;32mas\u001b[0m \u001b[0me\u001b[0m\u001b[0;34m:\u001b[0m\u001b[0;34m\u001b[0m\u001b[0;34m\u001b[0m\u001b[0m\n",
            "\u001b[0;32m/usr/lib/python3.10/multiprocessing/queues.py\u001b[0m in \u001b[0;36mget\u001b[0;34m(self, block, timeout)\u001b[0m\n\u001b[1;32m    111\u001b[0m                 \u001b[0;32mif\u001b[0m \u001b[0mblock\u001b[0m\u001b[0;34m:\u001b[0m\u001b[0;34m\u001b[0m\u001b[0;34m\u001b[0m\u001b[0m\n\u001b[1;32m    112\u001b[0m                     \u001b[0mtimeout\u001b[0m \u001b[0;34m=\u001b[0m \u001b[0mdeadline\u001b[0m \u001b[0;34m-\u001b[0m \u001b[0mtime\u001b[0m\u001b[0;34m.\u001b[0m\u001b[0mmonotonic\u001b[0m\u001b[0;34m(\u001b[0m\u001b[0;34m)\u001b[0m\u001b[0;34m\u001b[0m\u001b[0;34m\u001b[0m\u001b[0m\n\u001b[0;32m--> 113\u001b[0;31m                     \u001b[0;32mif\u001b[0m \u001b[0;32mnot\u001b[0m \u001b[0mself\u001b[0m\u001b[0;34m.\u001b[0m\u001b[0m_poll\u001b[0m\u001b[0;34m(\u001b[0m\u001b[0mtimeout\u001b[0m\u001b[0;34m)\u001b[0m\u001b[0;34m:\u001b[0m\u001b[0;34m\u001b[0m\u001b[0;34m\u001b[0m\u001b[0m\n\u001b[0m\u001b[1;32m    114\u001b[0m                         \u001b[0;32mraise\u001b[0m \u001b[0mEmpty\u001b[0m\u001b[0;34m\u001b[0m\u001b[0;34m\u001b[0m\u001b[0m\n\u001b[1;32m    115\u001b[0m                 \u001b[0;32melif\u001b[0m \u001b[0;32mnot\u001b[0m \u001b[0mself\u001b[0m\u001b[0;34m.\u001b[0m\u001b[0m_poll\u001b[0m\u001b[0;34m(\u001b[0m\u001b[0;34m)\u001b[0m\u001b[0;34m:\u001b[0m\u001b[0;34m\u001b[0m\u001b[0;34m\u001b[0m\u001b[0m\n",
            "\u001b[0;32m/usr/lib/python3.10/multiprocessing/connection.py\u001b[0m in \u001b[0;36mpoll\u001b[0;34m(self, timeout)\u001b[0m\n\u001b[1;32m    255\u001b[0m         \u001b[0mself\u001b[0m\u001b[0;34m.\u001b[0m\u001b[0m_check_closed\u001b[0m\u001b[0;34m(\u001b[0m\u001b[0;34m)\u001b[0m\u001b[0;34m\u001b[0m\u001b[0;34m\u001b[0m\u001b[0m\n\u001b[1;32m    256\u001b[0m         \u001b[0mself\u001b[0m\u001b[0;34m.\u001b[0m\u001b[0m_check_readable\u001b[0m\u001b[0;34m(\u001b[0m\u001b[0;34m)\u001b[0m\u001b[0;34m\u001b[0m\u001b[0;34m\u001b[0m\u001b[0m\n\u001b[0;32m--> 257\u001b[0;31m         \u001b[0;32mreturn\u001b[0m \u001b[0mself\u001b[0m\u001b[0;34m.\u001b[0m\u001b[0m_poll\u001b[0m\u001b[0;34m(\u001b[0m\u001b[0mtimeout\u001b[0m\u001b[0;34m)\u001b[0m\u001b[0;34m\u001b[0m\u001b[0;34m\u001b[0m\u001b[0m\n\u001b[0m\u001b[1;32m    258\u001b[0m \u001b[0;34m\u001b[0m\u001b[0m\n\u001b[1;32m    259\u001b[0m     \u001b[0;32mdef\u001b[0m \u001b[0m__enter__\u001b[0m\u001b[0;34m(\u001b[0m\u001b[0mself\u001b[0m\u001b[0;34m)\u001b[0m\u001b[0;34m:\u001b[0m\u001b[0;34m\u001b[0m\u001b[0;34m\u001b[0m\u001b[0m\n",
            "\u001b[0;32m/usr/lib/python3.10/multiprocessing/connection.py\u001b[0m in \u001b[0;36m_poll\u001b[0;34m(self, timeout)\u001b[0m\n\u001b[1;32m    422\u001b[0m \u001b[0;34m\u001b[0m\u001b[0m\n\u001b[1;32m    423\u001b[0m     \u001b[0;32mdef\u001b[0m \u001b[0m_poll\u001b[0m\u001b[0;34m(\u001b[0m\u001b[0mself\u001b[0m\u001b[0;34m,\u001b[0m \u001b[0mtimeout\u001b[0m\u001b[0;34m)\u001b[0m\u001b[0;34m:\u001b[0m\u001b[0;34m\u001b[0m\u001b[0;34m\u001b[0m\u001b[0m\n\u001b[0;32m--> 424\u001b[0;31m         \u001b[0mr\u001b[0m \u001b[0;34m=\u001b[0m \u001b[0mwait\u001b[0m\u001b[0;34m(\u001b[0m\u001b[0;34m[\u001b[0m\u001b[0mself\u001b[0m\u001b[0;34m]\u001b[0m\u001b[0;34m,\u001b[0m \u001b[0mtimeout\u001b[0m\u001b[0;34m)\u001b[0m\u001b[0;34m\u001b[0m\u001b[0;34m\u001b[0m\u001b[0m\n\u001b[0m\u001b[1;32m    425\u001b[0m         \u001b[0;32mreturn\u001b[0m \u001b[0mbool\u001b[0m\u001b[0;34m(\u001b[0m\u001b[0mr\u001b[0m\u001b[0;34m)\u001b[0m\u001b[0;34m\u001b[0m\u001b[0;34m\u001b[0m\u001b[0m\n\u001b[1;32m    426\u001b[0m \u001b[0;34m\u001b[0m\u001b[0m\n",
            "\u001b[0;32m/usr/lib/python3.10/multiprocessing/connection.py\u001b[0m in \u001b[0;36mwait\u001b[0;34m(object_list, timeout)\u001b[0m\n\u001b[1;32m    929\u001b[0m \u001b[0;34m\u001b[0m\u001b[0m\n\u001b[1;32m    930\u001b[0m             \u001b[0;32mwhile\u001b[0m \u001b[0;32mTrue\u001b[0m\u001b[0;34m:\u001b[0m\u001b[0;34m\u001b[0m\u001b[0;34m\u001b[0m\u001b[0m\n\u001b[0;32m--> 931\u001b[0;31m                 \u001b[0mready\u001b[0m \u001b[0;34m=\u001b[0m \u001b[0mselector\u001b[0m\u001b[0;34m.\u001b[0m\u001b[0mselect\u001b[0m\u001b[0;34m(\u001b[0m\u001b[0mtimeout\u001b[0m\u001b[0;34m)\u001b[0m\u001b[0;34m\u001b[0m\u001b[0;34m\u001b[0m\u001b[0m\n\u001b[0m\u001b[1;32m    932\u001b[0m                 \u001b[0;32mif\u001b[0m \u001b[0mready\u001b[0m\u001b[0;34m:\u001b[0m\u001b[0;34m\u001b[0m\u001b[0;34m\u001b[0m\u001b[0m\n\u001b[1;32m    933\u001b[0m                     \u001b[0;32mreturn\u001b[0m \u001b[0;34m[\u001b[0m\u001b[0mkey\u001b[0m\u001b[0;34m.\u001b[0m\u001b[0mfileobj\u001b[0m \u001b[0;32mfor\u001b[0m \u001b[0;34m(\u001b[0m\u001b[0mkey\u001b[0m\u001b[0;34m,\u001b[0m \u001b[0mevents\u001b[0m\u001b[0;34m)\u001b[0m \u001b[0;32min\u001b[0m \u001b[0mready\u001b[0m\u001b[0;34m]\u001b[0m\u001b[0;34m\u001b[0m\u001b[0;34m\u001b[0m\u001b[0m\n",
            "\u001b[0;32m/usr/lib/python3.10/selectors.py\u001b[0m in \u001b[0;36mselect\u001b[0;34m(self, timeout)\u001b[0m\n\u001b[1;32m    414\u001b[0m         \u001b[0mready\u001b[0m \u001b[0;34m=\u001b[0m \u001b[0;34m[\u001b[0m\u001b[0;34m]\u001b[0m\u001b[0;34m\u001b[0m\u001b[0;34m\u001b[0m\u001b[0m\n\u001b[1;32m    415\u001b[0m         \u001b[0;32mtry\u001b[0m\u001b[0;34m:\u001b[0m\u001b[0;34m\u001b[0m\u001b[0;34m\u001b[0m\u001b[0m\n\u001b[0;32m--> 416\u001b[0;31m             \u001b[0mfd_event_list\u001b[0m \u001b[0;34m=\u001b[0m \u001b[0mself\u001b[0m\u001b[0;34m.\u001b[0m\u001b[0m_selector\u001b[0m\u001b[0;34m.\u001b[0m\u001b[0mpoll\u001b[0m\u001b[0;34m(\u001b[0m\u001b[0mtimeout\u001b[0m\u001b[0;34m)\u001b[0m\u001b[0;34m\u001b[0m\u001b[0;34m\u001b[0m\u001b[0m\n\u001b[0m\u001b[1;32m    417\u001b[0m         \u001b[0;32mexcept\u001b[0m \u001b[0mInterruptedError\u001b[0m\u001b[0;34m:\u001b[0m\u001b[0;34m\u001b[0m\u001b[0;34m\u001b[0m\u001b[0m\n\u001b[1;32m    418\u001b[0m             \u001b[0;32mreturn\u001b[0m \u001b[0mready\u001b[0m\u001b[0;34m\u001b[0m\u001b[0;34m\u001b[0m\u001b[0m\n",
            "\u001b[0;31mKeyboardInterrupt\u001b[0m: "
          ]
        }
      ],
      "source": [
        "def main():\n",
        "    pop = toolbox.population(n=populationSize) # Population Size\n",
        "    stats = tools.Statistics(lambda ind: ind.fitness.values)\n",
        "    stats.register(\"avg\", np.mean)\n",
        "    stats.register(\"std\", np.std)\n",
        "    stats.register(\"min\", np.min)\n",
        "    stats.register(\"max\", np.max)\n",
        "\n",
        "    #intialize the learning probabilities\n",
        "    prob=[0]*populationSize\n",
        "    for i  in range(len(pop)):\n",
        "        prob[populationSize - i - 1] = 1 - i/(populationSize - 1)\n",
        "        prob[populationSize - i - 1] = pow(prob[populationSize - i - 1], math.log(math.sqrt(math.ceil(dimension/100.0))))\n",
        "\n",
        "    logbook = tools.Logbook()\n",
        "    logbook.header = [\"gen\", \"evals\"] + stats.fields\n",
        "\n",
        "    # Mutation Tick, counts the number of times the swarm std deviation is below a certain amount\n",
        "    MutationTick = 0\n",
        "\n",
        "    #begin main loop\n",
        "    for g in range(iterations):\n",
        "\n",
        "        for part in pop:\n",
        "            part.fitness.values = toolbox.evaluate2(part, runCounter) #actually only one fitness value\n",
        "\n",
        "        #Sort the individuals in the swarm in ascending order. i.e., particle 0 is the best\n",
        "        pop.sort(key=lambda x: x.fitness, reverse=True)\n",
        "        #calculate the center (mean value) of the swarm\n",
        "        center = getcenter(pop)\n",
        "\n",
        "        # Code to update particle via velocity\n",
        "        for i  in reversed(range(len(pop)-1)):  # start with worst particle, and go in reverse towards best\n",
        "                                                # don't do element 0 (best). Hence the i+1 below.\n",
        "            if random.uniform(0, 1)<prob[i+1]: #learning probability for that particle\n",
        "                toolbox.update(pop[i+1],pop,center,i+1)\n",
        "\n",
        "        # Gather all the fitnesses in one list and print the stats\n",
        "        # print every interval\n",
        "        if g%interval==0: # interval\n",
        "            logbookRecord = logbook.record(gen=g, evals=len(pop), **stats.compile(pop))\n",
        "            print(logbook.stream)\n",
        "\n",
        "        avgloss = logbook.select(\"avg\")[-1]\n",
        "\n",
        "        # Add the average loss to the list, may not be necessary but it is useful\n",
        "        lossTracker.append(avgloss)\n",
        "\n",
        "        # Evaluate the accuracy of the current best particle\n",
        "\n",
        "        accuracyTracker.append(getBestAccuracy(pop[0]))\n",
        "\n",
        "    return pop, logbook\n",
        "\n",
        "if __name__ == \"__main__\":\n",
        "    superpart = main()"
      ]
    },
    {
      "cell_type": "code",
      "execution_count": null,
      "metadata": {
        "id": "tWQfDhQR_jtT"
      },
      "outputs": [],
      "source": [
        "# Quicksave the best particle\n",
        "\n",
        "print(len(superpart[1])) # best particle has 840 weights in it\n",
        "print(superpart[1])\n",
        "arr = np.array(superpart[1])\n",
        "\n",
        "print(arr.shape)\n",
        "\n",
        "import csv\n",
        "\n",
        "with open('superpart-030.csv', 'a', newline='') as file:\n",
        "    writer = csv.writer(file)\n",
        "    writer.writerows([superpart[0][0]])\n",
        "\n",
        "with open('logbook-030.csv', 'a', newline='') as file:\n",
        "    writer = csv.writer(file)\n",
        "#     writer.writerows([\"gen\",\"evals\",\"avg\",\"std\",\"min\",\"max\"])\n",
        "    writer.writerows([superpart[1].select(\"gen\"),superpart[1].select(\"evals\"),superpart[1].select(\"avg\"),\n",
        "                      superpart[1].select(\"std\"),superpart[1].select(\"min\"),superpart[1].select(\"max\")])"
      ]
    }
  ],
  "metadata": {
    "accelerator": "GPU",
    "colab": {
      "provenance": []
    },
    "kernelspec": {
      "display_name": "Python 3",
      "language": "python",
      "name": "python3"
    },
    "language_info": {
      "codemirror_mode": {
        "name": "ipython",
        "version": 3
      },
      "file_extension": ".py",
      "mimetype": "text/x-python",
      "name": "python",
      "nbconvert_exporter": "python",
      "pygments_lexer": "ipython3",
      "version": "3.8.3"
    }
  },
  "nbformat": 4,
  "nbformat_minor": 0
}
