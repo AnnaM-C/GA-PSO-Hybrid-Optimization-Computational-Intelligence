{
  "cells": [
    {
      "cell_type": "markdown",
      "metadata": {
        "id": "WIBa3DlqWkM1"
      },
      "source": [
        "# Imports required"
      ]
    },
    {
      "cell_type": "code",
      "execution_count": 44,
      "metadata": {
        "colab": {
          "base_uri": "https://localhost:8080/"
        },
        "id": "Iqp_YwFgVsJG",
        "outputId": "00f6ec21-4e00-49e6-f165-597f2fa84930"
      },
      "outputs": [
        {
          "output_type": "stream",
          "name": "stdout",
          "text": [
            "Requirement already satisfied: deap in /usr/local/lib/python3.10/dist-packages (1.4.1)\n",
            "Requirement already satisfied: numpy in /usr/local/lib/python3.10/dist-packages (from deap) (1.23.5)\n"
          ]
        }
      ],
      "source": [
        "import torch\n",
        "import torchvision\n",
        "import torchvision.transforms as transforms\n",
        "\n",
        "import torch.nn as nn\n",
        "import torch.nn.functional as F\n",
        "\n",
        "import matplotlib.pyplot as plt\n",
        "import numpy as np\n",
        "\n",
        "import torch.optim as optim\n",
        "\n",
        "!pip install deap\n",
        "\n",
        "from deap import base\n",
        "from deap import benchmarks\n",
        "from deap import creator\n",
        "from deap import tools\n",
        "\n",
        "import operator\n",
        "import random\n",
        "\n",
        "import math"
      ]
    },
    {
      "cell_type": "markdown",
      "metadata": {
        "id": "BifzvNoaWr6d"
      },
      "source": [
        "Loading in CIFAR-10"
      ]
    },
    {
      "cell_type": "code",
      "execution_count": 45,
      "metadata": {
        "colab": {
          "base_uri": "https://localhost:8080/"
        },
        "id": "p9fBlWVEWt8W",
        "outputId": "b6d28b73-3594-4737-b291-57509aa6540a"
      },
      "outputs": [
        {
          "output_type": "stream",
          "name": "stdout",
          "text": [
            "Files already downloaded and verified\n",
            "Files already downloaded and verified\n"
          ]
        }
      ],
      "source": [
        "# The dataset comes in data of the range 0-1, we want to convert this to -1 to 1 as part of normalisation\n",
        "\n",
        "transform = transforms.Compose(\n",
        "    [transforms.ToTensor(),\n",
        "     transforms.Normalize((0.5, 0.5, 0.5), (0.5, 0.5, 0.5))]) # Function to transform the dataset to the specified range\n",
        "\n",
        "batch_size = 10000\n",
        "\n",
        "# Downloading the training set\n",
        "trainset = torchvision.datasets.CIFAR10(root='./data', train=True,\n",
        "                                        download=True, transform=transform)\n",
        "\n",
        "# Loading the training set into a variable\n",
        "trainloader = torch.utils.data.DataLoader(trainset, batch_size=batch_size,\n",
        "                                          shuffle=True, num_workers=2)\n",
        "\n",
        "# etc.\n",
        "testset = torchvision.datasets.CIFAR10(root='./data', train=False,\n",
        "                                       download=True, transform=transform)\n",
        "testloader = torch.utils.data.DataLoader(testset, batch_size=batch_size,\n",
        "                                         shuffle=False, num_workers=2)\n",
        "\n",
        "# Specifying the classes of the dataset that we want to train the classifier on\n",
        "classes = ('plane', 'car', 'bird', 'cat',\n",
        "           'deer', 'dog', 'frog', 'horse', 'ship', 'truck')"
      ]
    },
    {
      "cell_type": "markdown",
      "metadata": {
        "id": "nieg-1FOW_Gc"
      },
      "source": [
        "Testing for GPU"
      ]
    },
    {
      "cell_type": "code",
      "execution_count": 46,
      "metadata": {
        "colab": {
          "base_uri": "https://localhost:8080/"
        },
        "id": "Ydh-iisZW7XA",
        "outputId": "23a3d9cd-8b3b-42f9-9090-95611ba0ff01"
      },
      "outputs": [
        {
          "output_type": "stream",
          "name": "stdout",
          "text": [
            "cuda:0\n"
          ]
        }
      ],
      "source": [
        "device = torch.device(\"cuda:0\" if torch.cuda.is_available() else \"cpu\")\n",
        "\n",
        "print(device)"
      ]
    },
    {
      "cell_type": "markdown",
      "metadata": {
        "id": "EY66nmnNXHbM"
      },
      "source": [
        "Testing to see if we can see the images"
      ]
    },
    {
      "cell_type": "code",
      "execution_count": 47,
      "metadata": {
        "colab": {
          "base_uri": "https://localhost:8080/",
          "height": 472
        },
        "id": "czhh4eY_XDA7",
        "outputId": "05a17503-b900-4062-a206-21a5abf1a465"
      },
      "outputs": [
        {
          "output_type": "display_data",
          "data": {
            "text/plain": [
              "<Figure size 640x480 with 1 Axes>"
            ],
            "image/png": "[encoded data removed]"
          },
          "metadata": {}
        },
        {
          "output_type": "stream",
          "name": "stdout",
          "text": [
            "truck cat   frog  bird  deer  truck frog  ship  horse dog   horse car   ship  dog   frog  ship  deer  frog  plane truck car   cat   dog   bird  ship  frog  ship  truck frog  cat   car   frog  plane ship  truck dog   dog   truck ship  car   cat   cat   plane plane car   horse horse ship  frog  cat   truck plane bird  dog   dog   ship  plane dog   car   dog   deer  deer  truck deer  horse truck truck bird  horse car   horse ship  car   car   horse truck bird  ship  ship  plane dog   cat   plane plane horse dog   dog   ship  plane plane deer  plane truck cat   frog  bird  bird  cat   cat   horse bird  car   horse dog   deer  dog   truck bird  car   deer  car   deer  dog   plane car   ship  bird  bird  deer  deer  truck deer  cat   car   car   frog  ship  dog   plane deer  truck bird  deer  frog  car   cat   dog   plane horse car   frog  horse truck horse deer  bird  car   bird  bird  truck dog   frog  bird  truck ship  truck bird  plane plane frog  dog   plane horse horse cat   bird  cat   ship  dog   ship  cat   plane bird  frog  bird  truck dog   ship  car   frog  plane frog  truck truck truck frog  bird  cat   cat   plane plane horse truck dog   ship  truck car   cat   ship  cat   ship  car   frog  ship  deer  horse car   cat   deer  ship  horse bird  horse car   ship  car   truck cat   bird  ship  cat   dog   frog  plane bird  car   cat   frog  ship  dog   horse dog   dog   frog  plane bird  frog  dog   ship  plane car   horse car   cat   dog   frog  car   ship  dog   car   ship  frog  deer  cat   plane plane frog  horse truck dog   horse frog  cat   deer  dog   dog   ship  frog  car   car   plane truck frog  deer  horse deer  truck bird  truck deer  car   deer  cat   frog  car   truck ship  dog   dog   frog  ship  horse bird  deer  cat   ship  deer  deer  plane frog  frog  dog   bird  dog   cat   plane ship  ship  deer  car   truck truck bird  frog  car   truck dog   horse deer  deer  horse ship  bird  truck plane ship  car   horse car   plane car   plane plane car   dog   car   bird  plane horse truck cat   ship  dog   plane ship  car   deer  frog  plane dog   horse horse horse frog  dog   dog   horse cat   horse horse horse bird  bird  ship  frog  horse dog   deer  truck dog   cat   dog   deer  ship  frog  plane plane deer  deer  ship  cat   frog  ship  car   truck bird  bird  cat   car   plane deer  cat   dog   horse bird  car   plane cat   ship  truck dog   horse cat   car   plane horse horse bird  horse plane deer  ship  bird  car   car   deer  deer  dog   truck deer  dog   horse plane deer  car   truck dog   car   frog  ship  dog   frog  ship  truck bird  truck cat   plane truck frog  dog   truck bird  car   car   frog  plane plane deer  deer  horse ship  bird  car   bird  horse truck car   car   dog   dog   bird  car   cat   truck bird  plane truck bird  plane cat   bird  bird  truck truck deer  deer  horse horse ship  deer  cat   deer  ship  truck car   plane dog   cat   frog  dog   deer  car   frog  dog   bird  cat   ship  ship  dog   bird  plane horse frog  ship  dog   dog   horse bird  frog  horse truck plane truck bird  bird  plane bird  frog  plane truck car   bird  deer  bird  ship  deer  deer  dog   deer  frog  deer  deer  frog  bird  deer  ship  car   horse dog   dog   cat   bird  bird  deer  bird  cat   plane ship  horse deer  frog  ship  car   bird  ship  plane frog  car   car   frog  bird  ship  bird  bird  car   truck horse truck car   dog   bird  ship  truck truck ship  frog  frog  ship  dog   plane truck car   car   car   deer  car   car   bird  ship  horse ship  car   bird  ship  plane car   deer  car   ship  car   car   car   horse deer  car   car   frog  car   truck deer  plane deer  cat   plane plane frog  ship  bird  horse bird  cat   cat   frog  bird  plane truck dog   deer  bird  truck bird  plane horse cat   truck truck deer  plane car   bird  dog   horse cat   dog   deer  ship  plane plane plane dog   car   deer  dog   truck plane dog   cat   dog   dog   cat   cat   dog   horse deer  frog  horse truck bird  cat   dog   truck car   horse frog  deer  frog  deer  deer  truck dog   horse frog  dog   deer  truck frog  plane frog  ship  car   truck horse cat   cat   truck horse plane ship  frog  cat   ship  truck bird  frog  truck ship  plane bird  cat   ship  frog  frog  deer  bird  ship  bird  car   cat   deer  ship  plane frog  horse horse ship  cat   dog   dog   bird  bird  bird  plane bird  cat   plane car   bird  car   ship  deer  car   frog  cat   dog   frog  truck cat   dog   car   deer  car   horse plane plane truck car   car   plane horse cat   ship  car   truck ship  deer  horse deer  horse cat   frog  frog  dog   bird  dog   horse truck frog  horse plane plane truck car   horse horse ship  car   dog   truck frog  horse plane truck deer  plane frog  plane ship  car   deer  car   cat   deer  deer  dog   car   bird  cat   ship  plane frog  bird  car   dog   dog   ship  plane horse dog   car   bird  cat   cat   car   plane cat   dog   deer  horse cat   dog   cat   deer  frog  plane deer  plane ship  bird  horse bird  horse plane ship  ship  truck plane truck bird  dog   deer  ship  car   car   car   cat   horse truck plane plane ship  horse ship  ship  ship  bird  bird  frog  deer  ship  ship  car   ship  dog   deer  frog  truck deer  dog   frog  cat   dog   deer  horse plane frog  ship  frog  dog   ship  frog  ship  ship  frog  horse truck plane horse frog  ship  car   ship  plane truck frog  cat   plane cat   plane dog   bird  frog  car   ship  horse truck ship  car   plane truck plane plane plane plane dog   bird  horse car   bird  plane truck cat   car   truck plane horse deer  horse car   cat   ship  frog  cat   deer  bird  dog   dog   bird  car   frog  truck deer  cat   frog  bird  car   car   ship  plane frog  horse ship  truck dog   truck deer  plane truck cat   horse truck dog   cat   ship  ship  car   bird  horse bird  horse bird  ship  car   ship  car   car   ship  deer  ship  frog  bird  frog  truck dog   frog  plane dog   frog  bird  dog   horse truck plane truck deer  truck deer  car   ship  truck ship  dog   dog   car   car   horse frog  plane deer  frog  cat   plane deer  frog  truck frog  truck frog  dog   horse cat   dog   bird  cat   horse cat   plane bird  ship  deer  horse horse car   cat   truck bird  cat   horse frog  horse deer  dog   cat   car   truck horse plane frog  frog  deer  truck deer  plane cat   plane dog   horse frog  horse dog   deer  car   cat   horse car   car   horse bird  horse dog   dog   ship  deer  truck car   dog   frog  plane truck frog  dog   ship  bird  plane dog   ship  bird  dog   ship  cat   horse ship  cat   cat   dog   dog   truck truck cat   deer  bird  truck truck horse bird  deer  ship  car   frog  bird  dog   dog   car   ship  ship  truck cat   truck cat   bird  horse plane dog   ship  cat   cat   truck cat   plane ship  dog   car   car   frog  cat   frog  plane ship  cat   dog   deer  plane car   plane truck frog  frog  horse deer  truck truck horse cat   deer  plane deer  dog   cat   deer  frog  bird  frog  truck dog   truck car   deer  ship  plane frog  horse cat   horse frog  cat   horse horse horse bird  bird  car   dog   bird  frog  truck plane dog   bird  truck deer  plane dog   frog  truck truck deer  bird  bird  plane ship  frog  dog   plane ship  frog  car   dog   bird  cat   ship  ship  plane deer  car   horse bird  plane cat   frog  ship  truck cat   car   frog  truck truck bird  horse truck frog  horse frog  ship  bird  bird  ship  horse frog  horse cat   plane cat   deer  horse deer  frog  frog  horse deer  cat   deer  ship  deer  frog  frog  cat   bird  deer  horse truck car   frog  cat   bird  car   cat   bird  ship  horse bird  frog  deer  dog   plane plane bird  horse plane car   bird  frog  car   car   bird  bird  dog   plane frog  frog  frog  ship  car   horse cat   truck dog   ship  car   dog   car   deer  frog  plane cat   frog  dog   car   ship  bird  horse horse ship  truck car   car   car   ship  dog   truck car   plane frog  plane horse truck horse ship  cat   bird  dog   dog   horse bird  deer  cat   plane horse plane frog  dog   bird  ship  deer  cat   frog  car   car   truck dog   plane deer  ship  truck deer  deer  cat   horse plane frog  truck horse frog  frog  horse dog   ship  plane frog  deer  deer  frog  horse dog   deer  horse truck truck deer  dog   deer  horse frog  ship  car   frog  ship  cat   truck deer  cat   frog  deer  truck truck truck ship  plane frog  frog  dog   bird  dog   bird  bird  bird  horse ship  bird  bird  deer  ship  plane truck ship  cat   truck truck ship  horse plane ship  bird  ship  ship  dog   car   dog   truck plane bird  horse truck truck car   deer  bird  ship  bird  horse truck horse plane bird  horse plane car   cat   truck bird  cat   horse bird  deer  frog  car   plane dog   plane car   car   plane truck dog   frog  frog  horse horse frog  plane frog  cat   horse dog   dog   frog  plane dog   plane deer  car   ship  horse cat   dog   plane cat   dog   ship  dog   cat   frog  frog  ship  horse bird  plane frog  plane ship  horse deer  bird  bird  car   bird  truck bird  deer  ship  car   car   deer  horse deer  plane bird  ship  ship  car   truck cat   car   deer  plane horse bird  deer  bird  bird  frog  horse ship  plane truck car   frog  car   dog   plane horse ship  dog   dog   ship  car   cat   bird  ship  dog   car   ship  deer  horse horse frog  ship  horse dog   truck cat   deer  frog  ship  car   cat   cat   deer  frog  cat   deer  ship  car   cat   cat   plane ship  deer  frog  dog   frog  plane horse car   car   truck truck deer  plane plane bird  bird  car   plane ship  bird  bird  ship  plane bird  cat   ship  horse frog  deer  frog  bird  dog   car   dog   car   plane truck deer  deer  car   bird  dog   car   deer  deer  ship  cat   ship  bird  bird  truck ship  deer  cat   plane deer  frog  truck plane deer  horse dog   dog   truck truck cat   ship  dog   bird  car   plane dog   cat   bird  dog   plane deer  cat   frog  frog  horse horse horse cat   frog  bird  car   dog   truck horse truck dog   ship  plane plane truck deer  truck horse deer  plane truck dog   deer  ship  dog   dog   car   ship  dog   frog  dog   cat   dog   truck plane deer  car   cat   frog  truck cat   frog  truck plane cat   plane bird  cat   frog  bird  ship  ship  dog   plane ship  deer  truck plane ship  bird  cat   plane plane cat   deer  truck dog   plane bird  deer  car   car   frog  truck plane horse deer  deer  deer  dog   cat   plane plane car   deer  truck horse plane bird  truck truck ship  horse cat   truck frog  bird  cat   truck truck bird  plane plane plane plane cat   dog   car   deer  ship  truck frog  plane ship  plane deer  bird  car   frog  deer  truck bird  ship  plane ship  plane horse ship  frog  car   car   frog  truck horse deer  horse horse horse car   truck ship  ship  dog   ship  cat   bird  truck deer  frog  dog   horse horse frog  dog   dog   horse ship  horse dog   dog   bird  horse deer  bird  bird  frog  cat   deer  truck car   truck cat   plane car   horse plane truck truck bird  horse truck cat   plane ship  horse car   cat   frog  truck deer  frog  cat   dog   dog   frog  cat   truck bird  ship  horse ship  dog   ship  car   cat   horse dog   cat   plane ship  car   cat   ship  ship  deer  dog   bird  horse horse car   car   plane frog  ship  dog   truck dog   plane truck plane ship  plane car   ship  cat   truck plane deer  plane truck dog   dog   dog   bird  car   cat   truck horse truck cat   car   car   plane dog   car   horse ship  deer  deer  bird  cat   frog  plane bird  frog  dog   cat   deer  horse frog  horse car   ship  dog   deer  truck car   horse deer  truck car   ship  cat   plane cat   truck deer  horse bird  cat   frog  ship  dog   deer  horse plane car   ship  frog  ship  plane deer  ship  cat   dog   plane bird  deer  truck cat   bird  dog   cat   cat   horse plane plane bird  ship  ship  car   frog  bird  ship  deer  deer  dog   deer  ship  bird  bird  bird  car   dog   cat   car   horse car   deer  truck deer  frog  frog  frog  dog   plane frog  plane horse bird  car   horse dog   car   bird  ship  plane bird  horse bird  truck frog  frog  car   deer  horse horse bird  car   car   cat   cat   dog   horse cat   cat   car   cat   truck ship  plane bird  bird  truck bird  truck frog  deer  plane ship  car   plane dog   truck car   car   ship  dog   deer  frog  ship  ship  deer  car   truck car   cat   horse bird  truck dog   horse horse deer  horse frog  truck plane bird  deer  dog   deer  ship  truck ship  horse bird  bird  ship  frog  horse dog   cat   plane horse ship  cat   bird  ship  bird  frog  dog   bird  frog  car   deer  plane deer  deer  deer  ship  truck deer  deer  deer  truck truck dog   horse frog  bird  car   car   car   ship  horse plane ship  cat   car   dog   horse bird  truck plane ship  truck car   frog  deer  cat   horse plane truck frog  deer  bird  cat   bird  horse truck plane cat   ship  ship  cat   bird  deer  deer  plane bird  horse horse horse frog  ship  ship  cat   truck truck plane truck car   plane car   ship  deer  horse horse plane bird  truck bird  dog   plane frog  frog  cat   car   deer  dog   ship  frog  plane dog   plane car   car   ship  truck dog   horse frog  bird  cat   dog   bird  deer  bird  car   truck plane car   dog   truck deer  dog   dog   frog  deer  frog  ship  ship  deer  frog  frog  truck cat   cat   cat   car   deer  truck cat   horse deer  horse car   car   truck ship  plane truck plane car   plane plane truck plane dog   deer  frog  deer  ship  frog  car   bird  bird  deer  deer  dog   ship  frog  horse dog   ship  frog  frog  truck dog   deer  cat   cat   plane bird  ship  bird  deer  ship  horse truck frog  horse bird  bird  car   frog  ship  truck cat   ship  cat   cat   bird  deer  car   frog  horse plane cat   ship  ship  truck frog  ship  ship  frog  horse ship  horse horse dog   car   cat   horse cat   dog   plane frog  bird  car   deer  deer  frog  ship  cat   cat   bird  truck ship  ship  frog  bird  frog  ship  deer  deer  dog   car   ship  ship  plane deer  horse ship  dog   ship  ship  cat   deer  ship  cat   bird  deer  cat   ship  cat   horse deer  cat   plane truck deer  ship  truck truck frog  cat   bird  bird  frog  ship  horse deer  truck deer  plane plane car   dog   plane truck cat   deer  ship  plane car   car   dog   truck plane frog  car   cat   dog   car   frog  horse plane bird  bird  truck frog  bird  cat   car   plane bird  dog   dog   deer  plane truck ship  horse bird  ship  truck bird  frog  cat   deer  deer  plane bird  frog  cat   cat   frog  deer  plane horse deer  truck plane car   car   plane frog  ship  deer  bird  deer  car   car   ship  bird  bird  truck ship  ship  plane plane bird  plane frog  deer  frog  plane plane dog   ship  frog  car   frog  cat   deer  horse plane car   horse deer  deer  car   car   dog   deer  deer  car   truck horse frog  frog  cat   horse deer  dog   truck bird  car   dog   bird  car   cat   ship  truck ship  truck bird  deer  plane cat   cat   horse truck plane ship  frog  ship  frog  deer  horse plane dog   deer  cat   bird  truck ship  truck frog  horse deer  frog  car   car   ship  plane car   truck horse cat   dog   cat   ship  dog   horse bird  dog   deer  frog  ship  car   ship  ship  deer  horse ship  horse horse dog   cat   car   ship  dog   car   car   ship  frog  plane cat   car   ship  cat   horse truck car   deer  frog  plane horse plane truck dog   horse ship  plane frog  truck deer  car   plane car   horse cat   frog  plane bird  horse cat   ship  truck bird  ship  truck horse plane plane frog  deer  ship  horse frog  dog   plane cat   truck cat   horse bird  dog   frog  ship  deer  truck plane plane truck ship  plane horse deer  car   horse car   car   bird  deer  frog  horse plane dog   dog   dog   dog   ship  horse bird  horse deer  car   car   plane dog   plane plane bird  truck frog  plane ship  cat   frog  plane bird  truck plane dog   deer  deer  truck ship  cat   deer  dog   horse dog   frog  dog   bird  plane cat   frog  car   deer  dog   frog  ship  car   car   ship  truck truck horse ship  car   ship  deer  ship  deer  bird  dog   plane truck dog   bird  deer  horse cat   car   ship  frog  plane plane dog   frog  bird  car   frog  frog  frog  horse deer  ship  bird  plane frog  cat   frog  truck dog   dog   ship  frog  bird  ship  bird  frog  frog  frog  bird  frog  frog  ship  car   dog   plane frog  horse plane car   deer  truck dog   frog  horse car   horse dog   bird  ship  plane frog  plane truck ship  ship  deer  dog   ship  frog  deer  horse frog  bird  bird  deer  plane horse dog   deer  truck horse dog   truck frog  bird  cat   dog   truck bird  cat   truck plane horse frog  cat   ship  ship  dog   cat   plane frog  deer  cat   horse deer  ship  bird  dog   dog   dog   frog  ship  truck ship  plane car   car   bird  frog  deer  plane truck cat   horse frog  deer  horse frog  bird  deer  truck cat   frog  horse car   frog  bird  frog  bird  plane truck bird  cat   frog  ship  truck deer  dog   deer  dog   car   plane cat   cat   bird  car   horse ship  dog   dog   bird  plane deer  horse cat   horse cat   ship  deer  dog   deer  plane horse frog  horse dog   bird  horse plane cat   horse deer  bird  dog   cat   bird  dog   car   bird  ship  plane frog  plane car   deer  frog  deer  cat   deer  dog   frog  plane ship  bird  dog   bird  horse plane cat   car   ship  dog   dog   dog   bird  dog   horse truck truck horse frog  frog  plane bird  frog  frog  car   dog   deer  cat   horse car   bird  horse truck plane ship  cat   cat   deer  truck plane ship  horse horse truck truck cat   deer  horse horse plane ship  car   bird  horse deer  car   cat   ship  dog   car   dog   bird  bird  horse bird  cat   bird  dog   deer  truck horse bird  bird  horse truck bird  dog   horse dog   horse horse ship  deer  cat   deer  ship  dog   ship  frog  dog   truck ship  frog  cat   plane frog  truck frog  deer  plane frog  car   deer  car   truck cat   bird  frog  plane truck frog  car   frog  dog   deer  car   dog   dog   cat   truck plane car   ship  ship  plane truck horse frog  car   bird  truck horse deer  frog  truck bird  truck car   ship  dog   frog  cat   car   deer  frog  truck bird  car   frog  bird  plane car   cat   deer  bird  frog  horse ship  car   car   plane ship  deer  ship  truck dog   cat   frog  horse car   ship  dog   frog  truck bird  horse bird  truck car   horse ship  cat   ship  cat   cat   frog  truck bird  car   truck dog   dog   frog  plane deer  cat   horse truck dog   plane cat   frog  car   frog  dog   truck car   frog  deer  bird  car   ship  car   horse cat   deer  deer  truck truck cat   ship  bird  car   horse plane bird  horse frog  frog  horse horse car   frog  truck frog  ship  ship  truck frog  deer  bird  deer  horse plane horse horse deer  frog  bird  cat   bird  ship  cat   frog  frog  car   ship  bird  frog  frog  ship  truck bird  cat   cat   deer  ship  frog  cat   frog  bird  plane truck cat   dog   car   car   ship  plane horse ship  dog   frog  car   truck plane truck horse plane cat   horse deer  deer  dog   bird  cat   horse horse ship  cat   frog  horse truck bird  cat   horse deer  plane ship  ship  ship  dog   dog   truck cat   frog  cat   car   truck deer  horse horse dog   ship  bird  deer  horse plane deer  truck plane plane truck car   truck frog  car   frog  frog  cat   deer  dog   plane truck ship  dog   bird  car   bird  car   ship  bird  dog   cat   dog   truck deer  deer  horse truck truck truck car   frog  car   frog  horse horse dog   car   deer  cat   frog  truck cat   cat   horse frog  cat   ship  horse bird  ship  bird  cat   ship  ship  horse horse truck bird  ship  plane ship  cat   bird  truck horse car   frog  deer  horse plane bird  truck bird  car   horse ship  dog   truck horse deer  frog  horse cat   dog   frog  car   ship  bird  plane plane bird  horse plane cat   horse frog  plane cat   truck dog   frog  frog  cat   bird  horse plane cat   horse cat   plane frog  dog   car   cat   truck frog  truck bird  plane horse plane cat   bird  plane deer  car   dog   cat   car   plane dog   truck ship  bird  ship  car   plane car   dog   bird  car   car   dog   frog  frog  car   cat   horse ship  deer  plane truck ship  frog  truck truck frog  horse plane horse bird  bird  deer  cat   frog  truck cat   cat   dog   horse deer  plane bird  cat   car   cat   deer  cat   deer  horse truck deer  dog   horse cat   bird  truck horse deer  deer  ship  frog  ship  frog  horse dog   plane dog   bird  frog  truck deer  car   horse truck ship  plane car   horse truck ship  dog   bird  truck dog   horse horse bird  horse ship  deer  ship  plane frog  ship  bird  frog  frog  cat   dog   deer  dog   truck cat   ship  deer  frog  truck frog  ship  plane ship  plane plane cat   truck car   cat   horse plane truck dog   frog  bird  plane horse dog   plane deer  deer  dog   car   plane plane cat   dog   bird  frog  plane truck car   ship  truck truck car   bird  bird  truck dog   horse truck car   horse plane cat   horse cat   car   truck truck cat   bird  frog  cat   horse plane bird  car   horse car   deer  car   truck deer  cat   ship  plane horse horse plane deer  dog   car   deer  car   frog  car   plane cat   ship  frog  horse car   frog  frog  deer  horse frog  bird  car   ship  car   car   horse frog  car   frog  deer  plane car   dog   deer  ship  bird  deer  cat   car   truck car   car   plane ship  deer  car   cat   ship  dog   horse horse cat   cat   bird  deer  horse frog  cat   frog  horse plane plane ship  plane deer  horse bird  car   ship  car   plane plane frog  horse plane dog   frog  frog  car   ship  ship  car   car   car   cat   bird  deer  car   deer  car   plane ship  frog  truck plane dog   bird  plane truck cat   dog   frog  car   plane dog   cat   car   horse horse truck truck deer  cat   horse frog  plane horse car   frog  deer  deer  cat   frog  dog   plane horse cat   ship  dog   deer  horse truck horse ship  truck plane truck deer  truck ship  horse ship  frog  dog   cat   cat   plane car   dog   bird  plane car   plane cat   bird  dog   dog   dog   horse horse cat   dog   deer  cat   ship  bird  frog  car   plane dog   dog   horse horse plane cat   frog  cat   horse horse bird  car   plane truck frog  bird  car   plane plane frog  bird  ship  dog   ship  bird  truck frog  cat   truck dog   cat   ship  deer  truck truck dog   plane frog  deer  frog  horse bird  bird  cat   frog  bird  frog  bird  ship  horse cat   truck car   ship  truck plane frog  ship  bird  dog   dog   deer  cat   bird  truck dog   deer  plane bird  car   dog   cat   plane dog   deer  frog  cat   truck cat   bird  horse bird  bird  ship  ship  dog   cat   dog   dog   car   frog  dog   plane cat   deer  bird  cat   bird  bird  cat   dog   cat   car   deer  plane frog  frog  dog   car   frog  horse ship  frog  dog   deer  car   ship  bird  dog   car   frog  bird  dog   car   dog   frog  dog   deer  horse car   plane cat   bird  plane dog   ship  plane bird  cat   dog   dog   car   truck dog   truck frog  plane deer  deer  bird  car   bird  frog  cat   deer  plane cat   truck dog   dog   dog   dog   horse dog   dog   horse deer  ship  bird  plane plane ship  car   truck truck car   truck truck plane frog  frog  dog   frog  deer  frog  frog  cat   truck deer  deer  deer  cat   deer  deer  bird  frog  deer  bird  horse plane horse frog  bird  deer  truck deer  dog   truck plane cat   car   dog   truck truck deer  plane plane plane cat   ship  cat   deer  dog   car   plane ship  truck plane truck horse frog  horse deer  deer  deer  ship  horse frog  deer  truck plane bird  truck dog   deer  bird  ship  ship  bird  deer  horse truck ship  deer  ship  ship  cat   frog  cat   truck cat   ship  horse ship  plane dog   ship  horse bird  bird  bird  car   deer  bird  cat   bird  ship  truck cat   cat   car   frog  cat   plane truck dog   truck horse cat   cat   ship  plane deer  cat   dog   plane cat   car   frog  horse truck car   ship  frog  horse deer  car   bird  cat   horse ship  cat   truck deer  plane ship  truck bird  frog  horse ship  frog  ship  horse deer  car   cat   plane ship  horse truck truck truck truck truck plane truck horse plane dog   deer  deer  deer  ship  deer  ship  bird  truck plane ship  car   ship  deer  deer  truck truck bird  plane deer  car   truck car   truck ship  bird  car   car   deer  ship  ship  truck cat   cat   bird  frog  frog  truck car   plane dog   plane truck bird  ship  bird  dog   car   frog  cat   cat   cat   cat   car   truck plane deer  deer  car   cat   frog  frog  horse dog   frog  dog   frog  horse ship  horse frog  truck dog   plane car   ship  deer  dog   plane truck horse car   horse bird  plane horse cat   horse ship  truck car   ship  car   dog   deer  frog  deer  dog   horse frog  frog  bird  cat   plane dog   deer  plane bird  frog  deer  deer  car   bird  plane horse dog   car   cat   ship  deer  cat   car   deer  plane truck plane car   deer  deer  plane truck ship  car   horse bird  deer  deer  car   frog  frog  cat   bird  plane car   cat   car   cat   ship  deer  plane plane cat   plane plane car   cat   bird  bird  frog  cat   bird  ship  car   car   plane deer  truck frog  bird  deer  car   plane frog  truck bird  dog   bird  plane plane cat   deer  deer  truck frog  deer  ship  car   deer  cat   frog  ship  cat   truck truck bird  frog  horse cat   deer  frog  plane dog   plane frog  horse horse dog   plane deer  car   plane plane plane car   cat   cat   ship  plane truck horse truck bird  bird  horse frog  horse bird  frog  deer  frog  truck cat   cat   plane bird  truck deer  plane horse bird  truck bird  ship  car   deer  horse ship  cat   ship  deer  frog  plane bird  bird  plane dog   horse truck ship  cat   plane horse horse plane dog   cat   bird  ship  plane cat   ship  frog  frog  plane dog   dog   car   car   cat   horse plane car   ship  truck deer  bird  dog   frog  dog   deer  bird  frog  horse bird  dog   deer  ship  deer  truck car   truck bird  car   dog   cat   plane cat   cat   plane truck cat   deer  frog  bird  car   frog  bird  truck frog  frog  cat   horse frog  truck plane frog  deer  deer  horse plane bird  cat   frog  deer  car   truck plane ship  dog   bird  frog  plane ship  ship  car   deer  dog   bird  deer  car   horse deer  plane plane frog  frog  ship  dog   bird  deer  deer  frog  car   horse deer  dog   horse plane car   frog  dog   bird  deer  car   frog  ship  horse truck plane frog  frog  ship  car   truck frog  horse deer  frog  dog   frog  horse dog   cat   frog  plane plane cat   frog  horse frog  dog   car   ship  dog   plane horse ship  frog  truck ship  horse frog  horse plane frog  deer  frog  plane deer  plane dog   horse dog   horse car   frog  truck car   bird  frog  horse cat   cat   deer  dog   car   frog  plane truck plane truck dog   car   ship  dog   dog   cat   dog   frog  cat   plane horse dog   horse horse dog   frog  plane ship  cat   bird  ship  deer  deer  ship  frog  horse dog   frog  dog   cat   truck truck cat   plane cat   horse truck dog   dog   cat   bird  horse horse horse bird  frog  dog   truck frog  car   cat   cat   ship  frog  horse plane horse car   truck deer  horse horse truck frog  car   plane dog   ship  horse truck bird  plane dog   bird  dog   cat   bird  bird  car   ship  frog  bird  horse frog  frog  car   deer  bird  bird  cat   cat   cat   ship  frog  frog  truck car   bird  ship  car   frog  plane frog  ship  dog   bird  truck dog   bird  dog   ship  horse horse bird  bird  cat   deer  dog   truck truck truck deer  cat   plane horse bird  dog   ship  deer  horse dog   deer  cat   bird  car   plane truck ship  ship  car   plane bird  ship  ship  horse cat   horse car   bird  plane frog  ship  bird  dog   truck car   truck cat   deer  cat   ship  frog  horse plane plane cat   horse horse dog   dog   truck frog  horse ship  ship  car   frog  plane horse dog   horse bird  ship  bird  plane horse bird  plane frog  horse horse dog   dog   ship  car   truck car   plane deer  deer  plane car   truck frog  plane deer  cat   deer  deer  plane car   horse cat   plane truck plane cat   truck deer  horse truck plane cat   horse dog   ship  car   cat   cat   ship  bird  frog  cat   car   horse bird  frog  bird  horse ship  frog  frog  dog   plane cat   bird  horse ship  bird  cat   frog  plane horse ship  bird  horse bird  truck truck bird  horse cat   car   deer  deer  plane truck horse horse plane ship  dog   bird  dog   plane dog   car   truck deer  cat   frog  plane frog  truck plane dog   deer  dog   dog   dog   frog  deer  bird  ship  ship  truck ship  horse car   cat   plane horse deer  truck ship  dog   deer  dog   plane bird  frog  deer  plane bird  cat   bird  truck truck deer  plane bird  frog  plane cat   frog  car   bird  deer  frog  bird  plane frog  dog   frog  deer  plane bird  horse deer  cat   horse ship  cat   car   truck deer  car   bird  bird  bird  plane car   plane car   frog  bird  deer  dog   frog  ship  car   bird  cat   frog  deer  horse deer  cat   deer  plane bird  frog  deer  horse cat   car   car   truck car   plane deer  truck ship  truck bird  truck bird  dog   bird  dog   frog  horse cat   horse deer  frog  plane plane cat   horse ship  cat   cat   cat   car   plane dog   truck bird  plane frog  bird  frog  horse cat   car   horse cat   deer  deer  horse bird  frog  dog   bird  bird  car   horse truck frog  car   horse car   frog  cat   ship  horse ship  ship  cat   deer  dog   truck dog   car   car   frog  plane cat   frog  plane car   bird  plane dog   plane truck plane ship  ship  frog  cat   deer  plane bird  bird  deer  truck frog  deer  frog  car   dog   car   plane horse bird  ship  truck frog  cat   truck deer  cat   car   dog   frog  bird  cat   horse dog   dog   ship  truck cat   deer  deer  frog  ship  bird  bird  car   cat   plane frog  dog   car   truck dog   ship  bird  ship  horse truck plane car   horse plane ship  truck ship  frog  frog  plane frog  ship  frog  deer  cat   car   horse cat   ship  cat   dog   frog  plane ship  deer  car   plane bird  ship  cat   bird  cat   cat   horse bird  deer  deer  ship  car   cat   plane dog   horse ship  frog  car   bird  cat   plane horse dog   deer  plane frog  bird  frog  horse truck car   frog  frog  cat   frog  cat   deer  car   ship  dog   deer  deer  bird  plane ship  ship  truck deer  bird  ship  deer  truck deer  dog   deer  car   plane truck ship  frog  cat   dog   ship  truck truck ship  bird  horse cat   truck ship  deer  cat   frog  truck plane bird  horse car   bird  bird  horse dog   truck cat   bird  truck car   ship  deer  frog  bird  plane plane car   deer  cat   truck cat   frog  car   dog   plane car   cat   deer  truck ship  horse dog   truck car   cat   horse frog  cat   deer  horse cat   dog   plane cat   cat   dog   car   truck bird  cat   truck car   car   frog  bird  deer  truck truck horse car   dog   frog  cat   truck horse deer  cat   horse cat   deer  dog   ship  cat   cat   horse plane bird  plane truck horse car   truck deer  deer  frog  cat   deer  bird  bird  frog  truck horse frog  plane frog  dog   plane plane cat   plane car   ship  truck dog   frog  cat   truck bird  truck truck bird  horse deer  car   truck cat   cat   truck frog  deer  deer  ship  car   dog   dog   bird  deer  ship  ship  dog   truck bird  dog   dog   truck truck plane frog  car   bird  truck car   truck deer  horse cat   deer  bird  car   dog   ship  car   plane horse plane ship  dog   ship  plane horse horse horse ship  truck cat   frog  horse cat   truck dog   truck car   frog  deer  dog   dog   plane car   deer  cat   truck frog  horse bird  deer  ship  car   dog   deer  cat   car   plane plane plane cat   ship  ship  truck plane bird  deer  deer  bird  bird  car   deer  horse truck dog   dog   truck deer  horse bird  deer  plane horse horse plane deer  horse truck frog  plane ship  cat   bird  dog   horse deer  cat   plane frog  horse deer  car   bird  frog  plane car   bird  truck horse dog   dog   horse car   cat   deer  car   deer  bird  truck truck cat   dog   frog  plane ship  bird  dog   frog  frog  plane deer  dog   dog   frog  bird  deer  dog   truck frog  bird  truck frog  dog   bird  car   horse bird  truck frog  bird  bird  dog   cat   bird  horse ship  cat   plane horse bird  deer  deer  bird  truck ship  car   frog  car   plane truck car   frog  deer  frog  ship  bird  dog   ship  bird  truck dog   frog  cat   bird  frog  horse truck deer  deer  car   deer  cat   deer  deer  cat   car   deer  dog   deer  frog  dog   cat   plane dog   cat   ship  dog   cat   frog  horse deer  plane ship  ship  horse cat   plane cat   car   horse truck frog  car   cat   deer  cat   cat   car   frog  car   truck car   dog   car   deer  frog  truck horse truck cat   truck deer  plane ship  car   dog   bird  horse dog   deer  deer  dog   plane frog  car   ship  horse car   deer  dog   frog  truck dog   plane horse truck deer  ship  plane horse horse car   frog  cat   truck ship  frog  horse cat   horse truck truck dog   car   dog   frog  bird  plane bird  deer  dog   dog   cat   frog  dog   deer  truck dog   ship  dog   plane dog   dog   car   dog   cat   cat   deer  frog  ship  plane bird  deer  ship  truck frog  plane horse cat   deer  plane bird  plane bird  plane ship  plane plane plane car   bird  deer  car   horse horse dog   truck dog   ship  car   ship  deer  bird  deer  ship  plane cat   car   car   truck dog   truck ship  cat   ship  car   car   bird  cat   plane ship  ship  truck car   cat   bird  cat   bird  car   bird  ship  ship  deer  bird  dog   ship  horse frog  dog   ship  horse truck bird  bird  car   cat   frog  frog  dog   car   plane bird  deer  plane bird  dog   dog   car   ship  bird  cat   car   dog   horse horse dog   truck bird  bird  truck truck horse frog  horse bird  deer  truck dog   cat   horse plane car   bird  car   cat   cat   dog   deer  horse horse dog   dog   dog   car   frog  dog   dog   frog  ship  horse cat   horse cat   dog   truck car   frog  cat   bird  deer  cat   dog   cat   plane dog   deer  horse frog  ship  deer  truck cat   deer  cat   truck deer  ship  truck horse frog  frog  ship  horse ship  dog   frog  plane frog  deer  deer  frog  ship  truck dog   dog   horse cat   deer  horse cat   ship  car   horse car   car   horse bird  bird  ship  cat   deer  truck ship  plane ship  dog   frog  dog   plane horse dog   truck horse frog  bird  dog   horse dog   dog   bird  deer  frog  ship  deer  frog  horse deer  car   deer  deer  ship  frog  car   car   plane ship  plane ship  ship  horse truck frog  deer  dog   horse cat   deer  plane horse horse truck dog   cat   bird  deer  deer  horse car   truck horse horse plane frog  deer  car   frog  frog  deer  car   frog  bird  cat   plane frog  ship  deer  frog  dog   dog   dog   horse deer  car   car   deer  ship  cat   horse cat   horse cat   ship  deer  plane cat   deer  truck plane bird  bird  frog  cat   car   deer  dog   truck truck ship  dog   deer  plane plane plane ship  deer  ship  car   cat   truck car   cat   cat   car   horse frog  plane horse horse cat   frog  dog   dog   ship  horse frog  bird  dog   ship  frog  car   deer  dog   truck plane truck plane frog  ship  plane truck dog   frog  plane car   horse ship  cat   bird  cat   dog   bird  plane dog   plane cat   ship  plane frog  horse dog   ship  ship  deer  horse cat   frog  dog   ship  frog  bird  cat   dog   frog  dog   car   horse horse horse bird  bird  horse cat   plane bird  dog   horse frog  cat   bird  truck plane truck dog   car   truck dog   bird  frog  dog   horse truck deer  dog   car   ship  ship  horse car   car   deer  frog  dog   plane truck frog  horse truck cat   deer  frog  ship  car   deer  horse horse deer  dog   horse car   horse cat   cat   dog   deer  cat   cat   truck deer  deer  cat   car   plane truck ship  dog   deer  horse bird  horse ship  horse truck plane plane frog  cat   ship  car   deer  bird  ship  plane truck dog   truck bird  horse car   plane ship  frog  bird  dog   ship  frog  truck deer  car   horse truck deer  car   horse frog  plane plane ship  car   plane plane cat   frog  cat   frog  cat   truck ship  plane bird  deer  deer  car   horse truck horse dog   ship  car   bird  cat   deer  dog   truck frog  plane horse dog   car   bird  car   deer  deer  deer  horse dog   ship  ship  bird  bird  truck bird  bird  horse frog  frog  horse bird  dog   cat   bird  ship  plane truck dog   frog  frog  plane deer  bird  ship  horse ship  frog  plane dog   ship  plane deer  frog  dog   deer  deer  deer  car   dog   ship  deer  ship  bird  plane horse car   deer  bird  deer  ship  car   car   frog  dog   car   frog  cat   dog   truck deer  car   frog  bird  dog   ship  deer  cat   ship  horse plane truck deer  ship  cat   horse ship  cat   deer  cat   plane dog   car   bird  truck dog   deer  horse dog   cat   deer  dog   truck dog   plane dog   deer  horse dog   deer  plane bird  truck dog   frog  plane deer  dog   cat   frog  car   dog   horse deer  cat   cat   cat   plane cat   plane ship  deer  cat   plane dog   horse bird  horse deer  plane bird  truck dog   frog  ship  horse plane car   deer  frog  bird  car   ship  ship  dog   bird  cat   cat   deer  horse truck car   bird  truck deer  plane car   truck plane bird  deer  ship  truck plane horse cat   truck dog   cat   plane plane cat   bird  car   car   dog   deer  bird  frog  dog   deer  deer  bird  cat   ship  truck car   plane cat   frog  car   cat   bird  horse cat   horse plane bird  dog   cat   bird  ship  dog   car   cat   cat   frog  truck deer  cat   bird  truck frog  bird  dog   bird  truck car   bird  ship  frog  car   car   cat   dog   deer  truck cat   bird  truck dog   plane car   ship  horse ship  plane cat   horse ship  plane deer  bird  deer  horse dog   bird  car   horse cat   bird  deer  truck ship  frog  horse frog  horse deer  cat   ship  bird  horse dog   deer  plane dog   frog  frog  bird  truck deer  frog  frog  horse plane car   ship  bird  ship  cat   truck bird  cat   frog  horse plane bird  car   car   deer  plane dog   horse horse dog   deer  truck bird  car   dog   ship  dog   ship  car   dog   cat   plane dog   ship  car   frog  truck dog   truck frog  horse plane truck ship  dog   car   car   horse frog  dog   plane ship  plane frog  plane horse horse car   frog  horse deer  cat   dog   ship  car   frog  frog  cat   frog  horse frog  frog  dog   plane ship  horse bird  dog   cat   ship  horse car   frog  car   ship  truck car   bird  dog   dog   ship  truck horse dog   dog   bird  car   ship  car   dog   truck bird  cat   deer  bird  horse bird  plane ship  cat   frog  deer  truck deer  car   plane ship  horse dog   plane frog  cat   bird  cat   frog  horse horse ship  plane frog  cat   car   ship  deer  deer  deer  deer  bird  car   plane deer  truck dog   deer  dog   truck frog  car   truck car   bird  dog   ship  truck bird  bird  truck plane cat   frog  bird  plane car   car   ship  bird  frog  plane deer  car   bird  plane dog   dog   ship  truck bird  frog  horse car   dog   ship  frog  ship  truck horse car   ship  horse plane plane cat   cat   deer  truck ship  ship  plane plane frog  ship  horse truck truck plane frog  dog   cat   horse bird  cat   frog  bird  truck plane plane dog   cat   car   frog  truck horse cat   deer  horse frog  horse deer  car   plane car   car   cat   truck frog  truck car   plane dog   dog   car   frog  truck ship  car   cat   ship  frog  dog   dog   bird  frog  ship  plane ship  cat   frog  dog   frog  dog   plane ship  deer  plane frog  frog  car   plane ship  truck deer  ship  plane dog   truck ship  car   cat   truck frog  bird  ship  car   dog   cat   cat   bird  ship  car   frog  bird  horse frog  cat   deer  deer  horse car   ship  deer  ship  cat   bird  car   deer  car   ship  horse ship  deer  frog  dog   deer  cat   cat   plane frog  ship  horse car   cat   deer  horse car   car   deer  bird  frog  plane deer  frog  dog   truck car   frog  plane plane frog  car   horse deer  dog   bird  deer  frog  plane dog   truck bird  car   cat   dog   ship  dog   car   plane truck cat   horse frog  truck plane cat   truck deer  deer  deer  car   dog   ship  dog   horse bird  horse cat   dog   cat   car   dog   deer  dog   cat   horse deer  ship  bird  cat   ship  bird  ship  deer  dog   cat   truck car   bird  bird  cat   truck deer  cat   truck horse bird  deer  frog  bird  truck deer  ship  horse car   frog  plane ship  deer  frog  cat   dog   ship  bird  dog   dog   bird  dog   frog  truck plane ship  horse deer  plane truck bird  dog   cat   horse frog  frog  deer  frog  ship  frog  frog  frog  truck cat   truck plane horse car   frog  deer  ship  car   dog   bird  cat   plane horse frog  frog  dog   horse truck frog  deer  truck horse plane truck dog   dog   ship  ship  dog   frog  plane plane deer  car   truck car   ship  frog  dog   deer  deer  car   dog   ship  bird  horse cat   bird  horse dog   car   bird  horse dog   ship  car   horse cat   deer  dog   dog   truck horse horse ship  ship  plane cat   plane frog  dog   frog  cat   truck plane frog  dog   plane ship  plane car   cat   horse cat   deer  dog   bird  plane dog   cat   plane dog   cat   truck plane ship  truck plane bird  cat   plane bird  cat   deer  car   car   truck frog  horse horse ship  bird  deer  horse deer  cat   truck bird  deer  frog  truck dog   plane deer  horse ship  car   frog  ship  frog  deer  ship  truck ship  cat   frog  frog  deer  plane truck bird  car   ship  bird  frog  bird  deer  cat   cat   truck ship  bird  ship  dog   ship  dog   cat   car   frog  bird  plane frog  truck dog   truck horse frog  truck truck horse dog   ship  frog  car   bird  cat   frog  car   truck frog  ship  bird  ship  ship  plane plane deer  ship  frog  truck truck ship  horse bird  ship  frog  deer  deer  frog  bird  car   bird  deer  deer  bird  cat   frog  horse cat   dog   ship  truck bird  frog  plane ship  cat   bird  frog  car   frog  plane dog   truck deer  ship  truck horse bird  ship  ship  truck truck plane dog   car   truck dog   truck cat   bird  car   truck cat   frog  bird  horse cat   dog   horse plane frog  car   horse deer  horse bird  dog   horse car   car   bird  car   plane truck ship  dog   truck bird  horse cat   ship  frog  frog  horse deer  ship  cat   plane frog  horse car   dog   bird  frog  bird  horse truck car   truck plane dog   bird  ship  horse dog   dog   deer  bird  car   truck cat   deer  frog  car   frog  plane dog   ship  deer  cat   plane horse deer  dog   deer  deer  plane cat   car   cat   frog  bird  deer  frog  frog  car   plane plane car   deer  frog  truck deer  horse truck dog   bird  horse horse bird  deer  deer  dog   dog   car   horse cat   car   deer  dog   truck cat   cat   cat   ship  car   car   dog   dog   deer  truck frog  plane plane ship  frog  ship  plane car   bird  plane deer  dog   frog  deer  plane plane plane truck cat   deer  truck ship  frog  horse deer  car   plane bird  car   ship  ship  dog   horse horse horse dog   frog  truck cat   frog  cat   ship  deer  frog  truck dog   frog  dog   deer  truck ship  car   ship  truck dog   cat   frog  bird  horse truck truck dog   ship  bird  cat   deer  car   car   deer  deer  horse frog  car   car   bird  frog  truck car   frog  ship  ship  ship  car   deer  truck plane horse ship  ship  truck plane deer  dog   plane car   horse horse frog  bird  truck frog  frog  car   plane horse plane truck truck cat   frog  frog  plane frog  truck ship  car   bird  deer  cat   horse ship  car   bird  plane horse truck bird  cat   horse ship  plane deer  horse ship  plane deer  car   ship  truck ship  horse bird  ship  plane dog   ship  horse truck deer  bird  dog   dog   dog   ship  bird  plane car   dog   truck horse cat   cat   truck ship  cat   car   ship  horse ship  frog  cat   cat   ship  truck cat   cat   ship  cat   plane plane ship  horse car   frog  deer  deer  truck truck cat   ship  deer  car   plane car   dog   deer  bird  dog   dog   horse truck bird  cat   dog   deer  frog  deer  plane cat   plane cat   car   ship  cat   truck frog  horse cat   bird  cat   car   plane ship  cat   horse dog   dog   plane plane deer  car   deer  horse truck dog   truck bird  bird  horse ship  car   car   cat   cat   truck ship  horse truck horse cat   car   dog   frog  plane truck cat   truck horse ship  ship  bird  truck truck cat   deer  deer  deer  frog  truck car   dog   truck plane horse cat   truck dog   ship  plane dog   car   frog  dog   truck horse horse bird  deer  ship  plane cat   plane plane cat   bird  car   ship  horse frog  dog   bird  car   truck ship  deer  plane bird  ship  cat   horse frog  frog  car   truck truck cat   ship  truck horse cat   plane cat   frog  plane ship  bird  truck car   deer  dog   ship  car   deer  frog  cat   horse ship  truck bird  car   frog  horse truck dog   cat   car   dog   bird  truck bird  horse horse plane bird  deer  plane car   bird  deer  deer  cat   ship  car   plane ship  bird  deer  plane truck ship  bird  dog   horse plane dog   truck bird  truck dog   frog  truck car   truck cat   deer  dog   car   deer  car   ship  truck horse car   dog   deer  cat   ship  truck car   bird  deer  dog   bird  deer  plane plane truck cat   plane horse deer  horse cat   bird  cat   car   truck truck ship  truck horse truck horse plane cat   frog  horse cat   bird  plane cat   car   cat   bird  truck truck truck ship  truck frog  deer  frog  frog  deer  truck bird  truck deer  car   car   horse horse bird  car   ship  cat   dog   car   frog  horse car   dog   frog  ship  bird  truck frog  ship  ship  frog  ship  frog  bird  truck ship  frog  bird  cat   bird  plane plane bird  bird  ship  truck truck car   ship  cat   truck car   deer  dog   truck ship  ship  plane plane dog   cat   ship  cat   truck ship  bird  dog   bird  car   plane cat   bird  horse bird  deer  cat   dog   bird  deer  cat   deer  dog   ship  horse dog   horse plane deer  deer  car   ship  horse ship  truck truck ship  cat   bird  frog  dog   horse horse ship  cat   horse dog   frog  deer  truck ship  dog   bird  deer  truck car   truck truck car   car   frog  deer  truck truck cat   car   frog  horse plane dog   cat   plane bird  truck plane plane frog  frog  plane cat   truck ship  horse car   ship  dog   ship  horse dog   cat   truck truck horse bird  horse deer  ship  ship  car   horse car   cat   cat   cat   horse bird  bird  deer  truck horse bird  car   deer  car   dog   plane bird  car   ship  frog  frog  frog  bird  cat   deer  bird  dog   truck bird  truck horse cat   cat   plane car   car   ship  cat   ship  car   dog   bird  horse car   deer  bird  car   plane horse ship  ship  car   ship  bird  bird  truck ship  cat   horse car   ship  ship  bird  plane deer  cat   bird  ship  frog  dog   ship  dog   dog   ship  ship  plane frog  dog   frog  dog   cat   cat   ship  truck cat   ship  car   dog   dog   car   ship  car   car   plane truck ship  ship  horse dog   cat   truck horse car   horse car   bird  horse dog   deer  ship  ship  plane plane dog   ship  frog  frog  cat   horse bird  car   ship  frog  plane dog   truck deer  dog   car   cat   dog   bird  truck car   horse dog   plane ship  ship  cat   cat   plane car   frog  cat   horse car   deer  deer  truck cat   frog  frog  truck plane dog   bird  horse plane frog  frog  deer  bird  dog   bird  ship  ship  bird  plane deer  dog   plane bird  frog  bird  car   deer  dog   ship  bird  ship  bird  dog   dog   ship  deer  dog   ship  plane ship  horse dog   deer  plane bird  bird  truck frog  dog   dog   plane car   ship  frog  horse horse frog  deer  bird  truck truck cat   ship  dog   car   frog  truck bird  truck frog  dog   ship  deer  plane dog   plane frog  frog  plane bird  cat   truck deer  bird  cat   bird  dog   plane horse truck deer  car   truck car   ship  plane car   bird  car   bird  plane cat   deer  cat   frog  frog  plane frog  cat   truck deer  bird  dog   dog   cat   ship  deer  deer  cat   deer  cat   frog  horse plane horse bird  cat   truck car   truck ship  car   horse bird  plane truck frog  plane ship  plane bird  car   deer  ship  horse ship  deer  truck bird  car   horse cat   car   truck frog  bird  frog  car   horse horse cat   ship  deer  bird  frog  ship  truck cat   cat   deer  car   frog  dog   bird  deer  bird  cat   dog   frog  cat   horse ship  plane frog  dog   deer  car   dog   truck deer  truck deer  plane deer  plane truck plane frog  ship  bird  plane car   deer  cat   ship  frog  horse plane cat   deer  dog   deer  frog  truck deer  ship  horse deer  car   deer  truck horse dog   ship  dog   plane horse truck frog  frog  ship  frog  ship  plane bird  plane cat   bird  bird  cat   horse truck deer  dog   deer  cat   car   truck horse frog  dog   truck bird  horse ship  truck car   dog   plane truck truck truck frog  horse horse truck ship  dog   dog   horse bird  deer  frog  horse deer  horse horse plane dog   truck cat   car   plane truck ship  deer  horse car   bird  ship  bird  deer  horse deer  cat   truck truck frog  plane ship  deer  dog   dog   cat   bird  truck bird  deer  deer  cat   bird  horse horse plane bird  bird  ship  horse truck truck ship  horse plane deer  car   cat   dog   plane cat   car   cat   frog  car   dog   horse plane car   plane deer  ship  truck car   bird  plane horse deer  frog  cat   horse frog  horse ship  ship  frog  plane ship  plane car   horse car   dog   ship  car   frog  dog   ship  truck plane deer  plane car   deer  car   car   frog  ship  cat   plane cat   truck bird  plane bird  car   cat   truck car   ship  cat   plane truck deer  cat   horse cat   frog  car   ship  cat   cat   ship  frog  dog   plane truck car   bird  bird  frog  cat   frog  bird  deer  truck deer  dog   car   frog  dog   frog  plane truck horse bird  truck frog  dog   cat   dog   truck car   cat   ship  cat   bird  ship  car   ship  frog  bird  horse frog  bird  truck deer  bird  truck bird  car   car   deer  deer  frog  dog   truck bird  car   horse ship  plane cat   plane bird  frog  deer  deer  bird  frog  car   plane ship  truck car   dog   car   horse plane bird  cat   car   cat   ship  horse deer  dog   car   deer  bird  bird  truck frog  cat   deer  dog   horse cat   car   truck plane plane plane horse dog   deer  ship  plane ship  truck horse horse dog   plane plane bird  horse deer  dog   ship  car   deer  car   ship  car   frog  cat   plane horse deer  truck deer  cat   frog  truck deer  horse bird  ship  car   frog  bird  dog   bird  horse frog  ship  cat   cat   dog   car   dog   dog   cat   bird  frog  cat   horse dog   ship  horse plane frog  car   car   plane deer  cat   truck horse frog  bird  deer  bird  ship  dog   car   truck dog   frog  ship  frog  horse deer  ship  ship  plane plane cat   frog  cat   deer  deer  deer  plane plane car   car   frog  horse cat   dog   ship  ship  truck deer  deer  deer  horse cat   plane bird  cat   plane frog  car   bird  plane truck car   horse cat   cat   plane car   deer  dog   frog  deer  deer  deer  ship  car   frog  truck car   dog   frog  car   frog  frog  plane car   horse cat   truck truck truck dog   car   frog  deer  cat   cat   cat   frog  bird  frog  bird  car   frog  bird  cat   truck car   truck bird  frog  plane ship  cat   truck car   bird  cat   car   deer  deer  ship  car   truck ship  ship  frog  plane dog   truck frog  cat   car   ship  bird  horse plane truck plane ship  cat   frog  frog  car   truck frog  horse frog  plane dog   plane frog  dog   car   car   car   car   horse frog  ship  deer  dog   deer  plane frog  ship  plane dog   bird  plane horse plane horse cat   frog  bird  bird  ship  car   ship  cat   frog  ship  dog   frog  dog   dog   horse cat   car   truck plane ship  frog  deer  plane dog   dog   dog   truck cat   dog   horse ship  truck plane truck truck deer  bird  deer  plane car   car   cat   car   plane bird  cat   horse car   horse deer  horse truck bird  dog   deer  cat   car   ship  plane frog  deer  frog  cat   truck ship  ship  ship  cat   horse cat   car   ship  cat   cat   plane ship  deer  frog  car   cat   truck car   dog   car   horse frog  car   dog   dog   dog   ship  cat   dog   bird  bird  truck car   car   horse bird  frog  dog   truck ship  plane plane horse bird  horse ship  frog  bird  horse frog  frog  deer  horse bird  car   ship  deer  truck truck bird  car   frog  car   cat   deer  deer  cat   truck frog  car   deer  cat   dog   bird  bird  car   truck plane plane frog  cat   plane horse cat   deer  truck bird  dog   bird  horse truck deer  ship  horse bird  car   truck cat   bird  deer  horse car   horse ship  cat   horse ship  deer  deer  dog   horse cat   cat   ship  bird  deer  car   bird  ship  cat   cat   car   dog   truck ship  dog   plane car   deer  car   truck ship  ship  horse bird  bird  plane deer  bird  frog  horse car   car   horse car   cat   frog  dog   plane ship  truck plane dog   dog   plane plane truck dog   frog  cat   frog  ship  dog   car   dog   dog   truck truck dog   frog  ship  horse truck car   plane cat   dog   bird  bird  horse dog   horse truck bird  horse frog  deer  frog  frog  car   bird  frog  dog   deer  car   dog   cat   bird  horse dog   bird  ship  bird  deer  dog   dog   car   deer  plane dog   cat   truck frog  horse cat   plane deer  dog   deer  ship  deer  bird  frog  horse horse frog  truck frog  cat   cat   frog  horse bird  plane frog  truck ship  plane ship  horse deer  horse plane deer  truck cat   cat   frog  deer  truck ship  car   bird  horse frog  deer  dog   deer  ship  horse car   truck deer  horse bird  truck dog   plane horse frog  deer  frog  car   truck horse deer  frog  horse frog  truck frog  deer  deer  horse plane plane frog  cat   horse horse cat   horse deer  deer  bird  cat   dog   bird  dog   car   dog   car   ship  deer  cat   dog   bird  deer  deer  dog   cat   ship  deer  deer  bird  frog  cat   car   horse ship  bird  deer  bird  car   plane dog   frog  dog   frog  ship  truck cat   car   dog   car   dog   truck ship  dog   frog  cat   truck plane truck dog   bird  plane frog  bird  cat   cat   ship  frog  horse horse car   car   plane cat   deer  plane frog  deer  ship  dog   cat   deer  plane deer  frog  ship  horse plane plane cat   ship  car   plane car   frog  ship  frog  ship  frog  truck ship  ship  ship  plane horse car   deer  horse car   deer  deer  frog  bird  truck truck deer  bird  bird  dog   frog  horse cat   bird  plane dog   cat   ship  bird  plane car   truck ship  frog  truck bird  bird  deer  deer  car   plane frog  dog   plane truck ship  bird  horse car   ship  horse bird  bird  car   frog  dog   plane deer  truck ship  bird  truck cat   cat   plane truck truck deer  cat   dog   horse truck horse truck car   plane frog  dog   truck truck dog   truck frog  deer  car   horse plane dog   horse ship  horse car   dog   plane deer  horse deer  dog   car   cat   truck truck cat   plane deer  car   frog  car   cat   truck car   frog  horse dog   frog  plane cat   frog  deer  bird  truck plane bird  cat   horse truck plane dog   deer  plane ship  deer  horse plane dog   dog   bird  ship  frog  bird  dog   horse horse dog   bird  bird  frog  truck ship  dog   bird  cat   deer  dog   bird  cat   cat   truck car   plane plane deer  plane horse ship  horse horse deer  car   frog  frog  dog   car   deer  truck dog   cat   deer  bird  bird  cat   frog  truck deer  deer  truck cat   ship  car   bird  plane cat   deer  dog   truck cat   horse car   deer  bird  ship  frog  dog   horse bird  horse bird  truck horse plane horse ship  cat   frog  frog  deer  plane deer  bird  plane plane frog  truck ship  frog  plane bird  bird  car   cat   dog   car   bird  deer  ship  cat   deer  ship  frog  car   deer  cat   cat   plane cat   truck car   plane plane horse cat   horse ship  plane deer  cat   truck truck truck car   dog   cat   horse truck dog   deer  frog  horse frog  deer  plane frog  deer  deer  ship  deer  truck truck truck deer  horse horse frog  truck bird  truck cat   horse bird  plane bird  dog   plane dog   dog   horse frog  truck horse ship  horse cat   deer  dog   bird  cat   plane car   cat   bird  bird  plane cat   ship  truck plane dog   truck bird  truck dog   frog  horse deer  truck dog   frog  plane truck cat   deer  ship  car   dog   horse ship  plane bird  frog  horse deer  horse car   truck plane deer  plane bird  bird  plane cat   frog  deer  car   cat   truck truck plane truck horse bird  cat   horse ship  deer  dog   ship  truck car   truck plane plane truck ship  truck truck dog   horse horse horse frog  car   cat   horse car   deer  bird  dog   plane bird  dog   ship  horse dog   deer  deer  deer  cat   truck ship  plane truck deer  frog  frog  plane horse bird  ship  horse frog  car   plane bird  truck bird  cat   frog  frog  ship  car   deer  bird  truck cat   ship  ship  car   truck deer  deer  cat   ship  car   ship  ship  ship  horse frog  plane frog  plane dog   deer  car   dog   dog   cat   truck horse car   plane dog   horse bird  dog   dog   ship  dog   truck plane deer  bird  car   bird  cat   plane plane cat   truck dog   truck ship  bird  dog   car   bird  truck truck horse frog  plane bird  deer  car   ship  truck bird  car   cat   frog  bird  frog  horse horse cat   dog   frog  car   dog   cat   plane car   car   ship  dog   car   cat   ship  horse deer  bird  car   car   frog  dog   bird  frog  truck truck car   plane horse bird  truck dog   frog  frog  frog  horse truck horse bird  plane frog  dog   frog  truck truck truck horse bird  car   cat   ship  deer  horse cat   plane truck cat   car   plane cat   dog   ship  horse truck car   cat   ship  ship  dog   truck bird  frog  cat   truck ship  car   plane ship  horse truck cat   dog   frog  plane plane frog  dog   horse plane dog   dog   car   dog   car   car   truck deer  car   deer  ship  cat   truck frog  bird  dog   ship  cat   ship  dog   ship  ship  ship  bird  car   ship  cat   horse car   dog   truck car   frog  cat   car   cat   plane cat   plane plane plane truck bird  truck horse plane cat   cat   deer  dog   plane dog   dog   bird  truck horse bird  dog   horse deer  deer  dog   plane ship  cat   dog   car   frog  truck plane frog  plane dog   dog   car   dog   bird  truck plane truck cat   dog   truck ship  bird  car   bird  bird  dog   bird  bird  horse car   frog  truck deer  horse cat   car   dog   bird  ship  cat   truck bird  frog  car   dog   horse bird  car   car   dog   bird  plane horse deer  frog  deer  horse dog   deer  cat   cat   bird  bird  truck ship  frog  deer  deer  ship  cat   frog  bird  deer  horse bird  horse ship  bird  truck frog  bird  horse deer  bird  plane truck truck bird  plane bird  deer  frog  frog  horse plane horse deer  truck cat   cat   horse ship  horse plane plane deer  bird  dog   cat   frog  plane car   ship  truck plane ship  truck car   truck cat   car   truck bird  cat   plane deer  deer  horse ship  car   bird  horse deer  dog   truck bird  truck dog   cat   car   bird  ship  car   plane deer  deer  ship  ship  plane frog  dog   truck horse truck bird  cat   truck dog   deer  bird  truck cat   cat   car   horse car   dog   frog  truck deer  dog   plane cat   cat   ship  car   deer  deer  car   ship  truck truck car   dog   car   plane dog   bird  deer  dog   truck bird  plane car   plane truck cat   cat   dog   frog  cat   cat   cat   car   deer  bird  cat   cat   bird  dog   horse deer  car   ship  truck plane deer  ship  frog  plane dog   ship  horse plane frog  dog   plane horse truck ship  bird  ship  dog   cat   deer  ship  frog  truck deer  plane horse deer  car   deer  horse ship  deer  plane car   bird  car   plane ship  car   truck dog   frog  car   frog  dog   plane cat   ship  dog   truck horse\n"
          ]
        }
      ],
      "source": [
        "# functions to show an image for fun\n",
        "\n",
        "\n",
        "def imshow(img):\n",
        "    img = img / 2 + 0.5     # unnormalize\n",
        "    npimg = img.numpy()\n",
        "    plt.imshow(np.transpose(npimg, (1, 2, 0)))\n",
        "    plt.show()\n",
        "\n",
        "\n",
        "# get some random training images\n",
        "dataiter = iter(trainloader)\n",
        "images, labels = next(dataiter)\n",
        "\n",
        "# show images\n",
        "imshow(torchvision.utils.make_grid(images))\n",
        "# print labels\n",
        "print(' '.join(f'{classes[labels[j]]:5s}' for j in range(batch_size)))"
      ]
    },
    {
      "cell_type": "markdown",
      "metadata": {
        "id": "-qKVkHJVVgvw"
      },
      "source": [
        "Building network definition"
      ]
    },
    {
      "cell_type": "code",
      "execution_count": 48,
      "metadata": {
        "id": "oYoYdQqSUh9b"
      },
      "outputs": [],
      "source": [
        "#based on VGG\n",
        "class Net(nn.Module):\n",
        "    def __init__(self):\n",
        "        super(Net, self).__init__()\n",
        "\n",
        "        self.features = nn.Sequential(\n",
        "            nn.Conv2d(3, 64, kernel_size=3, padding=1),\n",
        "            nn.ReLU(inplace=True),\n",
        "            nn.Conv2d(64, 64, kernel_size=3, padding=1),\n",
        "            nn.ReLU(inplace=True),\n",
        "            nn.MaxPool2d(kernel_size=2, stride=2),\n",
        "\n",
        "            nn.Conv2d(64, 128, kernel_size=3, padding=1),\n",
        "            nn.ReLU(inplace=True),\n",
        "            nn.Conv2d(128, 128, kernel_size=3, padding=1),\n",
        "            nn.ReLU(inplace=True),\n",
        "            nn.MaxPool2d(kernel_size=2, stride=2),\n",
        "\n",
        "            nn.Conv2d(128, 256, kernel_size=3, padding=1),\n",
        "            nn.ReLU(inplace=True),\n",
        "            nn.Conv2d(256, 256, kernel_size=3, padding=1),\n",
        "            nn.ReLU(inplace=True),\n",
        "            nn.Conv2d(256, 256, kernel_size=3, padding=1),\n",
        "            nn.ReLU(inplace=True),\n",
        "            nn.MaxPool2d(kernel_size=2, stride=2),\n",
        "        )\n",
        "\n",
        "        self.classifier = nn.Sequential(\n",
        "            nn.Linear(256 * 4 * 4, 1024),\n",
        "            nn.ReLU(inplace=True),\n",
        "            nn.Dropout(),\n",
        "            nn.Linear(1024, 52),\n",
        "            nn.ReLU(inplace=True),\n",
        "            nn.Dropout(),\n",
        "            nn.Linear(52, 10)\n",
        "        )\n",
        "\n",
        "    def forward(self, x):\n",
        "        x = self.features(x)\n",
        "        x = x.view(x.size(0), -1)\n",
        "        x = self.classifier(x)\n",
        "        return x\n",
        "\n",
        "model=Net()"
      ]
    },
    {
      "cell_type": "markdown",
      "metadata": {
        "id": "ZHrwQrmQVsFB"
      },
      "source": [
        "Loading in the model"
      ]
    },
    {
      "cell_type": "code",
      "execution_count": 49,
      "metadata": {
        "colab": {
          "base_uri": "https://localhost:8080/"
        },
        "id": "JCQw57DqVtG2",
        "outputId": "f7735309-0d45-48ec-9865-517b6a41e3bd"
      },
      "outputs": [
        {
          "output_type": "execute_result",
          "data": {
            "text/plain": [
              "<All keys matched successfully>"
            ]
          },
          "metadata": {},
          "execution_count": 49
        }
      ],
      "source": [
        "PATH = ('40_epoch_32_batch_SGD_net.pth')\n",
        "PopModel = Net()\n",
        "PopModel.load_state_dict(torch.load(PATH))"
      ]
    },
    {
      "cell_type": "code",
      "execution_count": 50,
      "metadata": {
        "id": "6DmL7D87WHSv"
      },
      "outputs": [],
      "source": [
        "# Setting all layers to not change their weights with GD backpropagation\n",
        "\n",
        "for param in PopModel.parameters():\n",
        "    # By setting the requires grad for each parameter to false, we no longer track it with autograd\n",
        "    # Consequently, backpropagation or whatever will not compute the gradients for these layers\n",
        "    param.requires_grad = False"
      ]
    },
    {
      "cell_type": "markdown",
      "metadata": {
        "id": "yHLU-wWfWJ5w"
      },
      "source": [
        "Getting the final layer"
      ]
    },
    {
      "cell_type": "code",
      "execution_count": 51,
      "metadata": {
        "colab": {
          "base_uri": "https://localhost:8080/"
        },
        "id": "CZKzgijLWL8c",
        "outputId": "33b4d03f-bcbf-451d-acf3-878b1db64f60"
      },
      "outputs": [
        {
          "output_type": "stream",
          "name": "stdout",
          "text": [
            "Linear(in_features=52, out_features=10, bias=True)\n",
            "10\n",
            "52\n",
            "10\n",
            "530\n"
          ]
        }
      ],
      "source": [
        "finalLayer = PopModel.classifier[-1]\n",
        "\n",
        "print(finalLayer) # 10 features out\n",
        "\n",
        "outerShape = len(finalLayer.weight)\n",
        "innerShape = len(finalLayer.weight[0])\n",
        "\n",
        "totalWeights = outerShape * innerShape\n",
        "\n",
        "print(outerShape) # 10 population size\n",
        "print(innerShape) # 10 arrays, with 52 items in it\n",
        "\n",
        "biasCount = len(finalLayer.bias)\n",
        "print(biasCount)\n",
        "\n",
        "paramCount = sum(param.numel() for param in finalLayer.parameters())\n",
        "\n",
        "print(paramCount) # 530 Parameters: 520 weights + 10 biases\n"
      ]
    },
    {
      "cell_type": "code",
      "execution_count": 52,
      "metadata": {
        "colab": {
          "base_uri": "https://localhost:8080/"
        },
        "id": "l1IWS_xBseI0",
        "outputId": "1a0fb807-2194-46a8-977d-d83bc031f409"
      },
      "outputs": [
        {
          "output_type": "stream",
          "name": "stdout",
          "text": [
            "torch.Size([10, 52])\n",
            "torch.Size([10])\n"
          ]
        },
        {
          "output_type": "stream",
          "name": "stderr",
          "text": [
            "<ipython-input-52-2adc31699e79>:2: UserWarning: nn.init.xavier_uniform is now deprecated in favor of nn.init.xavier_uniform_.\n",
            "  nn.init.xavier_uniform(finalLayer.weight)\n"
          ]
        }
      ],
      "source": [
        "# Randomise final layer weights\n",
        "nn.init.xavier_uniform(finalLayer.weight)\n",
        "print((finalLayer.weight).shape) # Shape that the layer requires is (10,84)\n",
        "print((finalLayer.bias).shape)"
      ]
    },
    {
      "cell_type": "code",
      "execution_count": 53,
      "metadata": {
        "id": "RIo5lWcLt0RW"
      },
      "outputs": [],
      "source": [
        "# Converting weights to a numpy array\n",
        "def convert_np_function(self, intermediate_tensor):\n",
        "        intermediate_value = intermediate_tensor.numpy()\n",
        "        self.intermediate_values.append(intermediate_value)\n",
        "\n",
        "populationList = finalLayer.weight.numpy()"
      ]
    },
    {
      "cell_type": "markdown",
      "metadata": {
        "id": "sNB7vxNctWhl"
      },
      "source": [
        "Defining PSO functions"
      ]
    },
    {
      "cell_type": "code",
      "execution_count": 64,
      "metadata": {
        "id": "G93hInWF_wV5"
      },
      "outputs": [],
      "source": [
        "posMinInit      = -0.1\n",
        "posMaxInit      = + 0.1\n",
        "VMaxInit        = 1.5\n",
        "VMinInit        = 0.5\n",
        "# populationSize  = 3\n",
        "dimension       = paramCount\n",
        "populationSize  = 100+int(dimension/10) # from lab on SL-PSO\n",
        "#interval        = 10\n",
        "interval = 1\n",
        "iterations      = 100\n",
        "\n",
        "#variables used in SL-PSO\n",
        "epsilon = dimension/100.0*0.01 # social influence of swarm centre\n",
        "\n",
        "# Criterion for measuring loss, may need to tweak this to return negative value for PSO\n",
        "criterion = nn.CrossEntropyLoss()\n",
        "\n",
        "lossTracker = []\n",
        "\n",
        "accuracyTracker = []\n",
        "\n",
        "softmax = torch.nn.Softmax(dim=1)"
      ]
    },
    {
      "cell_type": "code",
      "execution_count": 55,
      "metadata": {
        "id": "dsonGc8DAFVN",
        "colab": {
          "base_uri": "https://localhost:8080/"
        },
        "outputId": "f37bf5c5-9219-4ebd-88dc-e4cdf8b6707c"
      },
      "outputs": [
        {
          "output_type": "stream",
          "name": "stderr",
          "text": [
            "/usr/local/lib/python3.10/dist-packages/deap/creator.py:185: RuntimeWarning: A class named 'Particle' has already been created and it will be overwritten. Consider deleting previous creation of that class or rename it.\n",
            "  warnings.warn(\"A class named '{0}' has already been created and it \"\n"
          ]
        }
      ],
      "source": [
        "# function to get the mean positions of the inviduals (swarm centre)\n",
        "def getcenter(pop):\n",
        "    center=list()\n",
        "    for j in range(dimension): # count through dimensions\n",
        "        centerj = 0\n",
        "        for i in pop: # for each particle\n",
        "            centerj += i[j] # sum up position in dimention j\n",
        "        centerj /= populationSize # Average\n",
        "        center.append(centerj)\n",
        "    return center\n",
        "\n",
        "creator.create(\"FitnessMax\", base.Fitness, weights=(1.0,)) # -1 is for minimise\n",
        "creator.create(\"Particle\", list, fitness=creator.FitnessMax, speed=list, smin=None, smax=None, best=None)"
      ]
    },
    {
      "cell_type": "code",
      "execution_count": 56,
      "metadata": {
        "id": "yavq1ePxANXk"
      },
      "outputs": [],
      "source": [
        "# particle rerpresented by list of 5 things\n",
        "# 1. fitness of the particle,\n",
        "# 2. speed of the particle which is also going to be a list,\n",
        "# 3.4. limit of the speed value,\n",
        "# 5. best state the particle has been in so far.\n",
        "def weight_assign(particle):\n",
        "    particleweightsNP1 = np.array(particle)\n",
        "    particleweightsNP = particleweightsNP1[:totalWeights]\n",
        "    biases = np.array(particleweightsNP1[-biasCount:])\n",
        "    biases = torch.from_numpy(biases).float()\n",
        "    finalLayer.bias = torch.nn.Parameter(biases.float())\n",
        "    reshapedWeights = particleweightsNP.reshape(outerShape,innerShape)\n",
        "    torchWeights = torch.from_numpy(reshapedWeights).float()\n",
        "    finalLayer.weight = torch.nn.Parameter(torchWeights.float())\n",
        "\n",
        "def generate(size, smin, smax):\n",
        "    part = creator.Particle(random.uniform(posMinInit, posMaxInit) for _ in range(size))\n",
        "    part.speed = [random.uniform(VMinInit, VMaxInit) for _ in range(size)]\n",
        "    part.smin = smin #speed clamping values\n",
        "    part.smax = smax\n",
        "    return part\n",
        "\n",
        "def updateParticle(part,pop,center,i):\n",
        "    r1 = random.uniform(0, 1)\n",
        "    r2 = random.uniform(0, 1)\n",
        "    r3 = random.uniform(0, 1)\n",
        "\n",
        "    #Randomly choose a demonstrator for particle i from any of particles 0 to i-1, the Particle i\n",
        "    #updates its velocity by learning from the demonstrator and the mean position of the swarm\n",
        "    demonstrator=random.choice(list(pop[0:i]))\n",
        "\n",
        "    for j in range(dimension): # count through dimensions\n",
        "        part.speed[j]=r1*part.speed[j]+r2*(demonstrator[j]-part[j])+r3*epsilon*(center[j]-part[j])\n",
        "        part[j]=part[j]+part.speed[j]\n",
        "\n",
        "def getBestAccuracy(bestParticle):\n",
        "    bestNP = np.array(bestParticle)\n",
        "\n",
        "    # Splitting into weights and biases\n",
        "    bestWeights = bestNP[:totalWeights]\n",
        "    bestBiases = bestNP[-biasCount:]\n",
        "\n",
        "    # Putting biases in\n",
        "    bestBiases = torch.from_numpy(bestBiases).float()\n",
        "    finalLayer.bias = torch.nn.Parameter(bestBiases.float())\n",
        "\n",
        "    # Reshaping weights so they are correct for the layer\n",
        "    bestWeights = bestWeights.reshape(outerShape,innerShape)\n",
        "\n",
        "    # Converting to torch array\n",
        "    bestWeights = torch.from_numpy(bestWeights).float()\n",
        "\n",
        "    # Putting the weights into the layer\n",
        "    finalLayer.weight = torch.nn.Parameter(bestWeights.float())\n",
        "\n",
        "    correct_pred = 0\n",
        "    total_pred = 0\n",
        "\n",
        "    PopModel.to(device)\n",
        "\n",
        "    for data in testloader:\n",
        "      images, labels = data[0].to(device), data[1].to(device)\n",
        "      outputs = PopModel(images)\n",
        "\n",
        "    _, predictions = torch.max(outputs, 1)\n",
        "\n",
        "    # collect the correct predictions for each class\n",
        "\n",
        "    for label, prediction in zip(labels, predictions):\n",
        "      if label == prediction:\n",
        "        correct_pred += 1\n",
        "      total_pred += 1\n",
        "\n",
        "    acc = (correct_pred / total_pred)*100\n",
        "\n",
        "\n",
        "    print(\"Accuracy of current best particle: \" + str(acc) + \"%\")\n",
        "\n",
        "    return acc"
      ]
    },
    {
      "cell_type": "code",
      "execution_count": 70,
      "metadata": {
        "id": "gkaVJ8jZAWNb"
      },
      "outputs": [],
      "source": [
        "toolbox = base.Toolbox()\n",
        "toolbox.register(\"particle\", generate, size=dimension, smin=-3, smax=3)\n",
        "toolbox.register(\"population\", tools.initRepeat, list, toolbox.particle)\n",
        "toolbox.register(\"update\", updateParticle)\n",
        "\n",
        "# Note most likely need to change the evaluate function\n",
        "toolbox.register(\"evaluate\", benchmarks.sphere) #sphere function is built-in in DEAP\n",
        "\n",
        "def modelEval(particle, inputs, labels):\n",
        "    #print(\"hello!\")\n",
        "\n",
        "    # First step to get the particles weights out from it, convert to an numpy array\n",
        "    particleweightsNP1 = np.array(particle)\n",
        "\n",
        "    #particleweightsNP = particleweightsNP1[:840]\n",
        "    #biases = np.array(particleweightsNP1[-10:])\n",
        "    particleweightsNP = particleweightsNP1[:totalWeights]\n",
        "    biases = np.array(particleweightsNP1[-biasCount:])\n",
        "\n",
        "    # Putting biases straight in\n",
        "    biases = torch.from_numpy(biases).float()\n",
        "    finalLayer.bias = torch.nn.Parameter(biases.float())\n",
        "\n",
        "    #print(particleweightsNP)\n",
        "\n",
        "#     print(\"Shape of particle: \" + str(particleweightsNP.shape))\n",
        "\n",
        "    # Converting to the correct shape!\n",
        "    reshapedWeights = particleweightsNP.reshape(outerShape,innerShape)\n",
        "#     print(\"Shape of reshaped particle: \" + str(reshapedWeights.shape))\n",
        "\n",
        "    # Convert to torch array!\n",
        "    torchWeights = torch.from_numpy(reshapedWeights).float()\n",
        "\n",
        "    # Now we want to set the weights of the finalLayer to these weights\n",
        "\n",
        "    finalLayer.weight = torch.nn.Parameter(torchWeights.float())\n",
        "\n",
        "    # print(\"After:\\n\")\n",
        "    # print(finalLayer.weight)\n",
        "\n",
        "    #finalLayer.weight.data = torchWeights.float()\n",
        "    #print(finalLayer.weight) # Note that the numbers look different than torchWeights ?\n",
        "    #print(torchWeights)\n",
        "\n",
        "    # Run a training loop for the model, with the particles weights set to the final layer and return a loss value back\n",
        "\n",
        "    with torch.no_grad():\n",
        "        # set model to training stage\n",
        "\n",
        "        PopModel.train()\n",
        "        pred = model(inputs).detach()\n",
        "        #print(pred)\n",
        "\n",
        "        loss = criterion(pred,labels).item()\n",
        "\n",
        "          # get probabilites of each label\n",
        "        proba = softmax(pred).cpu().detach().numpy()\n",
        "        # get predicted label\n",
        "        pred_labels = [np.argmax(i) for i in proba]\n",
        "        pred_labels = np.array(pred_labels)\n",
        "\n",
        "\n",
        "        # Calculated accuracy\n",
        "        correct = 0\n",
        "        accuracy = 0\n",
        "\n",
        "        # allocate label to cpu\n",
        "        gt_labels = labels.cpu().detach().numpy()\n",
        "\n",
        "        for p ,g in zip(pred_labels,gt_labels):\n",
        "\n",
        "            if p == g:\n",
        "                correct+=1\n",
        "\n",
        "        accuracy = 100 * (correct/len(gt_labels))\n",
        "\n",
        "\n",
        "    return (loss,) , accuracy\n",
        "\n",
        "    # High loss could be due to how the weights were initialised or how they were converted between numpy and torch tensor?\n",
        "\n",
        "    # We need to return one value\n",
        "\n",
        "    #object of type 'NoneType' has no len() # Error when not returning anything.\n",
        "    #object of type 'float' has no len() # Error when returning_loss by itself, investigate the output of the original sphere function?\n",
        "\n",
        "    # Original loss function returns a single value. example output looks like (136.3042681576523,)\n",
        "\n",
        "    # Do you need to return a list, with each epoch loss in there?\n",
        "    # Doing this: Assigned values have not the same length than fitness weights\n",
        "    # Update: Do not return a list\n",
        "\n",
        "toolbox.register(\"evaluate2\", modelEval)"
      ]
    },
    {
      "cell_type": "code",
      "execution_count": null,
      "metadata": {
        "id": "-CoJ1T86AaMZ"
      },
      "outputs": [],
      "source": [
        "def main():\n",
        "    population = toolbox.population(n=populationSize) # Population Size\n",
        "    stats = tools.Statistics(lambda ind: ind.fitness.values)\n",
        "    stats.register(\"avg\", np.mean)\n",
        "    stats.register(\"std\", np.std)\n",
        "    stats.register(\"min\", np.min)\n",
        "    stats.register(\"max\", np.max)\n",
        "    epochs=100\n",
        "    #intialize the learning probabilities\n",
        "    prob=[0]*populationSize\n",
        "    for i  in range(len(population)):\n",
        "        prob[populationSize - i - 1] = 1 - i/(populationSize - 1)\n",
        "        prob[populationSize - i - 1] = pow(prob[populationSize - i - 1], math.log(math.sqrt(math.ceil(dimension/100.0))))\n",
        "\n",
        "    logbook = tools.Logbook()\n",
        "    logbook.header = [\"gen\", \"evals\"] + stats.fields\n",
        "\n",
        "    # Mutation Tick, counts the number of times the swarm std deviation is below a certain amount\n",
        "    MutationTick = 0\n",
        "\n",
        "    loss_train_logs = np.array([])\n",
        "    loss_vali_logs  = np.array([])\n",
        "    acc_train_logs = np.array([])\n",
        "    acc_vali_logs = np.array([])\n",
        "\n",
        "    #begin main loop\n",
        "    for epoch in range(epochs):\n",
        "\n",
        "      running_acc = 0\n",
        "      running_loss = 0  # Total loss in epochs\n",
        "      iter_inbatch = 0  # Iteration in batch\n",
        "\n",
        "      for i, data in enumerate(trainloader, 0):\n",
        "        inputs, labels = data[0], data[1]\n",
        "\n",
        "        w = VMaxInit - ((VMaxInit-VMinInit) * iter_inbatch/epochs)\n",
        "        for particle in population:\n",
        "            # Calculate a fitness\n",
        "            particle.fitness.values, particle.acc = toolbox.evaluate2(particle, inputs, labels)\n",
        "\n",
        "            if (not particle.best) or (particle.best.fitness < particle.fitness):\n",
        "\n",
        "                particle.best = creator.Particle(particle)\n",
        "                particle.best.fitness.values = particle.fitness.values\n",
        "                particle.best.acc = particle.acc\n",
        "\n",
        "            if (not best) or best.fitness < particle.fitness:\n",
        "\n",
        "                best = creator.Particle(particle)\n",
        "                best.fitness.values = particle.fitness.values\n",
        "                best.acc = particle.acc\n",
        "\n",
        "        population.sort(key=lambda x: x.fitness, reverse=True)\n",
        "        social_best = population[0]\n",
        "        temp = [x.fitness for x in population]\n",
        "\n",
        "        center = getcenter(population)\n",
        "        for i in reversed(range(len(population)-1)):\n",
        "\n",
        "            if random.uniform(0,1)<prob[i+1]:\n",
        "\n",
        "                toolbox.update_sl(population[i+1], population, center, i+1)\n",
        "\n",
        "        # Assing the decision varible of Global best to model\n",
        "        weight_assign(social_best)\n",
        "        loss = social_best.fitness.values[0]\n",
        "        acc  = best.acc\n",
        "\n",
        "        running_acc +=acc\n",
        "        running_loss +=loss\n",
        "        iter_inbatch +=1\n",
        "\n",
        "    train_loss = running_loss/iter_inbatch\n",
        "    train_acc = running_acc/iter_inbatch\n",
        "\n",
        "    print(\"Epoch : {} , TRAIN LOSS : {} , TRAIN ACC {} \".format(epoch,train_loss, train_acc))\n",
        "\n",
        "      # append loss and accuracy in current epochs in array\n",
        "    loss_train_logs = np.append(loss_train_logs, train_loss)\n",
        "    acc_train_logs = np.append(acc_train_logs, train_acc)\n",
        "\n",
        "    return population, logbook\n",
        "\n",
        "if __name__ == \"__main__\":\n",
        "    superpart = main()"
      ]
    },
    {
      "cell_type": "code",
      "execution_count": null,
      "metadata": {
        "id": "tWQfDhQR_jtT"
      },
      "outputs": [],
      "source": [
        "# Quicksave the best particle\n",
        "\n",
        "print(len(superpart[1])) # best particle has 840 weights in it\n",
        "print(superpart[1])\n",
        "arr = np.array(superpart[1])\n",
        "\n",
        "print(arr.shape)\n",
        "\n",
        "import csv\n",
        "\n",
        "with open('superpart-030.csv', 'a', newline='') as file:\n",
        "    writer = csv.writer(file)\n",
        "    writer.writerows([superpart[0][0]])\n",
        "\n",
        "with open('logbook-030.csv', 'a', newline='') as file:\n",
        "    writer = csv.writer(file)\n",
        "#     writer.writerows([\"gen\",\"evals\",\"avg\",\"std\",\"min\",\"max\"])\n",
        "    writer.writerows([superpart[1].select(\"gen\"),superpart[1].select(\"evals\"),superpart[1].select(\"avg\"),\n",
        "                      superpart[1].select(\"std\"),superpart[1].select(\"min\"),superpart[1].select(\"max\")])"
      ]
    }
  ],
  "metadata": {
    "accelerator": "GPU",
    "colab": {
      "provenance": []
    },
    "kernelspec": {
      "display_name": "Python 3",
      "language": "python",
      "name": "python3"
    },
    "language_info": {
      "codemirror_mode": {
        "name": "ipython",
        "version": 3
      },
      "file_extension": ".py",
      "mimetype": "text/x-python",
      "name": "python",
      "nbconvert_exporter": "python",
      "pygments_lexer": "ipython3",
      "version": "3.8.3"
    }
  },
  "nbformat": 4,
  "nbformat_minor": 0
}