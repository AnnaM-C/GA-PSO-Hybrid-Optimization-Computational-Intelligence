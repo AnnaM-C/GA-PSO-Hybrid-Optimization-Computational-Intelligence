{
  "cells": [
    {
      "cell_type": "markdown",
      "metadata": {
        "id": "view-in-github",
        "colab_type": "text"
      },
      "source": [
        "<a href=\"https://colab.research.google.com/github/AnnaM-C/computational-intelligence/blob/main/New_Model_Gradient_Descent_with_CIFAR10.ipynb\" target=\"_parent\"><img src=\"https://colab.research.google.com/assets/colab-badge.svg\" alt=\"Open In Colab\"/></a>"
      ]
    },
    {
      "cell_type": "code",
      "execution_count": 1,
      "metadata": {
        "id": "4e47a90c"
      },
      "outputs": [],
      "source": [
        "#ref:https://medium.com/@nagam808surya/cifar-10-image-classification-using-pytorch-90332041ba1f\n",
        "#CIFAR-10 dataset from https://www.cs.toronto.edu/~kriz/cifar.html"
      ],
      "id": "4e47a90c"
    },
    {
      "cell_type": "code",
      "execution_count": 2,
      "metadata": {
        "id": "25013feb",
        "colab": {
          "base_uri": "https://localhost:8080/",
          "height": 53
        },
        "outputId": "def30f8f-25b6-4ba6-9dab-b53841654325"
      },
      "outputs": [
        {
          "output_type": "stream",
          "name": "stdout",
          "text": [
            "cuda:0\n"
          ]
        },
        {
          "output_type": "execute_result",
          "data": {
            "text/plain": [
              "'0.16.0+cu118'"
            ],
            "application/vnd.google.colaboratory.intrinsic+json": {
              "type": "string"
            }
          },
          "metadata": {},
          "execution_count": 2
        }
      ],
      "source": [
        "#imports\n",
        "%matplotlib inline\n",
        "\n",
        "import torch\n",
        "import torchvision\n",
        "import torchvision.transforms as transforms\n",
        "import torch.nn as nn\n",
        "import torch.nn.functional as F\n",
        "import torch.optim as optim\n",
        "import matplotlib.pyplot as plt\n",
        "import numpy as np\n",
        "# import torchvision.models.inception.Inception3\n",
        "device = torch.device('cuda:0' if torch.cuda.is_available() else 'cpu')\n",
        "print(device)\n",
        "torchvision.__version__"
      ],
      "id": "25013feb"
    },
    {
      "cell_type": "code",
      "execution_count": 3,
      "metadata": {
        "colab": {
          "base_uri": "https://localhost:8080/"
        },
        "id": "a26aeca6",
        "outputId": "6e7f66e8-d2cb-4693-8d3c-f3a996c00b12"
      },
      "outputs": [
        {
          "output_type": "stream",
          "name": "stdout",
          "text": [
            "Downloading https://www.cs.toronto.edu/~kriz/cifar-10-python.tar.gz to ./data/cifar-10-python.tar.gz\n"
          ]
        },
        {
          "output_type": "stream",
          "name": "stderr",
          "text": [
            "100%|██████████| 170498071/170498071 [00:03<00:00, 48554415.26it/s]\n"
          ]
        },
        {
          "output_type": "stream",
          "name": "stdout",
          "text": [
            "Extracting ./data/cifar-10-python.tar.gz to ./data\n",
            "Files already downloaded and verified\n"
          ]
        }
      ],
      "source": [
        "#normalise pixel values (range:-1 to 1, mean:0.5, s.d:0.5)\n",
        "transform = transforms.Compose(\n",
        "    [transforms.ToTensor(),\n",
        "     transforms.Normalize((0.5, 0.5, 0.5), (0.5, 0.5, 0.5))])\n",
        "\n",
        "batch_size=4\n",
        "\n",
        "trainset = torchvision.datasets.CIFAR10(root='./data', train=True,\n",
        "                                        download=True, transform=transform)\n",
        "trainloader = torch.utils.data.DataLoader(trainset, batch_size=batch_size,\n",
        "                                          shuffle=True, num_workers=2)\n",
        "\n",
        "testset = torchvision.datasets.CIFAR10(root='./data', train=False,\n",
        "                                       download=True, transform=transform)\n",
        "testloader = torch.utils.data.DataLoader(testset, batch_size=batch_size,\n",
        "                                         shuffle=False, num_workers=2)\n",
        "\n",
        "classes = ('plane', 'car', 'bird', 'cat',\n",
        "           'deer', 'dog', 'frog', 'horse', 'ship', 'truck')"
      ],
      "id": "a26aeca6"
    },
    {
      "cell_type": "code",
      "execution_count": 4,
      "metadata": {
        "id": "KsGfKjZYYk2C"
      },
      "outputs": [],
      "source": [
        "#index of trainset returns input, label\n",
        "# print(trainset[0])\n",
        "# input,label=trainset[0]\n",
        "# print(label)"
      ],
      "id": "KsGfKjZYYk2C"
    },
    {
      "cell_type": "code",
      "execution_count": 5,
      "metadata": {
        "id": "d0470919",
        "colab": {
          "base_uri": "https://localhost:8080/",
          "height": 210
        },
        "outputId": "59c78ab6-6748-4150-c5ed-4606d493389c"
      },
      "outputs": [
        {
          "output_type": "display_data",
          "data": {
            "text/plain": [
              "<Figure size 640x480 with 1 Axes>"
            ],
            "image/png": "[encoded data removed]"
          },
          "metadata": {}
        },
        {
          "output_type": "stream",
          "name": "stdout",
          "text": [
            "shipdeerfrogplane\n"
          ]
        }
      ],
      "source": [
        "#visualise images from the trainloader\n",
        "def imshow(img):\n",
        "    img=img/2+0.5 #unnormalise\n",
        "    npimg=img.numpy()\n",
        "    plt.imshow(np.transpose(npimg, (1,2,0)))\n",
        "    plt.show()\n",
        "\n",
        "#random image\n",
        "dataiter=iter(trainloader)\n",
        "images,labels=next(dataiter)\n",
        "\n",
        "#show image\n",
        "imshow(torchvision.utils.make_grid(images))\n",
        "\n",
        "#print labels\n",
        "print(''.join('%s' % classes[labels[j]] for j in range(batch_size)))"
      ],
      "id": "d0470919"
    },
    {
      "cell_type": "code",
      "execution_count": 6,
      "metadata": {
        "id": "58ed12d3",
        "colab": {
          "base_uri": "https://localhost:8080/"
        },
        "outputId": "16cc6773-3b8e-49e2-ca74-33c8977f2f80"
      },
      "outputs": [
        {
          "output_type": "execute_result",
          "data": {
            "text/plain": [
              "Net(\n",
              "  (features): Sequential(\n",
              "    (0): Conv2d(3, 64, kernel_size=(3, 3), stride=(1, 1), padding=(1, 1))\n",
              "    (1): ReLU(inplace=True)\n",
              "    (2): Conv2d(64, 64, kernel_size=(3, 3), stride=(1, 1), padding=(1, 1))\n",
              "    (3): ReLU(inplace=True)\n",
              "    (4): MaxPool2d(kernel_size=2, stride=2, padding=0, dilation=1, ceil_mode=False)\n",
              "    (5): Conv2d(64, 128, kernel_size=(3, 3), stride=(1, 1), padding=(1, 1))\n",
              "    (6): ReLU(inplace=True)\n",
              "    (7): Conv2d(128, 128, kernel_size=(3, 3), stride=(1, 1), padding=(1, 1))\n",
              "    (8): ReLU(inplace=True)\n",
              "    (9): MaxPool2d(kernel_size=2, stride=2, padding=0, dilation=1, ceil_mode=False)\n",
              "    (10): Conv2d(128, 256, kernel_size=(3, 3), stride=(1, 1), padding=(1, 1))\n",
              "    (11): ReLU(inplace=True)\n",
              "    (12): Conv2d(256, 256, kernel_size=(3, 3), stride=(1, 1), padding=(1, 1))\n",
              "    (13): ReLU(inplace=True)\n",
              "    (14): Conv2d(256, 256, kernel_size=(3, 3), stride=(1, 1), padding=(1, 1))\n",
              "    (15): ReLU(inplace=True)\n",
              "    (16): MaxPool2d(kernel_size=2, stride=2, padding=0, dilation=1, ceil_mode=False)\n",
              "  )\n",
              "  (classifier): Sequential(\n",
              "    (0): Linear(in_features=4096, out_features=1024, bias=True)\n",
              "    (1): ReLU(inplace=True)\n",
              "    (2): Dropout(p=0.5, inplace=False)\n",
              "    (3): Linear(in_features=1024, out_features=52, bias=True)\n",
              "    (4): ReLU(inplace=True)\n",
              "    (5): Dropout(p=0.5, inplace=False)\n",
              "    (6): Linear(in_features=52, out_features=10, bias=True)\n",
              "  )\n",
              ")"
            ]
          },
          "metadata": {},
          "execution_count": 6
        }
      ],
      "source": [
        "#build the network (architecture)\n",
        "#relu is used because it is fast\n",
        "#based on VGG\n",
        "class Net(nn.Module):\n",
        "    def __init__(self):\n",
        "        super(Net, self).__init__()\n",
        "\n",
        "        self.features = nn.Sequential(\n",
        "            nn.Conv2d(3, 64, kernel_size=3, padding=1),\n",
        "            nn.ReLU(inplace=True),\n",
        "            nn.Conv2d(64, 64, kernel_size=3, padding=1),\n",
        "            nn.ReLU(inplace=True),\n",
        "            nn.MaxPool2d(kernel_size=2, stride=2),\n",
        "\n",
        "            nn.Conv2d(64, 128, kernel_size=3, padding=1),\n",
        "            nn.ReLU(inplace=True),\n",
        "            nn.Conv2d(128, 128, kernel_size=3, padding=1),\n",
        "            nn.ReLU(inplace=True),\n",
        "            nn.MaxPool2d(kernel_size=2, stride=2),\n",
        "\n",
        "            nn.Conv2d(128, 256, kernel_size=3, padding=1),\n",
        "            nn.ReLU(inplace=True),\n",
        "            nn.Conv2d(256, 256, kernel_size=3, padding=1),\n",
        "            nn.ReLU(inplace=True),\n",
        "            nn.Conv2d(256, 256, kernel_size=3, padding=1),\n",
        "            nn.ReLU(inplace=True),\n",
        "            nn.MaxPool2d(kernel_size=2, stride=2),\n",
        "        )\n",
        "\n",
        "        self.classifier = nn.Sequential(\n",
        "            nn.Linear(256 * 4 * 4, 1024),\n",
        "            nn.ReLU(inplace=True),\n",
        "            nn.Dropout(),\n",
        "            nn.Linear(1024, 52),\n",
        "            nn.ReLU(inplace=True),\n",
        "            nn.Dropout(),\n",
        "            nn.Linear(52, 10)\n",
        "        )\n",
        "\n",
        "    def forward(self, x):\n",
        "        x = self.features(x)\n",
        "        x = x.view(x.size(0), -1)\n",
        "        x = self.classifier(x)\n",
        "        return x\n",
        "\n",
        "net=Net()\n",
        "net.to(device)"
      ],
      "id": "58ed12d3"
    },
    {
      "cell_type": "code",
      "execution_count": 7,
      "metadata": {
        "id": "0dcd6eb7"
      },
      "outputs": [],
      "source": [
        "#choose an optimiser algorithm\n",
        "import torch.optim as optim\n",
        "\n",
        "criterion = nn.CrossEntropyLoss()\n",
        "optimiser = optim.SGD(net.parameters(), lr=0.001, momentum=0.9)\n",
        "# scheduler1 = torch.optim.lr_scheduler.ExponentialLR(optimiser, gamma=0.95)\n",
        "# scheduler2 = torch.optim.lr_scheduler.MultiStepLR(optimiser, milestones=[30,80], gamma=0.1)\n"
      ],
      "id": "0dcd6eb7"
    },
    {
      "cell_type": "code",
      "execution_count": 8,
      "metadata": {
        "id": "3bde9840",
        "colab": {
          "base_uri": "https://localhost:8080/"
        },
        "outputId": "1e9edcc4-03fc-427a-ba2f-129728868389"
      },
      "outputs": [
        {
          "output_type": "stream",
          "name": "stdout",
          "text": [
            "[1,  2000] loss: 2.304\n",
            "[1,  4000] loss: 2.303\n",
            "[1,  6000] loss: 2.303\n",
            "[1,  8000] loss: 2.304\n",
            "[1, 10000] loss: 2.303\n",
            "[1, 12000] loss: 2.303\n",
            "Average loss-> 2.7641223102807997\n",
            "[2,  2000] loss: 2.304\n",
            "[2,  4000] loss: 2.303\n",
            "[2,  6000] loss: 2.303\n",
            "[2,  8000] loss: 2.296\n",
            "[2, 10000] loss: 2.150\n",
            "[2, 12000] loss: 2.033\n",
            "Average loss-> 2.677726347327232\n",
            "[3,  2000] loss: 1.939\n",
            "[3,  4000] loss: 1.890\n",
            "[3,  6000] loss: 1.854\n",
            "[3,  8000] loss: 1.780\n",
            "[3, 10000] loss: 1.741\n",
            "[3, 12000] loss: 1.711\n",
            "Average loss-> 2.1827945234566926\n",
            "[4,  2000] loss: 1.613\n",
            "[4,  4000] loss: 1.575\n",
            "[4,  6000] loss: 1.535\n",
            "[4,  8000] loss: 1.487\n",
            "[4, 10000] loss: 1.448\n",
            "[4, 12000] loss: 1.404\n",
            "Average loss-> 1.8123923587948085\n",
            "[5,  2000] loss: 1.314\n",
            "[5,  4000] loss: 1.314\n",
            "[5,  6000] loss: 1.238\n",
            "[5,  8000] loss: 1.221\n",
            "[5, 10000] loss: 1.216\n",
            "[5, 12000] loss: 1.182\n",
            "Average loss-> 1.497038479712233\n",
            "[6,  2000] loss: 1.082\n",
            "[6,  4000] loss: 1.079\n",
            "[6,  6000] loss: 1.053\n",
            "[6,  8000] loss: 1.048\n",
            "[6, 10000] loss: 0.999\n",
            "[6, 12000] loss: 0.975\n",
            "Average loss-> 1.2474260346964932\n",
            "[7,  2000] loss: 0.913\n",
            "[7,  4000] loss: 0.907\n",
            "[7,  6000] loss: 0.885\n",
            "[7,  8000] loss: 0.904\n",
            "[7, 10000] loss: 0.855\n",
            "[7, 12000] loss: 0.870\n",
            "Average loss-> 1.0668484078880283\n",
            "[8,  2000] loss: 0.780\n",
            "[8,  4000] loss: 0.802\n",
            "[8,  6000] loss: 0.779\n",
            "[8,  8000] loss: 0.777\n",
            "[8, 10000] loss: 0.761\n",
            "[8, 12000] loss: 0.753\n",
            "Average loss-> 0.9303595614601043\n",
            "[9,  2000] loss: 0.674\n",
            "[9,  4000] loss: 0.689\n",
            "[9,  6000] loss: 0.671\n",
            "[9,  8000] loss: 0.665\n",
            "[9, 10000] loss: 0.676\n",
            "[9, 12000] loss: 0.665\n",
            "Average loss-> 0.8078189696372624\n",
            "[10,  2000] loss: 0.559\n",
            "[10,  4000] loss: 0.580\n",
            "[10,  6000] loss: 0.601\n",
            "[10,  8000] loss: 0.582\n",
            "[10, 10000] loss: 0.594\n",
            "[10, 12000] loss: 0.582\n",
            "Average loss-> 0.6994063871039089\n",
            "Finished Training\n"
          ]
        }
      ],
      "source": [
        "#epochs (entire run of dataset multiple forward and backward propogations to update weights = 1 epoch)\n",
        "lossTracker=[]\n",
        "\n",
        "for epoch in range(10):  # loop over the dataset multiple times\n",
        "\n",
        "    running_loss = 0.0\n",
        "    running_loss_track=0.0\n",
        "    #in each epoch this is the forward and backward propogation loop to optimise the loss.\n",
        "    #restarts the loop without losses from the last step meaning it starts updating the weights without considering losses from last step, focuses on the current loss\n",
        "    for i, data in enumerate(trainloader, 0):\n",
        "        # get the inputs; data is a list of [inputs, labels]\n",
        "        inputs, labels = data[0].to(device), data[1].to(device)\n",
        "\n",
        "        #zero the parameter gradients\n",
        "        optimiser.zero_grad()\n",
        "\n",
        "        #forward + backward + optimise\n",
        "        outputs = net(inputs)\n",
        "        loss = criterion(outputs, labels)\n",
        "        loss.backward()\n",
        "        optimiser.step()\n",
        "\n",
        "        #print statistics\n",
        "        running_loss += loss.item()\n",
        "        if i % 2000 == 1999:    # print every 2000 mini-batches\n",
        "            print(f'[{epoch + 1}, {i + 1:5d}] loss: {running_loss / 2000:.3f}')\n",
        "            running_loss_track+=running_loss/2000\n",
        "            running_loss = 0.0\n",
        "    # scheduler1.step()\n",
        "    # scheduler2.step()\n",
        "\n",
        "    #calculate average losses\n",
        "    running_loss_track=running_loss_track/5\n",
        "    print(\"Average loss->\",running_loss_track)\n",
        "    lossTracker.append(running_loss_track)\n",
        "\n",
        "print('Finished Training')"
      ],
      "id": "3bde9840"
    },
    {
      "cell_type": "code",
      "execution_count": 9,
      "metadata": {
        "id": "19ceb02d"
      },
      "outputs": [],
      "source": [
        "PATH='./cifar_net.pth'\n",
        "torch.save(net.state_dict(),PATH)"
      ],
      "id": "19ceb02d"
    },
    {
      "cell_type": "code",
      "execution_count": 10,
      "metadata": {
        "id": "e965a557",
        "colab": {
          "base_uri": "https://localhost:8080/"
        },
        "outputId": "9fe27c0f-030d-405e-967e-ec3f4d52ebd4"
      },
      "outputs": [
        {
          "output_type": "execute_result",
          "data": {
            "text/plain": [
              "Net(\n",
              "  (features): Sequential(\n",
              "    (0): Conv2d(3, 64, kernel_size=(3, 3), stride=(1, 1), padding=(1, 1))\n",
              "    (1): ReLU(inplace=True)\n",
              "    (2): Conv2d(64, 64, kernel_size=(3, 3), stride=(1, 1), padding=(1, 1))\n",
              "    (3): ReLU(inplace=True)\n",
              "    (4): MaxPool2d(kernel_size=2, stride=2, padding=0, dilation=1, ceil_mode=False)\n",
              "    (5): Conv2d(64, 128, kernel_size=(3, 3), stride=(1, 1), padding=(1, 1))\n",
              "    (6): ReLU(inplace=True)\n",
              "    (7): Conv2d(128, 128, kernel_size=(3, 3), stride=(1, 1), padding=(1, 1))\n",
              "    (8): ReLU(inplace=True)\n",
              "    (9): MaxPool2d(kernel_size=2, stride=2, padding=0, dilation=1, ceil_mode=False)\n",
              "    (10): Conv2d(128, 256, kernel_size=(3, 3), stride=(1, 1), padding=(1, 1))\n",
              "    (11): ReLU(inplace=True)\n",
              "    (12): Conv2d(256, 256, kernel_size=(3, 3), stride=(1, 1), padding=(1, 1))\n",
              "    (13): ReLU(inplace=True)\n",
              "    (14): Conv2d(256, 256, kernel_size=(3, 3), stride=(1, 1), padding=(1, 1))\n",
              "    (15): ReLU(inplace=True)\n",
              "    (16): MaxPool2d(kernel_size=2, stride=2, padding=0, dilation=1, ceil_mode=False)\n",
              "  )\n",
              "  (classifier): Sequential(\n",
              "    (0): Linear(in_features=4096, out_features=1024, bias=True)\n",
              "    (1): ReLU(inplace=True)\n",
              "    (2): Dropout(p=0.5, inplace=False)\n",
              "    (3): Linear(in_features=1024, out_features=52, bias=True)\n",
              "    (4): ReLU(inplace=True)\n",
              "    (5): Dropout(p=0.5, inplace=False)\n",
              "    (6): Linear(in_features=52, out_features=10, bias=True)\n",
              "  )\n",
              ")"
            ]
          },
          "metadata": {},
          "execution_count": 10
        }
      ],
      "source": [
        "net = Net()\n",
        "net.load_state_dict(torch.load(PATH))\n",
        "net.to(device)\n"
      ],
      "id": "e965a557"
    },
    {
      "cell_type": "code",
      "execution_count": 11,
      "metadata": {
        "id": "52bf6845",
        "colab": {
          "base_uri": "https://localhost:8080/",
          "height": 210
        },
        "outputId": "fa5a49dd-0e0a-4544-d88a-2dba4295ccba"
      },
      "outputs": [
        {
          "output_type": "display_data",
          "data": {
            "text/plain": [
              "<Figure size 640x480 with 1 Axes>"
            ],
            "image/png": "[encoded data removed]"
          },
          "metadata": {}
        },
        {
          "output_type": "stream",
          "name": "stdout",
          "text": [
            "GroundTruth:    cat  ship  ship plane\n"
          ]
        }
      ],
      "source": [
        "#random image\n",
        "dataiter=iter(testloader)\n",
        "images,labels=next(dataiter)\n",
        "\n",
        "#show image\n",
        "imshow(torchvision.utils.make_grid(images))\n",
        "print('GroundTruth: ',' '.join('%5s'%classes[labels[j]] for j in range(4)))"
      ],
      "id": "52bf6845"
    },
    {
      "cell_type": "code",
      "execution_count": 12,
      "metadata": {
        "collapsed": true,
        "id": "8c21c190"
      },
      "outputs": [],
      "source": [
        "outputs = net(images.to(device))"
      ],
      "id": "8c21c190"
    },
    {
      "cell_type": "code",
      "execution_count": 13,
      "metadata": {
        "id": "0120c85c",
        "colab": {
          "base_uri": "https://localhost:8080/"
        },
        "outputId": "0e05d2ef-49d6-40a8-94ce-7eb6a761e343"
      },
      "outputs": [
        {
          "output_type": "stream",
          "name": "stdout",
          "text": [
            "Predicted:    cat  ship  ship truck\n"
          ]
        }
      ],
      "source": [
        "_,predicted=torch.max(outputs,1)\n",
        "print('Predicted: ', ' '.join('%5s'%classes[predicted[j]]\n",
        "                             for j in range(4)))"
      ],
      "id": "0120c85c"
    },
    {
      "cell_type": "code",
      "execution_count": 14,
      "metadata": {
        "id": "9f55b952",
        "colab": {
          "base_uri": "https://localhost:8080/"
        },
        "outputId": "c7a9898c-916b-4e65-9e7d-1fa1f48a452e"
      },
      "outputs": [
        {
          "output_type": "stream",
          "name": "stdout",
          "text": [
            "Accuracy of the network on the 10000 test images: 76 %\n"
          ]
        }
      ],
      "source": [
        "#overall accuracy\n",
        "correct=0\n",
        "total=0\n",
        "#since we're not training, we dont need to calculate the gradients for our outputs\n",
        "with torch.no_grad():\n",
        "    for data in testloader:\n",
        "        images, labels = data[0].to(device), data[1].to(device)\n",
        "        #calculate outputs by running images through the network\n",
        "        outputs=net(images)\n",
        "        #the class with the highest energy is what we choose as prediction\n",
        "        _,predicted=torch.max(outputs.data,1)\n",
        "        total+=labels.size(0)\n",
        "        correct+=(predicted==labels).sum().item()\n",
        "\n",
        "print('Accuracy of the network on the 10000 test images: %d %%' % (100*correct/total))"
      ],
      "id": "9f55b952"
    },
    {
      "cell_type": "code",
      "execution_count": 15,
      "metadata": {
        "id": "7c5d1419",
        "colab": {
          "base_uri": "https://localhost:8080/"
        },
        "outputId": "0674b63a-4d05-46cc-ebfd-5aa4d3fa96d5"
      },
      "outputs": [
        {
          "output_type": "stream",
          "name": "stdout",
          "text": [
            "Accuracy for class plane is: 78.8 %\n",
            "Accuracy for class car   is: 75.5 %\n",
            "Accuracy for class bird  is: 64.2 %\n",
            "Accuracy for class cat   is: 67.9 %\n",
            "Accuracy for class deer  is: 74.7 %\n",
            "Accuracy for class dog   is: 53.5 %\n",
            "Accuracy for class frog  is: 82.7 %\n",
            "Accuracy for class horse is: 77.8 %\n",
            "Accuracy for class ship  is: 88.1 %\n",
            "Accuracy for class truck is: 94.3 %\n"
          ]
        }
      ],
      "source": [
        "#accuracy for each class\n",
        "#prepare to count predictions for each class\n",
        "correct_pred={classname: 0 for classname in classes}\n",
        "total_pred={classname: 0 for classname in classes}\n",
        "\n",
        "#no gradients needed\n",
        "with torch.no_grad():\n",
        "    for data in testloader:\n",
        "        images, labels = data[0].to(device), data[1].to(device)\n",
        "        net.to(device)\n",
        "        outputs=net(images)\n",
        "        _,predictions=torch.max(outputs,1)\n",
        "        #collect the correct predictions for each class\n",
        "        for label,prediction in zip(labels,predictions):\n",
        "            if label==prediction:\n",
        "                correct_pred[classes[label]]+=1\n",
        "            total_pred[classes[label]]+=1\n",
        "\n",
        "#print accuracy for each class\n",
        "for classname,correct_count in correct_pred.items():\n",
        "    accuracy=100*float(correct_count)/total_pred[classname]\n",
        "    print(\"Accuracy for class {:5s} is: {:.1f} %\".format(classname,accuracy))\n"
      ],
      "id": "7c5d1419"
    },
    {
      "cell_type": "code",
      "execution_count": 16,
      "metadata": {
        "id": "65437866",
        "colab": {
          "base_uri": "https://localhost:8080/",
          "height": 472
        },
        "outputId": "a58bdef7-81f7-4c3a-ef8a-f2075d318a81"
      },
      "outputs": [
        {
          "output_type": "display_data",
          "data": {
            "text/plain": [
              "<Figure size 640x480 with 1 Axes>"
            ],
            "image/png": "[encoded data removed]"
          },
          "metadata": {}
        }
      ],
      "source": [
        "plt.plot(np.arange(0,10), lossTracker, label='Training loss')\n",
        "plt.title('Loss')\n",
        "plt.xlabel('No. of epochs')\n",
        "plt.ylabel('Loss')\n",
        "plt.legend(loc='upper right')\n",
        "plt.show()"
      ],
      "id": "65437866"
    }
  ],
  "metadata": {
    "accelerator": "GPU",
    "colab": {
      "provenance": [],
      "include_colab_link": true
    },
    "kernelspec": {
      "display_name": "Python 3",
      "name": "python3"
    },
    "language_info": {
      "codemirror_mode": {
        "name": "ipython",
        "version": 3
      },
      "file_extension": ".py",
      "mimetype": "text/x-python",
      "name": "python",
      "nbconvert_exporter": "python",
      "pygments_lexer": "ipython3",
      "version": "3.8.18"
    }
  },
  "nbformat": 4,
  "nbformat_minor": 5
}