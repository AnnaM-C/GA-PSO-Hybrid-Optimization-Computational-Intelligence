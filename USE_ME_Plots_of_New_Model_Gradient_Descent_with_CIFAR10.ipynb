{
  "cells": [
    {
      "cell_type": "markdown",
      "metadata": {
        "id": "view-in-github",
        "colab_type": "text"
      },
      "source": [
        "<a href=\"https://colab.research.google.com/github/AnnaM-C/computational-intelligence/blob/main/USE_ME_Plots_of_New_Model_Gradient_Descent_with_CIFAR10.ipynb\" target=\"_parent\"><img src=\"https://colab.research.google.com/assets/colab-badge.svg\" alt=\"Open In Colab\"/></a>"
      ]
    },
    {
      "cell_type": "code",
      "execution_count": 1,
      "metadata": {
        "id": "4e47a90c"
      },
      "outputs": [],
      "source": [
        "#ref:https://medium.com/@nagam808surya/cifar-10-image-classification-using-pytorch-90332041ba1f\n",
        "#CIFAR-10 dataset from https://www.cs.toronto.edu/~kriz/cifar.html"
      ],
      "id": "4e47a90c"
    },
    {
      "cell_type": "code",
      "execution_count": 2,
      "metadata": {
        "id": "25013feb",
        "colab": {
          "base_uri": "https://localhost:8080/",
          "height": 53
        },
        "outputId": "c53d6b34-91cf-4c8c-e4e8-af9ce840c3b6"
      },
      "outputs": [
        {
          "output_type": "stream",
          "name": "stdout",
          "text": [
            "cuda:0\n"
          ]
        },
        {
          "output_type": "execute_result",
          "data": {
            "text/plain": [
              "'0.16.0+cu118'"
            ],
            "application/vnd.google.colaboratory.intrinsic+json": {
              "type": "string"
            }
          },
          "metadata": {},
          "execution_count": 2
        }
      ],
      "source": [
        "#imports\n",
        "%matplotlib inline\n",
        "\n",
        "import torch\n",
        "import torchvision\n",
        "import torchvision.transforms as transforms\n",
        "import torch.nn as nn\n",
        "import torch.nn.functional as F\n",
        "import torch.optim as optim\n",
        "import matplotlib.pyplot as plt\n",
        "import numpy as np\n",
        "# import torchvision.models.inception.Inception3\n",
        "device = torch.device('cuda:0' if torch.cuda.is_available() else 'cpu')\n",
        "print(device)\n",
        "torchvision.__version__"
      ],
      "id": "25013feb"
    },
    {
      "cell_type": "code",
      "execution_count": 3,
      "metadata": {
        "colab": {
          "base_uri": "https://localhost:8080/"
        },
        "id": "a26aeca6",
        "outputId": "18f6a819-75cd-4abb-9a40-10237953dc75"
      },
      "outputs": [
        {
          "output_type": "stream",
          "name": "stdout",
          "text": [
            "Downloading https://www.cs.toronto.edu/~kriz/cifar-10-python.tar.gz to ./data/cifar-10-python.tar.gz\n"
          ]
        },
        {
          "output_type": "stream",
          "name": "stderr",
          "text": [
            "100%|██████████| 170498071/170498071 [00:02<00:00, 64113595.95it/s]\n"
          ]
        },
        {
          "output_type": "stream",
          "name": "stdout",
          "text": [
            "Extracting ./data/cifar-10-python.tar.gz to ./data\n",
            "Files already downloaded and verified\n"
          ]
        }
      ],
      "source": [
        "#normalise pixel values (range:-1 to 1, mean:0.5, s.d:0.5)\n",
        "transform = transforms.Compose(\n",
        "    [transforms.ToTensor(),\n",
        "     transforms.Normalize((0.5, 0.5, 0.5), (0.5, 0.5, 0.5))])\n",
        "\n",
        "batch_size=4\n",
        "\n",
        "trainset = torchvision.datasets.CIFAR10(root='./data', train=True,\n",
        "                                        download=True, transform=transform)\n",
        "trainloader = torch.utils.data.DataLoader(trainset, batch_size=batch_size,\n",
        "                                          shuffle=True, num_workers=2)\n",
        "\n",
        "testset = torchvision.datasets.CIFAR10(root='./data', train=False,\n",
        "                                       download=True, transform=transform)\n",
        "testloader = torch.utils.data.DataLoader(testset, batch_size=batch_size,\n",
        "                                         shuffle=False, num_workers=2)\n",
        "\n",
        "\n",
        "classes = ('plane', 'car', 'bird', 'cat',\n",
        "           'deer', 'dog', 'frog', 'horse', 'ship', 'truck')"
      ],
      "id": "a26aeca6"
    },
    {
      "cell_type": "code",
      "execution_count": 4,
      "metadata": {
        "id": "KsGfKjZYYk2C"
      },
      "outputs": [],
      "source": [
        "#index of trainset returns input, label\n",
        "# print(trainset[0])\n",
        "# input,label=trainset[0]\n",
        "# print(label)"
      ],
      "id": "KsGfKjZYYk2C"
    },
    {
      "cell_type": "code",
      "execution_count": 5,
      "metadata": {
        "id": "d0470919",
        "colab": {
          "base_uri": "https://localhost:8080/",
          "height": 211
        },
        "outputId": "161e15c8-0c16-4483-99fa-acaa4c59b3f2"
      },
      "outputs": [
        {
          "output_type": "display_data",
          "data": {
            "text/plain": [
              "<Figure size 640x480 with 1 Axes>"
            ],
            "image/png": "[encoded data removed]"
          },
          "metadata": {}
        },
        {
          "output_type": "stream",
          "name": "stdout",
          "text": [
            "dogdogfrogcar\n"
          ]
        }
      ],
      "source": [
        "#visualise images from the trainloader\n",
        "def imshow(img):\n",
        "    img=img/2+0.5 #unnormalise\n",
        "    npimg=img.numpy()\n",
        "    plt.imshow(np.transpose(npimg, (1,2,0)))\n",
        "    plt.show()\n",
        "\n",
        "#random image\n",
        "dataiter=iter(trainloader)\n",
        "images,labels=next(dataiter)\n",
        "\n",
        "#show image\n",
        "imshow(torchvision.utils.make_grid(images))\n",
        "\n",
        "#print labels\n",
        "print(''.join('%s' % classes[labels[j]] for j in range(batch_size)))"
      ],
      "id": "d0470919"
    },
    {
      "cell_type": "code",
      "execution_count": 6,
      "metadata": {
        "id": "58ed12d3",
        "colab": {
          "base_uri": "https://localhost:8080/"
        },
        "outputId": "c9052e5c-16a3-418f-bb64-dda0aa4b1765"
      },
      "outputs": [
        {
          "output_type": "execute_result",
          "data": {
            "text/plain": [
              "Net(\n",
              "  (features): Sequential(\n",
              "    (0): Conv2d(3, 64, kernel_size=(3, 3), stride=(1, 1), padding=(1, 1))\n",
              "    (1): ReLU(inplace=True)\n",
              "    (2): Conv2d(64, 64, kernel_size=(3, 3), stride=(1, 1), padding=(1, 1))\n",
              "    (3): ReLU(inplace=True)\n",
              "    (4): MaxPool2d(kernel_size=2, stride=2, padding=0, dilation=1, ceil_mode=False)\n",
              "    (5): Conv2d(64, 128, kernel_size=(3, 3), stride=(1, 1), padding=(1, 1))\n",
              "    (6): ReLU(inplace=True)\n",
              "    (7): Conv2d(128, 128, kernel_size=(3, 3), stride=(1, 1), padding=(1, 1))\n",
              "    (8): ReLU(inplace=True)\n",
              "    (9): MaxPool2d(kernel_size=2, stride=2, padding=0, dilation=1, ceil_mode=False)\n",
              "    (10): Conv2d(128, 256, kernel_size=(3, 3), stride=(1, 1), padding=(1, 1))\n",
              "    (11): ReLU(inplace=True)\n",
              "    (12): Conv2d(256, 256, kernel_size=(3, 3), stride=(1, 1), padding=(1, 1))\n",
              "    (13): ReLU(inplace=True)\n",
              "    (14): Conv2d(256, 256, kernel_size=(3, 3), stride=(1, 1), padding=(1, 1))\n",
              "    (15): ReLU(inplace=True)\n",
              "    (16): MaxPool2d(kernel_size=2, stride=2, padding=0, dilation=1, ceil_mode=False)\n",
              "  )\n",
              "  (classifier): Sequential(\n",
              "    (0): Linear(in_features=4096, out_features=1024, bias=True)\n",
              "    (1): ReLU(inplace=True)\n",
              "    (2): Dropout(p=0.5, inplace=False)\n",
              "    (3): Linear(in_features=1024, out_features=52, bias=True)\n",
              "    (4): ReLU(inplace=True)\n",
              "    (5): Dropout(p=0.5, inplace=False)\n",
              "    (6): Linear(in_features=52, out_features=10, bias=True)\n",
              "  )\n",
              ")"
            ]
          },
          "metadata": {},
          "execution_count": 6
        }
      ],
      "source": [
        "#based on VGG\n",
        "class Net(nn.Module):\n",
        "    def __init__(self):\n",
        "        super(Net, self).__init__()\n",
        "\n",
        "        self.features = nn.Sequential(\n",
        "            nn.Conv2d(3, 64, kernel_size=3, padding=1),\n",
        "            nn.ReLU(inplace=True),\n",
        "            nn.Conv2d(64, 64, kernel_size=3, padding=1),\n",
        "            nn.ReLU(inplace=True),\n",
        "            nn.MaxPool2d(kernel_size=2, stride=2),\n",
        "\n",
        "            nn.Conv2d(64, 128, kernel_size=3, padding=1),\n",
        "            nn.ReLU(inplace=True),\n",
        "            nn.Conv2d(128, 128, kernel_size=3, padding=1),\n",
        "            nn.ReLU(inplace=True),\n",
        "            nn.MaxPool2d(kernel_size=2, stride=2),\n",
        "\n",
        "            nn.Conv2d(128, 256, kernel_size=3, padding=1),\n",
        "            nn.ReLU(inplace=True),\n",
        "            nn.Conv2d(256, 256, kernel_size=3, padding=1),\n",
        "            nn.ReLU(inplace=True),\n",
        "            nn.Conv2d(256, 256, kernel_size=3, padding=1),\n",
        "            nn.ReLU(inplace=True),\n",
        "            nn.MaxPool2d(kernel_size=2, stride=2),\n",
        "        )\n",
        "\n",
        "        self.classifier = nn.Sequential(\n",
        "            nn.Linear(256 * 4 * 4, 1024),\n",
        "            nn.ReLU(inplace=True),\n",
        "            nn.Dropout(),\n",
        "            nn.Linear(1024, 52),\n",
        "            nn.ReLU(inplace=True),\n",
        "            nn.Dropout(),\n",
        "            nn.Linear(52, 10)\n",
        "        )\n",
        "\n",
        "    def forward(self, x):\n",
        "        x = self.features(x)\n",
        "        x = x.view(x.size(0), -1)\n",
        "        x = self.classifier(x)\n",
        "        return x\n",
        "\n",
        "net=Net()\n",
        "net.to(device)"
      ],
      "id": "58ed12d3"
    },
    {
      "cell_type": "code",
      "execution_count": 7,
      "metadata": {
        "id": "0dcd6eb7"
      },
      "outputs": [],
      "source": [
        "#choose an optimiser algorithm\n",
        "import torch.optim as optim\n",
        "\n",
        "criterion = nn.CrossEntropyLoss()\n",
        "optimiser = optim.SGD(net.parameters(), lr=0.001, momentum=0.9)\n",
        "# scheduler1 = torch.optim.lr_scheduler.ExponentialLR(optimiser, gamma=0.95)\n",
        "# scheduler2 = torch.optim.lr_scheduler.MultiStepLR(optimiser, milestones=[30,80], gamma=0.1)\n"
      ],
      "id": "0dcd6eb7"
    },
    {
      "cell_type": "code",
      "execution_count": 10,
      "metadata": {
        "id": "3bde9840",
        "colab": {
          "base_uri": "https://localhost:8080/"
        },
        "outputId": "5e002840-7a17-4a40-ab68-d761cc16821d"
      },
      "outputs": [
        {
          "output_type": "stream",
          "name": "stdout",
          "text": [
            "[1,  2000] loss: 2.304\n",
            "[1,  2000] correct: 9.975000000000001\n",
            "[1,  4000] loss: 2.303\n",
            "[1,  4000] correct: 10.15625\n",
            "[1,  6000] loss: 2.304\n",
            "[1,  6000] correct: 10.004166666666666\n",
            "[1,  8000] loss: 2.303\n",
            "[1,  8000] correct: 9.984375\n",
            "[1, 10000] loss: 2.303\n",
            "[1, 10000] correct: 10.040000000000001\n",
            "[1, 12000] loss: 2.303\n",
            "[1, 12000] correct: 9.95625\n",
            "Average loss-> 2.3034168723225594\n",
            "Average Accuracy-> 10.01934027777778\n",
            "[2,  2000] loss: 2.302\n",
            "[2,  2000] correct: 10.475\n",
            "[2,  4000] loss: 2.221\n",
            "[2,  4000] correct: 13.643749999999999\n",
            "[2,  6000] loss: 2.085\n",
            "[2,  6000] correct: 16.216666666666665\n",
            "[2,  8000] loss: 1.963\n",
            "[2,  8000] correct: 18.334375\n",
            "[2, 10000] loss: 1.906\n",
            "[2, 10000] correct: 19.7825\n",
            "[2, 12000] loss: 1.842\n",
            "[2, 12000] correct: 21.354166666666664\n",
            "Average loss-> 2.053121596540014\n",
            "Average Accuracy-> 16.63440972222222\n",
            "[3,  2000] loss: 1.755\n",
            "[3,  2000] correct: 32.5\n",
            "[3,  4000] loss: 1.725\n",
            "[3,  4000] correct: 33.356249999999996\n",
            "[3,  6000] loss: 1.680\n",
            "[3,  6000] correct: 34.362500000000004\n",
            "[3,  8000] loss: 1.621\n",
            "[3,  8000] correct: 35.575\n",
            "[3, 10000] loss: 1.570\n",
            "[3, 10000] correct: 36.7325\n",
            "[3, 12000] loss: 1.533\n",
            "[3, 12000] correct: 37.708333333333336\n",
            "Average loss-> 1.6473283246631425\n",
            "Average Accuracy-> 35.039097222222225\n",
            "[4,  2000] loss: 1.474\n",
            "[4,  2000] correct: 45.887499999999996\n",
            "[4,  4000] loss: 1.419\n",
            "[4,  4000] correct: 47.0625\n",
            "[4,  6000] loss: 1.397\n",
            "[4,  6000] correct: 48.0\n",
            "[4,  8000] loss: 1.358\n",
            "[4,  8000] correct: 48.759375\n",
            "[4, 10000] loss: 1.321\n",
            "[4, 10000] correct: 49.705\n",
            "[4, 12000] loss: 1.261\n",
            "[4, 12000] correct: 50.74791666666667\n",
            "Average loss-> 1.3718424366222075\n",
            "Average Accuracy-> 48.36038194444444\n",
            "[5,  2000] loss: 1.187\n",
            "[5,  2000] correct: 57.550000000000004\n",
            "[5,  4000] loss: 1.161\n",
            "[5,  4000] correct: 58.475\n",
            "[5,  6000] loss: 1.154\n",
            "[5,  6000] correct: 58.920833333333334\n",
            "[5,  8000] loss: 1.124\n",
            "[5,  8000] correct: 59.62499999999999\n",
            "[5, 10000] loss: 1.097\n",
            "[5, 10000] correct: 60.01499999999999\n",
            "[5, 12000] loss: 1.087\n",
            "[5, 12000] correct: 60.49583333333334\n",
            "Average loss-> 1.1350848236044404\n",
            "Average Accuracy-> 59.180277777777775\n",
            "[6,  2000] loss: 0.993\n",
            "[6,  2000] correct: 66.525\n",
            "[6,  4000] loss: 0.969\n",
            "[6,  4000] correct: 66.54375\n",
            "[6,  6000] loss: 0.943\n",
            "[6,  6000] correct: 66.8\n",
            "[6,  8000] loss: 0.949\n",
            "[6,  8000] correct: 67.084375\n",
            "[6, 10000] loss: 0.930\n",
            "[6, 10000] correct: 67.5675\n",
            "[6, 12000] loss: 0.908\n",
            "[6, 12000] correct: 67.9375\n",
            "Average loss-> 0.9486852069832191\n",
            "Average Accuracy-> 67.07635416666666\n",
            "[7,  2000] loss: 0.820\n",
            "[7,  2000] correct: 72.8875\n",
            "[7,  4000] loss: 0.819\n",
            "[7,  4000] correct: 72.725\n",
            "[7,  6000] loss: 0.824\n",
            "[7,  6000] correct: 72.7125\n",
            "[7,  8000] loss: 0.807\n",
            "[7,  8000] correct: 72.75\n",
            "[7, 10000] loss: 0.790\n",
            "[7, 10000] correct: 73.0425\n",
            "[7, 12000] loss: 0.795\n",
            "[7, 12000] correct: 73.13958333333333\n",
            "Average loss-> 0.8092360602797126\n",
            "Average Accuracy-> 72.87618055555556\n",
            "[8,  2000] loss: 0.715\n",
            "[8,  2000] correct: 76.275\n",
            "[8,  4000] loss: 0.689\n",
            "[8,  4000] correct: 76.8625\n",
            "[8,  6000] loss: 0.690\n",
            "[8,  6000] correct: 77.13333333333333\n",
            "[8,  8000] loss: 0.688\n",
            "[8,  8000] correct: 77.21249999999999\n",
            "[8, 10000] loss: 0.689\n",
            "[8, 10000] correct: 77.2775\n",
            "[8, 12000] loss: 0.690\n",
            "[8, 12000] correct: 77.20833333333333\n",
            "Average loss-> 0.693629416215516\n",
            "Average Accuracy-> 76.99486111111109\n",
            "[9,  2000] loss: 0.584\n",
            "[9,  2000] correct: 81.075\n",
            "[9,  4000] loss: 0.595\n",
            "[9,  4000] correct: 80.94375000000001\n",
            "[9,  6000] loss: 0.616\n",
            "[9,  6000] correct: 80.71249999999999\n",
            "[9,  8000] loss: 0.614\n",
            "[9,  8000] correct: 80.571875\n",
            "[9, 10000] loss: 0.621\n",
            "[9, 10000] correct: 80.4275\n",
            "[9, 12000] loss: 0.603\n",
            "[9, 12000] correct: 80.42708333333334\n",
            "Average loss-> 0.6054468305386292\n",
            "Average Accuracy-> 80.6929513888889\n",
            "[10,  2000] loss: 0.499\n",
            "[10,  2000] correct: 83.7\n",
            "[10,  4000] loss: 0.496\n",
            "[10,  4000] correct: 83.75\n",
            "[10,  6000] loss: 0.549\n",
            "[10,  6000] correct: 83.58333333333333\n",
            "[10,  8000] loss: 0.538\n",
            "[10,  8000] correct: 83.384375\n",
            "[10, 10000] loss: 0.558\n",
            "[10, 10000] correct: 83.1975\n",
            "[10, 12000] loss: 0.563\n",
            "[10, 12000] correct: 82.9125\n",
            "Average loss-> 0.5338060718020684\n",
            "Average Accuracy-> 83.42128472222221\n",
            "Finished Training\n"
          ]
        }
      ],
      "source": [
        "#epochs (entire run of dataset multiple forward and backward propogations to update weights = 1 epoch)\n",
        "lossTracker=[]\n",
        "accuracyTracker=[]\n",
        "\n",
        "for epoch in range(10):  # loop over the dataset multiple times\n",
        "\n",
        "    total=0.0\n",
        "    correct=0.0\n",
        "    running_loss = 0.0\n",
        "    running_loss_track=0.0\n",
        "    running_accuracy_track=0.0\n",
        "    net.train()\n",
        "    #in each epoch this is the forward and backward propogation loop to optimise the loss.\n",
        "    #restarts the loop without losses from the last step meaning it starts updating the weights without considering losses from last step, focuses on the current loss\n",
        "    for i, data in enumerate(trainloader, 0):\n",
        "        # get the inputs; data is a list of [inputs, labels]\n",
        "        inputs, labels = data[0].to(device), data[1].to(device)\n",
        "\n",
        "        #zero the parameter gradients\n",
        "        optimiser.zero_grad()\n",
        "\n",
        "        #forward + backward + optimise\n",
        "        net.to(device)\n",
        "        outputs = net(inputs)\n",
        "        loss = criterion(outputs, labels)\n",
        "        loss.backward()\n",
        "        optimiser.step()\n",
        "\n",
        "        _,predicted=torch.max(outputs.data,1)\n",
        "        total+=labels.size(0)\n",
        "        correct+=(predicted==labels).sum().item()\n",
        "\n",
        "        #print statistics\n",
        "        running_loss += loss.item()\n",
        "        if i % 2000 == 1999:    # print every 2000 mini-batches\n",
        "            print(f'[{epoch + 1}, {i + 1:5d}] loss: {running_loss / 2000:.3f}')\n",
        "            running_loss_track+=running_loss/2000\n",
        "            running_loss = 0.0\n",
        "            print(f'[{epoch + 1}, {i + 1:5d}] correct: {(100*(correct/total))}')\n",
        "            running_accuracy_track+=100*(correct/total)\n",
        "            # correct+=0.0\n",
        "\n",
        "    #calculate average losses\n",
        "    running_loss_track=running_loss_track/6\n",
        "    running_accuracy_track=running_accuracy_track/6\n",
        "    print(\"Average loss->\",running_loss_track)\n",
        "    lossTracker.append(running_loss_track)\n",
        "    print(\"Average Accuracy->\",running_accuracy_track)\n",
        "    accuracyTracker.append(running_accuracy_track)\n",
        "\n",
        "print('Finished Training')"
      ],
      "id": "3bde9840"
    },
    {
      "cell_type": "code",
      "execution_count": 11,
      "metadata": {
        "id": "19ceb02d"
      },
      "outputs": [],
      "source": [
        "PATH='./cifar_net.pth'\n",
        "torch.save(net.state_dict(),PATH)"
      ],
      "id": "19ceb02d"
    },
    {
      "cell_type": "code",
      "execution_count": 12,
      "metadata": {
        "id": "e965a557",
        "colab": {
          "base_uri": "https://localhost:8080/"
        },
        "outputId": "cf1d0dcd-8c97-4b43-fe8f-4b194ec28b96"
      },
      "outputs": [
        {
          "output_type": "execute_result",
          "data": {
            "text/plain": [
              "Net(\n",
              "  (features): Sequential(\n",
              "    (0): Conv2d(3, 64, kernel_size=(3, 3), stride=(1, 1), padding=(1, 1))\n",
              "    (1): ReLU(inplace=True)\n",
              "    (2): Conv2d(64, 64, kernel_size=(3, 3), stride=(1, 1), padding=(1, 1))\n",
              "    (3): ReLU(inplace=True)\n",
              "    (4): MaxPool2d(kernel_size=2, stride=2, padding=0, dilation=1, ceil_mode=False)\n",
              "    (5): Conv2d(64, 128, kernel_size=(3, 3), stride=(1, 1), padding=(1, 1))\n",
              "    (6): ReLU(inplace=True)\n",
              "    (7): Conv2d(128, 128, kernel_size=(3, 3), stride=(1, 1), padding=(1, 1))\n",
              "    (8): ReLU(inplace=True)\n",
              "    (9): MaxPool2d(kernel_size=2, stride=2, padding=0, dilation=1, ceil_mode=False)\n",
              "    (10): Conv2d(128, 256, kernel_size=(3, 3), stride=(1, 1), padding=(1, 1))\n",
              "    (11): ReLU(inplace=True)\n",
              "    (12): Conv2d(256, 256, kernel_size=(3, 3), stride=(1, 1), padding=(1, 1))\n",
              "    (13): ReLU(inplace=True)\n",
              "    (14): Conv2d(256, 256, kernel_size=(3, 3), stride=(1, 1), padding=(1, 1))\n",
              "    (15): ReLU(inplace=True)\n",
              "    (16): MaxPool2d(kernel_size=2, stride=2, padding=0, dilation=1, ceil_mode=False)\n",
              "  )\n",
              "  (classifier): Sequential(\n",
              "    (0): Linear(in_features=4096, out_features=1024, bias=True)\n",
              "    (1): ReLU(inplace=True)\n",
              "    (2): Dropout(p=0.5, inplace=False)\n",
              "    (3): Linear(in_features=1024, out_features=52, bias=True)\n",
              "    (4): ReLU(inplace=True)\n",
              "    (5): Dropout(p=0.5, inplace=False)\n",
              "    (6): Linear(in_features=52, out_features=10, bias=True)\n",
              "  )\n",
              ")"
            ]
          },
          "metadata": {},
          "execution_count": 12
        }
      ],
      "source": [
        "net = Net()\n",
        "net.load_state_dict(torch.load(PATH))\n",
        "net.to(device)\n"
      ],
      "id": "e965a557"
    },
    {
      "cell_type": "code",
      "execution_count": 13,
      "metadata": {
        "id": "52bf6845",
        "colab": {
          "base_uri": "https://localhost:8080/",
          "height": 211
        },
        "outputId": "7efa4b88-c180-47d2-a59e-a2d4c7010351"
      },
      "outputs": [
        {
          "output_type": "display_data",
          "data": {
            "text/plain": [
              "<Figure size 640x480 with 1 Axes>"
            ],
            "image/png": "[encoded data removed]"
          },
          "metadata": {}
        },
        {
          "output_type": "stream",
          "name": "stdout",
          "text": [
            "GroundTruth:    cat  ship  ship plane\n"
          ]
        }
      ],
      "source": [
        "#random image\n",
        "dataiter=iter(testloader)\n",
        "images,labels=next(dataiter)\n",
        "\n",
        "#show image\n",
        "imshow(torchvision.utils.make_grid(images))\n",
        "print('GroundTruth: ',' '.join('%5s'%classes[labels[j]] for j in range(4)))"
      ],
      "id": "52bf6845"
    },
    {
      "cell_type": "code",
      "execution_count": 14,
      "metadata": {
        "collapsed": true,
        "id": "8c21c190"
      },
      "outputs": [],
      "source": [
        "outputs = net(images.to(device))"
      ],
      "id": "8c21c190"
    },
    {
      "cell_type": "code",
      "execution_count": 15,
      "metadata": {
        "id": "0120c85c",
        "colab": {
          "base_uri": "https://localhost:8080/"
        },
        "outputId": "cc74e60a-ffb9-4761-ed94-3e8c48a493ba"
      },
      "outputs": [
        {
          "output_type": "stream",
          "name": "stdout",
          "text": [
            "Predicted:    cat  ship   car plane\n"
          ]
        }
      ],
      "source": [
        "_,predicted=torch.max(outputs,1)\n",
        "print('Predicted: ', ' '.join('%5s'%classes[predicted[j]]\n",
        "                             for j in range(4)))"
      ],
      "id": "0120c85c"
    },
    {
      "cell_type": "code",
      "execution_count": 16,
      "metadata": {
        "id": "9f55b952",
        "colab": {
          "base_uri": "https://localhost:8080/"
        },
        "outputId": "4484754d-1c93-47ec-ce5c-545bbe112571"
      },
      "outputs": [
        {
          "output_type": "stream",
          "name": "stdout",
          "text": [
            "Accuracy of the network on the 10000 test images: 79 %\n"
          ]
        }
      ],
      "source": [
        "#overall accuracy\n",
        "correct=0\n",
        "total=0\n",
        "net.eval()\n",
        "#since we're not training, we dont need to calculate the gradients for our outputs\n",
        "with torch.no_grad():\n",
        "    for data in testloader:\n",
        "        images, labels = data[0].to(device), data[1].to(device)\n",
        "        #calculate outputs by running images through the network\n",
        "        net.to(device)\n",
        "        outputs=net(images)\n",
        "        #the class with the highest energy is what we choose as prediction\n",
        "        _,predicted=torch.max(outputs.data,1)\n",
        "        total+=labels.size(0)\n",
        "        correct+=(predicted==labels).sum().item()\n",
        "\n",
        "print('Accuracy of the network on the 10000 test images: %d %%' % (100*correct/total))"
      ],
      "id": "9f55b952"
    },
    {
      "cell_type": "code",
      "execution_count": 17,
      "metadata": {
        "id": "7c5d1419",
        "colab": {
          "base_uri": "https://localhost:8080/"
        },
        "outputId": "724fb9f7-e7ce-4b30-d9d8-ecc3b38b0dfb"
      },
      "outputs": [
        {
          "output_type": "stream",
          "name": "stdout",
          "text": [
            "Accuracy for class plane is: 90.9 %\n",
            "Accuracy for class car   is: 93.7 %\n",
            "Accuracy for class bird  is: 65.5 %\n",
            "Accuracy for class cat   is: 53.4 %\n",
            "Accuracy for class deer  is: 78.1 %\n",
            "Accuracy for class dog   is: 75.4 %\n",
            "Accuracy for class frog  is: 88.2 %\n",
            "Accuracy for class horse is: 84.2 %\n",
            "Accuracy for class ship  is: 81.1 %\n",
            "Accuracy for class truck is: 85.6 %\n"
          ]
        }
      ],
      "source": [
        "#accuracy for each class\n",
        "#prepare to count predictions for each class\n",
        "correct_pred={classname: 0 for classname in classes}\n",
        "total_pred={classname: 0 for classname in classes}\n",
        "net.eval()\n",
        "#no gradients needed\n",
        "with torch.no_grad():\n",
        "    for data in testloader:\n",
        "        images, labels = data[0].to(device), data[1].to(device)\n",
        "        net.to(device)\n",
        "        outputs=net(images)\n",
        "        loss = criterion(outputs, labels)\n",
        "        _,predictions=torch.max(outputs,1)\n",
        "        #collect the correct predictions for each class\n",
        "        for label,prediction in zip(labels,predictions):\n",
        "            if label==prediction:\n",
        "                correct_pred[classes[label]]+=1\n",
        "            total_pred[classes[label]]+=1\n",
        "\n",
        "#print accuracy for each class\n",
        "for classname,correct_count in correct_pred.items():\n",
        "    accuracy=100*float(correct_count)/total_pred[classname]\n",
        "    print(\"Accuracy for class {:5s} is: {:.1f} %\".format(classname,accuracy))\n"
      ],
      "id": "7c5d1419"
    },
    {
      "cell_type": "code",
      "execution_count": 18,
      "metadata": {
        "id": "65437866",
        "colab": {
          "base_uri": "https://localhost:8080/",
          "height": 927
        },
        "outputId": "12357af1-838d-4d36-e101-bd2fe610b55e"
      },
      "outputs": [
        {
          "output_type": "display_data",
          "data": {
            "text/plain": [
              "<Figure size 640x480 with 1 Axes>"
            ],
            "image/png": "[encoded data removed]"
          },
          "metadata": {}
        },
        {
          "output_type": "display_data",
          "data": {
            "text/plain": [
              "<Figure size 640x480 with 1 Axes>"
            ],
            "image/png": "[encoded data removed]"
          },
          "metadata": {}
        }
      ],
      "source": [
        "plt.plot(np.arange(0,10), lossTracker, label='Training loss')\n",
        "plt.title('Loss')\n",
        "plt.xlabel('No. of epochs')\n",
        "plt.ylabel('Loss')\n",
        "plt.legend(loc='upper right')\n",
        "plt.show()\n",
        "\n",
        "plt.plot(accuracyTracker, label='Training accuracy', color='orange')\n",
        "plt.title('Accuracy')\n",
        "plt.xlabel('No. of epochs')\n",
        "plt.ylabel('Accuracy')\n",
        "plt.legend(loc='upper right')\n",
        "plt.show()"
      ],
      "id": "65437866"
    }
  ],
  "metadata": {
    "accelerator": "GPU",
    "colab": {
      "provenance": [],
      "include_colab_link": true
    },
    "kernelspec": {
      "display_name": "Python 3",
      "name": "python3"
    },
    "language_info": {
      "codemirror_mode": {
        "name": "ipython",
        "version": 3
      },
      "file_extension": ".py",
      "mimetype": "text/x-python",
      "name": "python",
      "nbconvert_exporter": "python",
      "pygments_lexer": "ipython3",
      "version": "3.8.18"
    }
  },
  "nbformat": 4,
  "nbformat_minor": 5
}