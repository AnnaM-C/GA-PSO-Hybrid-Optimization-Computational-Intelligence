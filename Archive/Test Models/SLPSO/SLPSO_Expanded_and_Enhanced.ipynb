{
  "cells": [
    {
      "cell_type": "code",
      "execution_count": 1,
      "metadata": {
        "colab": {
          "base_uri": "https://localhost:8080/"
        },
        "id": "NQkuKzL2GBnB",
        "outputId": "da453bc8-592d-4cc5-8d62-9b048560729b"
      },
      "outputs": [
        {
          "name": "stdout",
          "output_type": "stream",
          "text": [
            "Collecting deap\n",
            "  Downloading deap-1.4.1-cp310-cp310-manylinux_2_5_x86_64.manylinux1_x86_64.manylinux_2_17_x86_64.manylinux2014_x86_64.whl (135 kB)\n",
            "\u001b[?25l     \u001b[90m━━━━━━━━━━━━━━━━━━━━━━━━━━━━━━━━━━━━━━━━\u001b[0m \u001b[32m0.0/135.4 kB\u001b[0m \u001b[31m?\u001b[0m eta \u001b[36m-:--:--\u001b[0m\r\u001b[2K     \u001b[91m━━━━━━━━━━━━━━━━━━━━━━━━━━━━━━━━━\u001b[0m\u001b[90m╺\u001b[0m\u001b[90m━━━━━━\u001b[0m \u001b[32m112.6/135.4 kB\u001b[0m \u001b[31m3.2 MB/s\u001b[0m eta \u001b[36m0:00:01\u001b[0m\r\u001b[2K     \u001b[90m━━━━━━━━━━━━━━━━━━━━━━━━━━━━━━━━━━━━━━━━\u001b[0m \u001b[32m135.4/135.4 kB\u001b[0m \u001b[31m2.9 MB/s\u001b[0m eta \u001b[36m0:00:00\u001b[0m\n",
            "\u001b[?25hRequirement already satisfied: numpy in /usr/local/lib/python3.10/dist-packages (from deap) (1.23.5)\n",
            "Installing collected packages: deap\n",
            "Successfully installed deap-1.4.1\n"
          ]
        }
      ],
      "source": [
        "import torch\n",
        "import torchvision\n",
        "import torchvision.transforms as transforms\n",
        "\n",
        "import torch.nn as nn\n",
        "import torch.nn.functional as F\n",
        "\n",
        "import matplotlib.pyplot as plt\n",
        "import numpy as np\n",
        "\n",
        "import torch.optim as optim\n",
        "\n",
        "# !pip install deap\n",
        "\n",
        "from deap import base\n",
        "from deap import benchmarks\n",
        "from deap import creator\n",
        "from deap import tools\n",
        "\n",
        "import operator\n",
        "import random\n",
        "\n",
        "import math"
      ]
    },
    {
      "cell_type": "code",
      "execution_count": 2,
      "metadata": {
        "colab": {
          "base_uri": "https://localhost:8080/"
        },
        "id": "CqMaY2RPHA_s",
        "outputId": "cf9bdfef-52c8-4674-d589-a989421b8d2c"
      },
      "outputs": [
        {
          "name": "stdout",
          "output_type": "stream",
          "text": [
            "Downloading https://www.cs.toronto.edu/~kriz/cifar-10-python.tar.gz to ./data/cifar-10-python.tar.gz\n"
          ]
        },
        {
          "name": "stderr",
          "output_type": "stream",
          "text": [
            "100%|██████████| 170498071/170498071 [00:03<00:00, 43014908.21it/s]\n"
          ]
        },
        {
          "name": "stdout",
          "output_type": "stream",
          "text": [
            "Extracting ./data/cifar-10-python.tar.gz to ./data\n",
            "Files already downloaded and verified\n"
          ]
        }
      ],
      "source": [
        "# The dataset comes in data of the range 0-1, we want to convert this to -1 to 1 as part of normalisation\n",
        "\n",
        "transform = transforms.Compose(\n",
        "    [transforms.ToTensor(),\n",
        "     transforms.Normalize((0.5, 0.5, 0.5), (0.5, 0.5, 0.5))]) # Function to transform the dataset to the specified range\n",
        "\n",
        "batch_size = 512\n",
        "\n",
        "# Downloading the training set\n",
        "trainset = torchvision.datasets.CIFAR10(root='./data', train=True,\n",
        "                                        download=True, transform=transform)\n",
        "\n",
        "# Loading the training set into a variable\n",
        "trainloader = torch.utils.data.DataLoader(trainset, batch_size=batch_size,\n",
        "                                          shuffle=True, num_workers=2)\n",
        "\n",
        "# etc.\n",
        "testset = torchvision.datasets.CIFAR10(root='./data', train=False,\n",
        "                                       download=True, transform=transform)\n",
        "testloader = torch.utils.data.DataLoader(testset, batch_size=batch_size,\n",
        "                                         shuffle=False, num_workers=2)\n",
        "\n",
        "# Specifying the classes of the dataset that we want to train the classifier on\n",
        "classes = ('plane', 'car', 'bird', 'cat',\n",
        "           'deer', 'dog', 'frog', 'horse', 'ship', 'truck')"
      ]
    },
    {
      "cell_type": "code",
      "execution_count": 3,
      "metadata": {
        "colab": {
          "base_uri": "https://localhost:8080/"
        },
        "id": "MASRQoGTHjxU",
        "outputId": "28c54c9d-33c6-42fb-c68e-f9f75ca5d381"
      },
      "outputs": [
        {
          "name": "stdout",
          "output_type": "stream",
          "text": [
            "50000\n",
            "Number of loaders to create: 50\n",
            "Start Index: 0\n",
            "End Index: 1000\n",
            "\n",
            "Start Index: 1000\n",
            "End Index: 2000\n",
            "\n",
            "Start Index: 2000\n",
            "End Index: 3000\n",
            "\n",
            "Start Index: 3000\n",
            "End Index: 4000\n",
            "\n",
            "Start Index: 4000\n",
            "End Index: 5000\n",
            "\n",
            "Start Index: 5000\n",
            "End Index: 6000\n",
            "\n",
            "Start Index: 6000\n",
            "End Index: 7000\n",
            "\n",
            "Start Index: 7000\n",
            "End Index: 8000\n",
            "\n",
            "Start Index: 8000\n",
            "End Index: 9000\n",
            "\n",
            "Start Index: 9000\n",
            "End Index: 10000\n",
            "\n",
            "Start Index: 10000\n",
            "End Index: 11000\n",
            "\n",
            "Start Index: 11000\n",
            "End Index: 12000\n",
            "\n",
            "Start Index: 12000\n",
            "End Index: 13000\n",
            "\n",
            "Start Index: 13000\n",
            "End Index: 14000\n",
            "\n",
            "Start Index: 14000\n",
            "End Index: 15000\n",
            "\n",
            "Start Index: 15000\n",
            "End Index: 16000\n",
            "\n",
            "Start Index: 16000\n",
            "End Index: 17000\n",
            "\n",
            "Start Index: 17000\n",
            "End Index: 18000\n",
            "\n",
            "Start Index: 18000\n",
            "End Index: 19000\n",
            "\n",
            "Start Index: 19000\n",
            "End Index: 20000\n",
            "\n",
            "Start Index: 20000\n",
            "End Index: 21000\n",
            "\n",
            "Start Index: 21000\n",
            "End Index: 22000\n",
            "\n",
            "Start Index: 22000\n",
            "End Index: 23000\n",
            "\n",
            "Start Index: 23000\n",
            "End Index: 24000\n",
            "\n",
            "Start Index: 24000\n",
            "End Index: 25000\n",
            "\n",
            "Start Index: 25000\n",
            "End Index: 26000\n",
            "\n",
            "Start Index: 26000\n",
            "End Index: 27000\n",
            "\n",
            "Start Index: 27000\n",
            "End Index: 28000\n",
            "\n",
            "Start Index: 28000\n",
            "End Index: 29000\n",
            "\n",
            "Start Index: 29000\n",
            "End Index: 30000\n",
            "\n",
            "Start Index: 30000\n",
            "End Index: 31000\n",
            "\n",
            "Start Index: 31000\n",
            "End Index: 32000\n",
            "\n",
            "Start Index: 32000\n",
            "End Index: 33000\n",
            "\n",
            "Start Index: 33000\n",
            "End Index: 34000\n",
            "\n",
            "Start Index: 34000\n",
            "End Index: 35000\n",
            "\n",
            "Start Index: 35000\n",
            "End Index: 36000\n",
            "\n",
            "Start Index: 36000\n",
            "End Index: 37000\n",
            "\n",
            "Start Index: 37000\n",
            "End Index: 38000\n",
            "\n",
            "Start Index: 38000\n",
            "End Index: 39000\n",
            "\n",
            "Start Index: 39000\n",
            "End Index: 40000\n",
            "\n",
            "Start Index: 40000\n",
            "End Index: 41000\n",
            "\n",
            "Start Index: 41000\n",
            "End Index: 42000\n",
            "\n",
            "Start Index: 42000\n",
            "End Index: 43000\n",
            "\n",
            "Start Index: 43000\n",
            "End Index: 44000\n",
            "\n",
            "Start Index: 44000\n",
            "End Index: 45000\n",
            "\n",
            "Start Index: 45000\n",
            "End Index: 46000\n",
            "\n",
            "Start Index: 46000\n",
            "End Index: 47000\n",
            "\n",
            "Start Index: 47000\n",
            "End Index: 48000\n",
            "\n",
            "Start Index: 48000\n",
            "End Index: 49000\n",
            "\n",
            "Start Index: 49000\n",
            "End Index: 50000\n",
            "\n"
          ]
        }
      ],
      "source": [
        "totalImages = len(trainloader.dataset)\n",
        "print(totalImages)\n",
        "\n",
        "# How many trainloaders we want to create, each with the miniAmount of images in it\n",
        "miniAmount = 1000\n",
        "\n",
        "numOfLoaders = totalImages // miniAmount\n",
        "\n",
        "print(\"Number of loaders to create: \" + str(numOfLoaders)) # 10 Loaders\n",
        "\n",
        "# Contains the list of trainloaders\n",
        "miniLoaders = []\n",
        "\n",
        "for i in range(numOfLoaders):\n",
        "  startIdx = i * miniAmount\n",
        "  endIdx = (i + 1) * miniAmount if i < numOfLoaders - 1 else totalImages\n",
        "\n",
        "  print(\"Start Index: \" + str(startIdx))\n",
        "  print(\"End Index: \" + str(endIdx) + \"\\n\")\n",
        "\n",
        "  # Creates a subset of the whole training set\n",
        "  subset = torch.utils.data.Subset(trainset, range(startIdx, endIdx))\n",
        "\n",
        "  SubTrainLoader = torch.utils.data.DataLoader(subset, batch_size=batch_size,\n",
        "                                              shuffle=True, num_workers=2)\n",
        "\n",
        "  miniLoaders.append(SubTrainLoader)"
      ]
    },
    {
      "cell_type": "code",
      "execution_count": 4,
      "metadata": {
        "colab": {
          "base_uri": "https://localhost:8080/"
        },
        "id": "oNEwcezLM9lt",
        "outputId": "d4884c57-ffa5-48e6-ce88-d9412ff084c4"
      },
      "outputs": [
        {
          "name": "stdout",
          "output_type": "stream",
          "text": [
            "50\n",
            "<torch.utils.data.dataloader.DataLoader object at 0x78872672c5b0>\n",
            "<torch.utils.data.dataloader.DataLoader object at 0x7888057f6410>\n"
          ]
        }
      ],
      "source": [
        "# Testing to see how miniLoaders look\n",
        "\n",
        "print(len(miniLoaders))\n",
        "\n",
        "print(miniLoaders[9])\n",
        "\n",
        "print(trainloader)\n",
        "\n",
        "# with 5000 images in each loader, we have 10 loaders in total, need to loop back to beginning after miniLoader[9]"
      ]
    },
    {
      "cell_type": "code",
      "execution_count": 5,
      "metadata": {
        "colab": {
          "base_uri": "https://localhost:8080/"
        },
        "id": "VuAnwleENVzP",
        "outputId": "f9a804eb-bc9d-4679-ac3f-a012aa59a3be"
      },
      "outputs": [
        {
          "name": "stdout",
          "output_type": "stream",
          "text": [
            "cuda:0\n"
          ]
        }
      ],
      "source": [
        "device = torch.device(\"cuda:0\" if torch.cuda.is_available() else \"cpu\")\n",
        "\n",
        "print(device)"
      ]
    },
    {
      "cell_type": "code",
      "execution_count": 6,
      "metadata": {
        "colab": {
          "base_uri": "https://localhost:8080/",
          "height": 472
        },
        "id": "fsuxplaWNb14",
        "outputId": "67006c8b-b152-4360-d57f-ae5f71084b94"
      },
      "outputs": [
        {
          "data": {
            "image/png": "[encoded data removed]",
            "text/plain": [
              "<Figure size 640x480 with 1 Axes>"
            ]
          },
          "metadata": {},
          "output_type": "display_data"
        },
        {
          "name": "stdout",
          "output_type": "stream",
          "text": [
            "car   bird  ship  ship  ship  horse ship  dog   horse bird  horse plane deer  dog   dog   horse bird  cat   truck bird  frog  dog   deer  cat   plane bird  car   bird  cat   truck dog   frog  deer  ship  frog  dog   deer  horse frog  horse truck ship  plane deer  ship  truck bird  plane car   horse ship  plane ship  frog  bird  ship  frog  car   car   bird  deer  horse ship  plane horse dog   cat   deer  cat   car   car   deer  dog   dog   car   truck plane truck truck cat   plane ship  car   frog  cat   cat   frog  ship  ship  dog   plane ship  bird  car   dog   cat   car   horse ship  plane truck frog  ship  deer  frog  bird  plane frog  frog  frog  horse car   deer  truck car   truck horse deer  deer  plane plane dog   bird  cat   truck deer  truck truck horse ship  plane plane truck truck deer  deer  dog   frog  ship  cat   bird  horse truck plane car   horse plane dog   car   horse frog  car   horse bird  car   deer  dog   cat   ship  bird  ship  dog   deer  cat   plane plane car   ship  frog  deer  bird  ship  bird  frog  plane car   bird  bird  deer  plane bird  ship  bird  bird  bird  bird  cat   dog   dog   ship  plane bird  cat   plane cat   cat   ship  deer  frog  dog   frog  plane deer  truck car   cat   dog   cat   cat   frog  car   deer  plane dog   car   cat   truck ship  deer  dog   bird  cat   frog  truck car   frog  ship  plane ship  frog  frog  frog  frog  cat   ship  bird  deer  car   cat   frog  ship  deer  bird  bird  dog   deer  plane ship  truck frog  deer  bird  ship  bird  dog   frog  bird  bird  ship  truck bird  deer  plane horse bird  frog  cat   deer  ship  deer  bird  deer  car   bird  truck dog   deer  truck dog   horse ship  horse horse dog   ship  horse deer  frog  cat   deer  dog   cat   plane truck ship  ship  plane cat   dog   bird  horse truck horse cat   horse deer  deer  bird  cat   truck truck car   ship  car   plane plane ship  bird  bird  plane deer  cat   dog   dog   deer  dog   deer  plane cat   horse car   truck bird  deer  dog   truck frog  car   horse deer  frog  bird  plane ship  horse car   truck deer  bird  dog   horse bird  ship  bird  plane ship  ship  cat   plane bird  deer  dog   dog   ship  horse dog   truck truck horse horse dog   truck truck horse deer  horse car   plane deer  dog   truck deer  horse truck bird  dog   ship  plane dog   truck ship  truck ship  plane deer  truck deer  truck deer  plane horse car   car   dog   bird  ship  cat   ship  bird  ship  ship  ship  ship  frog  ship  frog  plane cat   plane cat   plane ship  frog  bird  plane horse cat   ship  ship  plane car   ship  cat   dog   horse horse cat   car   dog   frog  truck plane dog   cat   car   car   plane horse cat   plane car   cat   car   truck dog   frog  deer  frog  ship  plane deer  dog   truck ship  plane truck plane frog  car   frog  plane deer  frog  cat   horse bird  ship  horse ship  truck cat   horse bird  ship  truck car   deer  bird  deer  bird  horse plane car   cat   cat   horse dog   horse deer  ship  truck frog  dog   dog   bird  dog   horse car   dog   frog  car   cat  \n"
          ]
        }
      ],
      "source": [
        "# functions to show an image for fun\n",
        "\n",
        "def imshow(img):\n",
        "    img = img / 2 + 0.5     # unnormalize\n",
        "    npimg = img.numpy()\n",
        "    plt.imshow(np.transpose(npimg, (1, 2, 0)))\n",
        "    plt.show()\n",
        "\n",
        "\n",
        "# Get some random training images from the first DataLoader\n",
        "dataiter = iter(miniLoaders[1])\n",
        "images, labels = next(dataiter)\n",
        "\n",
        "# Show images\n",
        "imshow(torchvision.utils.make_grid(images))\n",
        "# Print labels\n",
        "print(' '.join(f'{classes[labels[j]]:5s}' for j in range(batch_size)))"
      ]
    },
    {
      "cell_type": "code",
      "execution_count": 7,
      "metadata": {
        "id": "8XPKBFnDQ69x"
      },
      "outputs": [],
      "source": [
        "#based on VGG\n",
        "class Net(nn.Module):\n",
        "    def __init__(self):\n",
        "        super(Net, self).__init__()\n",
        "\n",
        "        self.features = nn.Sequential(\n",
        "            nn.Conv2d(3, 64, kernel_size=3, padding=1),\n",
        "            nn.ReLU(inplace=True),\n",
        "            nn.Conv2d(64, 64, kernel_size=3, padding=1),\n",
        "            nn.ReLU(inplace=True),\n",
        "            nn.MaxPool2d(kernel_size=2, stride=2),\n",
        "\n",
        "            nn.Conv2d(64, 128, kernel_size=3, padding=1),\n",
        "            nn.ReLU(inplace=True),\n",
        "            nn.Conv2d(128, 128, kernel_size=3, padding=1),\n",
        "            nn.ReLU(inplace=True),\n",
        "            nn.MaxPool2d(kernel_size=2, stride=2),\n",
        "\n",
        "            nn.Conv2d(128, 256, kernel_size=3, padding=1),\n",
        "            nn.ReLU(inplace=True),\n",
        "            nn.Conv2d(256, 256, kernel_size=3, padding=1),\n",
        "            nn.ReLU(inplace=True),\n",
        "            nn.Conv2d(256, 256, kernel_size=3, padding=1),\n",
        "            nn.ReLU(inplace=True),\n",
        "            nn.MaxPool2d(kernel_size=2, stride=2),\n",
        "        )\n",
        "\n",
        "        self.classifier = nn.Sequential(\n",
        "            nn.Linear(256 * 4 * 4, 1024),\n",
        "            nn.ReLU(inplace=True),\n",
        "            nn.Dropout(),\n",
        "            nn.Linear(1024, 52),\n",
        "            nn.ReLU(inplace=True),\n",
        "            nn.Dropout(),\n",
        "            nn.Linear(52, 10)\n",
        "        )\n",
        "\n",
        "    def forward(self, x):\n",
        "        x = self.features(x)\n",
        "        x = x.view(x.size(0), -1)\n",
        "        x = self.classifier(x)\n",
        "        return x\n",
        "\n",
        "model=Net()"
      ]
    },
    {
      "cell_type": "code",
      "execution_count": 9,
      "metadata": {
        "colab": {
          "base_uri": "https://localhost:8080/"
        },
        "id": "UogCMKaiRMCO",
        "outputId": "d66bcc3b-4da9-4cbf-9db8-afc7083d639e"
      },
      "outputs": [
        {
          "data": {
            "text/plain": [
              "<All keys matched successfully>"
            ]
          },
          "execution_count": 9,
          "metadata": {},
          "output_type": "execute_result"
        }
      ],
      "source": [
        "PATH = ('./40_epoch_32_batch_SGD_net.pth')\n",
        "PopModel = Net()\n",
        "PopModel.load_state_dict(torch.load(PATH))"
      ]
    },
    {
      "cell_type": "code",
      "execution_count": 10,
      "metadata": {
        "id": "MnsZQdF6RktY"
      },
      "outputs": [],
      "source": [
        "# Setting all layers to not change their weights with GD backpropagation\n",
        "\n",
        "for param in PopModel.parameters():\n",
        "    # By setting the requires grad for each parameter to false, we no longer track it with autograd\n",
        "    # Consequently, backpropagation or whatever will not compute the gradients for these layers\n",
        "    param.requires_grad = False"
      ]
    },
    {
      "cell_type": "code",
      "execution_count": 11,
      "metadata": {
        "colab": {
          "base_uri": "https://localhost:8080/"
        },
        "id": "y1KmLz13RnKx",
        "outputId": "5f1d9c2f-517f-45f9-c9cc-1ed69a1a29b4"
      },
      "outputs": [
        {
          "name": "stdout",
          "output_type": "stream",
          "text": [
            "Linear(in_features=52, out_features=10, bias=True)\n",
            "10\n",
            "52\n",
            "10\n",
            "530\n"
          ]
        }
      ],
      "source": [
        "finalLayer = PopModel.classifier[-1]\n",
        "\n",
        "print(finalLayer) # 10 features out\n",
        "\n",
        "outerShape = len(finalLayer.weight)\n",
        "innerShape = len(finalLayer.weight[0])\n",
        "\n",
        "totalWeights = outerShape * innerShape\n",
        "\n",
        "print(outerShape) # 10 population size\n",
        "print(innerShape) # 10 arrays, with 52 items in it\n",
        "\n",
        "# 52 inputs connected to a single output, there are 10 outputs therefore 52x10 connections in total. for one output, the 52 connections will have 52 different weights which are used\n",
        "# to calculate the output node. therefore there are 10 tensors with 52 elements in each tensor, with a different set of weights.\n",
        "\n",
        "biasCount = len(finalLayer.bias)\n",
        "print(biasCount)\n",
        "\n",
        "paramCount = sum(param.numel() for param in finalLayer.parameters())\n",
        "\n",
        "print(paramCount) # 530 Parameters: 520 weights + 10 biases\n"
      ]
    },
    {
      "cell_type": "code",
      "execution_count": 12,
      "metadata": {
        "colab": {
          "base_uri": "https://localhost:8080/"
        },
        "id": "qivLGrsVSnzd",
        "outputId": "04016b35-1e9e-463b-cf2d-48f6332ec798"
      },
      "outputs": [
        {
          "name": "stdout",
          "output_type": "stream",
          "text": [
            "torch.Size([10, 52])\n",
            "torch.Size([10])\n"
          ]
        },
        {
          "name": "stderr",
          "output_type": "stream",
          "text": [
            "<ipython-input-12-6e0b5b33f1e0>:3: UserWarning: nn.init.xavier_uniform is now deprecated in favor of nn.init.xavier_uniform_.\n",
            "  nn.init.xavier_uniform(finalLayer.weight)\n"
          ]
        }
      ],
      "source": [
        "# Randomise final layer weights\n",
        "\n",
        "nn.init.xavier_uniform(finalLayer.weight)\n",
        "\n",
        "print((finalLayer.weight).shape) # Shape that the layer requires is (10,52)\n",
        "\n",
        "print((finalLayer.bias).shape)"
      ]
    },
    {
      "cell_type": "code",
      "execution_count": 13,
      "metadata": {
        "id": "N_EDgECbSqLn"
      },
      "outputs": [],
      "source": [
        "# Additional Function for converting weights to a numpy array\n",
        "\n",
        "def convert_np_function(self, intermediate_tensor):\n",
        "        intermediate_value = intermediate_tensor.numpy()\n",
        "        self.intermediate_values.append(intermediate_value)\n",
        "\n",
        "populationList = finalLayer.weight.numpy()"
      ]
    },
    {
      "cell_type": "markdown",
      "metadata": {
        "id": "SBVqW9U-S03Q"
      },
      "source": [
        "#SSPSO"
      ]
    },
    {
      "cell_type": "code",
      "execution_count": 14,
      "metadata": {
        "id": "mB7-AfdBS0ZA"
      },
      "outputs": [],
      "source": [
        "posMinInit      = -0.1\n",
        "posMaxInit      = +0.1\n",
        "VMaxInit        = 1.5\n",
        "VMinInit        = 0.5\n",
        "# populationSize  = 3\n",
        "dimension       = paramCount\n",
        "populationSize  = 100+int(dimension/10) # from lab on SL-PSO\n",
        "#interval        = 10\n",
        "interval = 1\n",
        "iterations      = 100\n",
        "\n",
        "#variables used in SL-PSO\n",
        "epsilon = dimension/100.0*0.01 # social influence of swarm centre\n",
        "\n",
        "# Criterion for measuring loss, may need to tweak this to return negative value for PSO\n",
        "criterion = nn.CrossEntropyLoss()\n",
        "\n",
        "lossTracker = []\n",
        "\n",
        "accuracyTracker = []"
      ]
    },
    {
      "cell_type": "code",
      "execution_count": 15,
      "metadata": {
        "id": "EB4l_I6yS7H9"
      },
      "outputs": [],
      "source": [
        "# function to get the mean positions of the inviduals (swarm centre)\n",
        "def getcenter(pop):\n",
        "    center=list()\n",
        "    for j in range(dimension): # count through dimensions\n",
        "        centerj = 0\n",
        "        for i in pop: # for each particle\n",
        "            centerj += i[j] # sum up position in dimention j\n",
        "        centerj /= populationSize # Average\n",
        "        center.append(centerj)\n",
        "    return center\n",
        "\n",
        "creator.create(\"FitnessMin\", base.Fitness, weights=(-1.0,)) # -1 is for minimise\n",
        "creator.create(\"Particle\", list, fitness=creator.FitnessMin, speed=list, smin=None, smax=None, best=None)"
      ]
    },
    {
      "cell_type": "code",
      "execution_count": 16,
      "metadata": {
        "id": "PO6tWiI8S-qF"
      },
      "outputs": [],
      "source": [
        "# particle rerpresented by list of 5 things\n",
        "# 1. fitness of the particle,\n",
        "# 2. speed of the particle which is also going to be a list,\n",
        "# 3.4. limit of the speed value,\n",
        "# 5. best state the particle has been in so far.\n",
        "\n",
        "def generate(size, smin, smax):\n",
        "    part = creator.Particle(random.uniform(posMinInit, posMaxInit) for _ in range(size))\n",
        "    part.speed = [random.uniform(VMinInit, VMaxInit) for _ in range(size)]\n",
        "    part.smin = smin #speed clamping values\n",
        "    part.smax = smax\n",
        "    return part\n",
        "\n",
        "def updateParticle(part,pop,center,i):\n",
        "    r1 = random.uniform(0, 1)\n",
        "    r2 = random.uniform(0, 1)\n",
        "    r3 = random.uniform(0, 1)\n",
        "\n",
        "    #Randomly choose a demonstrator for particle i from any of particles 0 to i-1, the Particle i\n",
        "    #updates its velocity by learning from the demonstrator and the mean position of the swarm\n",
        "    demonstrator=random.choice(list(pop[0:i]))\n",
        "\n",
        "    for j in range(dimension): # count through dimensions\n",
        "        part.speed[j]=r1*part.speed[j]+r2*(demonstrator[j]-part[j])+r3*epsilon*(center[j]-part[j])\n",
        "        part[j]=part[j]+part.speed[j]\n",
        "\n",
        "def getBestAccuracy(bestParticle):\n",
        "  bestNP = np.array(bestParticle)\n",
        "\n",
        "  # Splitting into weights and biases\n",
        "  bestWeights = bestNP[:totalWeights]\n",
        "  bestBiases = bestNP[-biasCount:]\n",
        "\n",
        "  # Putting biases in\n",
        "  bestBiases = torch.from_numpy(bestBiases).float()\n",
        "  finalLayer.bias = torch.nn.Parameter(bestBiases.float())\n",
        "\n",
        "  # Reshaping weights so they are correct for the layer\n",
        "  bestWeights = bestWeights.reshape(outerShape,innerShape)\n",
        "\n",
        "  # Converting to torch array\n",
        "  bestWeights = torch.from_numpy(bestWeights).float()\n",
        "\n",
        "  # Putting the weights into the layer\n",
        "  finalLayer.weight = torch.nn.Parameter(bestWeights.float())\n",
        "\n",
        "  correct_pred = 0\n",
        "  total_pred = 0\n",
        "\n",
        "  PopModel.to(device)\n",
        "\n",
        "  for data in trainloader:\n",
        "    images, labels = data[0].to(device), data[1].to(device)\n",
        "    outputs = PopModel(images)\n",
        "\n",
        "  _, predictions = torch.max(outputs, 1)\n",
        "\n",
        "  # collect the correct predictions for each class\n",
        "\n",
        "  for label, prediction in zip(labels, predictions):\n",
        "    if label == prediction:\n",
        "      correct_pred += 1\n",
        "    total_pred += 1\n",
        "\n",
        "  acc = (correct_pred / total_pred)*100\n",
        "\n",
        "\n",
        "  print(\"Accuracy of current best particle: \" + str(acc) + \"%\")\n",
        "\n",
        "  return acc"
      ]
    },
    {
      "cell_type": "code",
      "execution_count": 17,
      "metadata": {
        "id": "Sf6ofjRMTF0C"
      },
      "outputs": [],
      "source": [
        "toolbox = base.Toolbox()\n",
        "toolbox.register(\"particle\", generate, size=dimension, smin=-3, smax=3)\n",
        "toolbox.register(\"population\", tools.initRepeat, list, toolbox.particle)\n",
        "toolbox.register(\"update\", updateParticle)\n",
        "\n",
        "# Note most likely need to change the evaluate function\n",
        "toolbox.register(\"evaluate\", benchmarks.sphere) #sphere function is built-in in DEAP\n",
        "\n",
        "runCounter = 0\n",
        "\n",
        "def modelEval(particle, runCounter, miniNumber):\n",
        "    runCounter = runCounter\n",
        "    runCounter +=1\n",
        "\n",
        "    #print(\"Mini Number: \" + str(miniNumber))\n",
        "\n",
        "    # First step to get the particles weights out from it, convert to an numpy array\n",
        "    particleweightsNP1 = np.array(particle)\n",
        "\n",
        "    #particleweightsNP = particleweightsNP1[:840]\n",
        "    #biases = np.array(particleweightsNP1[-10:])\n",
        "    particleweightsNP = particleweightsNP1[:totalWeights]\n",
        "    biases = np.array(particleweightsNP1[-biasCount:])\n",
        "\n",
        "    # Putting biases straight in\n",
        "    biases = torch.from_numpy(biases).float()\n",
        "    finalLayer.bias = torch.nn.Parameter(biases.float())\n",
        "\n",
        "    #print(particleweightsNP)\n",
        "\n",
        "#     print(\"Shape of particle: \" + str(particleweightsNP.shape))\n",
        "\n",
        "    # Converting to the correct shape!\n",
        "    reshapedWeights = particleweightsNP.reshape(outerShape,innerShape)\n",
        "#     print(\"Shape of reshaped particle: \" + str(reshapedWeights.shape))\n",
        "\n",
        "    # Convert to torch array!\n",
        "    torchWeights = torch.from_numpy(reshapedWeights).float()\n",
        "\n",
        "    # Now we want to set the weights of the finalLayer to these weights\n",
        "\n",
        "    finalLayer.weight = torch.nn.Parameter(torchWeights.float())\n",
        "\n",
        "    # print(\"After:\\n\")\n",
        "    # print(finalLayer.weight)\n",
        "\n",
        "    #finalLayer.weight.data = torchWeights.float()\n",
        "    #print(finalLayer.weight) # Note that the numbers look different than torchWeights ?\n",
        "    #print(torchWeights)\n",
        "\n",
        "    # Run a training loop for the model, with the particles weights set to the final layer and return a loss value back\n",
        "\n",
        "    epoch_loss = 0.0\n",
        "    running_loss = 0.0\n",
        "\n",
        "    # reshapedWeights.to(device)\n",
        "    # torchWeights.to(device)\n",
        "\n",
        "#     print(f\"Starting training run {runCounter}...\")\n",
        "\n",
        "    PopModel.to(device)\n",
        "\n",
        "    for epoch in range(1):\n",
        "\n",
        "        epoch_loss = 0.0\n",
        "\n",
        "        for i, data in enumerate(miniLoaders[miniNumber], 0):\n",
        "            # get the inputs; data is a list of [inputs, labels]\n",
        "            inputs, labels = data[0].to(device), data[1].to(device)\n",
        "            # Getting the predictions for the model\n",
        "            outputs = PopModel(inputs)\n",
        "\n",
        "            loss = criterion(outputs, labels)\n",
        "\n",
        "            #print(loss.item())\n",
        "\n",
        "            epoch_loss += loss.item()\n",
        "\n",
        "#         print(\"End of Epoch:\" + str(epoch))\n",
        "\n",
        "        running_loss += (epoch_loss / i)\n",
        "\n",
        "    # Now we have a loss value:\n",
        "    #print(\"Total Loss: \" + str(running_loss))\n",
        "\n",
        "    return running_loss,\n",
        "\n",
        "toolbox.register(\"evaluate2\", modelEval)"
      ]
    },
    {
      "cell_type": "code",
      "execution_count": 18,
      "metadata": {
        "colab": {
          "base_uri": "https://localhost:8080/",
          "height": 806
        },
        "id": "n2Fuk2oqT4zK",
        "outputId": "59b64e1f-6e58-4c77-b486-c01e52198603"
      },
      "outputs": [
        {
          "name": "stdout",
          "output_type": "stream",
          "text": [
            "gen\tevals\tavg    \tstd     \tmin    \tmax    \n",
            "0  \t153  \t5.29321\t0.292519\t4.53615\t6.19623\n",
            "Accuracy of current best particle: 18.75%\n",
            "Current Mutation Tick: 1\n",
            "1  \t153  \t6.76915\t2.47004 \t4.61916\t14.7047\n",
            "Accuracy of current best particle: 21.428571428571427%\n",
            "Current Mutation Tick: 0\n",
            "2  \t153  \t7.28336\t3.36283 \t4.57702\t21.9529\n",
            "Accuracy of current best particle: 18.452380952380953%\n",
            "Current Mutation Tick: 0\n",
            "3  \t153  \t6.94962\t3.02744 \t4.50119\t24.5949\n",
            "Accuracy of current best particle: 13.095238095238097%\n",
            "Current Mutation Tick: 0\n",
            "4  \t153  \t6.6839 \t2.55356 \t4.56236\t20.0022\n",
            "Accuracy of current best particle: 17.261904761904763%\n",
            "Current Mutation Tick: 0\n",
            "5  \t153  \t6.4032 \t2.47099 \t4.49096\t19.7133\n",
            "Accuracy of current best particle: 12.797619047619047%\n",
            "Current Mutation Tick: 0\n",
            "6  \t153  \t6.05137\t2.07376 \t4.52347\t17.7755\n",
            "Accuracy of current best particle: 19.940476190476193%\n",
            "Current Mutation Tick: 0\n",
            "7  \t153  \t5.96862\t2.02374 \t4.37789\t15.4159\n",
            "Accuracy of current best particle: 17.857142857142858%\n",
            "Current Mutation Tick: 0\n",
            "8  \t153  \t5.61176\t1.66262 \t4.34683\t17.511 \n"
          ]
        },
        {
          "ename": "KeyboardInterrupt",
          "evalue": "ignored",
          "output_type": "error",
          "traceback": [
            "\u001b[0;31m---------------------------------------------------------------------------\u001b[0m",
            "\u001b[0;31mKeyboardInterrupt\u001b[0m                         Traceback (most recent call last)",
            "\u001b[0;32m<ipython-input-18-f7aeb16b4b07>\u001b[0m in \u001b[0;36m<cell line: 126>\u001b[0;34m()\u001b[0m\n\u001b[1;32m    125\u001b[0m \u001b[0;34m\u001b[0m\u001b[0m\n\u001b[1;32m    126\u001b[0m \u001b[0;32mif\u001b[0m \u001b[0m__name__\u001b[0m \u001b[0;34m==\u001b[0m \u001b[0;34m\"__main__\"\u001b[0m\u001b[0;34m:\u001b[0m\u001b[0;34m\u001b[0m\u001b[0;34m\u001b[0m\u001b[0m\n\u001b[0;32m--> 127\u001b[0;31m     \u001b[0msuperpart\u001b[0m \u001b[0;34m=\u001b[0m \u001b[0mmain\u001b[0m\u001b[0;34m(\u001b[0m\u001b[0;34m)\u001b[0m\u001b[0;34m\u001b[0m\u001b[0;34m\u001b[0m\u001b[0m\n\u001b[0m",
            "\u001b[0;32m<ipython-input-18-f7aeb16b4b07>\u001b[0m in \u001b[0;36mmain\u001b[0;34m()\u001b[0m\n\u001b[1;32m     54\u001b[0m         \u001b[0;31m# Evaluate the accuracy of the current best particle\u001b[0m\u001b[0;34m\u001b[0m\u001b[0;34m\u001b[0m\u001b[0m\n\u001b[1;32m     55\u001b[0m \u001b[0;34m\u001b[0m\u001b[0m\n\u001b[0;32m---> 56\u001b[0;31m         \u001b[0maccuracyTracker\u001b[0m\u001b[0;34m.\u001b[0m\u001b[0mappend\u001b[0m\u001b[0;34m(\u001b[0m\u001b[0mgetBestAccuracy\u001b[0m\u001b[0;34m(\u001b[0m\u001b[0mpop\u001b[0m\u001b[0;34m[\u001b[0m\u001b[0;36m0\u001b[0m\u001b[0;34m]\u001b[0m\u001b[0;34m)\u001b[0m\u001b[0;34m)\u001b[0m\u001b[0;34m\u001b[0m\u001b[0;34m\u001b[0m\u001b[0m\n\u001b[0m\u001b[1;32m     57\u001b[0m \u001b[0;34m\u001b[0m\u001b[0m\n\u001b[1;32m     58\u001b[0m         \u001b[0;31m# Creating the mutation aspect\u001b[0m\u001b[0;34m\u001b[0m\u001b[0;34m\u001b[0m\u001b[0m\n",
            "\u001b[0;32m<ipython-input-16-880896c4b26b>\u001b[0m in \u001b[0;36mgetBestAccuracy\u001b[0;34m(bestParticle)\u001b[0m\n\u001b[1;32m     63\u001b[0m   \u001b[0mPopModel\u001b[0m\u001b[0;34m.\u001b[0m\u001b[0mto\u001b[0m\u001b[0;34m(\u001b[0m\u001b[0mdevice\u001b[0m\u001b[0;34m)\u001b[0m\u001b[0;34m\u001b[0m\u001b[0;34m\u001b[0m\u001b[0m\n\u001b[1;32m     64\u001b[0m \u001b[0;34m\u001b[0m\u001b[0m\n\u001b[0;32m---> 65\u001b[0;31m   \u001b[0;32mfor\u001b[0m \u001b[0mdata\u001b[0m \u001b[0;32min\u001b[0m \u001b[0mtrainloader\u001b[0m\u001b[0;34m:\u001b[0m\u001b[0;34m\u001b[0m\u001b[0;34m\u001b[0m\u001b[0m\n\u001b[0m\u001b[1;32m     66\u001b[0m     \u001b[0mimages\u001b[0m\u001b[0;34m,\u001b[0m \u001b[0mlabels\u001b[0m \u001b[0;34m=\u001b[0m \u001b[0mdata\u001b[0m\u001b[0;34m[\u001b[0m\u001b[0;36m0\u001b[0m\u001b[0;34m]\u001b[0m\u001b[0;34m.\u001b[0m\u001b[0mto\u001b[0m\u001b[0;34m(\u001b[0m\u001b[0mdevice\u001b[0m\u001b[0;34m)\u001b[0m\u001b[0;34m,\u001b[0m \u001b[0mdata\u001b[0m\u001b[0;34m[\u001b[0m\u001b[0;36m1\u001b[0m\u001b[0;34m]\u001b[0m\u001b[0;34m.\u001b[0m\u001b[0mto\u001b[0m\u001b[0;34m(\u001b[0m\u001b[0mdevice\u001b[0m\u001b[0;34m)\u001b[0m\u001b[0;34m\u001b[0m\u001b[0;34m\u001b[0m\u001b[0m\n\u001b[1;32m     67\u001b[0m     \u001b[0moutputs\u001b[0m \u001b[0;34m=\u001b[0m \u001b[0mPopModel\u001b[0m\u001b[0;34m(\u001b[0m\u001b[0mimages\u001b[0m\u001b[0;34m)\u001b[0m\u001b[0;34m\u001b[0m\u001b[0;34m\u001b[0m\u001b[0m\n",
            "\u001b[0;32m/usr/local/lib/python3.10/dist-packages/torch/utils/data/dataloader.py\u001b[0m in \u001b[0;36m__next__\u001b[0;34m(self)\u001b[0m\n\u001b[1;32m    628\u001b[0m                 \u001b[0;31m# TODO(https://github.com/pytorch/pytorch/issues/76750)\u001b[0m\u001b[0;34m\u001b[0m\u001b[0;34m\u001b[0m\u001b[0m\n\u001b[1;32m    629\u001b[0m                 \u001b[0mself\u001b[0m\u001b[0;34m.\u001b[0m\u001b[0m_reset\u001b[0m\u001b[0;34m(\u001b[0m\u001b[0;34m)\u001b[0m  \u001b[0;31m# type: ignore[call-arg]\u001b[0m\u001b[0;34m\u001b[0m\u001b[0;34m\u001b[0m\u001b[0m\n\u001b[0;32m--> 630\u001b[0;31m             \u001b[0mdata\u001b[0m \u001b[0;34m=\u001b[0m \u001b[0mself\u001b[0m\u001b[0;34m.\u001b[0m\u001b[0m_next_data\u001b[0m\u001b[0;34m(\u001b[0m\u001b[0;34m)\u001b[0m\u001b[0;34m\u001b[0m\u001b[0;34m\u001b[0m\u001b[0m\n\u001b[0m\u001b[1;32m    631\u001b[0m             \u001b[0mself\u001b[0m\u001b[0;34m.\u001b[0m\u001b[0m_num_yielded\u001b[0m \u001b[0;34m+=\u001b[0m \u001b[0;36m1\u001b[0m\u001b[0;34m\u001b[0m\u001b[0;34m\u001b[0m\u001b[0m\n\u001b[1;32m    632\u001b[0m             \u001b[0;32mif\u001b[0m \u001b[0mself\u001b[0m\u001b[0;34m.\u001b[0m\u001b[0m_dataset_kind\u001b[0m \u001b[0;34m==\u001b[0m \u001b[0m_DatasetKind\u001b[0m\u001b[0;34m.\u001b[0m\u001b[0mIterable\u001b[0m \u001b[0;32mand\u001b[0m\u001b[0;31m \u001b[0m\u001b[0;31m\\\u001b[0m\u001b[0;34m\u001b[0m\u001b[0;34m\u001b[0m\u001b[0m\n",
            "\u001b[0;32m/usr/local/lib/python3.10/dist-packages/torch/utils/data/dataloader.py\u001b[0m in \u001b[0;36m_next_data\u001b[0;34m(self)\u001b[0m\n\u001b[1;32m   1326\u001b[0m \u001b[0;34m\u001b[0m\u001b[0m\n\u001b[1;32m   1327\u001b[0m             \u001b[0;32massert\u001b[0m \u001b[0;32mnot\u001b[0m \u001b[0mself\u001b[0m\u001b[0;34m.\u001b[0m\u001b[0m_shutdown\u001b[0m \u001b[0;32mand\u001b[0m \u001b[0mself\u001b[0m\u001b[0;34m.\u001b[0m\u001b[0m_tasks_outstanding\u001b[0m \u001b[0;34m>\u001b[0m \u001b[0;36m0\u001b[0m\u001b[0;34m\u001b[0m\u001b[0;34m\u001b[0m\u001b[0m\n\u001b[0;32m-> 1328\u001b[0;31m             \u001b[0midx\u001b[0m\u001b[0;34m,\u001b[0m \u001b[0mdata\u001b[0m \u001b[0;34m=\u001b[0m \u001b[0mself\u001b[0m\u001b[0;34m.\u001b[0m\u001b[0m_get_data\u001b[0m\u001b[0;34m(\u001b[0m\u001b[0;34m)\u001b[0m\u001b[0;34m\u001b[0m\u001b[0;34m\u001b[0m\u001b[0m\n\u001b[0m\u001b[1;32m   1329\u001b[0m             \u001b[0mself\u001b[0m\u001b[0;34m.\u001b[0m\u001b[0m_tasks_outstanding\u001b[0m \u001b[0;34m-=\u001b[0m \u001b[0;36m1\u001b[0m\u001b[0;34m\u001b[0m\u001b[0;34m\u001b[0m\u001b[0m\n\u001b[1;32m   1330\u001b[0m             \u001b[0;32mif\u001b[0m \u001b[0mself\u001b[0m\u001b[0;34m.\u001b[0m\u001b[0m_dataset_kind\u001b[0m \u001b[0;34m==\u001b[0m \u001b[0m_DatasetKind\u001b[0m\u001b[0;34m.\u001b[0m\u001b[0mIterable\u001b[0m\u001b[0;34m:\u001b[0m\u001b[0;34m\u001b[0m\u001b[0;34m\u001b[0m\u001b[0m\n",
            "\u001b[0;32m/usr/local/lib/python3.10/dist-packages/torch/utils/data/dataloader.py\u001b[0m in \u001b[0;36m_get_data\u001b[0;34m(self)\u001b[0m\n\u001b[1;32m   1292\u001b[0m         \u001b[0;32melse\u001b[0m\u001b[0;34m:\u001b[0m\u001b[0;34m\u001b[0m\u001b[0;34m\u001b[0m\u001b[0m\n\u001b[1;32m   1293\u001b[0m             \u001b[0;32mwhile\u001b[0m \u001b[0;32mTrue\u001b[0m\u001b[0;34m:\u001b[0m\u001b[0;34m\u001b[0m\u001b[0;34m\u001b[0m\u001b[0m\n\u001b[0;32m-> 1294\u001b[0;31m                 \u001b[0msuccess\u001b[0m\u001b[0;34m,\u001b[0m \u001b[0mdata\u001b[0m \u001b[0;34m=\u001b[0m \u001b[0mself\u001b[0m\u001b[0;34m.\u001b[0m\u001b[0m_try_get_data\u001b[0m\u001b[0;34m(\u001b[0m\u001b[0;34m)\u001b[0m\u001b[0;34m\u001b[0m\u001b[0;34m\u001b[0m\u001b[0m\n\u001b[0m\u001b[1;32m   1295\u001b[0m                 \u001b[0;32mif\u001b[0m \u001b[0msuccess\u001b[0m\u001b[0;34m:\u001b[0m\u001b[0;34m\u001b[0m\u001b[0;34m\u001b[0m\u001b[0m\n\u001b[1;32m   1296\u001b[0m                     \u001b[0;32mreturn\u001b[0m \u001b[0mdata\u001b[0m\u001b[0;34m\u001b[0m\u001b[0;34m\u001b[0m\u001b[0m\n",
            "\u001b[0;32m/usr/local/lib/python3.10/dist-packages/torch/utils/data/dataloader.py\u001b[0m in \u001b[0;36m_try_get_data\u001b[0;34m(self, timeout)\u001b[0m\n\u001b[1;32m   1130\u001b[0m         \u001b[0;31m#   (bool: whether successfully get data, any: data if successful else None)\u001b[0m\u001b[0;34m\u001b[0m\u001b[0;34m\u001b[0m\u001b[0m\n\u001b[1;32m   1131\u001b[0m         \u001b[0;32mtry\u001b[0m\u001b[0;34m:\u001b[0m\u001b[0;34m\u001b[0m\u001b[0;34m\u001b[0m\u001b[0m\n\u001b[0;32m-> 1132\u001b[0;31m             \u001b[0mdata\u001b[0m \u001b[0;34m=\u001b[0m \u001b[0mself\u001b[0m\u001b[0;34m.\u001b[0m\u001b[0m_data_queue\u001b[0m\u001b[0;34m.\u001b[0m\u001b[0mget\u001b[0m\u001b[0;34m(\u001b[0m\u001b[0mtimeout\u001b[0m\u001b[0;34m=\u001b[0m\u001b[0mtimeout\u001b[0m\u001b[0;34m)\u001b[0m\u001b[0;34m\u001b[0m\u001b[0;34m\u001b[0m\u001b[0m\n\u001b[0m\u001b[1;32m   1133\u001b[0m             \u001b[0;32mreturn\u001b[0m \u001b[0;34m(\u001b[0m\u001b[0;32mTrue\u001b[0m\u001b[0;34m,\u001b[0m \u001b[0mdata\u001b[0m\u001b[0;34m)\u001b[0m\u001b[0;34m\u001b[0m\u001b[0;34m\u001b[0m\u001b[0m\n\u001b[1;32m   1134\u001b[0m         \u001b[0;32mexcept\u001b[0m \u001b[0mException\u001b[0m \u001b[0;32mas\u001b[0m \u001b[0me\u001b[0m\u001b[0;34m:\u001b[0m\u001b[0;34m\u001b[0m\u001b[0;34m\u001b[0m\u001b[0m\n",
            "\u001b[0;32m/usr/lib/python3.10/multiprocessing/queues.py\u001b[0m in \u001b[0;36mget\u001b[0;34m(self, block, timeout)\u001b[0m\n\u001b[1;32m    111\u001b[0m                 \u001b[0;32mif\u001b[0m \u001b[0mblock\u001b[0m\u001b[0;34m:\u001b[0m\u001b[0;34m\u001b[0m\u001b[0;34m\u001b[0m\u001b[0m\n\u001b[1;32m    112\u001b[0m                     \u001b[0mtimeout\u001b[0m \u001b[0;34m=\u001b[0m \u001b[0mdeadline\u001b[0m \u001b[0;34m-\u001b[0m \u001b[0mtime\u001b[0m\u001b[0;34m.\u001b[0m\u001b[0mmonotonic\u001b[0m\u001b[0;34m(\u001b[0m\u001b[0;34m)\u001b[0m\u001b[0;34m\u001b[0m\u001b[0;34m\u001b[0m\u001b[0m\n\u001b[0;32m--> 113\u001b[0;31m                     \u001b[0;32mif\u001b[0m \u001b[0;32mnot\u001b[0m \u001b[0mself\u001b[0m\u001b[0;34m.\u001b[0m\u001b[0m_poll\u001b[0m\u001b[0;34m(\u001b[0m\u001b[0mtimeout\u001b[0m\u001b[0;34m)\u001b[0m\u001b[0;34m:\u001b[0m\u001b[0;34m\u001b[0m\u001b[0;34m\u001b[0m\u001b[0m\n\u001b[0m\u001b[1;32m    114\u001b[0m                         \u001b[0;32mraise\u001b[0m \u001b[0mEmpty\u001b[0m\u001b[0;34m\u001b[0m\u001b[0;34m\u001b[0m\u001b[0m\n\u001b[1;32m    115\u001b[0m                 \u001b[0;32melif\u001b[0m \u001b[0;32mnot\u001b[0m \u001b[0mself\u001b[0m\u001b[0;34m.\u001b[0m\u001b[0m_poll\u001b[0m\u001b[0;34m(\u001b[0m\u001b[0;34m)\u001b[0m\u001b[0;34m:\u001b[0m\u001b[0;34m\u001b[0m\u001b[0;34m\u001b[0m\u001b[0m\n",
            "\u001b[0;32m/usr/lib/python3.10/multiprocessing/connection.py\u001b[0m in \u001b[0;36mpoll\u001b[0;34m(self, timeout)\u001b[0m\n\u001b[1;32m    255\u001b[0m         \u001b[0mself\u001b[0m\u001b[0;34m.\u001b[0m\u001b[0m_check_closed\u001b[0m\u001b[0;34m(\u001b[0m\u001b[0;34m)\u001b[0m\u001b[0;34m\u001b[0m\u001b[0;34m\u001b[0m\u001b[0m\n\u001b[1;32m    256\u001b[0m         \u001b[0mself\u001b[0m\u001b[0;34m.\u001b[0m\u001b[0m_check_readable\u001b[0m\u001b[0;34m(\u001b[0m\u001b[0;34m)\u001b[0m\u001b[0;34m\u001b[0m\u001b[0;34m\u001b[0m\u001b[0m\n\u001b[0;32m--> 257\u001b[0;31m         \u001b[0;32mreturn\u001b[0m \u001b[0mself\u001b[0m\u001b[0;34m.\u001b[0m\u001b[0m_poll\u001b[0m\u001b[0;34m(\u001b[0m\u001b[0mtimeout\u001b[0m\u001b[0;34m)\u001b[0m\u001b[0;34m\u001b[0m\u001b[0;34m\u001b[0m\u001b[0m\n\u001b[0m\u001b[1;32m    258\u001b[0m \u001b[0;34m\u001b[0m\u001b[0m\n\u001b[1;32m    259\u001b[0m     \u001b[0;32mdef\u001b[0m \u001b[0m__enter__\u001b[0m\u001b[0;34m(\u001b[0m\u001b[0mself\u001b[0m\u001b[0;34m)\u001b[0m\u001b[0;34m:\u001b[0m\u001b[0;34m\u001b[0m\u001b[0;34m\u001b[0m\u001b[0m\n",
            "\u001b[0;32m/usr/lib/python3.10/multiprocessing/connection.py\u001b[0m in \u001b[0;36m_poll\u001b[0;34m(self, timeout)\u001b[0m\n\u001b[1;32m    422\u001b[0m \u001b[0;34m\u001b[0m\u001b[0m\n\u001b[1;32m    423\u001b[0m     \u001b[0;32mdef\u001b[0m \u001b[0m_poll\u001b[0m\u001b[0;34m(\u001b[0m\u001b[0mself\u001b[0m\u001b[0;34m,\u001b[0m \u001b[0mtimeout\u001b[0m\u001b[0;34m)\u001b[0m\u001b[0;34m:\u001b[0m\u001b[0;34m\u001b[0m\u001b[0;34m\u001b[0m\u001b[0m\n\u001b[0;32m--> 424\u001b[0;31m         \u001b[0mr\u001b[0m \u001b[0;34m=\u001b[0m \u001b[0mwait\u001b[0m\u001b[0;34m(\u001b[0m\u001b[0;34m[\u001b[0m\u001b[0mself\u001b[0m\u001b[0;34m]\u001b[0m\u001b[0;34m,\u001b[0m \u001b[0mtimeout\u001b[0m\u001b[0;34m)\u001b[0m\u001b[0;34m\u001b[0m\u001b[0;34m\u001b[0m\u001b[0m\n\u001b[0m\u001b[1;32m    425\u001b[0m         \u001b[0;32mreturn\u001b[0m \u001b[0mbool\u001b[0m\u001b[0;34m(\u001b[0m\u001b[0mr\u001b[0m\u001b[0;34m)\u001b[0m\u001b[0;34m\u001b[0m\u001b[0;34m\u001b[0m\u001b[0m\n\u001b[1;32m    426\u001b[0m \u001b[0;34m\u001b[0m\u001b[0m\n",
            "\u001b[0;32m/usr/lib/python3.10/multiprocessing/connection.py\u001b[0m in \u001b[0;36mwait\u001b[0;34m(object_list, timeout)\u001b[0m\n\u001b[1;32m    929\u001b[0m \u001b[0;34m\u001b[0m\u001b[0m\n\u001b[1;32m    930\u001b[0m             \u001b[0;32mwhile\u001b[0m \u001b[0;32mTrue\u001b[0m\u001b[0;34m:\u001b[0m\u001b[0;34m\u001b[0m\u001b[0;34m\u001b[0m\u001b[0m\n\u001b[0;32m--> 931\u001b[0;31m                 \u001b[0mready\u001b[0m \u001b[0;34m=\u001b[0m \u001b[0mselector\u001b[0m\u001b[0;34m.\u001b[0m\u001b[0mselect\u001b[0m\u001b[0;34m(\u001b[0m\u001b[0mtimeout\u001b[0m\u001b[0;34m)\u001b[0m\u001b[0;34m\u001b[0m\u001b[0;34m\u001b[0m\u001b[0m\n\u001b[0m\u001b[1;32m    932\u001b[0m                 \u001b[0;32mif\u001b[0m \u001b[0mready\u001b[0m\u001b[0;34m:\u001b[0m\u001b[0;34m\u001b[0m\u001b[0;34m\u001b[0m\u001b[0m\n\u001b[1;32m    933\u001b[0m                     \u001b[0;32mreturn\u001b[0m \u001b[0;34m[\u001b[0m\u001b[0mkey\u001b[0m\u001b[0;34m.\u001b[0m\u001b[0mfileobj\u001b[0m \u001b[0;32mfor\u001b[0m \u001b[0;34m(\u001b[0m\u001b[0mkey\u001b[0m\u001b[0;34m,\u001b[0m \u001b[0mevents\u001b[0m\u001b[0;34m)\u001b[0m \u001b[0;32min\u001b[0m \u001b[0mready\u001b[0m\u001b[0;34m]\u001b[0m\u001b[0;34m\u001b[0m\u001b[0;34m\u001b[0m\u001b[0m\n",
            "\u001b[0;32m/usr/lib/python3.10/selectors.py\u001b[0m in \u001b[0;36mselect\u001b[0;34m(self, timeout)\u001b[0m\n\u001b[1;32m    414\u001b[0m         \u001b[0mready\u001b[0m \u001b[0;34m=\u001b[0m \u001b[0;34m[\u001b[0m\u001b[0;34m]\u001b[0m\u001b[0;34m\u001b[0m\u001b[0;34m\u001b[0m\u001b[0m\n\u001b[1;32m    415\u001b[0m         \u001b[0;32mtry\u001b[0m\u001b[0;34m:\u001b[0m\u001b[0;34m\u001b[0m\u001b[0;34m\u001b[0m\u001b[0m\n\u001b[0;32m--> 416\u001b[0;31m             \u001b[0mfd_event_list\u001b[0m \u001b[0;34m=\u001b[0m \u001b[0mself\u001b[0m\u001b[0;34m.\u001b[0m\u001b[0m_selector\u001b[0m\u001b[0;34m.\u001b[0m\u001b[0mpoll\u001b[0m\u001b[0;34m(\u001b[0m\u001b[0mtimeout\u001b[0m\u001b[0;34m)\u001b[0m\u001b[0;34m\u001b[0m\u001b[0;34m\u001b[0m\u001b[0m\n\u001b[0m\u001b[1;32m    417\u001b[0m         \u001b[0;32mexcept\u001b[0m \u001b[0mInterruptedError\u001b[0m\u001b[0;34m:\u001b[0m\u001b[0;34m\u001b[0m\u001b[0;34m\u001b[0m\u001b[0m\n\u001b[1;32m    418\u001b[0m             \u001b[0;32mreturn\u001b[0m \u001b[0mready\u001b[0m\u001b[0;34m\u001b[0m\u001b[0;34m\u001b[0m\u001b[0m\n",
            "\u001b[0;31mKeyboardInterrupt\u001b[0m: "
          ]
        }
      ],
      "source": [
        "def main():\n",
        "    pop = toolbox.population(n=populationSize) # Population Size\n",
        "    stats = tools.Statistics(lambda ind: ind.fitness.values)\n",
        "    stats.register(\"avg\", np.mean)\n",
        "    stats.register(\"std\", np.std)\n",
        "    stats.register(\"min\", np.min)\n",
        "    stats.register(\"max\", np.max)\n",
        "\n",
        "    #intialize the learning probabilities\n",
        "    prob=[0]*populationSize\n",
        "    for i  in range(len(pop)):\n",
        "        prob[populationSize - i - 1] = 1 - i/(populationSize - 1)\n",
        "        prob[populationSize - i - 1] = pow(prob[populationSize - i - 1], math.log(math.sqrt(math.ceil(dimension/100.0))))\n",
        "\n",
        "    logbook = tools.Logbook()\n",
        "    logbook.header = [\"gen\", \"evals\"] + stats.fields\n",
        "\n",
        "    miniCounter = 0\n",
        "\n",
        "    #begin main loop\n",
        "    for g in range(iterations):\n",
        "\n",
        "        for part in pop:\n",
        "            part.fitness.values = toolbox.evaluate2(part, runCounter, miniCounter) #actually only one fitness value\n",
        "\n",
        "        #Sort the individuals in the swarm in ascending order. i.e., particle 0 is the best\n",
        "\n",
        "        # sortedPop = pop\n",
        "\n",
        "        pop.sort(key=lambda x: x.fitness, reverse=True)\n",
        "        #calculate the center (mean value) of the swarm\n",
        "        center = getcenter(pop)\n",
        "\n",
        "        # Code to update particle via velocity\n",
        "        for i  in reversed(range(len(pop)-1)):  # start with worst particle, and go in reverse towards best\n",
        "                                                # don't do element 0 (best). Hence the i+1 below.\n",
        "            if random.uniform(0, 1)<prob[i+1]: #learning probability for that particle\n",
        "                toolbox.update(pop[i+1],pop,center,i+1)\n",
        "\n",
        "        # Gather all the fitnesses in one list and print the stats\n",
        "        # print every interval\n",
        "        if g%interval==0: # interval\n",
        "            logbookRecord = logbook.record(gen=g, evals=len(pop), **stats.compile(pop))\n",
        "            print(logbook.stream)\n",
        "\n",
        "        avgloss = logbook.select(\"avg\")[-1]\n",
        "\n",
        "        # Add the average loss to the list, may not be necessary but it is useful\n",
        "        lossTracker.append(avgloss)\n",
        "\n",
        "        # Evaluate the accuracy of the current best particle\n",
        "\n",
        "        accuracyTracker.append(getBestAccuracy(pop[0]))\n",
        "\n",
        "        miniCounter += 1\n",
        "\n",
        "        if miniCounter >= (len(miniLoaders)):\n",
        "          miniCounter = 0\n",
        "          print(\"Mini Counter reset!\")\n",
        "\n",
        "    return pop, logbook\n",
        "\n",
        "if __name__ == \"__main__\":\n",
        "    superpart = main()"
      ]
    },
    {
      "cell_type": "code",
      "execution_count": null,
      "metadata": {
        "id": "0VG-zoQIkpXl"
      },
      "outputs": [],
      "source": [
        "# Quicksave the best particle\n",
        "\n",
        "print(len(superpart[1])) # best particle has 840 weights in it\n",
        "print(superpart[1])\n",
        "arr = np.array(superpart[1])\n",
        "\n",
        "print(arr.shape)\n",
        "\n",
        "import csv\n",
        "\n",
        "with open('superpart.csv', 'a', newline='') as file:\n",
        "    writer = csv.writer(file)\n",
        "    writer.writerows([superpart[0][0]])\n",
        "\n",
        "with open('logbook.csv', 'a', newline='') as file:\n",
        "    writer = csv.writer(file)\n",
        "#     writer.writerows([\"gen\",\"evals\",\"avg\",\"std\",\"min\",\"max\"])\n",
        "    writer.writerows([superpart[1].select(\"gen\"),superpart[1].select(\"evals\"),superpart[1].select(\"avg\"),\n",
        "                      superpart[1].select(\"std\"),superpart[1].select(\"min\"),superpart[1].select(\"max\")])"
      ]
    },
    {
      "cell_type": "code",
      "execution_count": null,
      "metadata": {
        "id": "kCX7L17zksCm"
      },
      "outputs": [],
      "source": [
        "# Write accuracy data to csv\n",
        "\n",
        "with open('accuracyTrack.csv', 'a', newline='') as file:\n",
        "    newWriter = csv.writer(file)\n",
        "    newWriter.writerows([accuracyTracker])"
      ]
    },
    {
      "cell_type": "code",
      "execution_count": null,
      "metadata": {
        "id": "Q7XwGUiWkyEn"
      },
      "outputs": [],
      "source": [
        "# Put in the bestparticle like this superPart[2] (format to get the best particle after running main)\n",
        "def evaluateBest(bestParticle):\n",
        "  bestNP = np.array(bestParticle)\n",
        "\n",
        "  # Splitting into weights and biases\n",
        "\n",
        "  bestWeights = bestNP[:totalWeights]\n",
        "  bestBiases = bestNP[-biasCount:]\n",
        "\n",
        "  # Putting biases in\n",
        "  bestBiases = torch.from_numpy(bestBiases).float()\n",
        "  finalLayer.bias = torch.nn.Parameter(bestBiases.float())\n",
        "\n",
        "  # Reshaping weights so they are correct for the layer\n",
        "  bestWeights = bestWeights.reshape(outerShape,innerShape)\n",
        "\n",
        "  # Converting to torch array\n",
        "  bestWeights = torch.from_numpy(bestWeights).float()\n",
        "\n",
        "  # Putting the weights into the layer\n",
        "\n",
        "  finalLayer.weight = torch.nn.Parameter(bestWeights.float())\n",
        "\n",
        "\n",
        "  # Evaluating the best particle on the test set\n",
        "\n",
        "  correct_pred = {classname: 0 for classname in classes}\n",
        "  total_pred = {classname: 0 for classname in classes}\n",
        "\n",
        "  correct = 0\n",
        "  total = 0\n",
        "\n",
        "  # Move the model onto GPU again? Most likely do not need to as it should already be in the GPU\n",
        "\n",
        "\n",
        "  PopModel.to(device)\n",
        "\n",
        "  for data in testloader:\n",
        "    images, labels = data[0].to(device), data[1].to(device)\n",
        "    outputs = PopModel(images)\n",
        "\n",
        "    _, predictions = torch.max(outputs, 1)\n",
        "\n",
        "    # collect the correct predictions for each class\n",
        "\n",
        "\n",
        "    for label, prediction in zip(labels, predictions):\n",
        "        if label == prediction:\n",
        "            correct_pred[classes[label]] += 1\n",
        "            correct += 1\n",
        "        total_pred[classes[label]] += 1\n",
        "        total += 1\n",
        "\n",
        "  # Printing the results\n",
        "  for classname, correct_count in correct_pred.items():\n",
        "    accuracy = 100 * float(correct_count) / total_pred[classname]\n",
        "    raccuracy = (correct/total)*100\n",
        "    print(f'Accuracy for class: {classname:5s} is {accuracy:.1f} %')\n",
        "\n",
        "\n",
        "    return raccuracy"
      ]
    },
    {
      "cell_type": "code",
      "execution_count": null,
      "metadata": {
        "id": "BbqXnr5Wk0N_"
      },
      "outputs": [],
      "source": [
        "accFinal = evaluateBest(superpart[0][0])"
      ]
    },
    {
      "cell_type": "code",
      "execution_count": null,
      "metadata": {
        "id": "Y7TWBsuGk1e4"
      },
      "outputs": [],
      "source": [
        "print(accFinal)"
      ]
    },
    {
      "cell_type": "code",
      "execution_count": null,
      "metadata": {
        "id": "j55-M1nuk23G"
      },
      "outputs": [],
      "source": [
        "f = open(\"accFinal.txt\", \"a\")\n",
        "f.write(str(accFinal))\n",
        "f.close()"
      ]
    }
  ],
  "metadata": {
    "accelerator": "GPU",
    "colab": {
      "gpuType": "T4",
      "provenance": []
    },
    "kernelspec": {
      "display_name": "Python 3",
      "name": "python3"
    },
    "language_info": {
      "name": "python"
    }
  },
  "nbformat": 4,
  "nbformat_minor": 0
}
